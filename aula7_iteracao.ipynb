{
  "nbformat": 4,
  "nbformat_minor": 0,
  "metadata": {
    "colab": {
      "name": "aula7_iteracao.ipynb",
      "provenance": [],
      "authorship_tag": "ABX9TyPbRGqe1mtQkic5mZs+IPG6",
      "include_colab_link": true
    },
    "kernelspec": {
      "name": "python3",
      "display_name": "Python 3"
    },
    "language_info": {
      "name": "python"
    }
  },
  "cells": [
    {
      "cell_type": "markdown",
      "metadata": {
        "id": "view-in-github",
        "colab_type": "text"
      },
      "source": [
        "<a href=\"https://colab.research.google.com/github/eduvaladao/aulas_python_UERJ/blob/main/aula7_iteracao.ipynb\" target=\"_parent\"><img src=\"https://colab.research.google.com/assets/colab-badge.svg\" alt=\"Open In Colab\"/></a>"
      ]
    },
    {
      "cell_type": "markdown",
      "metadata": {
        "id": "74wGW-lz-pFE"
      },
      "source": [
        "\n",
        "# **Iteração**\n",
        "\n",
        "aula baseada no livro: http://openbookproject.net/thinkcs/python/english3e/iteration.html\n",
        "\n",
        "Os computadores costumam ser usados para automatizar tarefas repetitivas. Repetir tarefas idênticas ou similares sem cometer erros é algo que os computadores fazem bem e as pessoas fazem mal.\n",
        "\n",
        "A execução repetida de um conjunto de instruções é chamada de **iteração**.\n",
        "\n",
        "Já vimos a declaração **for** em aulas anteriores. Essa é a forma de iteração que você provavelmente usará com mais frequência.\n",
        "\n",
        "Mas neste capítulo, vamos ver a declaração **while** - outra maneira de fazer o seu programa fazer iteração, útil em circunstâncias ligeiramente diferentes.\n",
        "\n",
        "Antes de fazermos isso, vamos revisar algumas ideias ...\n"
      ]
    },
    {
      "cell_type": "markdown",
      "metadata": {
        "id": "GMJB8LPC_OT9"
      },
      "source": [
        "\n",
        "# **Declaração**\n",
        "\n",
        "É possível fazer várias declarações da mesma variável:\n"
      ]
    },
    {
      "cell_type": "code",
      "metadata": {
        "colab": {
          "base_uri": "https://localhost:8080/"
        },
        "id": "rOEk31ej-n4y",
        "outputId": "e430dc71-1f01-48f5-cd4c-5089de060942"
      },
      "source": [
        "a = 15\n",
        "print(a)\n",
        "a = 17\n",
        "print(a)"
      ],
      "execution_count": null,
      "outputs": [
        {
          "output_type": "stream",
          "text": [
            "15\n",
            "17\n"
          ],
          "name": "stdout"
        }
      ]
    },
    {
      "cell_type": "markdown",
      "metadata": {
        "id": "TjBvfyvr_ZJz"
      },
      "source": [
        "Em Python, uma **instrução de atribuição** pode tornar duas variáveis iguais, mas como outras atribuições podem alterar uma delas, elas não precisam se manter iguais:"
      ]
    },
    {
      "cell_type": "code",
      "metadata": {
        "id": "t1ffkng8_bpa",
        "colab": {
          "base_uri": "https://localhost:8080/"
        },
        "outputId": "30841771-98d1-4226-b8b7-ffb64b60997b"
      },
      "source": [
        "x = 5\n",
        "print(x)\n",
        "y = x\n",
        "print(y)\n",
        "y = 8\n",
        "print ('x: ', x, 'y: ', y)"
      ],
      "execution_count": null,
      "outputs": [
        {
          "output_type": "stream",
          "text": [
            "5\n",
            "5\n",
            "x:  5 y:  8\n"
          ],
          "name": "stdout"
        }
      ]
    },
    {
      "cell_type": "markdown",
      "metadata": {
        "id": "lVbpcyLs_mk3"
      },
      "source": [
        "\n",
        "# **Atualizando variáveis**\n",
        "\n",
        "Quando uma instrução de atribuição é executada, o interpretador de python segue os seguintes passos:\n",
        "\n",
        "   * a expressão do lado direito (ou seja, a expressão que vem depois \n",
        "do token de atribuição =) é avaliada primeiro. Isso produz um valor.\n",
        "   * Em seguida, a atribuição é feita, de modo que a variável no lado esquerdo agora se refere ao novo valor.\n",
        "\n",
        "Uma das formas mais comuns de atribuição é uma **atualização**, em que o **novo valor da variável depende de seu valor antigo**.\n"
      ]
    },
    {
      "cell_type": "code",
      "metadata": {
        "id": "5g1zGe0kAEnY",
        "colab": {
          "base_uri": "https://localhost:8080/"
        },
        "outputId": "2d29e118-311c-4d79-c4de-51d0ddcbf001"
      },
      "source": [
        "n = 5\n",
        "n = 3 * n + 1\n",
        "print(n)"
      ],
      "execution_count": null,
      "outputs": [
        {
          "output_type": "stream",
          "text": [
            "16\n"
          ],
          "name": "stdout"
        }
      ]
    },
    {
      "cell_type": "markdown",
      "metadata": {
        "id": "2qKrbtjJANDy"
      },
      "source": [
        "\n",
        "# **Inicialização**\n",
        "\n",
        "É preciso inicializar uma variável antes de usá-la pela primeira vez:\n"
      ]
    },
    {
      "cell_type": "code",
      "metadata": {
        "id": "8GmcI1ssAPog",
        "colab": {
          "base_uri": "https://localhost:8080/",
          "height": 185
        },
        "outputId": "9eb0bd2e-56e1-4e01-d81e-c2d8602298d9"
      },
      "source": [
        "w = t + 4\n",
        "print(w)"
      ],
      "execution_count": null,
      "outputs": [
        {
          "output_type": "error",
          "ename": "NameError",
          "evalue": "ignored",
          "traceback": [
            "\u001b[0;31m---------------------------------------------------------------------------\u001b[0m",
            "\u001b[0;31mNameError\u001b[0m                                 Traceback (most recent call last)",
            "\u001b[0;32m<ipython-input-5-b9144eddec92>\u001b[0m in \u001b[0;36m<module>\u001b[0;34m()\u001b[0m\n\u001b[0;32m----> 1\u001b[0;31m \u001b[0mw\u001b[0m \u001b[0;34m=\u001b[0m \u001b[0mt\u001b[0m \u001b[0;34m+\u001b[0m \u001b[0;36m4\u001b[0m\u001b[0;34m\u001b[0m\u001b[0;34m\u001b[0m\u001b[0m\n\u001b[0m\u001b[1;32m      2\u001b[0m \u001b[0mprint\u001b[0m\u001b[0;34m(\u001b[0m\u001b[0mw\u001b[0m\u001b[0;34m)\u001b[0m\u001b[0;34m\u001b[0m\u001b[0;34m\u001b[0m\u001b[0m\n",
            "\u001b[0;31mNameError\u001b[0m: name 't' is not defined"
          ]
        }
      ]
    },
    {
      "cell_type": "code",
      "metadata": {
        "id": "sd3FmxnaATU5",
        "colab": {
          "base_uri": "https://localhost:8080/"
        },
        "outputId": "067de624-4101-406d-a660-b15a8ba239ba"
      },
      "source": [
        "t = 8\n",
        "w = t + 4\n",
        "print(w)"
      ],
      "execution_count": null,
      "outputs": [
        {
          "output_type": "stream",
          "text": [
            "12\n"
          ],
          "name": "stdout"
        }
      ]
    },
    {
      "cell_type": "markdown",
      "metadata": {
        "id": "0WCvMSoAAcF1"
      },
      "source": [
        "\n",
        "# **O loop for revisitado**\n",
        "\n",
        "Podemos atualizar uma variável dentro de um loop **for**.\n",
        "\n",
        "Para tal, vamos escrever uma função que calcula a soma de todos os ítens de uma lista.\n"
      ]
    },
    {
      "cell_type": "code",
      "metadata": {
        "id": "O74YFInKAfRN",
        "colab": {
          "base_uri": "https://localhost:8080/"
        },
        "outputId": "18581f0d-f472-4f17-d10b-8054f600124d"
      },
      "source": [
        "def mysum(xs):\n",
        "    \"\"\" Soma todos os números em uma dada lista, e retorna o total. \"\"\"\n",
        "    total = 0                # inicialização da variável total\n",
        "    for x in xs:             # para cada item da lista xs\n",
        "        total += x    # somar o valor anterior ao item atual da lista (total = total + x)\n",
        "    return total\n",
        "\n",
        "print(mysum([2,4,6,8]))\n",
        "\n",
        "assert mysum([2, 4, 6, 8])  # declaração para testar a validade das condições da função mysum. Veremos mais a seguir."
      ],
      "execution_count": null,
      "outputs": [
        {
          "output_type": "stream",
          "text": [
            "20\n"
          ],
          "name": "stdout"
        }
      ]
    },
    {
      "cell_type": "markdown",
      "metadata": {
        "id": "Afo_D0M9AnPd"
      },
      "source": [
        "# **A declaração while**"
      ]
    },
    {
      "cell_type": "code",
      "metadata": {
        "id": "fGc3gcjJApSc",
        "colab": {
          "base_uri": "https://localhost:8080/"
        },
        "outputId": "5daf3c19-5398-4d08-b625-cf4d760d36b4"
      },
      "source": [
        "def soma_ate(n):\n",
        "    \"\"\" Retorna a soma de 1+2+3 ... n \"\"\"\n",
        "    ss = 0\n",
        "    v = 1\n",
        "    while v <= n:      \n",
        "        ss = ss + v\n",
        "        v = v + 1\n",
        "    return ss\n",
        "\n",
        "print(soma_ate(8))"
      ],
      "execution_count": null,
      "outputs": [
        {
          "output_type": "stream",
          "text": [
            "36\n"
          ],
          "name": "stdout"
        }
      ]
    },
    {
      "cell_type": "markdown",
      "metadata": {
        "id": "IOfufkawA7cH"
      },
      "source": [
        "\n",
        "\n",
        "Mais formalmente, aqui está o fluxo preciso de execução para uma declaração while:\n",
        "\n",
        "   * Avalia a condição na linha 5 (while v <= n:), gerando um valor **True** ou **False**.\n",
        "   * Se o valor for **False**, saia da instrução **while** e continue a execução na próxima instrução (linha 8 neste caso, return ss).\n",
        "   * Se o valor for **True**, execute cada uma das instruções no corpo (linhas 6 e 7) e, em seguida, volta para a instrução **while** na linha 5.\n",
        "\n",
        "**Atenção** O corpo do loop tem que mudar o valor de uma ou mais variáveis para assegurar que em algum momento a condição do loop será False. Caso contrário, pode-se produzir um loop infinito.\n"
      ]
    },
    {
      "cell_type": "markdown",
      "metadata": {
        "id": "OAJg_m2mBN8V"
      },
      "source": [
        "\n",
        "# **Escolhendo entre for e while**\n",
        "\n",
        "   * Use um loop **for** se você souber, antes de iniciar o loop, o número máximo de vezes que precisará executar o corpo.\n",
        "      * iteração definida\n",
        "\n",
        "   * Se você precisar repetir algum cálculo até que alguma condição seja atendida e não puder calcular antecipadamente quando (ou se) isso acontecer, você precisará de um loop **while**.\n",
        "       * iteração indefinida\n",
        "\n"
      ]
    },
    {
      "cell_type": "markdown",
      "metadata": {
        "id": "PsLq8FdbBgWj"
      },
      "source": [
        "\n",
        "# **Contadores**\n",
        "\n",
        "Para contar os digitos de um dado número n, podemos escrever uma função:\n"
      ]
    },
    {
      "cell_type": "code",
      "metadata": {
        "id": "B-M7jDW4Dem2",
        "colab": {
          "base_uri": "https://localhost:8080/"
        },
        "outputId": "99c55cc0-eeb3-4dbf-e3be-f9eae3baeab7"
      },
      "source": [
        "def counter(n):\n",
        "    count = 0\n",
        "    while n!=0:\n",
        "        count = count + 1\n",
        "        n = n // 10         # divisão de inteiros\n",
        "    return count\n",
        "\n",
        "counter(7100)"
      ],
      "execution_count": null,
      "outputs": [
        {
          "output_type": "execute_result",
          "data": {
            "text/plain": [
              "4"
            ]
          },
          "metadata": {
            "tags": []
          },
          "execution_count": 12
        }
      ]
    },
    {
      "cell_type": "markdown",
      "metadata": {
        "id": "eFXRsGIYDgGQ"
      },
      "source": [
        "\n",
        "\n",
        "Esta função demonstra um importante padrão de computação chamado **contador**.\n",
        "\n",
        "   * A contagem de variáveis é inicializada em 0 e, em seguida, incrementada toda vez que o corpo do loop é executado.\n",
        "   * Quando o loop acaba, a variável **count** contém o resultado - o número total de vezes que o corpo do loop foi executado, que é o mesmo que o número de dígitos.\n",
        "\n",
        "Podemos testar a função com a declaração **assert**:\n"
      ]
    },
    {
      "cell_type": "code",
      "metadata": {
        "id": "kRuM-Ef6Dudv"
      },
      "source": [
        "assert counter(1002)"
      ],
      "execution_count": null,
      "outputs": []
    },
    {
      "cell_type": "code",
      "metadata": {
        "id": "ThMlrHlwDvYg",
        "colab": {
          "base_uri": "https://localhost:8080/",
          "height": 167
        },
        "outputId": "91a2fbbe-3de0-41e8-c676-77b5bbac089b"
      },
      "source": [
        "assert counter(0)"
      ],
      "execution_count": null,
      "outputs": [
        {
          "output_type": "error",
          "ename": "AssertionError",
          "evalue": "ignored",
          "traceback": [
            "\u001b[0;31m---------------------------------------------------------------------------\u001b[0m",
            "\u001b[0;31mAssertionError\u001b[0m                            Traceback (most recent call last)",
            "\u001b[0;32m<ipython-input-14-a5e679c9fb09>\u001b[0m in \u001b[0;36m<module>\u001b[0;34m()\u001b[0m\n\u001b[0;32m----> 1\u001b[0;31m \u001b[0;32massert\u001b[0m \u001b[0mcounter\u001b[0m\u001b[0;34m(\u001b[0m\u001b[0;36m0\u001b[0m\u001b[0;34m)\u001b[0m\u001b[0;34m\u001b[0m\u001b[0;34m\u001b[0m\u001b[0m\n\u001b[0m",
            "\u001b[0;31mAssertionError\u001b[0m: "
          ]
        }
      ]
    },
    {
      "cell_type": "markdown",
      "metadata": {
        "id": "QkXfKag1D5be"
      },
      "source": [
        "\n",
        "# **Encapsulamento e generalização**\n",
        "\n",
        "O **encapsulamento** é o processo de envolver uma parte do código em uma função, permitindo que você tire proveito de todas as vantagens das funções.\n",
        "\n",
        "**Generalização** significa tomar algo específico, como imprimir os múltiplos de 2 e torná-lo mais geral, como imprimir os múltiplos de qualquer inteiro.\n",
        "\n",
        "# **Variáveis locais**\n",
        "\n",
        "Variáveis criadas dentro de uma definição de função são **locais**; não é possível acessar uma variável local de fora de sua função inicial.\n",
        "\n",
        "Isso significa que você está livre para ter múltiplas variáveis com o mesmo nome, desde que elas não estejam na mesma função.\n",
        "\n",
        "O Python examina todas as instruções em uma função - se alguma delas atribuir um valor a uma variável, essa é a pista que o Python usa para tornar a variável uma variável local.\n",
        "\n",
        "É comum e perfeitamente legal ter diferentes variáveis locais com o mesmo nome. Em particular, nomes como **i** e **j** são usados freqüentemente como variáveis de loop. Se você evitar usá-los em uma função só porque os usou em outro lugar, provavelmente tornará o programa mais difícil de ler.\n",
        "\n",
        "# **A declaração break**\n",
        "\n",
        "A instrução break é usada para deixar imediatamente o corpo do loop. A próxima instrução a ser executada é a primeira após o corpo:\n"
      ]
    },
    {
      "cell_type": "code",
      "metadata": {
        "id": "aFH7e4EpD4iq",
        "colab": {
          "base_uri": "https://localhost:8080/"
        },
        "outputId": "03dd0524-091f-4bba-efd5-7b15f83b671c"
      },
      "source": [
        "for i in [12, 16, 17, 24, 29]:\n",
        "    if i % 2 == 1:  # If the number is odd\n",
        "       break        #  ... immediately exit the loop\n",
        "    print(i)\n",
        "print(\"done\")"
      ],
      "execution_count": null,
      "outputs": [
        {
          "output_type": "stream",
          "text": [
            "12\n",
            "16\n",
            "done\n"
          ],
          "name": "stdout"
        }
      ]
    },
    {
      "cell_type": "markdown",
      "metadata": {
        "id": "_YEYs0ktEZIm"
      },
      "source": [
        "\n",
        "# **A declaração continue**\n",
        "\n",
        "Esta é uma instrução de fluxo de controle que faz com que o programa pule imediatamente o processamento do resto do corpo do loop, **para a iteração atual**. Mas o loop ainda continua correndo pelas iterações restantes:\n"
      ]
    },
    {
      "cell_type": "code",
      "metadata": {
        "id": "8U2xk7FZEmWT",
        "colab": {
          "base_uri": "https://localhost:8080/"
        },
        "outputId": "6aebb493-d58d-4258-83de-eb547806761f"
      },
      "source": [
        "for i in [12, 16, 17, 24, 29, 30]:\n",
        "    if i % 2 == 1:      # If the number is odd\n",
        "       continue         # Don't process it\n",
        "    print(i)\n",
        "print(\"done\")"
      ],
      "execution_count": null,
      "outputs": [
        {
          "output_type": "stream",
          "text": [
            "12\n",
            "16\n",
            "24\n",
            "30\n",
            "done\n"
          ],
          "name": "stdout"
        }
      ]
    },
    {
      "cell_type": "markdown",
      "metadata": {
        "id": "mi7jUjy0EuAk"
      },
      "source": [
        "\n",
        "# **Exercícios**\n",
        "\n",
        "1) A **conjectura de Collatz**, diz que \"Todos os inteiros positivos irão eventualmente convergir para 1 usando as regras do Collatz\". Faça um programa que verifique a conjectura de Collatz para alguns valores. As regras de Collatz são: Dado um número **n**:\n",
        "\n",
        "  * se **n** for par, divida-o por **2**;\n",
        "  * Se **n** for ímpar, atualize-o para 3*n + 1\n",
        "\n",
        "2) Modifique a função counter para contar o número de vezes que os dígitos 0 e 5 aparecem em um dado número n. Por exemplo, n = 10568, tem 2 dígitos 0 ou 5.\n",
        "\n",
        "3) Encapsule e generalize a seguinte declaração:\n"
      ]
    },
    {
      "cell_type": "code",
      "metadata": {
        "id": "lRIuGbvtFLAg"
      },
      "source": [
        "for i in [12, 16, 17, 24, 29]:\n",
        "    if i % 2 == 1:  # If the number is odd\n",
        "       break        #  ... immediately exit the loop\n",
        "    print(i)\n",
        "print(\"done\")"
      ],
      "execution_count": null,
      "outputs": []
    },
    {
      "cell_type": "markdown",
      "metadata": {
        "id": "ycOzOyMfFTQs"
      },
      "source": [
        "\n",
        "\n",
        "4) O método de Newton para raiz quadrada. Suponha que você queira calcular a raiz quadrada de **n**. Se você começar com quase qualquer aproximação, poderá calcular uma aproximação melhor (mais próxima da resposta real) com a seguinte fórmula: melhor = (approx + n/approx)/2\n",
        "\n",
        "Usando um loop e repetindo esta fórmula até que a melhor aproximação se aproxime o suficiente da anterior (podemos considerar uma diferença de 0,001), podemos escrever uma função para calcular a raiz quadrada.\n",
        "\n",
        "Esse é um exemplo de repetição **indefinida**. Com qual tipo de loop você deve escrever o seu programa?\n",
        "\n",
        "# **Debugar com print**\n",
        "\n",
        "É de extrema importância saber prever possíveis bugs e quando encontrá-los, saber debugar. A primeira ferramenta é utilizando o print em pontos estratégicos do programa.\n",
        "\n",
        "Outra forma de debugar é usando a declaração built-in do Python, **assert**.\n",
        "\n",
        "Consideramos a seguinte função, que calcula o valor absoluto de um número.\n"
      ]
    },
    {
      "cell_type": "code",
      "metadata": {
        "id": "g3uulLhDFhnw",
        "colab": {
          "base_uri": "https://localhost:8080/"
        },
        "outputId": "5a92c21c-5727-446d-b3b7-22b301c20a77"
      },
      "source": [
        "def valor_modulo(x):\n",
        "    if (x < 0):\n",
        "        return -x\n",
        "    elif (x > 0):\n",
        "        return x\n",
        "\n",
        "print (valor_modulo(-88))\n",
        "print (valor_modulo(12))"
      ],
      "execution_count": null,
      "outputs": [
        {
          "output_type": "stream",
          "text": [
            "88\n",
            "12\n"
          ],
          "name": "stdout"
        }
      ]
    },
    {
      "cell_type": "code",
      "metadata": {
        "id": "xo665A40Qri9"
      },
      "source": [
        "assert valor_modulo(-1002)"
      ],
      "execution_count": null,
      "outputs": []
    },
    {
      "cell_type": "code",
      "metadata": {
        "colab": {
          "base_uri": "https://localhost:8080/",
          "height": 167
        },
        "id": "oi-y_GegQwRU",
        "outputId": "3dcb9d92-09e4-4437-b78d-1ced1784a386"
      },
      "source": [
        "assert valor_modulo(0)"
      ],
      "execution_count": null,
      "outputs": [
        {
          "output_type": "error",
          "ename": "AssertionError",
          "evalue": "ignored",
          "traceback": [
            "\u001b[0;31m---------------------------------------------------------------------------\u001b[0m",
            "\u001b[0;31mAssertionError\u001b[0m                            Traceback (most recent call last)",
            "\u001b[0;32m<ipython-input-109-f5b45c58fcca>\u001b[0m in \u001b[0;36m<module>\u001b[0;34m()\u001b[0m\n\u001b[0;32m----> 1\u001b[0;31m \u001b[0;32massert\u001b[0m \u001b[0mvalor_modulo\u001b[0m\u001b[0;34m(\u001b[0m\u001b[0;36m0\u001b[0m\u001b[0;34m)\u001b[0m\u001b[0;34m\u001b[0m\u001b[0;34m\u001b[0m\u001b[0m\n\u001b[0m",
            "\u001b[0;31mAssertionError\u001b[0m: "
          ]
        }
      ]
    },
    {
      "cell_type": "markdown",
      "metadata": {
        "id": "h1znqY0siTPj"
      },
      "source": [
        "Exercício 1:"
      ]
    },
    {
      "cell_type": "code",
      "metadata": {
        "colab": {
          "base_uri": "https://localhost:8080/"
        },
        "id": "2RCQNpLeiWIr",
        "outputId": "3de7576f-2fb3-43a5-9219-53827abd9f8c"
      },
      "source": [
        "def collatz_sequence(n):\n",
        "    ''' Makes the Collatz sequence, i.e. if n is an even positive integer\n",
        "    returns n/2 and if n is an odd positive integer returns 3*n + 1, so \n",
        "    that the last term, by the Collatz Conjecture, is always 1. '''\n",
        "    print(n)\n",
        "    while n > 1:\n",
        "        if n % 2 == 0:\n",
        "            n = n/2\n",
        "            print(n)\n",
        "        else:\n",
        "            n = 3*n + 1\n",
        "            print(n) \n",
        "\n",
        "collatz_sequence(12)\n",
        "        "
      ],
      "execution_count": null,
      "outputs": [
        {
          "output_type": "stream",
          "text": [
            "12\n",
            "6.0\n",
            "3.0\n",
            "10.0\n",
            "5.0\n",
            "16.0\n",
            "8.0\n",
            "4.0\n",
            "2.0\n",
            "1.0\n"
          ],
          "name": "stdout"
        }
      ]
    },
    {
      "cell_type": "code",
      "metadata": {
        "colab": {
          "base_uri": "https://localhost:8080/"
        },
        "id": "SbNVjpoz88HX",
        "outputId": "b0a8e747-a777-4d99-db2c-29fbd41c5d50"
      },
      "source": [
        "def collatz(n):\n",
        "    if n % 2 == 0:\n",
        "        n /= 2\n",
        "    else:\n",
        "        n = 3*n + 1\n",
        "    return n \n",
        "\n",
        "def draw_list(ns):\n",
        "    msg = ''\n",
        "    for i in ns:\n",
        "        msg += str(1) + ', '\n",
        "    msg = msg[:len(msg) - 2]\n",
        "    print(msg) \n",
        "\n",
        "def conjectura(n):\n",
        "    if n > 0 and isinstance(n, int):\n",
        "        ns = [n]\n",
        "        while n != 1:\n",
        "            n = collatz(n)\n",
        "            ns.append(int(n))\n",
        "        print(ns)                 # draw_list\n",
        "    else:\n",
        "        print('error') \n",
        "\n",
        "conjectura(12)"
      ],
      "execution_count": null,
      "outputs": [
        {
          "output_type": "stream",
          "text": [
            "[12, 6, 3, 10, 5, 16, 8, 4, 2, 1]\n"
          ],
          "name": "stdout"
        }
      ]
    },
    {
      "cell_type": "markdown",
      "metadata": {
        "id": "OC8QKJPGoc_L"
      },
      "source": [
        "Exercício 2:"
      ]
    },
    {
      "cell_type": "code",
      "metadata": {
        "colab": {
          "base_uri": "https://localhost:8080/"
        },
        "id": "3AdcQJHyof-K",
        "outputId": "fb63a528-1431-4f59-d177-78f22eafecba"
      },
      "source": [
        "def counter_0and5(n):\n",
        "    ''' Counts the number of 0s and 5s that appears in any integer n. '''\n",
        "    count = 0\n",
        "    while n != 0:\n",
        "        if n % 5 == 0:\n",
        "            count = count + 1\n",
        "        n = n // 10\n",
        "    return count\n",
        "        \n",
        "counter_0and5(51005)"
      ],
      "execution_count": null,
      "outputs": [
        {
          "output_type": "execute_result",
          "data": {
            "text/plain": [
              "4"
            ]
          },
          "metadata": {
            "tags": []
          },
          "execution_count": 15
        }
      ]
    },
    {
      "cell_type": "code",
      "metadata": {
        "colab": {
          "base_uri": "https://localhost:8080/"
        },
        "id": "BrcE3woT_N9B",
        "outputId": "7e06eb7f-844b-4cd9-aa5c-4709db30d05d"
      },
      "source": [
        "def counter_0_5(n):\n",
        "    n = str(n)\n",
        "    count = 0 \n",
        "    for i in n:\n",
        "        if i == '0' or i == '5':\n",
        "            count += 1\n",
        "    return count \n",
        "\n",
        "counter_0_5(51005)"
      ],
      "execution_count": null,
      "outputs": [
        {
          "output_type": "execute_result",
          "data": {
            "text/plain": [
              "4"
            ]
          },
          "metadata": {
            "tags": []
          },
          "execution_count": 16
        }
      ]
    },
    {
      "cell_type": "markdown",
      "metadata": {
        "id": "yWzPjb6z-cbs"
      },
      "source": [
        "Exercício 3:"
      ]
    },
    {
      "cell_type": "code",
      "metadata": {
        "colab": {
          "base_uri": "https://localhost:8080/"
        },
        "id": "RsNRnOgZ-evu",
        "outputId": "627a4431-8999-4037-d16f-a9ef0a4e9f2e"
      },
      "source": [
        "def print_firsteven(list_numbers):\n",
        "    ''' Print the first even numbers until one odd number appears in a list. '''\n",
        "    for i in list_numbers:\n",
        "        if i % 2 != 0:  # If the number is odd\n",
        "           break        #  ... immediately exit the loop\n",
        "        print(i)\n",
        "    print(\"done\") \n",
        "\n",
        "def print_alleven(list_numbers):\n",
        "    ''' Print all even numbers in a list. '''\n",
        "    for i in list_numbers:\n",
        "        if i % 2 != 0:  # If the number is odd\n",
        "           continue     # Don't process it \n",
        "        print(i)\n",
        "    print(\"done\") \n",
        "\n",
        "print_firsteven([12, 16, 17, 24, 29])\n",
        "print_alleven([12, 16, 17, 24, 29, 30])"
      ],
      "execution_count": null,
      "outputs": [
        {
          "output_type": "stream",
          "text": [
            "12\n",
            "16\n",
            "done\n",
            "12\n",
            "16\n",
            "24\n",
            "30\n",
            "done\n"
          ],
          "name": "stdout"
        }
      ]
    },
    {
      "cell_type": "markdown",
      "metadata": {
        "id": "gT8CRLUYCNhG"
      },
      "source": [
        "Exercício 4:"
      ]
    },
    {
      "cell_type": "code",
      "metadata": {
        "colab": {
          "base_uri": "https://localhost:8080/"
        },
        "id": "uGGd52UPCQIc",
        "outputId": "dd1f2ab1-3c70-47f3-b594-4902852755f5"
      },
      "source": [
        "def sqrt_newton(n, l):\n",
        "    ''' Uses the Newton's method to find the square root of a number. '''\n",
        "    x = n\n",
        "    while (1):\n",
        "        sqrt = 0.5*(x + n/x)\n",
        "        if abs(x - sqrt) < l:\n",
        "            break \n",
        "        x = sqrt\n",
        "    return x\n",
        "\n",
        "sqrt_newton(16, 0.001)    "
      ],
      "execution_count": null,
      "outputs": [
        {
          "output_type": "execute_result",
          "data": {
            "text/plain": [
              "4.000000636692939"
            ]
          },
          "metadata": {
            "tags": []
          },
          "execution_count": 6
        }
      ]
    },
    {
      "cell_type": "code",
      "metadata": {
        "colab": {
          "base_uri": "https://localhost:8080/"
        },
        "id": "m0qwf7UPsjMe",
        "outputId": "8d62eae1-43f6-43c9-f59a-8e230751accd"
      },
      "source": [
        "def sqrt_newton(n, l):\n",
        "    ''' Uses the Newton's method to find the square root of a number. '''\n",
        "    x = n\n",
        "    sqrt = 0.5*(x + n/x)\n",
        "    while abs(x - sqrt) > l:\n",
        "        x = sqrt\n",
        "        sqrt = 0.5*(x + n/x)\n",
        "    return x\n",
        "\n",
        "sqrt_newton(16, 0.0001) "
      ],
      "execution_count": null,
      "outputs": [
        {
          "output_type": "execute_result",
          "data": {
            "text/plain": [
              "4.000000636692939"
            ]
          },
          "metadata": {
            "tags": []
          },
          "execution_count": 7
        }
      ]
    },
    {
      "cell_type": "code",
      "metadata": {
        "colab": {
          "base_uri": "https://localhost:8080/"
        },
        "id": "zJtXr3uU7XBI",
        "outputId": "ee1018b9-156f-486e-dcdb-fac55262f36c"
      },
      "source": [
        "def newton_approx(n, approx, l):\n",
        "    new_approx = (approx + n/approx)/2\n",
        "    print(new_approx)\n",
        "    if abs(new_approx - approx) < l:\n",
        "        print('test')\n",
        "        return new_approx\n",
        "    else:\n",
        "        newton_approx(n, new_approx, l)\n",
        "\n",
        "newton_approx(16, 16, 0.01)"
      ],
      "execution_count": null,
      "outputs": [
        {
          "output_type": "stream",
          "text": [
            "8.5\n",
            "5.1911764705882355\n",
            "4.136664722546242\n",
            "4.002257524798522\n",
            "4.000000636692939\n",
            "test\n"
          ],
          "name": "stdout"
        }
      ]
    },
    {
      "cell_type": "markdown",
      "metadata": {
        "id": "J4mkXqphMec9"
      },
      "source": [
        "# Iteração (continuação)\n",
        "\n",
        "Vimos até aqui:\n",
        "* Atualização de variável;\n",
        "* Loop `for`: iteração definida;\n",
        "* Loop `while`: iteração indefinida;\n",
        "* Declarações `break` e `continue`.\n",
        "\n",
        "Hoje daremos continuade ao capítulo sobre Iteração. Veremos:\n",
        "* Condicionais encadeadas;\n",
        "* Condicionais aninhadas;\n",
        "* Recursividade."
      ]
    },
    {
      "cell_type": "markdown",
      "metadata": {
        "id": "dWB_ZAiQMf8k"
      },
      "source": [
        "## Condicionais encadeadas\n",
        "\n",
        "Às vezes há mais de duas possibilidades e precisamos de mais de dois ramos. Uma maneira de expressar uma computação assim é uma condicional encadeada:"
      ]
    },
    {
      "cell_type": "code",
      "metadata": {
        "id": "x7p1C82yMnyP"
      },
      "source": [
        "x = 2\n",
        "y = 10"
      ],
      "execution_count": null,
      "outputs": []
    },
    {
      "cell_type": "code",
      "metadata": {
        "id": "iFFyDU5YMrOL",
        "colab": {
          "base_uri": "https://localhost:8080/"
        },
        "outputId": "95e45b39-de05-4f31-de03-1f8d37c86da5"
      },
      "source": [
        "if x < y:\n",
        "    print('x é menor que y')\n",
        "elif x > y:\n",
        "    print('x é maior que y')\n",
        "else:\n",
        "    print('x e y são iguais')"
      ],
      "execution_count": null,
      "outputs": [
        {
          "output_type": "stream",
          "text": [
            "x é menor que y\n"
          ],
          "name": "stdout"
        }
      ]
    },
    {
      "cell_type": "markdown",
      "metadata": {
        "id": "tR99GW5tMyVj"
      },
      "source": [
        "```elif``` é uma abreviação de “else if”. Mais uma vez, exatamente um ramo será executado. Não há limite no número de instruções ```elif```. Se houver uma cláusula else, ela precisa estar no final, mas não precisa haver uma obrigatoriamente."
      ]
    },
    {
      "cell_type": "code",
      "metadata": {
        "id": "cZU7rDNQMz-Q",
        "colab": {
          "base_uri": "https://localhost:8080/",
          "height": 237
        },
        "outputId": "a8ddf5cc-073b-47d8-ce2e-0902c5606af4"
      },
      "source": [
        "if choice == 'a':\n",
        "    draw_a()\n",
        "elif choice == 'b':\n",
        "    draw_b()\n",
        "elif choice == 'c':\n",
        "    draw_c()"
      ],
      "execution_count": null,
      "outputs": [
        {
          "output_type": "error",
          "ename": "NameError",
          "evalue": "ignored",
          "traceback": [
            "\u001b[0;31m---------------------------------------------------------------------------\u001b[0m",
            "\u001b[0;31mNameError\u001b[0m                                 Traceback (most recent call last)",
            "\u001b[0;32m<ipython-input-3-4698c46dedac>\u001b[0m in \u001b[0;36m<module>\u001b[0;34m()\u001b[0m\n\u001b[0;32m----> 1\u001b[0;31m \u001b[0;32mif\u001b[0m \u001b[0mchoice\u001b[0m \u001b[0;34m==\u001b[0m \u001b[0;34m'a'\u001b[0m\u001b[0;34m:\u001b[0m\u001b[0;34m\u001b[0m\u001b[0;34m\u001b[0m\u001b[0m\n\u001b[0m\u001b[1;32m      2\u001b[0m     \u001b[0mdraw_a\u001b[0m\u001b[0;34m(\u001b[0m\u001b[0;34m)\u001b[0m\u001b[0;34m\u001b[0m\u001b[0;34m\u001b[0m\u001b[0m\n\u001b[1;32m      3\u001b[0m \u001b[0;32melif\u001b[0m \u001b[0mchoice\u001b[0m \u001b[0;34m==\u001b[0m \u001b[0;34m'b'\u001b[0m\u001b[0;34m:\u001b[0m\u001b[0;34m\u001b[0m\u001b[0;34m\u001b[0m\u001b[0m\n\u001b[1;32m      4\u001b[0m     \u001b[0mdraw_b\u001b[0m\u001b[0;34m(\u001b[0m\u001b[0;34m)\u001b[0m\u001b[0;34m\u001b[0m\u001b[0;34m\u001b[0m\u001b[0m\n\u001b[1;32m      5\u001b[0m \u001b[0;32melif\u001b[0m \u001b[0mchoice\u001b[0m \u001b[0;34m==\u001b[0m \u001b[0;34m'c'\u001b[0m\u001b[0;34m:\u001b[0m\u001b[0;34m\u001b[0m\u001b[0;34m\u001b[0m\u001b[0m\n",
            "\u001b[0;31mNameError\u001b[0m: name 'choice' is not defined"
          ]
        }
      ]
    },
    {
      "cell_type": "markdown",
      "metadata": {
        "id": "-XbnoMB0M65d"
      },
      "source": [
        "Cada condição é verificada em ordem:\n",
        "   * Se o primeiro é falso, o próximo é verificado e assim por diante. \n",
        "   * Se uma delas for verdadeira, o ramo correspondente será executado e a instrução será finalizada. \n",
        "   * **Mesmo se mais de uma condição for verdadeira, somente a primeira ramificação verdadeira será executada.**"
      ]
    },
    {
      "cell_type": "markdown",
      "metadata": {
        "id": "DXGoit8NNA4T"
      },
      "source": [
        "## Condicionais aninhadas\n",
        "Uma condicional também pode ser aninhada dentro de outra. Poderíamos ter escrito o exemplo na seção anterior desta forma:"
      ]
    },
    {
      "cell_type": "code",
      "metadata": {
        "id": "MpLW1PydNCDa",
        "colab": {
          "base_uri": "https://localhost:8080/"
        },
        "outputId": "4534f1bd-aee1-460a-a6af-a5fd005f0b95"
      },
      "source": [
        "x = 2\n",
        "y = 20\n",
        "if x == y:\n",
        "    print('x e y são iguais')\n",
        "else:\n",
        "    if x < y:\n",
        "        print('x é menor que y')\n",
        "    else:\n",
        "        print('x é maior que y')"
      ],
      "execution_count": null,
      "outputs": [
        {
          "output_type": "stream",
          "text": [
            "x é menor que y\n"
          ],
          "name": "stdout"
        }
      ]
    },
    {
      "cell_type": "markdown",
      "metadata": {
        "id": "MAOvx-PpNLQb"
      },
      "source": [
        "* A condicional exterior contém dois ramos. \n",
        "* O primeiro ramo contém uma instrução simples. \n",
        "    * O segundo ramo contém outra instrução ```if```, \n",
        "       * que tem outros dois ramos próprios. Esses dois ramos são instruções simples, embora pudessem ser instruções condicionais também.\n",
        "\n",
        "Embora a endentação das instruções evidencie a estrutura das condicionais, condicionais aninhadas se tornam rapidamente  difíceis de ler. ***É uma boa ideia evitá-las quando for possível***.\n",
        "\n",
        "**Operadores lógicos** muitas vezes oferecem uma forma de **simplificar** instruções condicionais aninhadas. Por exemplo, podemos reescrever o seguinte código usando uma única condicional:"
      ]
    },
    {
      "cell_type": "code",
      "metadata": {
        "id": "Hj1yxfFeNMqQ",
        "colab": {
          "base_uri": "https://localhost:8080/"
        },
        "outputId": "835922ad-8f88-408d-f820-61c6e2893235"
      },
      "source": [
        "x = 8\n",
        "if 0 < x:\n",
        "    if x < 10:\n",
        "        print('x is a positive single-digit number.')"
      ],
      "execution_count": null,
      "outputs": [
        {
          "output_type": "stream",
          "text": [
            "x is a positive single-digit number.\n"
          ],
          "name": "stdout"
        }
      ]
    },
    {
      "cell_type": "markdown",
      "metadata": {
        "id": "bki-wJNDNTbr"
      },
      "source": [
        "A instrução ```print``` só é executada se a colocarmos depois de ambas as condicionais, então podemos obter o mesmo efeito com o operador ```and```:"
      ]
    },
    {
      "cell_type": "code",
      "metadata": {
        "id": "DXfOXFIMNUHY"
      },
      "source": [
        "x = -4\n",
        "if 0 < x and x < 10:\n",
        "    print('x is a positive single-digit number.')"
      ],
      "execution_count": null,
      "outputs": []
    },
    {
      "cell_type": "markdown",
      "metadata": {
        "id": "Ae1stBBFNXEW"
      },
      "source": [
        "Para este tipo de condição, o Python oferece uma opção mais concisa:"
      ]
    },
    {
      "cell_type": "code",
      "metadata": {
        "id": "ld6AXRTKNai6"
      },
      "source": [
        "x = 0\n",
        "if 0 < x < 10:\n",
        "    print('x is a positive single-digit number.')"
      ],
      "execution_count": null,
      "outputs": []
    },
    {
      "cell_type": "markdown",
      "metadata": {
        "id": "-J0v6KoNNiuU"
      },
      "source": [
        "## Recursividade\n",
        "É legal para uma função chamar outra; também é legal para **uma função chamar a si própria**. Pode não ser óbvio por que isso é uma coisa boa, mas na verdade é uma das coisas mais mágicas que um programa pode fazer. Por exemplo, veja a seguinte função:"
      ]
    },
    {
      "cell_type": "code",
      "metadata": {
        "id": "ON8E-IX9NjqO"
      },
      "source": [
        "def countdown(n):\n",
        "    if n <= 0:\n",
        "        print('GRANDE EXPLOSÃO!!!!')\n",
        "    else:\n",
        "        print(n)\n",
        "        countdown(n-1)"
      ],
      "execution_count": null,
      "outputs": []
    },
    {
      "cell_type": "markdown",
      "metadata": {
        "id": "CB4Gm-z5Npf8"
      },
      "source": [
        "Se n for 0 ou negativo, a frase GRANDE EXPLOSÃO!!!!” é exibida. Senão, a saída é n e então a função countdown é chamada – por si mesma – passando n-1 como argumento.\n",
        "\n",
        "O que acontece se chamarmos esta função assim?"
      ]
    },
    {
      "cell_type": "code",
      "metadata": {
        "id": "Wz52GPDjNqVx",
        "colab": {
          "base_uri": "https://localhost:8080/"
        },
        "outputId": "10f25890-e64d-490c-900b-02f5968e0988"
      },
      "source": [
        "countdown(3)"
      ],
      "execution_count": null,
      "outputs": [
        {
          "output_type": "stream",
          "text": [
            "3\n",
            "2\n",
            "1\n",
            "GRANDE EXPLOSÃO!!!!\n"
          ],
          "name": "stdout"
        }
      ]
    },
    {
      "cell_type": "markdown",
      "metadata": {
        "id": "sEnQtFEXNxgz"
      },
      "source": [
        "A execução de countdown inicia com n=3 e como n é maior que 0, ela produz o valor 3 e então chama a si mesma…\n",
        "\n",
        "    A execução de countdown inicia com n=2 e como n é maior que 0, ela produz o valor 2 e então chama a si mesma…\n",
        "\n",
        "        A execução de countdown inicia com n=1 e como n é maior que 0, ela produz o valor 1 e então chama a si mesma…\n",
        "\n",
        "            A execução de countdown inicia com n=0 e como n não é maior que 0, ela produz a palavra “Blastoff!” e então retorna.\n",
        "\n",
        "        O countdown que recebeu n=1 retorna.\n",
        "\n",
        "    O countdown que recebeu n=2 retorna.\n",
        "\n",
        "O countdown que recebeu n=3 retorna.\n",
        "\n",
        "E então você está de volta ao __main__."
      ]
    },
    {
      "cell_type": "markdown",
      "metadata": {
        "id": "hhIUScTcNyqf"
      },
      "source": [
        "Uma função que chama a si mesma é dita recursiva; o processo para executá-la é a recursividade.\n",
        "\n",
        "Como em outro exemplo, podemos escrever uma função que exiba uma string n vezes:"
      ]
    },
    {
      "cell_type": "code",
      "metadata": {
        "id": "YriaYgM_N3NT"
      },
      "source": [
        "def print_n(s, n):\n",
        "    if n <= 0:\n",
        "        return\n",
        "    print(s)\n",
        "    print_n(s, n-1)"
      ],
      "execution_count": null,
      "outputs": []
    },
    {
      "cell_type": "code",
      "metadata": {
        "id": "ExTv-F41N9Nw",
        "colab": {
          "base_uri": "https://localhost:8080/"
        },
        "outputId": "b489f120-f820-4af3-9854-08cee4396504"
      },
      "source": [
        "print_n(\"Olá\", 9)"
      ],
      "execution_count": null,
      "outputs": [
        {
          "output_type": "stream",
          "text": [
            "Olá\n",
            "Olá\n",
            "Olá\n",
            "Olá\n",
            "Olá\n",
            "Olá\n",
            "Olá\n",
            "Olá\n",
            "Olá\n"
          ],
          "name": "stdout"
        }
      ]
    },
    {
      "cell_type": "markdown",
      "metadata": {
        "id": "xjuTTPUKOC27"
      },
      "source": [
        "Se n <= 0 a instrução return causa a saída da função. O fluxo de execução volta imediatamente a quem fez a chamada, e as linhas restantes da função não são executadas.\n",
        "\n",
        "O resto da função é similar à countdown: ela mostra s e então chama a si mesma para mostrar s mais n-1 vezes. Então o número de linhas da saída é 1 + (n - 1), até chegar a n.\n",
        "\n",
        "Para exemplos simples como esse, provavelmente é mais fácil usar um loop for. Mais adiante veremos exemplos que são difíceis de escrever com um loop for e fáceis de escrever com recursividade, então é bom começar cedo."
      ]
    },
    {
      "cell_type": "markdown",
      "metadata": {
        "id": "1sBitVnoOEiE"
      },
      "source": [
        "## Exercícios\n",
        "https://penseallen.github.io/PensePython2e/05-cond-recur.html\n",
        "\n",
        "1) O módulo time fornece uma função, também chamada time, que devolve a Hora Média de Greenwich na “época”, que é um momento arbitrário usado como ponto de referência. Em sistemas UNIX, a época é primeiro de janeiro de 1970."
      ]
    },
    {
      "cell_type": "code",
      "metadata": {
        "id": "8wIxi3u2OM07",
        "colab": {
          "base_uri": "https://localhost:8080/"
        },
        "outputId": "da5a14dc-e691-4124-c0c3-3375de009372"
      },
      "source": [
        "import time\n",
        "time.time()"
      ],
      "execution_count": null,
      "outputs": [
        {
          "output_type": "execute_result",
          "data": {
            "text/plain": [
              "1621705135.6573288"
            ]
          },
          "metadata": {
            "tags": []
          },
          "execution_count": 42
        }
      ]
    },
    {
      "cell_type": "markdown",
      "metadata": {
        "id": "v8LRDt3aOJcq"
      },
      "source": [
        "Escreva um script que leia a hora atual e a converta em um tempo em horas, minutos e segundos, mais o número de dias desde a época."
      ]
    },
    {
      "cell_type": "markdown",
      "metadata": {
        "id": "-P5e8VUhOTSz"
      },
      "source": [
        "2) O último teorema de Fermat diz que não existem números inteiros a, b e c tais que `a**n + b**n == c**n` para quaisquer valores de n maiores que 2.\n",
        "   1. Escreva uma função chamada `check_fermat` que receba quatro parâmetros – a, b, c e n – e verifique se o teorema de Fermat se mantém. Se n for maior que 2 e `a**n + b**n == c**n` o programa deve imprimir, “Holy smokes, Fermat was wrong!” Senão o programa deve exibir “No, that doesn’t work.”\n",
        "\n",
        "   1. Escreva uma função que peça ao usuário para digitar valores para a, b, c e n, os converta em números inteiros e use `check_fermat` para verificar se violam o teorema de Fermat."
      ]
    },
    {
      "cell_type": "markdown",
      "metadata": {
        "id": "-iOCRl9cOYi3"
      },
      "source": [
        "3) Há um teste simples para ver se é possível formar um triângulo para quaisquer três comprimentos: Se algum dos três comprimentos for maior que a soma dos outros dois, então você não pode formar um triângulo. Senão, você pode. (Se a soma de dois comprimentos igualar o terceiro, eles formam um triângulo chamado “degenerado”.)\n",
        "   1. Escreva uma função chamada `is_triangle` que receba três números inteiros como argumentos, e que imprima “Yes” ou “No”, dependendo da possibilidade de formar ou não um triângulo de gravetos com os comprimentos dados.\n",
        "   1. Escreva uma função que peça ao usuário para digitar três comprimentos de gravetos, os converta em números inteiros e use `is_triangle` para verificar se os gravetos com os comprimentos dados podem formar um triângulo."
      ]
    },
    {
      "cell_type": "markdown",
      "metadata": {
        "id": "uKzQzwrhOjEx"
      },
      "source": [
        "4) Leia a próxima função e veja se consegue compreender o que ela faz (veja os exemplos no Capítulo 4). Então execute-a e veja se acertou."
      ]
    },
    {
      "cell_type": "code",
      "metadata": {
        "id": "5Ur-pbgDOnbf"
      },
      "source": [
        "def draw(t, length, n):\n",
        "  '''\n",
        "  t: turtle ou ColabTurtle\n",
        "  length: comprimento da linha\n",
        "  n: número de iterações. deve ser maior que zero.\n",
        "  '''\n",
        "    if n == 0:\n",
        "        return\n",
        "    angle = 50\n",
        "    t.forward(length * n)\n",
        "    t.left(angle)\n",
        "    draw(t, length, n-1)\n",
        "    t.right(2 * angle)\n",
        "    draw(t, length, n-1)\n",
        "    t.left(angle)\n",
        "    t.backward(length * n)"
      ],
      "execution_count": null,
      "outputs": []
    },
    {
      "cell_type": "markdown",
      "metadata": {
        "id": "IBLlWNK6Owlu"
      },
      "source": [
        "5) A curva de Koch é um fractal que parece com o da Figura abaixo. \n",
        "![](https://github.com/PenseAllen/PensePython2e/raw/master/fig/tnkp_0502.png)\n",
        "\n",
        "Para desenhar uma curva de Koch com o comprimento x, tudo o que você tem que fazer é:\n",
        "\n",
        "1. Desenhe uma curva de Koch com o comprimento x/3.\n",
        "\n",
        "1. Vire 60 graus à esquerda.\n",
        "\n",
        "1. Desenhe uma curva de Koch com o comprimento x/3.\n",
        "\n",
        "1. Vire 120 graus à direita.\n",
        "\n",
        "1. Desenhe uma curva de Koch com o comprimento x/3.\n",
        "\n",
        "1. Vire 60 graus à esquerda.\n",
        "\n",
        "1. Desenhe uma curva de Koch com o comprimento x/3.\n",
        "\n",
        "\n",
        "A exceção é se x for menor que 3: neste caso, você pode desenhar apenas uma linha reta com o comprimento x.\n",
        "\n",
        "1. Escreva uma função chamada `koch` que receba um `ColabTurtle` (ou turtle) e um comprimento como parâmetros, e use o `ColabTurtle` para desenhar uma curva de Koch com o comprimento dado.\n",
        "\n",
        "1. Escreva uma função chamada `snowflake` que desenhe três curvas de Koch para fazer o traçado de um floco de neve.\n",
        "\n",
        "1. A curva de Koch pode ser generalizada de vários modos. Veja exemplos em http://en.wikipedia.org/wiki/Koch_snowflake e implemente o seu favorito."
      ]
    },
    {
      "cell_type": "markdown",
      "metadata": {
        "id": "rbcVgJB3YCV1"
      },
      "source": [
        "Exercício 1:"
      ]
    },
    {
      "cell_type": "code",
      "metadata": {
        "id": "DPouhetFYIQm",
        "colab": {
          "base_uri": "https://localhost:8080/"
        },
        "outputId": "7ba57b64-18cf-4ff7-8979-36a007d9bbe9"
      },
      "source": [
        "def time_unix(ano, dia, hora, minuto, segundo):\n",
        "    ''' A partir do ano, dia do ano, hora, minuto e segundo calcula\n",
        "    quantos dias se passaram desde 00:00:00 de 1 de janeiro de 1970 '''\n",
        "    count_dia = dia\n",
        "    for i in range(1970, ano):\n",
        "        if i % 4 == 0 and i % 100 != 0 or i % 400 == 0:\n",
        "            count_dia = count_dia + 366\n",
        "        else:\n",
        "            count_dia = count_dia + 365\n",
        "    print(count_dia, 'dias', hora, 'horas', minuto, 'minutos', segundo, 'segundos') \n",
        "  \n",
        "\n",
        "time_unix(2021, 141, 14, 4, 00)"
      ],
      "execution_count": null,
      "outputs": [
        {
          "output_type": "stream",
          "text": [
            "18769 dias 14 horas 4 minutos 0 segundos\n"
          ],
          "name": "stdout"
        }
      ]
    },
    {
      "cell_type": "markdown",
      "metadata": {
        "id": "IZEd9IS6q8NI"
      },
      "source": [
        "Exercício 2:"
      ]
    },
    {
      "cell_type": "code",
      "metadata": {
        "colab": {
          "base_uri": "https://localhost:8080/"
        },
        "id": "wSRR4zbLq_Vv",
        "outputId": "17cea2e6-a524-433f-f495-4eed0b73959d"
      },
      "source": [
        "def check_fermat(a, b, c, n):\n",
        "    ''' It checks whether a**n + b**n == c**n for a, b and c integers is true\n",
        "    for n > 2. '''\n",
        "    if n > 2 and int(a)**n + int(b)**n == int(c)**n:\n",
        "        print('Holy smokes, Fermat was wrong!')\n",
        "    else: \n",
        "        print('No, that doesn’t work.')\n",
        "\n",
        "check_fermat(4, 3, 5, 2)   \n",
        "check_fermat(4, 8, 10, 4)\n",
        "check_fermat(9.8, 5.0, 16.0, 3)"
      ],
      "execution_count": null,
      "outputs": [
        {
          "output_type": "stream",
          "text": [
            "No, that doesn’t work.\n",
            "No, that doesn’t work.\n",
            "No, that doesn’t work.\n"
          ],
          "name": "stdout"
        }
      ]
    },
    {
      "cell_type": "markdown",
      "metadata": {
        "id": "kGAUo92CvtxI"
      },
      "source": [
        "Exercício 3:"
      ]
    },
    {
      "cell_type": "code",
      "metadata": {
        "colab": {
          "base_uri": "https://localhost:8080/"
        },
        "id": "YGzPpLFivwRq",
        "outputId": "ba7ac547-1934-418a-e90a-954358cac36b"
      },
      "source": [
        "def is_triangle(a, b, c):\n",
        "    ''' It checks whether is possible to construct a triangle\n",
        "    with the integers a, b and c. '''\n",
        "    d = int(a)\n",
        "    e = int(b)\n",
        "    f = int(c)\n",
        "    if d > e + f or e > d + f or f > e + d:\n",
        "        print('No')\n",
        "    elif d == e + f or e == d + f or f == e + d:\n",
        "        print('Degenerate')\n",
        "    else:\n",
        "        print('Yes') \n",
        "\n",
        "is_triangle(5, 15, 8)\n",
        "is_triangle(10, 5, 5)\n",
        "is_triangle(3, 4, 5)"
      ],
      "execution_count": null,
      "outputs": [
        {
          "output_type": "stream",
          "text": [
            "No\n",
            "Degenerate\n",
            "Yes\n"
          ],
          "name": "stdout"
        }
      ]
    },
    {
      "cell_type": "markdown",
      "metadata": {
        "id": "LsPCYEkMyowO"
      },
      "source": [
        "Exercício 4:"
      ]
    },
    {
      "cell_type": "code",
      "metadata": {
        "colab": {
          "base_uri": "https://localhost:8080/"
        },
        "id": "vzcpGqoI0fv3",
        "outputId": "b1a66489-9418-4878-d9a8-89fc551c4041"
      },
      "source": [
        "!pip3 install ColabTurtle\n",
        "from ColabTurtle import Turtle \n",
        "joana = Turtle"
      ],
      "execution_count": 2,
      "outputs": [
        {
          "output_type": "stream",
          "text": [
            "Collecting ColabTurtle\n",
            "  Downloading https://files.pythonhosted.org/packages/08/6f/619066317c24cd988979ad1b8c7b324c09ee1c408bfd88926889d6a62d99/ColabTurtle-2.1.0.tar.gz\n",
            "Building wheels for collected packages: ColabTurtle\n",
            "  Building wheel for ColabTurtle (setup.py) ... \u001b[?25l\u001b[?25hdone\n",
            "  Created wheel for ColabTurtle: filename=ColabTurtle-2.1.0-cp37-none-any.whl size=7661 sha256=61b24ef492dd9f309804a0d41b5236a8dfb18d29b43fb9794fa2882425807e54\n",
            "  Stored in directory: /root/.cache/pip/wheels/df/e9/3f/df3fccd8971c5473dc0c6450984cd057de8c9a1271069ebf18\n",
            "Successfully built ColabTurtle\n",
            "Installing collected packages: ColabTurtle\n",
            "Successfully installed ColabTurtle-2.1.0\n"
          ],
          "name": "stdout"
        }
      ]
    },
    {
      "cell_type": "code",
      "metadata": {
        "colab": {
          "base_uri": "https://localhost:8080/",
          "height": 521
        },
        "id": "WR5E535lyrBj",
        "outputId": "2dc28507-8dff-420c-857f-d970bb5cfc5e"
      },
      "source": [
        "def draw(t, length, angle, n):\n",
        "    ''' t: turtle ou ColabTurtle length: comprimento da linha\n",
        "    n: número de iterações. deve ser maior que zero. '''\n",
        "    if n == 0:\n",
        "        return\n",
        "    t.forward(length*n)\n",
        "    t.left(angle)\n",
        "    draw(t, length, angle, n-1)\n",
        "    t.right(2*angle)\n",
        "    draw(t, length, angle, n-1)\n",
        "    t.left(angle)\n",
        "    t.backward(length*n) \n",
        "\n",
        "joana.initializeTurtle()\n",
        "draw(joana, 20, 40, 4)"
      ],
      "execution_count": null,
      "outputs": [
        {
          "output_type": "display_data",
          "data": {
            "text/html": [
              "\n",
              "      <svg width=\"800\" height=\"500\">\n",
              "        <rect width=\"100%\" height=\"100%\" fill=\"black\"/>\n",
              "        <line x1=\"400\" y1=\"250\" x2=\"400.0\" y2=\"170.0\" stroke-linecap=\"round\" style=\"stroke:white;stroke-width:4\"/><line x1=\"400.0\" y1=\"170.0\" x2=\"361.433\" y2=\"124.037\" stroke-linecap=\"round\" style=\"stroke:white;stroke-width:4\"/><line x1=\"361.433\" y1=\"124.037\" x2=\"322.041\" y2=\"117.091\" stroke-linecap=\"round\" style=\"stroke:white;stroke-width:4\"/><line x1=\"322.041\" y1=\"117.091\" x2=\"304.72\" y2=\"127.091\" stroke-linecap=\"round\" style=\"stroke:white;stroke-width:4\"/><line x1=\"304.72\" y1=\"127.091\" x2=\"322.041\" y2=\"117.091\" stroke-linecap=\"round\" style=\"stroke:white;stroke-width:4\"/><line x1=\"322.041\" y1=\"117.091\" x2=\"309.185\" y2=\"101.77\" stroke-linecap=\"round\" style=\"stroke:white;stroke-width:4\"/><line x1=\"309.185\" y1=\"101.77\" x2=\"322.041\" y2=\"117.091\" stroke-linecap=\"round\" style=\"stroke:white;stroke-width:4\"/><line x1=\"322.041\" y1=\"117.091\" x2=\"361.433\" y2=\"124.037\" stroke-linecap=\"round\" style=\"stroke:white;stroke-width:4\"/><line x1=\"361.433\" y1=\"124.037\" x2=\"361.433\" y2=\"84.037\" stroke-linecap=\"round\" style=\"stroke:white;stroke-width:4\"/><line x1=\"361.433\" y1=\"84.037\" x2=\"348.577\" y2=\"68.716\" stroke-linecap=\"round\" style=\"stroke:white;stroke-width:4\"/><line x1=\"348.577\" y1=\"68.716\" x2=\"361.433\" y2=\"84.037\" stroke-linecap=\"round\" style=\"stroke:white;stroke-width:4\"/><line x1=\"361.433\" y1=\"84.037\" x2=\"374.289\" y2=\"68.716\" stroke-linecap=\"round\" style=\"stroke:white;stroke-width:4\"/><line x1=\"374.289\" y1=\"68.716\" x2=\"361.433\" y2=\"84.037\" stroke-linecap=\"round\" style=\"stroke:white;stroke-width:4\"/><line x1=\"361.433\" y1=\"84.037\" x2=\"361.433\" y2=\"124.037\" stroke-linecap=\"round\" style=\"stroke:white;stroke-width:4\"/><line x1=\"361.433\" y1=\"124.037\" x2=\"400.0\" y2=\"170.0\" stroke-linecap=\"round\" style=\"stroke:white;stroke-width:4\"/><line x1=\"400.0\" y1=\"170.0\" x2=\"438.567\" y2=\"124.037\" stroke-linecap=\"round\" style=\"stroke:white;stroke-width:4\"/><line x1=\"438.567\" y1=\"124.037\" x2=\"438.567\" y2=\"84.037\" stroke-linecap=\"round\" style=\"stroke:white;stroke-width:4\"/><line x1=\"438.567\" y1=\"84.037\" x2=\"425.711\" y2=\"68.716\" stroke-linecap=\"round\" style=\"stroke:white;stroke-width:4\"/><line x1=\"425.711\" y1=\"68.716\" x2=\"438.567\" y2=\"84.037\" stroke-linecap=\"round\" style=\"stroke:white;stroke-width:4\"/><line x1=\"438.567\" y1=\"84.037\" x2=\"451.423\" y2=\"68.716\" stroke-linecap=\"round\" style=\"stroke:white;stroke-width:4\"/><line x1=\"451.423\" y1=\"68.716\" x2=\"438.567\" y2=\"84.037\" stroke-linecap=\"round\" style=\"stroke:white;stroke-width:4\"/><line x1=\"438.567\" y1=\"84.037\" x2=\"438.567\" y2=\"124.037\" stroke-linecap=\"round\" style=\"stroke:white;stroke-width:4\"/><line x1=\"438.567\" y1=\"124.037\" x2=\"477.959\" y2=\"117.091\" stroke-linecap=\"round\" style=\"stroke:white;stroke-width:4\"/><line x1=\"477.959\" y1=\"117.091\" x2=\"490.815\" y2=\"101.77\" stroke-linecap=\"round\" style=\"stroke:white;stroke-width:4\"/><line x1=\"490.815\" y1=\"101.77\" x2=\"477.959\" y2=\"117.091\" stroke-linecap=\"round\" style=\"stroke:white;stroke-width:4\"/><line x1=\"477.959\" y1=\"117.091\" x2=\"495.28\" y2=\"127.091\" stroke-linecap=\"round\" style=\"stroke:white;stroke-width:4\"/><line x1=\"495.28\" y1=\"127.091\" x2=\"477.959\" y2=\"117.091\" stroke-linecap=\"round\" style=\"stroke:white;stroke-width:4\"/><line x1=\"477.959\" y1=\"117.091\" x2=\"438.567\" y2=\"124.037\" stroke-linecap=\"round\" style=\"stroke:white;stroke-width:4\"/><line x1=\"438.567\" y1=\"124.037\" x2=\"400.0\" y2=\"170.0\" stroke-linecap=\"round\" style=\"stroke:white;stroke-width:4\"/><line x1=\"400.0\" y1=\"170.0\" x2=\"400.0\" y2=\"250.0\" stroke-linecap=\"round\" style=\"stroke:white;stroke-width:4\"/>\n",
              "        <g visibility=visible transform=\"rotate(360,400.0,250.0) translate(382.0, 232.0)\">\n",
              "<path style=\" stroke:none;fill-rule:evenodd;fill:white;fill-opacity:1;\" d=\"M 18.214844 0.632812 C 16.109375 1.800781 15.011719 4.074219 15.074219 7.132812 L 15.085938 7.652344 L 14.785156 7.496094 C 13.476562 6.824219 11.957031 6.671875 10.40625 7.066406 C 8.46875 7.550781 6.515625 9.15625 4.394531 11.992188 C 3.0625 13.777344 2.679688 14.636719 3.042969 15.027344 L 3.15625 15.152344 L 3.519531 15.152344 C 4.238281 15.152344 4.828125 14.886719 8.1875 13.039062 C 9.386719 12.378906 10.371094 11.839844 10.378906 11.839844 C 10.386719 11.839844 10.355469 11.929688 10.304688 12.035156 C 9.832031 13.09375 9.257812 14.820312 8.96875 16.078125 C 7.914062 20.652344 8.617188 24.53125 11.070312 27.660156 C 11.351562 28.015625 11.363281 27.914062 10.972656 28.382812 C 8.925781 30.84375 7.945312 33.28125 8.238281 35.1875 C 8.289062 35.527344 8.28125 35.523438 8.917969 35.523438 C 10.941406 35.523438 13.074219 34.207031 15.136719 31.6875 C 15.359375 31.417969 15.328125 31.425781 15.5625 31.574219 C 16.292969 32.042969 18.023438 32.964844 18.175781 32.964844 C 18.335938 32.964844 19.941406 32.210938 20.828125 31.71875 C 20.996094 31.625 21.136719 31.554688 21.136719 31.558594 C 21.203125 31.664062 21.898438 32.414062 22.222656 32.730469 C 23.835938 34.300781 25.5625 35.132812 27.582031 35.300781 C 27.90625 35.328125 27.9375 35.308594 28.007812 34.984375 C 28.382812 33.242188 27.625 30.925781 25.863281 28.425781 L 25.542969 27.96875 L 25.699219 27.785156 C 28.945312 23.960938 29.132812 18.699219 26.257812 11.96875 L 26.207031 11.84375 L 27.945312 12.703125 C 31.53125 14.476562 32.316406 14.800781 33.03125 14.800781 C 33.976562 14.800781 33.78125 13.9375 32.472656 12.292969 C 28.519531 7.355469 25.394531 5.925781 21.921875 7.472656 L 21.558594 7.636719 L 21.578125 7.542969 C 21.699219 6.992188 21.761719 5.742188 21.699219 5.164062 C 21.496094 3.296875 20.664062 1.964844 19.003906 0.855469 C 18.480469 0.503906 18.457031 0.5 18.214844 0.632812\"/>\n",
              "</g>\n",
              "      </svg>\n",
              "    "
            ],
            "text/plain": [
              "<IPython.core.display.HTML object>"
            ]
          },
          "metadata": {
            "tags": []
          }
        }
      ]
    },
    {
      "cell_type": "markdown",
      "metadata": {
        "id": "IvM_f01ud-rW"
      },
      "source": [
        "Exercício 5:"
      ]
    },
    {
      "cell_type": "code",
      "metadata": {
        "colab": {
          "base_uri": "https://localhost:8080/",
          "height": 521
        },
        "id": "EOms3qvwd9wd",
        "outputId": "69e6b7a2-cbb5-48ea-a253-bb42779a4009"
      },
      "source": [
        "def koch(t, length, n):\n",
        "    if n == 0:\n",
        "        t.forward(length)\n",
        "    elif length < 3:\n",
        "        t.forward(length)\n",
        "    else:\n",
        "        for angle in [60, -120, 60, 0]:\n",
        "            koch(t, length // 3, n - 1)\n",
        "            t.left(angle)\n",
        "    \n",
        "joana.initializeTurtle()\n",
        "joana.penup()\n",
        "joana.left(90)\n",
        "joana.forward(200)\n",
        "joana.left(180)\n",
        "joana.pendown()\n",
        "\n",
        "koch(joana, 300, 3)\n",
        "    "
      ],
      "execution_count": null,
      "outputs": [
        {
          "output_type": "display_data",
          "data": {
            "text/html": [
              "\n",
              "      <svg width=\"800\" height=\"500\">\n",
              "        <rect width=\"100%\" height=\"100%\" fill=\"black\"/>\n",
              "        <line x1=\"200.0\" y1=\"250.0\" x2=\"211.0\" y2=\"250.0\" stroke-linecap=\"round\" style=\"stroke:white;stroke-width:4\"/><line x1=\"211.0\" y1=\"250.0\" x2=\"216.5\" y2=\"240.474\" stroke-linecap=\"round\" style=\"stroke:white;stroke-width:4\"/><line x1=\"216.5\" y1=\"240.474\" x2=\"222.0\" y2=\"250.0\" stroke-linecap=\"round\" style=\"stroke:white;stroke-width:4\"/><line x1=\"222.0\" y1=\"250.0\" x2=\"233.0\" y2=\"250.0\" stroke-linecap=\"round\" style=\"stroke:white;stroke-width:4\"/><line x1=\"233.0\" y1=\"250.0\" x2=\"238.5\" y2=\"240.474\" stroke-linecap=\"round\" style=\"stroke:white;stroke-width:4\"/><line x1=\"238.5\" y1=\"240.474\" x2=\"233.0\" y2=\"230.948\" stroke-linecap=\"round\" style=\"stroke:white;stroke-width:4\"/><line x1=\"233.0\" y1=\"230.948\" x2=\"244.0\" y2=\"230.948\" stroke-linecap=\"round\" style=\"stroke:white;stroke-width:4\"/><line x1=\"244.0\" y1=\"230.948\" x2=\"249.5\" y2=\"221.422\" stroke-linecap=\"round\" style=\"stroke:white;stroke-width:4\"/><line x1=\"249.5\" y1=\"221.422\" x2=\"255.0\" y2=\"230.948\" stroke-linecap=\"round\" style=\"stroke:white;stroke-width:4\"/><line x1=\"255.0\" y1=\"230.948\" x2=\"266.0\" y2=\"230.948\" stroke-linecap=\"round\" style=\"stroke:white;stroke-width:4\"/><line x1=\"266.0\" y1=\"230.948\" x2=\"260.5\" y2=\"240.474\" stroke-linecap=\"round\" style=\"stroke:white;stroke-width:4\"/><line x1=\"260.5\" y1=\"240.474\" x2=\"266.0\" y2=\"250.0\" stroke-linecap=\"round\" style=\"stroke:white;stroke-width:4\"/><line x1=\"266.0\" y1=\"250.0\" x2=\"277.0\" y2=\"250.0\" stroke-linecap=\"round\" style=\"stroke:white;stroke-width:4\"/><line x1=\"277.0\" y1=\"250.0\" x2=\"282.5\" y2=\"240.474\" stroke-linecap=\"round\" style=\"stroke:white;stroke-width:4\"/><line x1=\"282.5\" y1=\"240.474\" x2=\"288.0\" y2=\"250.0\" stroke-linecap=\"round\" style=\"stroke:white;stroke-width:4\"/><line x1=\"288.0\" y1=\"250.0\" x2=\"299.0\" y2=\"250.0\" stroke-linecap=\"round\" style=\"stroke:white;stroke-width:4\"/><line x1=\"299.0\" y1=\"250.0\" x2=\"304.5\" y2=\"240.474\" stroke-linecap=\"round\" style=\"stroke:white;stroke-width:4\"/><line x1=\"304.5\" y1=\"240.474\" x2=\"299.0\" y2=\"230.948\" stroke-linecap=\"round\" style=\"stroke:white;stroke-width:4\"/><line x1=\"299.0\" y1=\"230.948\" x2=\"310.0\" y2=\"230.948\" stroke-linecap=\"round\" style=\"stroke:white;stroke-width:4\"/><line x1=\"310.0\" y1=\"230.948\" x2=\"315.5\" y2=\"221.422\" stroke-linecap=\"round\" style=\"stroke:white;stroke-width:4\"/><line x1=\"315.5\" y1=\"221.422\" x2=\"310.0\" y2=\"211.896\" stroke-linecap=\"round\" style=\"stroke:white;stroke-width:4\"/><line x1=\"310.0\" y1=\"211.896\" x2=\"299.0\" y2=\"211.896\" stroke-linecap=\"round\" style=\"stroke:white;stroke-width:4\"/><line x1=\"299.0\" y1=\"211.896\" x2=\"304.5\" y2=\"202.37\" stroke-linecap=\"round\" style=\"stroke:white;stroke-width:4\"/><line x1=\"304.5\" y1=\"202.37\" x2=\"299.0\" y2=\"192.844\" stroke-linecap=\"round\" style=\"stroke:white;stroke-width:4\"/><line x1=\"299.0\" y1=\"192.844\" x2=\"310.0\" y2=\"192.844\" stroke-linecap=\"round\" style=\"stroke:white;stroke-width:4\"/><line x1=\"310.0\" y1=\"192.844\" x2=\"315.5\" y2=\"183.318\" stroke-linecap=\"round\" style=\"stroke:white;stroke-width:4\"/><line x1=\"315.5\" y1=\"183.318\" x2=\"321.0\" y2=\"192.844\" stroke-linecap=\"round\" style=\"stroke:white;stroke-width:4\"/><line x1=\"321.0\" y1=\"192.844\" x2=\"332.0\" y2=\"192.844\" stroke-linecap=\"round\" style=\"stroke:white;stroke-width:4\"/><line x1=\"332.0\" y1=\"192.844\" x2=\"337.5\" y2=\"183.318\" stroke-linecap=\"round\" style=\"stroke:white;stroke-width:4\"/><line x1=\"337.5\" y1=\"183.318\" x2=\"332.0\" y2=\"173.792\" stroke-linecap=\"round\" style=\"stroke:white;stroke-width:4\"/><line x1=\"332.0\" y1=\"173.792\" x2=\"343.0\" y2=\"173.792\" stroke-linecap=\"round\" style=\"stroke:white;stroke-width:4\"/><line x1=\"343.0\" y1=\"173.792\" x2=\"348.5\" y2=\"164.266\" stroke-linecap=\"round\" style=\"stroke:white;stroke-width:4\"/><line x1=\"348.5\" y1=\"164.266\" x2=\"354.0\" y2=\"173.792\" stroke-linecap=\"round\" style=\"stroke:white;stroke-width:4\"/><line x1=\"354.0\" y1=\"173.792\" x2=\"365.0\" y2=\"173.792\" stroke-linecap=\"round\" style=\"stroke:white;stroke-width:4\"/><line x1=\"365.0\" y1=\"173.792\" x2=\"359.5\" y2=\"183.318\" stroke-linecap=\"round\" style=\"stroke:white;stroke-width:4\"/><line x1=\"359.5\" y1=\"183.318\" x2=\"365.0\" y2=\"192.844\" stroke-linecap=\"round\" style=\"stroke:white;stroke-width:4\"/><line x1=\"365.0\" y1=\"192.844\" x2=\"376.0\" y2=\"192.844\" stroke-linecap=\"round\" style=\"stroke:white;stroke-width:4\"/><line x1=\"376.0\" y1=\"192.844\" x2=\"381.5\" y2=\"183.318\" stroke-linecap=\"round\" style=\"stroke:white;stroke-width:4\"/><line x1=\"381.5\" y1=\"183.318\" x2=\"387.0\" y2=\"192.844\" stroke-linecap=\"round\" style=\"stroke:white;stroke-width:4\"/><line x1=\"387.0\" y1=\"192.844\" x2=\"398.0\" y2=\"192.844\" stroke-linecap=\"round\" style=\"stroke:white;stroke-width:4\"/><line x1=\"398.0\" y1=\"192.844\" x2=\"392.5\" y2=\"202.37\" stroke-linecap=\"round\" style=\"stroke:white;stroke-width:4\"/><line x1=\"392.5\" y1=\"202.37\" x2=\"398.0\" y2=\"211.896\" stroke-linecap=\"round\" style=\"stroke:white;stroke-width:4\"/><line x1=\"398.0\" y1=\"211.896\" x2=\"387.0\" y2=\"211.896\" stroke-linecap=\"round\" style=\"stroke:white;stroke-width:4\"/><line x1=\"387.0\" y1=\"211.896\" x2=\"381.5\" y2=\"221.422\" stroke-linecap=\"round\" style=\"stroke:white;stroke-width:4\"/><line x1=\"381.5\" y1=\"221.422\" x2=\"387.0\" y2=\"230.948\" stroke-linecap=\"round\" style=\"stroke:white;stroke-width:4\"/><line x1=\"387.0\" y1=\"230.948\" x2=\"398.0\" y2=\"230.948\" stroke-linecap=\"round\" style=\"stroke:white;stroke-width:4\"/><line x1=\"398.0\" y1=\"230.948\" x2=\"392.5\" y2=\"240.474\" stroke-linecap=\"round\" style=\"stroke:white;stroke-width:4\"/><line x1=\"392.5\" y1=\"240.474\" x2=\"398.0\" y2=\"250.0\" stroke-linecap=\"round\" style=\"stroke:white;stroke-width:4\"/><line x1=\"398.0\" y1=\"250.0\" x2=\"409.0\" y2=\"250.0\" stroke-linecap=\"round\" style=\"stroke:white;stroke-width:4\"/><line x1=\"409.0\" y1=\"250.0\" x2=\"414.5\" y2=\"240.474\" stroke-linecap=\"round\" style=\"stroke:white;stroke-width:4\"/><line x1=\"414.5\" y1=\"240.474\" x2=\"420.0\" y2=\"250.0\" stroke-linecap=\"round\" style=\"stroke:white;stroke-width:4\"/><line x1=\"420.0\" y1=\"250.0\" x2=\"431.0\" y2=\"250.0\" stroke-linecap=\"round\" style=\"stroke:white;stroke-width:4\"/><line x1=\"431.0\" y1=\"250.0\" x2=\"436.5\" y2=\"240.474\" stroke-linecap=\"round\" style=\"stroke:white;stroke-width:4\"/><line x1=\"436.5\" y1=\"240.474\" x2=\"431.0\" y2=\"230.948\" stroke-linecap=\"round\" style=\"stroke:white;stroke-width:4\"/><line x1=\"431.0\" y1=\"230.948\" x2=\"442.0\" y2=\"230.948\" stroke-linecap=\"round\" style=\"stroke:white;stroke-width:4\"/><line x1=\"442.0\" y1=\"230.948\" x2=\"447.5\" y2=\"221.422\" stroke-linecap=\"round\" style=\"stroke:white;stroke-width:4\"/><line x1=\"447.5\" y1=\"221.422\" x2=\"453.0\" y2=\"230.948\" stroke-linecap=\"round\" style=\"stroke:white;stroke-width:4\"/><line x1=\"453.0\" y1=\"230.948\" x2=\"464.0\" y2=\"230.948\" stroke-linecap=\"round\" style=\"stroke:white;stroke-width:4\"/><line x1=\"464.0\" y1=\"230.948\" x2=\"458.5\" y2=\"240.474\" stroke-linecap=\"round\" style=\"stroke:white;stroke-width:4\"/><line x1=\"458.5\" y1=\"240.474\" x2=\"464.0\" y2=\"250.0\" stroke-linecap=\"round\" style=\"stroke:white;stroke-width:4\"/><line x1=\"464.0\" y1=\"250.0\" x2=\"475.0\" y2=\"250.0\" stroke-linecap=\"round\" style=\"stroke:white;stroke-width:4\"/><line x1=\"475.0\" y1=\"250.0\" x2=\"480.5\" y2=\"240.474\" stroke-linecap=\"round\" style=\"stroke:white;stroke-width:4\"/><line x1=\"480.5\" y1=\"240.474\" x2=\"486.0\" y2=\"250.0\" stroke-linecap=\"round\" style=\"stroke:white;stroke-width:4\"/><line x1=\"486.0\" y1=\"250.0\" x2=\"497.0\" y2=\"250.0\" stroke-linecap=\"round\" style=\"stroke:white;stroke-width:4\"/>\n",
              "        <g visibility=visible transform=\"rotate(90,497.0,250.0) translate(479.0, 232.0)\">\n",
              "<path style=\" stroke:none;fill-rule:evenodd;fill:white;fill-opacity:1;\" d=\"M 18.214844 0.632812 C 16.109375 1.800781 15.011719 4.074219 15.074219 7.132812 L 15.085938 7.652344 L 14.785156 7.496094 C 13.476562 6.824219 11.957031 6.671875 10.40625 7.066406 C 8.46875 7.550781 6.515625 9.15625 4.394531 11.992188 C 3.0625 13.777344 2.679688 14.636719 3.042969 15.027344 L 3.15625 15.152344 L 3.519531 15.152344 C 4.238281 15.152344 4.828125 14.886719 8.1875 13.039062 C 9.386719 12.378906 10.371094 11.839844 10.378906 11.839844 C 10.386719 11.839844 10.355469 11.929688 10.304688 12.035156 C 9.832031 13.09375 9.257812 14.820312 8.96875 16.078125 C 7.914062 20.652344 8.617188 24.53125 11.070312 27.660156 C 11.351562 28.015625 11.363281 27.914062 10.972656 28.382812 C 8.925781 30.84375 7.945312 33.28125 8.238281 35.1875 C 8.289062 35.527344 8.28125 35.523438 8.917969 35.523438 C 10.941406 35.523438 13.074219 34.207031 15.136719 31.6875 C 15.359375 31.417969 15.328125 31.425781 15.5625 31.574219 C 16.292969 32.042969 18.023438 32.964844 18.175781 32.964844 C 18.335938 32.964844 19.941406 32.210938 20.828125 31.71875 C 20.996094 31.625 21.136719 31.554688 21.136719 31.558594 C 21.203125 31.664062 21.898438 32.414062 22.222656 32.730469 C 23.835938 34.300781 25.5625 35.132812 27.582031 35.300781 C 27.90625 35.328125 27.9375 35.308594 28.007812 34.984375 C 28.382812 33.242188 27.625 30.925781 25.863281 28.425781 L 25.542969 27.96875 L 25.699219 27.785156 C 28.945312 23.960938 29.132812 18.699219 26.257812 11.96875 L 26.207031 11.84375 L 27.945312 12.703125 C 31.53125 14.476562 32.316406 14.800781 33.03125 14.800781 C 33.976562 14.800781 33.78125 13.9375 32.472656 12.292969 C 28.519531 7.355469 25.394531 5.925781 21.921875 7.472656 L 21.558594 7.636719 L 21.578125 7.542969 C 21.699219 6.992188 21.761719 5.742188 21.699219 5.164062 C 21.496094 3.296875 20.664062 1.964844 19.003906 0.855469 C 18.480469 0.503906 18.457031 0.5 18.214844 0.632812\"/>\n",
              "</g>\n",
              "      </svg>\n",
              "    "
            ],
            "text/plain": [
              "<IPython.core.display.HTML object>"
            ]
          },
          "metadata": {
            "tags": []
          }
        }
      ]
    },
    {
      "cell_type": "code",
      "metadata": {
        "colab": {
          "base_uri": "https://localhost:8080/",
          "height": 521
        },
        "id": "vB1AuPnWNez-",
        "outputId": "37183c00-e865-439d-de9e-aae708357a69"
      },
      "source": [
        "def draw_koch(t, length, n):\n",
        "    if n == 0:\n",
        "        return\n",
        "    elif length < 3:\n",
        "        t.forward(length)\n",
        "    #draw_koch(t, length/3, n - 1)\n",
        "    t.forward(length/3)\n",
        "    t.left(60)\n",
        "    t.forward(length/3)\n",
        "    t.right(120)\n",
        "    t.forward(length/3)\n",
        "    t.left(60)\n",
        "    t.forward(length/3)\n",
        "    t.left(60)\n",
        "    draw_koch(t, length, n - 1)\n",
        "    t.right(120)\n",
        "    draw_koch(t, length, n - 1)\n",
        "    t.left(60)\n",
        "    draw_koch(t, length, n - 1) \n",
        "\n",
        "joana.initializeTurtle()\n",
        "joana.penup()\n",
        "joana.left(90)\n",
        "joana.speed(13)\n",
        "joana.forward(200)\n",
        "joana.left(180)\n",
        "joana.pendown()\n",
        "\n",
        "draw_koch(joana, 30, 3)"
      ],
      "execution_count": 9,
      "outputs": [
        {
          "output_type": "display_data",
          "data": {
            "text/html": [
              "\n",
              "      <svg width=\"800\" height=\"500\">\n",
              "        <rect width=\"100%\" height=\"100%\" fill=\"black\"/>\n",
              "        <line x1=\"200.0\" y1=\"250.0\" x2=\"210.0\" y2=\"250.0\" stroke-linecap=\"round\" style=\"stroke:white;stroke-width:4\"/><line x1=\"210.0\" y1=\"250.0\" x2=\"215.0\" y2=\"241.34\" stroke-linecap=\"round\" style=\"stroke:white;stroke-width:4\"/><line x1=\"215.0\" y1=\"241.34\" x2=\"220.0\" y2=\"250.0\" stroke-linecap=\"round\" style=\"stroke:white;stroke-width:4\"/><line x1=\"220.0\" y1=\"250.0\" x2=\"230.0\" y2=\"250.0\" stroke-linecap=\"round\" style=\"stroke:white;stroke-width:4\"/><line x1=\"230.0\" y1=\"250.0\" x2=\"235.0\" y2=\"241.34\" stroke-linecap=\"round\" style=\"stroke:white;stroke-width:4\"/><line x1=\"235.0\" y1=\"241.34\" x2=\"230.0\" y2=\"232.68\" stroke-linecap=\"round\" style=\"stroke:white;stroke-width:4\"/><line x1=\"230.0\" y1=\"232.68\" x2=\"240.0\" y2=\"232.68\" stroke-linecap=\"round\" style=\"stroke:white;stroke-width:4\"/><line x1=\"240.0\" y1=\"232.68\" x2=\"245.0\" y2=\"224.02\" stroke-linecap=\"round\" style=\"stroke:white;stroke-width:4\"/><line x1=\"245.0\" y1=\"224.02\" x2=\"240.0\" y2=\"215.36\" stroke-linecap=\"round\" style=\"stroke:white;stroke-width:4\"/><line x1=\"240.0\" y1=\"215.36\" x2=\"230.0\" y2=\"215.36\" stroke-linecap=\"round\" style=\"stroke:white;stroke-width:4\"/><line x1=\"230.0\" y1=\"215.36\" x2=\"235.0\" y2=\"206.7\" stroke-linecap=\"round\" style=\"stroke:white;stroke-width:4\"/><line x1=\"235.0\" y1=\"206.7\" x2=\"230.0\" y2=\"198.04\" stroke-linecap=\"round\" style=\"stroke:white;stroke-width:4\"/><line x1=\"230.0\" y1=\"198.04\" x2=\"240.0\" y2=\"198.04\" stroke-linecap=\"round\" style=\"stroke:white;stroke-width:4\"/><line x1=\"240.0\" y1=\"198.04\" x2=\"245.0\" y2=\"189.38\" stroke-linecap=\"round\" style=\"stroke:white;stroke-width:4\"/><line x1=\"245.0\" y1=\"189.38\" x2=\"250.0\" y2=\"198.04\" stroke-linecap=\"round\" style=\"stroke:white;stroke-width:4\"/><line x1=\"250.0\" y1=\"198.04\" x2=\"260.0\" y2=\"198.04\" stroke-linecap=\"round\" style=\"stroke:white;stroke-width:4\"/><line x1=\"260.0\" y1=\"198.04\" x2=\"265.0\" y2=\"189.38\" stroke-linecap=\"round\" style=\"stroke:white;stroke-width:4\"/><line x1=\"265.0\" y1=\"189.38\" x2=\"260.0\" y2=\"180.72\" stroke-linecap=\"round\" style=\"stroke:white;stroke-width:4\"/><line x1=\"260.0\" y1=\"180.72\" x2=\"270.0\" y2=\"180.72\" stroke-linecap=\"round\" style=\"stroke:white;stroke-width:4\"/><line x1=\"270.0\" y1=\"180.72\" x2=\"275.0\" y2=\"172.06\" stroke-linecap=\"round\" style=\"stroke:white;stroke-width:4\"/><line x1=\"275.0\" y1=\"172.06\" x2=\"280.0\" y2=\"180.72\" stroke-linecap=\"round\" style=\"stroke:white;stroke-width:4\"/><line x1=\"280.0\" y1=\"180.72\" x2=\"290.0\" y2=\"180.72\" stroke-linecap=\"round\" style=\"stroke:white;stroke-width:4\"/><line x1=\"290.0\" y1=\"180.72\" x2=\"285.0\" y2=\"189.38\" stroke-linecap=\"round\" style=\"stroke:white;stroke-width:4\"/><line x1=\"285.0\" y1=\"189.38\" x2=\"290.0\" y2=\"198.04\" stroke-linecap=\"round\" style=\"stroke:white;stroke-width:4\"/><line x1=\"290.0\" y1=\"198.04\" x2=\"300.0\" y2=\"198.04\" stroke-linecap=\"round\" style=\"stroke:white;stroke-width:4\"/><line x1=\"300.0\" y1=\"198.04\" x2=\"305.0\" y2=\"189.38\" stroke-linecap=\"round\" style=\"stroke:white;stroke-width:4\"/><line x1=\"305.0\" y1=\"189.38\" x2=\"310.0\" y2=\"198.04\" stroke-linecap=\"round\" style=\"stroke:white;stroke-width:4\"/><line x1=\"310.0\" y1=\"198.04\" x2=\"320.0\" y2=\"198.04\" stroke-linecap=\"round\" style=\"stroke:white;stroke-width:4\"/><line x1=\"320.0\" y1=\"198.04\" x2=\"315.0\" y2=\"206.7\" stroke-linecap=\"round\" style=\"stroke:white;stroke-width:4\"/><line x1=\"315.0\" y1=\"206.7\" x2=\"320.0\" y2=\"215.36\" stroke-linecap=\"round\" style=\"stroke:white;stroke-width:4\"/><line x1=\"320.0\" y1=\"215.36\" x2=\"310.0\" y2=\"215.36\" stroke-linecap=\"round\" style=\"stroke:white;stroke-width:4\"/><line x1=\"310.0\" y1=\"215.36\" x2=\"305.0\" y2=\"224.02\" stroke-linecap=\"round\" style=\"stroke:white;stroke-width:4\"/><line x1=\"305.0\" y1=\"224.02\" x2=\"310.0\" y2=\"232.68\" stroke-linecap=\"round\" style=\"stroke:white;stroke-width:4\"/><line x1=\"310.0\" y1=\"232.68\" x2=\"320.0\" y2=\"232.68\" stroke-linecap=\"round\" style=\"stroke:white;stroke-width:4\"/><line x1=\"320.0\" y1=\"232.68\" x2=\"315.0\" y2=\"241.34\" stroke-linecap=\"round\" style=\"stroke:white;stroke-width:4\"/><line x1=\"315.0\" y1=\"241.34\" x2=\"320.0\" y2=\"250.0\" stroke-linecap=\"round\" style=\"stroke:white;stroke-width:4\"/><line x1=\"320.0\" y1=\"250.0\" x2=\"330.0\" y2=\"250.0\" stroke-linecap=\"round\" style=\"stroke:white;stroke-width:4\"/><line x1=\"330.0\" y1=\"250.0\" x2=\"335.0\" y2=\"241.34\" stroke-linecap=\"round\" style=\"stroke:white;stroke-width:4\"/><line x1=\"335.0\" y1=\"241.34\" x2=\"340.0\" y2=\"250.0\" stroke-linecap=\"round\" style=\"stroke:white;stroke-width:4\"/><line x1=\"340.0\" y1=\"250.0\" x2=\"350.0\" y2=\"250.0\" stroke-linecap=\"round\" style=\"stroke:white;stroke-width:4\"/><line x1=\"350.0\" y1=\"250.0\" x2=\"355.0\" y2=\"241.34\" stroke-linecap=\"round\" style=\"stroke:white;stroke-width:4\"/><line x1=\"355.0\" y1=\"241.34\" x2=\"350.0\" y2=\"232.68\" stroke-linecap=\"round\" style=\"stroke:white;stroke-width:4\"/><line x1=\"350.0\" y1=\"232.68\" x2=\"360.0\" y2=\"232.68\" stroke-linecap=\"round\" style=\"stroke:white;stroke-width:4\"/><line x1=\"360.0\" y1=\"232.68\" x2=\"365.0\" y2=\"224.02\" stroke-linecap=\"round\" style=\"stroke:white;stroke-width:4\"/><line x1=\"365.0\" y1=\"224.02\" x2=\"370.0\" y2=\"232.68\" stroke-linecap=\"round\" style=\"stroke:white;stroke-width:4\"/><line x1=\"370.0\" y1=\"232.68\" x2=\"380.0\" y2=\"232.68\" stroke-linecap=\"round\" style=\"stroke:white;stroke-width:4\"/><line x1=\"380.0\" y1=\"232.68\" x2=\"375.0\" y2=\"241.34\" stroke-linecap=\"round\" style=\"stroke:white;stroke-width:4\"/><line x1=\"375.0\" y1=\"241.34\" x2=\"380.0\" y2=\"250.0\" stroke-linecap=\"round\" style=\"stroke:white;stroke-width:4\"/><line x1=\"380.0\" y1=\"250.0\" x2=\"390.0\" y2=\"250.0\" stroke-linecap=\"round\" style=\"stroke:white;stroke-width:4\"/><line x1=\"390.0\" y1=\"250.0\" x2=\"395.0\" y2=\"241.34\" stroke-linecap=\"round\" style=\"stroke:white;stroke-width:4\"/><line x1=\"395.0\" y1=\"241.34\" x2=\"400.0\" y2=\"250.0\" stroke-linecap=\"round\" style=\"stroke:white;stroke-width:4\"/><line x1=\"400.0\" y1=\"250.0\" x2=\"410.0\" y2=\"250.0\" stroke-linecap=\"round\" style=\"stroke:white;stroke-width:4\"/>\n",
              "        <g visibility=visible transform=\"rotate(90,410.0,250.0) translate(392.0, 232.0)\">\n",
              "<path style=\" stroke:none;fill-rule:evenodd;fill:white;fill-opacity:1;\" d=\"M 18.214844 0.632812 C 16.109375 1.800781 15.011719 4.074219 15.074219 7.132812 L 15.085938 7.652344 L 14.785156 7.496094 C 13.476562 6.824219 11.957031 6.671875 10.40625 7.066406 C 8.46875 7.550781 6.515625 9.15625 4.394531 11.992188 C 3.0625 13.777344 2.679688 14.636719 3.042969 15.027344 L 3.15625 15.152344 L 3.519531 15.152344 C 4.238281 15.152344 4.828125 14.886719 8.1875 13.039062 C 9.386719 12.378906 10.371094 11.839844 10.378906 11.839844 C 10.386719 11.839844 10.355469 11.929688 10.304688 12.035156 C 9.832031 13.09375 9.257812 14.820312 8.96875 16.078125 C 7.914062 20.652344 8.617188 24.53125 11.070312 27.660156 C 11.351562 28.015625 11.363281 27.914062 10.972656 28.382812 C 8.925781 30.84375 7.945312 33.28125 8.238281 35.1875 C 8.289062 35.527344 8.28125 35.523438 8.917969 35.523438 C 10.941406 35.523438 13.074219 34.207031 15.136719 31.6875 C 15.359375 31.417969 15.328125 31.425781 15.5625 31.574219 C 16.292969 32.042969 18.023438 32.964844 18.175781 32.964844 C 18.335938 32.964844 19.941406 32.210938 20.828125 31.71875 C 20.996094 31.625 21.136719 31.554688 21.136719 31.558594 C 21.203125 31.664062 21.898438 32.414062 22.222656 32.730469 C 23.835938 34.300781 25.5625 35.132812 27.582031 35.300781 C 27.90625 35.328125 27.9375 35.308594 28.007812 34.984375 C 28.382812 33.242188 27.625 30.925781 25.863281 28.425781 L 25.542969 27.96875 L 25.699219 27.785156 C 28.945312 23.960938 29.132812 18.699219 26.257812 11.96875 L 26.207031 11.84375 L 27.945312 12.703125 C 31.53125 14.476562 32.316406 14.800781 33.03125 14.800781 C 33.976562 14.800781 33.78125 13.9375 32.472656 12.292969 C 28.519531 7.355469 25.394531 5.925781 21.921875 7.472656 L 21.558594 7.636719 L 21.578125 7.542969 C 21.699219 6.992188 21.761719 5.742188 21.699219 5.164062 C 21.496094 3.296875 20.664062 1.964844 19.003906 0.855469 C 18.480469 0.503906 18.457031 0.5 18.214844 0.632812\"/>\n",
              "</g>\n",
              "      </svg>\n",
              "    "
            ],
            "text/plain": [
              "<IPython.core.display.HTML object>"
            ]
          },
          "metadata": {
            "tags": []
          }
        }
      ]
    },
    {
      "cell_type": "code",
      "metadata": {
        "colab": {
          "base_uri": "https://localhost:8080/",
          "height": 521
        },
        "id": "M_PMEimYxFHB",
        "outputId": "303f05ba-f170-40df-d904-2b29b65318dc"
      },
      "source": [
        "def draw_koch(t, length, n):\n",
        "    if n == 0:\n",
        "        t.forward(length)\n",
        "        return\n",
        "    elif length < 3:\n",
        "        t.forward(length)\n",
        "    draw_koch(t, length/3, n - 1)\n",
        "    t.left(60)\n",
        "    draw_koch(t, length/3, n - 1)\n",
        "    t.right(120)\n",
        "    draw_koch(t, length/3, n - 1)\n",
        "    t.left(60)\n",
        "    draw_koch(t, length/3, n - 1) \n",
        "\n",
        "\n",
        "joana.initializeTurtle()\n",
        "joana.penup()\n",
        "joana.left(90)\n",
        "joana.speed(13)\n",
        "joana.forward(200)\n",
        "joana.left(180)\n",
        "joana.pendown()\n",
        "\n",
        "draw_koch(joana, 300, 3)"
      ],
      "execution_count": 24,
      "outputs": [
        {
          "output_type": "display_data",
          "data": {
            "text/html": [
              "\n",
              "      <svg width=\"800\" height=\"500\">\n",
              "        <rect width=\"100%\" height=\"100%\" fill=\"black\"/>\n",
              "        <line x1=\"200.0\" y1=\"250.0\" x2=\"211.111\" y2=\"250.0\" stroke-linecap=\"round\" style=\"stroke:white;stroke-width:4\"/><line x1=\"211.111\" y1=\"250.0\" x2=\"216.667\" y2=\"240.377\" stroke-linecap=\"round\" style=\"stroke:white;stroke-width:4\"/><line x1=\"216.667\" y1=\"240.377\" x2=\"222.223\" y2=\"250.0\" stroke-linecap=\"round\" style=\"stroke:white;stroke-width:4\"/><line x1=\"222.223\" y1=\"250.0\" x2=\"233.334\" y2=\"250.0\" stroke-linecap=\"round\" style=\"stroke:white;stroke-width:4\"/><line x1=\"233.334\" y1=\"250.0\" x2=\"238.89\" y2=\"240.377\" stroke-linecap=\"round\" style=\"stroke:white;stroke-width:4\"/><line x1=\"238.89\" y1=\"240.377\" x2=\"233.334\" y2=\"230.754\" stroke-linecap=\"round\" style=\"stroke:white;stroke-width:4\"/><line x1=\"233.334\" y1=\"230.754\" x2=\"244.445\" y2=\"230.754\" stroke-linecap=\"round\" style=\"stroke:white;stroke-width:4\"/><line x1=\"244.445\" y1=\"230.754\" x2=\"250.001\" y2=\"221.131\" stroke-linecap=\"round\" style=\"stroke:white;stroke-width:4\"/><line x1=\"250.001\" y1=\"221.131\" x2=\"255.557\" y2=\"230.754\" stroke-linecap=\"round\" style=\"stroke:white;stroke-width:4\"/><line x1=\"255.557\" y1=\"230.754\" x2=\"266.668\" y2=\"230.754\" stroke-linecap=\"round\" style=\"stroke:white;stroke-width:4\"/><line x1=\"266.668\" y1=\"230.754\" x2=\"261.112\" y2=\"240.377\" stroke-linecap=\"round\" style=\"stroke:white;stroke-width:4\"/><line x1=\"261.112\" y1=\"240.377\" x2=\"266.668\" y2=\"250.0\" stroke-linecap=\"round\" style=\"stroke:white;stroke-width:4\"/><line x1=\"266.668\" y1=\"250.0\" x2=\"277.779\" y2=\"250.0\" stroke-linecap=\"round\" style=\"stroke:white;stroke-width:4\"/><line x1=\"277.779\" y1=\"250.0\" x2=\"283.335\" y2=\"240.377\" stroke-linecap=\"round\" style=\"stroke:white;stroke-width:4\"/><line x1=\"283.335\" y1=\"240.377\" x2=\"288.891\" y2=\"250.0\" stroke-linecap=\"round\" style=\"stroke:white;stroke-width:4\"/><line x1=\"288.891\" y1=\"250.0\" x2=\"300.002\" y2=\"250.0\" stroke-linecap=\"round\" style=\"stroke:white;stroke-width:4\"/><line x1=\"300.002\" y1=\"250.0\" x2=\"305.558\" y2=\"240.377\" stroke-linecap=\"round\" style=\"stroke:white;stroke-width:4\"/><line x1=\"305.558\" y1=\"240.377\" x2=\"300.002\" y2=\"230.754\" stroke-linecap=\"round\" style=\"stroke:white;stroke-width:4\"/><line x1=\"300.002\" y1=\"230.754\" x2=\"311.113\" y2=\"230.754\" stroke-linecap=\"round\" style=\"stroke:white;stroke-width:4\"/><line x1=\"311.113\" y1=\"230.754\" x2=\"316.669\" y2=\"221.131\" stroke-linecap=\"round\" style=\"stroke:white;stroke-width:4\"/><line x1=\"316.669\" y1=\"221.131\" x2=\"311.113\" y2=\"211.508\" stroke-linecap=\"round\" style=\"stroke:white;stroke-width:4\"/><line x1=\"311.113\" y1=\"211.508\" x2=\"300.002\" y2=\"211.508\" stroke-linecap=\"round\" style=\"stroke:white;stroke-width:4\"/><line x1=\"300.002\" y1=\"211.508\" x2=\"305.558\" y2=\"201.885\" stroke-linecap=\"round\" style=\"stroke:white;stroke-width:4\"/><line x1=\"305.558\" y1=\"201.885\" x2=\"300.002\" y2=\"192.262\" stroke-linecap=\"round\" style=\"stroke:white;stroke-width:4\"/><line x1=\"300.002\" y1=\"192.262\" x2=\"311.113\" y2=\"192.262\" stroke-linecap=\"round\" style=\"stroke:white;stroke-width:4\"/><line x1=\"311.113\" y1=\"192.262\" x2=\"316.669\" y2=\"182.639\" stroke-linecap=\"round\" style=\"stroke:white;stroke-width:4\"/><line x1=\"316.669\" y1=\"182.639\" x2=\"322.225\" y2=\"192.262\" stroke-linecap=\"round\" style=\"stroke:white;stroke-width:4\"/><line x1=\"322.225\" y1=\"192.262\" x2=\"333.336\" y2=\"192.262\" stroke-linecap=\"round\" style=\"stroke:white;stroke-width:4\"/><line x1=\"333.336\" y1=\"192.262\" x2=\"338.892\" y2=\"182.639\" stroke-linecap=\"round\" style=\"stroke:white;stroke-width:4\"/><line x1=\"338.892\" y1=\"182.639\" x2=\"333.336\" y2=\"173.016\" stroke-linecap=\"round\" style=\"stroke:white;stroke-width:4\"/><line x1=\"333.336\" y1=\"173.016\" x2=\"344.447\" y2=\"173.016\" stroke-linecap=\"round\" style=\"stroke:white;stroke-width:4\"/><line x1=\"344.447\" y1=\"173.016\" x2=\"350.003\" y2=\"163.393\" stroke-linecap=\"round\" style=\"stroke:white;stroke-width:4\"/><line x1=\"350.003\" y1=\"163.393\" x2=\"355.559\" y2=\"173.016\" stroke-linecap=\"round\" style=\"stroke:white;stroke-width:4\"/><line x1=\"355.559\" y1=\"173.016\" x2=\"366.67\" y2=\"173.016\" stroke-linecap=\"round\" style=\"stroke:white;stroke-width:4\"/><line x1=\"366.67\" y1=\"173.016\" x2=\"361.114\" y2=\"182.639\" stroke-linecap=\"round\" style=\"stroke:white;stroke-width:4\"/><line x1=\"361.114\" y1=\"182.639\" x2=\"366.67\" y2=\"192.262\" stroke-linecap=\"round\" style=\"stroke:white;stroke-width:4\"/><line x1=\"366.67\" y1=\"192.262\" x2=\"377.781\" y2=\"192.262\" stroke-linecap=\"round\" style=\"stroke:white;stroke-width:4\"/><line x1=\"377.781\" y1=\"192.262\" x2=\"383.337\" y2=\"182.639\" stroke-linecap=\"round\" style=\"stroke:white;stroke-width:4\"/><line x1=\"383.337\" y1=\"182.639\" x2=\"388.893\" y2=\"192.262\" stroke-linecap=\"round\" style=\"stroke:white;stroke-width:4\"/><line x1=\"388.893\" y1=\"192.262\" x2=\"400.004\" y2=\"192.262\" stroke-linecap=\"round\" style=\"stroke:white;stroke-width:4\"/><line x1=\"400.004\" y1=\"192.262\" x2=\"394.448\" y2=\"201.885\" stroke-linecap=\"round\" style=\"stroke:white;stroke-width:4\"/><line x1=\"394.448\" y1=\"201.885\" x2=\"400.004\" y2=\"211.508\" stroke-linecap=\"round\" style=\"stroke:white;stroke-width:4\"/><line x1=\"400.004\" y1=\"211.508\" x2=\"388.893\" y2=\"211.508\" stroke-linecap=\"round\" style=\"stroke:white;stroke-width:4\"/><line x1=\"388.893\" y1=\"211.508\" x2=\"383.337\" y2=\"221.131\" stroke-linecap=\"round\" style=\"stroke:white;stroke-width:4\"/><line x1=\"383.337\" y1=\"221.131\" x2=\"388.893\" y2=\"230.754\" stroke-linecap=\"round\" style=\"stroke:white;stroke-width:4\"/><line x1=\"388.893\" y1=\"230.754\" x2=\"400.004\" y2=\"230.754\" stroke-linecap=\"round\" style=\"stroke:white;stroke-width:4\"/><line x1=\"400.004\" y1=\"230.754\" x2=\"394.448\" y2=\"240.377\" stroke-linecap=\"round\" style=\"stroke:white;stroke-width:4\"/><line x1=\"394.448\" y1=\"240.377\" x2=\"400.004\" y2=\"250.0\" stroke-linecap=\"round\" style=\"stroke:white;stroke-width:4\"/><line x1=\"400.004\" y1=\"250.0\" x2=\"411.115\" y2=\"250.0\" stroke-linecap=\"round\" style=\"stroke:white;stroke-width:4\"/><line x1=\"411.115\" y1=\"250.0\" x2=\"416.671\" y2=\"240.377\" stroke-linecap=\"round\" style=\"stroke:white;stroke-width:4\"/><line x1=\"416.671\" y1=\"240.377\" x2=\"422.227\" y2=\"250.0\" stroke-linecap=\"round\" style=\"stroke:white;stroke-width:4\"/><line x1=\"422.227\" y1=\"250.0\" x2=\"433.338\" y2=\"250.0\" stroke-linecap=\"round\" style=\"stroke:white;stroke-width:4\"/><line x1=\"433.338\" y1=\"250.0\" x2=\"438.894\" y2=\"240.377\" stroke-linecap=\"round\" style=\"stroke:white;stroke-width:4\"/><line x1=\"438.894\" y1=\"240.377\" x2=\"433.338\" y2=\"230.754\" stroke-linecap=\"round\" style=\"stroke:white;stroke-width:4\"/><line x1=\"433.338\" y1=\"230.754\" x2=\"444.449\" y2=\"230.754\" stroke-linecap=\"round\" style=\"stroke:white;stroke-width:4\"/><line x1=\"444.449\" y1=\"230.754\" x2=\"450.005\" y2=\"221.131\" stroke-linecap=\"round\" style=\"stroke:white;stroke-width:4\"/><line x1=\"450.005\" y1=\"221.131\" x2=\"455.561\" y2=\"230.754\" stroke-linecap=\"round\" style=\"stroke:white;stroke-width:4\"/><line x1=\"455.561\" y1=\"230.754\" x2=\"466.672\" y2=\"230.754\" stroke-linecap=\"round\" style=\"stroke:white;stroke-width:4\"/><line x1=\"466.672\" y1=\"230.754\" x2=\"461.116\" y2=\"240.377\" stroke-linecap=\"round\" style=\"stroke:white;stroke-width:4\"/><line x1=\"461.116\" y1=\"240.377\" x2=\"466.672\" y2=\"250.0\" stroke-linecap=\"round\" style=\"stroke:white;stroke-width:4\"/><line x1=\"466.672\" y1=\"250.0\" x2=\"477.783\" y2=\"250.0\" stroke-linecap=\"round\" style=\"stroke:white;stroke-width:4\"/><line x1=\"477.783\" y1=\"250.0\" x2=\"483.339\" y2=\"240.377\" stroke-linecap=\"round\" style=\"stroke:white;stroke-width:4\"/><line x1=\"483.339\" y1=\"240.377\" x2=\"488.895\" y2=\"250.0\" stroke-linecap=\"round\" style=\"stroke:white;stroke-width:4\"/><line x1=\"488.895\" y1=\"250.0\" x2=\"500.006\" y2=\"250.0\" stroke-linecap=\"round\" style=\"stroke:white;stroke-width:4\"/>\n",
              "        <g visibility=visible transform=\"rotate(90,500.006,250.0) translate(482.006, 232.0)\">\n",
              "<path style=\" stroke:none;fill-rule:evenodd;fill:white;fill-opacity:1;\" d=\"M 18.214844 0.632812 C 16.109375 1.800781 15.011719 4.074219 15.074219 7.132812 L 15.085938 7.652344 L 14.785156 7.496094 C 13.476562 6.824219 11.957031 6.671875 10.40625 7.066406 C 8.46875 7.550781 6.515625 9.15625 4.394531 11.992188 C 3.0625 13.777344 2.679688 14.636719 3.042969 15.027344 L 3.15625 15.152344 L 3.519531 15.152344 C 4.238281 15.152344 4.828125 14.886719 8.1875 13.039062 C 9.386719 12.378906 10.371094 11.839844 10.378906 11.839844 C 10.386719 11.839844 10.355469 11.929688 10.304688 12.035156 C 9.832031 13.09375 9.257812 14.820312 8.96875 16.078125 C 7.914062 20.652344 8.617188 24.53125 11.070312 27.660156 C 11.351562 28.015625 11.363281 27.914062 10.972656 28.382812 C 8.925781 30.84375 7.945312 33.28125 8.238281 35.1875 C 8.289062 35.527344 8.28125 35.523438 8.917969 35.523438 C 10.941406 35.523438 13.074219 34.207031 15.136719 31.6875 C 15.359375 31.417969 15.328125 31.425781 15.5625 31.574219 C 16.292969 32.042969 18.023438 32.964844 18.175781 32.964844 C 18.335938 32.964844 19.941406 32.210938 20.828125 31.71875 C 20.996094 31.625 21.136719 31.554688 21.136719 31.558594 C 21.203125 31.664062 21.898438 32.414062 22.222656 32.730469 C 23.835938 34.300781 25.5625 35.132812 27.582031 35.300781 C 27.90625 35.328125 27.9375 35.308594 28.007812 34.984375 C 28.382812 33.242188 27.625 30.925781 25.863281 28.425781 L 25.542969 27.96875 L 25.699219 27.785156 C 28.945312 23.960938 29.132812 18.699219 26.257812 11.96875 L 26.207031 11.84375 L 27.945312 12.703125 C 31.53125 14.476562 32.316406 14.800781 33.03125 14.800781 C 33.976562 14.800781 33.78125 13.9375 32.472656 12.292969 C 28.519531 7.355469 25.394531 5.925781 21.921875 7.472656 L 21.558594 7.636719 L 21.578125 7.542969 C 21.699219 6.992188 21.761719 5.742188 21.699219 5.164062 C 21.496094 3.296875 20.664062 1.964844 19.003906 0.855469 C 18.480469 0.503906 18.457031 0.5 18.214844 0.632812\"/>\n",
              "</g>\n",
              "      </svg>\n",
              "    "
            ],
            "text/plain": [
              "<IPython.core.display.HTML object>"
            ]
          },
          "metadata": {
            "tags": []
          }
        }
      ]
    },
    {
      "cell_type": "code",
      "metadata": {
        "colab": {
          "base_uri": "https://localhost:8080/",
          "height": 521
        },
        "id": "YmP-5oy5uDFm",
        "outputId": "66dbd62d-2487-4bc1-8b9f-66fef6cb2b65"
      },
      "source": [
        "def snowflake(t, length, n):\n",
        "    ''' Makes a snowflake from the koch curve '''\n",
        "    t.speed(13)\n",
        "    for i in range(3):\n",
        "        draw_koch(t, length, n) \n",
        "        t.right(120)\n",
        "\n",
        "joana.initializeTurtle()\n",
        "joana.penup()\n",
        "joana.left(90)\n",
        "joana.forward(200)\n",
        "joana.left(180)\n",
        "joana.pendown()\n",
        "snowflake(joana, 200, 3)"
      ],
      "execution_count": 23,
      "outputs": [
        {
          "output_type": "display_data",
          "data": {
            "text/html": [
              "\n",
              "      <svg width=\"800\" height=\"500\">\n",
              "        <rect width=\"100%\" height=\"100%\" fill=\"black\"/>\n",
              "        <line x1=\"200.0\" y1=\"250.0\" x2=\"207.407\" y2=\"250.0\" stroke-linecap=\"round\" style=\"stroke:white;stroke-width:4\"/><line x1=\"207.407\" y1=\"250.0\" x2=\"211.111\" y2=\"243.585\" stroke-linecap=\"round\" style=\"stroke:white;stroke-width:4\"/><line x1=\"211.111\" y1=\"243.585\" x2=\"214.815\" y2=\"250.0\" stroke-linecap=\"round\" style=\"stroke:white;stroke-width:4\"/><line x1=\"214.815\" y1=\"250.0\" x2=\"222.222\" y2=\"250.0\" stroke-linecap=\"round\" style=\"stroke:white;stroke-width:4\"/><line x1=\"222.222\" y1=\"250.0\" x2=\"225.926\" y2=\"243.585\" stroke-linecap=\"round\" style=\"stroke:white;stroke-width:4\"/><line x1=\"225.926\" y1=\"243.585\" x2=\"222.222\" y2=\"237.17\" stroke-linecap=\"round\" style=\"stroke:white;stroke-width:4\"/><line x1=\"222.222\" y1=\"237.17\" x2=\"229.629\" y2=\"237.17\" stroke-linecap=\"round\" style=\"stroke:white;stroke-width:4\"/><line x1=\"229.629\" y1=\"237.17\" x2=\"233.333\" y2=\"230.755\" stroke-linecap=\"round\" style=\"stroke:white;stroke-width:4\"/><line x1=\"233.333\" y1=\"230.755\" x2=\"237.037\" y2=\"237.17\" stroke-linecap=\"round\" style=\"stroke:white;stroke-width:4\"/><line x1=\"237.037\" y1=\"237.17\" x2=\"244.444\" y2=\"237.17\" stroke-linecap=\"round\" style=\"stroke:white;stroke-width:4\"/><line x1=\"244.444\" y1=\"237.17\" x2=\"240.74\" y2=\"243.585\" stroke-linecap=\"round\" style=\"stroke:white;stroke-width:4\"/><line x1=\"240.74\" y1=\"243.585\" x2=\"244.444\" y2=\"250.0\" stroke-linecap=\"round\" style=\"stroke:white;stroke-width:4\"/><line x1=\"244.444\" y1=\"250.0\" x2=\"251.851\" y2=\"250.0\" stroke-linecap=\"round\" style=\"stroke:white;stroke-width:4\"/><line x1=\"251.851\" y1=\"250.0\" x2=\"255.555\" y2=\"243.585\" stroke-linecap=\"round\" style=\"stroke:white;stroke-width:4\"/><line x1=\"255.555\" y1=\"243.585\" x2=\"259.259\" y2=\"250.0\" stroke-linecap=\"round\" style=\"stroke:white;stroke-width:4\"/><line x1=\"259.259\" y1=\"250.0\" x2=\"266.666\" y2=\"250.0\" stroke-linecap=\"round\" style=\"stroke:white;stroke-width:4\"/><line x1=\"266.666\" y1=\"250.0\" x2=\"270.37\" y2=\"243.585\" stroke-linecap=\"round\" style=\"stroke:white;stroke-width:4\"/><line x1=\"270.37\" y1=\"243.585\" x2=\"266.666\" y2=\"237.17\" stroke-linecap=\"round\" style=\"stroke:white;stroke-width:4\"/><line x1=\"266.666\" y1=\"237.17\" x2=\"274.073\" y2=\"237.17\" stroke-linecap=\"round\" style=\"stroke:white;stroke-width:4\"/><line x1=\"274.073\" y1=\"237.17\" x2=\"277.777\" y2=\"230.755\" stroke-linecap=\"round\" style=\"stroke:white;stroke-width:4\"/><line x1=\"277.777\" y1=\"230.755\" x2=\"274.073\" y2=\"224.34\" stroke-linecap=\"round\" style=\"stroke:white;stroke-width:4\"/><line x1=\"274.073\" y1=\"224.34\" x2=\"266.666\" y2=\"224.34\" stroke-linecap=\"round\" style=\"stroke:white;stroke-width:4\"/><line x1=\"266.666\" y1=\"224.34\" x2=\"270.37\" y2=\"217.925\" stroke-linecap=\"round\" style=\"stroke:white;stroke-width:4\"/><line x1=\"270.37\" y1=\"217.925\" x2=\"266.666\" y2=\"211.51\" stroke-linecap=\"round\" style=\"stroke:white;stroke-width:4\"/><line x1=\"266.666\" y1=\"211.51\" x2=\"274.073\" y2=\"211.51\" stroke-linecap=\"round\" style=\"stroke:white;stroke-width:4\"/><line x1=\"274.073\" y1=\"211.51\" x2=\"277.777\" y2=\"205.095\" stroke-linecap=\"round\" style=\"stroke:white;stroke-width:4\"/><line x1=\"277.777\" y1=\"205.095\" x2=\"281.481\" y2=\"211.51\" stroke-linecap=\"round\" style=\"stroke:white;stroke-width:4\"/><line x1=\"281.481\" y1=\"211.51\" x2=\"288.888\" y2=\"211.51\" stroke-linecap=\"round\" style=\"stroke:white;stroke-width:4\"/><line x1=\"288.888\" y1=\"211.51\" x2=\"292.592\" y2=\"205.095\" stroke-linecap=\"round\" style=\"stroke:white;stroke-width:4\"/><line x1=\"292.592\" y1=\"205.095\" x2=\"288.888\" y2=\"198.68\" stroke-linecap=\"round\" style=\"stroke:white;stroke-width:4\"/><line x1=\"288.888\" y1=\"198.68\" x2=\"296.295\" y2=\"198.68\" stroke-linecap=\"round\" style=\"stroke:white;stroke-width:4\"/><line x1=\"296.295\" y1=\"198.68\" x2=\"299.999\" y2=\"192.265\" stroke-linecap=\"round\" style=\"stroke:white;stroke-width:4\"/><line x1=\"299.999\" y1=\"192.265\" x2=\"303.703\" y2=\"198.68\" stroke-linecap=\"round\" style=\"stroke:white;stroke-width:4\"/><line x1=\"303.703\" y1=\"198.68\" x2=\"311.11\" y2=\"198.68\" stroke-linecap=\"round\" style=\"stroke:white;stroke-width:4\"/><line x1=\"311.11\" y1=\"198.68\" x2=\"307.406\" y2=\"205.095\" stroke-linecap=\"round\" style=\"stroke:white;stroke-width:4\"/><line x1=\"307.406\" y1=\"205.095\" x2=\"311.11\" y2=\"211.51\" stroke-linecap=\"round\" style=\"stroke:white;stroke-width:4\"/><line x1=\"311.11\" y1=\"211.51\" x2=\"318.517\" y2=\"211.51\" stroke-linecap=\"round\" style=\"stroke:white;stroke-width:4\"/><line x1=\"318.517\" y1=\"211.51\" x2=\"322.221\" y2=\"205.095\" stroke-linecap=\"round\" style=\"stroke:white;stroke-width:4\"/><line x1=\"322.221\" y1=\"205.095\" x2=\"325.925\" y2=\"211.51\" stroke-linecap=\"round\" style=\"stroke:white;stroke-width:4\"/><line x1=\"325.925\" y1=\"211.51\" x2=\"333.332\" y2=\"211.51\" stroke-linecap=\"round\" style=\"stroke:white;stroke-width:4\"/><line x1=\"333.332\" y1=\"211.51\" x2=\"329.628\" y2=\"217.925\" stroke-linecap=\"round\" style=\"stroke:white;stroke-width:4\"/><line x1=\"329.628\" y1=\"217.925\" x2=\"333.332\" y2=\"224.34\" stroke-linecap=\"round\" style=\"stroke:white;stroke-width:4\"/><line x1=\"333.332\" y1=\"224.34\" x2=\"325.925\" y2=\"224.34\" stroke-linecap=\"round\" style=\"stroke:white;stroke-width:4\"/><line x1=\"325.925\" y1=\"224.34\" x2=\"322.221\" y2=\"230.755\" stroke-linecap=\"round\" style=\"stroke:white;stroke-width:4\"/><line x1=\"322.221\" y1=\"230.755\" x2=\"325.925\" y2=\"237.17\" stroke-linecap=\"round\" style=\"stroke:white;stroke-width:4\"/><line x1=\"325.925\" y1=\"237.17\" x2=\"333.332\" y2=\"237.17\" stroke-linecap=\"round\" style=\"stroke:white;stroke-width:4\"/><line x1=\"333.332\" y1=\"237.17\" x2=\"329.628\" y2=\"243.585\" stroke-linecap=\"round\" style=\"stroke:white;stroke-width:4\"/><line x1=\"329.628\" y1=\"243.585\" x2=\"333.332\" y2=\"250.0\" stroke-linecap=\"round\" style=\"stroke:white;stroke-width:4\"/><line x1=\"333.332\" y1=\"250.0\" x2=\"340.739\" y2=\"250.0\" stroke-linecap=\"round\" style=\"stroke:white;stroke-width:4\"/><line x1=\"340.739\" y1=\"250.0\" x2=\"344.443\" y2=\"243.585\" stroke-linecap=\"round\" style=\"stroke:white;stroke-width:4\"/><line x1=\"344.443\" y1=\"243.585\" x2=\"348.147\" y2=\"250.0\" stroke-linecap=\"round\" style=\"stroke:white;stroke-width:4\"/><line x1=\"348.147\" y1=\"250.0\" x2=\"355.554\" y2=\"250.0\" stroke-linecap=\"round\" style=\"stroke:white;stroke-width:4\"/><line x1=\"355.554\" y1=\"250.0\" x2=\"359.258\" y2=\"243.585\" stroke-linecap=\"round\" style=\"stroke:white;stroke-width:4\"/><line x1=\"359.258\" y1=\"243.585\" x2=\"355.554\" y2=\"237.17\" stroke-linecap=\"round\" style=\"stroke:white;stroke-width:4\"/><line x1=\"355.554\" y1=\"237.17\" x2=\"362.961\" y2=\"237.17\" stroke-linecap=\"round\" style=\"stroke:white;stroke-width:4\"/><line x1=\"362.961\" y1=\"237.17\" x2=\"366.665\" y2=\"230.755\" stroke-linecap=\"round\" style=\"stroke:white;stroke-width:4\"/><line x1=\"366.665\" y1=\"230.755\" x2=\"370.369\" y2=\"237.17\" stroke-linecap=\"round\" style=\"stroke:white;stroke-width:4\"/><line x1=\"370.369\" y1=\"237.17\" x2=\"377.776\" y2=\"237.17\" stroke-linecap=\"round\" style=\"stroke:white;stroke-width:4\"/><line x1=\"377.776\" y1=\"237.17\" x2=\"374.072\" y2=\"243.585\" stroke-linecap=\"round\" style=\"stroke:white;stroke-width:4\"/><line x1=\"374.072\" y1=\"243.585\" x2=\"377.776\" y2=\"250.0\" stroke-linecap=\"round\" style=\"stroke:white;stroke-width:4\"/><line x1=\"377.776\" y1=\"250.0\" x2=\"385.183\" y2=\"250.0\" stroke-linecap=\"round\" style=\"stroke:white;stroke-width:4\"/><line x1=\"385.183\" y1=\"250.0\" x2=\"388.887\" y2=\"243.585\" stroke-linecap=\"round\" style=\"stroke:white;stroke-width:4\"/><line x1=\"388.887\" y1=\"243.585\" x2=\"392.591\" y2=\"250.0\" stroke-linecap=\"round\" style=\"stroke:white;stroke-width:4\"/><line x1=\"392.591\" y1=\"250.0\" x2=\"399.998\" y2=\"250.0\" stroke-linecap=\"round\" style=\"stroke:white;stroke-width:4\"/><line x1=\"399.998\" y1=\"250.0\" x2=\"396.294\" y2=\"256.415\" stroke-linecap=\"round\" style=\"stroke:white;stroke-width:4\"/><line x1=\"396.294\" y1=\"256.415\" x2=\"399.998\" y2=\"262.83\" stroke-linecap=\"round\" style=\"stroke:white;stroke-width:4\"/><line x1=\"399.998\" y1=\"262.83\" x2=\"392.591\" y2=\"262.83\" stroke-linecap=\"round\" style=\"stroke:white;stroke-width:4\"/><line x1=\"392.591\" y1=\"262.83\" x2=\"388.887\" y2=\"269.245\" stroke-linecap=\"round\" style=\"stroke:white;stroke-width:4\"/><line x1=\"388.887\" y1=\"269.245\" x2=\"392.591\" y2=\"275.66\" stroke-linecap=\"round\" style=\"stroke:white;stroke-width:4\"/><line x1=\"392.591\" y1=\"275.66\" x2=\"399.998\" y2=\"275.66\" stroke-linecap=\"round\" style=\"stroke:white;stroke-width:4\"/><line x1=\"399.998\" y1=\"275.66\" x2=\"396.294\" y2=\"282.075\" stroke-linecap=\"round\" style=\"stroke:white;stroke-width:4\"/><line x1=\"396.294\" y1=\"282.075\" x2=\"399.998\" y2=\"288.49\" stroke-linecap=\"round\" style=\"stroke:white;stroke-width:4\"/><line x1=\"399.998\" y1=\"288.49\" x2=\"392.591\" y2=\"288.49\" stroke-linecap=\"round\" style=\"stroke:white;stroke-width:4\"/><line x1=\"392.591\" y1=\"288.49\" x2=\"388.887\" y2=\"294.905\" stroke-linecap=\"round\" style=\"stroke:white;stroke-width:4\"/><line x1=\"388.887\" y1=\"294.905\" x2=\"385.183\" y2=\"288.49\" stroke-linecap=\"round\" style=\"stroke:white;stroke-width:4\"/><line x1=\"385.183\" y1=\"288.49\" x2=\"377.776\" y2=\"288.49\" stroke-linecap=\"round\" style=\"stroke:white;stroke-width:4\"/><line x1=\"377.776\" y1=\"288.49\" x2=\"374.072\" y2=\"294.905\" stroke-linecap=\"round\" style=\"stroke:white;stroke-width:4\"/><line x1=\"374.072\" y1=\"294.905\" x2=\"377.776\" y2=\"301.32\" stroke-linecap=\"round\" style=\"stroke:white;stroke-width:4\"/><line x1=\"377.776\" y1=\"301.32\" x2=\"370.369\" y2=\"301.32\" stroke-linecap=\"round\" style=\"stroke:white;stroke-width:4\"/><line x1=\"370.369\" y1=\"301.32\" x2=\"366.665\" y2=\"307.735\" stroke-linecap=\"round\" style=\"stroke:white;stroke-width:4\"/><line x1=\"366.665\" y1=\"307.735\" x2=\"370.369\" y2=\"314.15\" stroke-linecap=\"round\" style=\"stroke:white;stroke-width:4\"/><line x1=\"370.369\" y1=\"314.15\" x2=\"377.776\" y2=\"314.15\" stroke-linecap=\"round\" style=\"stroke:white;stroke-width:4\"/><line x1=\"377.776\" y1=\"314.15\" x2=\"374.072\" y2=\"320.565\" stroke-linecap=\"round\" style=\"stroke:white;stroke-width:4\"/><line x1=\"374.072\" y1=\"320.565\" x2=\"377.776\" y2=\"326.98\" stroke-linecap=\"round\" style=\"stroke:white;stroke-width:4\"/><line x1=\"377.776\" y1=\"326.98\" x2=\"385.183\" y2=\"326.98\" stroke-linecap=\"round\" style=\"stroke:white;stroke-width:4\"/><line x1=\"385.183\" y1=\"326.98\" x2=\"388.887\" y2=\"320.565\" stroke-linecap=\"round\" style=\"stroke:white;stroke-width:4\"/><line x1=\"388.887\" y1=\"320.565\" x2=\"392.591\" y2=\"326.98\" stroke-linecap=\"round\" style=\"stroke:white;stroke-width:4\"/><line x1=\"392.591\" y1=\"326.98\" x2=\"399.998\" y2=\"326.98\" stroke-linecap=\"round\" style=\"stroke:white;stroke-width:4\"/><line x1=\"399.998\" y1=\"326.98\" x2=\"396.294\" y2=\"333.395\" stroke-linecap=\"round\" style=\"stroke:white;stroke-width:4\"/><line x1=\"396.294\" y1=\"333.395\" x2=\"399.998\" y2=\"339.81\" stroke-linecap=\"round\" style=\"stroke:white;stroke-width:4\"/><line x1=\"399.998\" y1=\"339.81\" x2=\"392.591\" y2=\"339.81\" stroke-linecap=\"round\" style=\"stroke:white;stroke-width:4\"/><line x1=\"392.591\" y1=\"339.81\" x2=\"388.887\" y2=\"346.225\" stroke-linecap=\"round\" style=\"stroke:white;stroke-width:4\"/><line x1=\"388.887\" y1=\"346.225\" x2=\"392.591\" y2=\"352.64\" stroke-linecap=\"round\" style=\"stroke:white;stroke-width:4\"/><line x1=\"392.591\" y1=\"352.64\" x2=\"399.998\" y2=\"352.64\" stroke-linecap=\"round\" style=\"stroke:white;stroke-width:4\"/><line x1=\"399.998\" y1=\"352.64\" x2=\"396.294\" y2=\"359.055\" stroke-linecap=\"round\" style=\"stroke:white;stroke-width:4\"/><line x1=\"396.294\" y1=\"359.055\" x2=\"399.998\" y2=\"365.47\" stroke-linecap=\"round\" style=\"stroke:white;stroke-width:4\"/><line x1=\"399.998\" y1=\"365.47\" x2=\"392.591\" y2=\"365.47\" stroke-linecap=\"round\" style=\"stroke:white;stroke-width:4\"/><line x1=\"392.591\" y1=\"365.47\" x2=\"388.887\" y2=\"371.885\" stroke-linecap=\"round\" style=\"stroke:white;stroke-width:4\"/><line x1=\"388.887\" y1=\"371.885\" x2=\"385.183\" y2=\"365.47\" stroke-linecap=\"round\" style=\"stroke:white;stroke-width:4\"/><line x1=\"385.183\" y1=\"365.47\" x2=\"377.776\" y2=\"365.47\" stroke-linecap=\"round\" style=\"stroke:white;stroke-width:4\"/><line x1=\"377.776\" y1=\"365.47\" x2=\"374.072\" y2=\"371.885\" stroke-linecap=\"round\" style=\"stroke:white;stroke-width:4\"/><line x1=\"374.072\" y1=\"371.885\" x2=\"377.776\" y2=\"378.3\" stroke-linecap=\"round\" style=\"stroke:white;stroke-width:4\"/><line x1=\"377.776\" y1=\"378.3\" x2=\"370.369\" y2=\"378.3\" stroke-linecap=\"round\" style=\"stroke:white;stroke-width:4\"/><line x1=\"370.369\" y1=\"378.3\" x2=\"366.665\" y2=\"384.715\" stroke-linecap=\"round\" style=\"stroke:white;stroke-width:4\"/><line x1=\"366.665\" y1=\"384.715\" x2=\"362.961\" y2=\"378.3\" stroke-linecap=\"round\" style=\"stroke:white;stroke-width:4\"/><line x1=\"362.961\" y1=\"378.3\" x2=\"355.554\" y2=\"378.3\" stroke-linecap=\"round\" style=\"stroke:white;stroke-width:4\"/><line x1=\"355.554\" y1=\"378.3\" x2=\"359.258\" y2=\"371.885\" stroke-linecap=\"round\" style=\"stroke:white;stroke-width:4\"/><line x1=\"359.258\" y1=\"371.885\" x2=\"355.554\" y2=\"365.47\" stroke-linecap=\"round\" style=\"stroke:white;stroke-width:4\"/><line x1=\"355.554\" y1=\"365.47\" x2=\"348.147\" y2=\"365.47\" stroke-linecap=\"round\" style=\"stroke:white;stroke-width:4\"/><line x1=\"348.147\" y1=\"365.47\" x2=\"344.443\" y2=\"371.885\" stroke-linecap=\"round\" style=\"stroke:white;stroke-width:4\"/><line x1=\"344.443\" y1=\"371.885\" x2=\"340.739\" y2=\"365.47\" stroke-linecap=\"round\" style=\"stroke:white;stroke-width:4\"/><line x1=\"340.739\" y1=\"365.47\" x2=\"333.332\" y2=\"365.47\" stroke-linecap=\"round\" style=\"stroke:white;stroke-width:4\"/><line x1=\"333.332\" y1=\"365.47\" x2=\"329.628\" y2=\"371.885\" stroke-linecap=\"round\" style=\"stroke:white;stroke-width:4\"/><line x1=\"329.628\" y1=\"371.885\" x2=\"333.332\" y2=\"378.3\" stroke-linecap=\"round\" style=\"stroke:white;stroke-width:4\"/><line x1=\"333.332\" y1=\"378.3\" x2=\"325.925\" y2=\"378.3\" stroke-linecap=\"round\" style=\"stroke:white;stroke-width:4\"/><line x1=\"325.925\" y1=\"378.3\" x2=\"322.221\" y2=\"384.715\" stroke-linecap=\"round\" style=\"stroke:white;stroke-width:4\"/><line x1=\"322.221\" y1=\"384.715\" x2=\"325.925\" y2=\"391.13\" stroke-linecap=\"round\" style=\"stroke:white;stroke-width:4\"/><line x1=\"325.925\" y1=\"391.13\" x2=\"333.332\" y2=\"391.13\" stroke-linecap=\"round\" style=\"stroke:white;stroke-width:4\"/><line x1=\"333.332\" y1=\"391.13\" x2=\"329.628\" y2=\"397.545\" stroke-linecap=\"round\" style=\"stroke:white;stroke-width:4\"/><line x1=\"329.628\" y1=\"397.545\" x2=\"333.332\" y2=\"403.96\" stroke-linecap=\"round\" style=\"stroke:white;stroke-width:4\"/><line x1=\"333.332\" y1=\"403.96\" x2=\"325.925\" y2=\"403.96\" stroke-linecap=\"round\" style=\"stroke:white;stroke-width:4\"/><line x1=\"325.925\" y1=\"403.96\" x2=\"322.221\" y2=\"410.375\" stroke-linecap=\"round\" style=\"stroke:white;stroke-width:4\"/><line x1=\"322.221\" y1=\"410.375\" x2=\"318.517\" y2=\"403.96\" stroke-linecap=\"round\" style=\"stroke:white;stroke-width:4\"/><line x1=\"318.517\" y1=\"403.96\" x2=\"311.11\" y2=\"403.96\" stroke-linecap=\"round\" style=\"stroke:white;stroke-width:4\"/><line x1=\"311.11\" y1=\"403.96\" x2=\"307.406\" y2=\"410.375\" stroke-linecap=\"round\" style=\"stroke:white;stroke-width:4\"/><line x1=\"307.406\" y1=\"410.375\" x2=\"311.11\" y2=\"416.79\" stroke-linecap=\"round\" style=\"stroke:white;stroke-width:4\"/><line x1=\"311.11\" y1=\"416.79\" x2=\"303.703\" y2=\"416.79\" stroke-linecap=\"round\" style=\"stroke:white;stroke-width:4\"/><line x1=\"303.703\" y1=\"416.79\" x2=\"299.999\" y2=\"423.205\" stroke-linecap=\"round\" style=\"stroke:white;stroke-width:4\"/><line x1=\"299.999\" y1=\"423.205\" x2=\"296.295\" y2=\"416.79\" stroke-linecap=\"round\" style=\"stroke:white;stroke-width:4\"/><line x1=\"296.295\" y1=\"416.79\" x2=\"288.888\" y2=\"416.79\" stroke-linecap=\"round\" style=\"stroke:white;stroke-width:4\"/><line x1=\"288.888\" y1=\"416.79\" x2=\"292.592\" y2=\"410.375\" stroke-linecap=\"round\" style=\"stroke:white;stroke-width:4\"/><line x1=\"292.592\" y1=\"410.375\" x2=\"288.888\" y2=\"403.96\" stroke-linecap=\"round\" style=\"stroke:white;stroke-width:4\"/><line x1=\"288.888\" y1=\"403.96\" x2=\"281.481\" y2=\"403.96\" stroke-linecap=\"round\" style=\"stroke:white;stroke-width:4\"/><line x1=\"281.481\" y1=\"403.96\" x2=\"277.777\" y2=\"410.375\" stroke-linecap=\"round\" style=\"stroke:white;stroke-width:4\"/><line x1=\"277.777\" y1=\"410.375\" x2=\"274.073\" y2=\"403.96\" stroke-linecap=\"round\" style=\"stroke:white;stroke-width:4\"/><line x1=\"274.073\" y1=\"403.96\" x2=\"266.666\" y2=\"403.96\" stroke-linecap=\"round\" style=\"stroke:white;stroke-width:4\"/><line x1=\"266.666\" y1=\"403.96\" x2=\"270.37\" y2=\"397.545\" stroke-linecap=\"round\" style=\"stroke:white;stroke-width:4\"/><line x1=\"270.37\" y1=\"397.545\" x2=\"266.666\" y2=\"391.13\" stroke-linecap=\"round\" style=\"stroke:white;stroke-width:4\"/><line x1=\"266.666\" y1=\"391.13\" x2=\"274.073\" y2=\"391.13\" stroke-linecap=\"round\" style=\"stroke:white;stroke-width:4\"/><line x1=\"274.073\" y1=\"391.13\" x2=\"277.777\" y2=\"384.715\" stroke-linecap=\"round\" style=\"stroke:white;stroke-width:4\"/><line x1=\"277.777\" y1=\"384.715\" x2=\"274.073\" y2=\"378.3\" stroke-linecap=\"round\" style=\"stroke:white;stroke-width:4\"/><line x1=\"274.073\" y1=\"378.3\" x2=\"266.666\" y2=\"378.3\" stroke-linecap=\"round\" style=\"stroke:white;stroke-width:4\"/><line x1=\"266.666\" y1=\"378.3\" x2=\"270.37\" y2=\"371.885\" stroke-linecap=\"round\" style=\"stroke:white;stroke-width:4\"/><line x1=\"270.37\" y1=\"371.885\" x2=\"266.666\" y2=\"365.47\" stroke-linecap=\"round\" style=\"stroke:white;stroke-width:4\"/><line x1=\"266.666\" y1=\"365.47\" x2=\"259.259\" y2=\"365.47\" stroke-linecap=\"round\" style=\"stroke:white;stroke-width:4\"/><line x1=\"259.259\" y1=\"365.47\" x2=\"255.555\" y2=\"371.885\" stroke-linecap=\"round\" style=\"stroke:white;stroke-width:4\"/><line x1=\"255.555\" y1=\"371.885\" x2=\"251.851\" y2=\"365.47\" stroke-linecap=\"round\" style=\"stroke:white;stroke-width:4\"/><line x1=\"251.851\" y1=\"365.47\" x2=\"244.444\" y2=\"365.47\" stroke-linecap=\"round\" style=\"stroke:white;stroke-width:4\"/><line x1=\"244.444\" y1=\"365.47\" x2=\"240.74\" y2=\"371.885\" stroke-linecap=\"round\" style=\"stroke:white;stroke-width:4\"/><line x1=\"240.74\" y1=\"371.885\" x2=\"244.444\" y2=\"378.3\" stroke-linecap=\"round\" style=\"stroke:white;stroke-width:4\"/><line x1=\"244.444\" y1=\"378.3\" x2=\"237.037\" y2=\"378.3\" stroke-linecap=\"round\" style=\"stroke:white;stroke-width:4\"/><line x1=\"237.037\" y1=\"378.3\" x2=\"233.333\" y2=\"384.715\" stroke-linecap=\"round\" style=\"stroke:white;stroke-width:4\"/><line x1=\"233.333\" y1=\"384.715\" x2=\"229.629\" y2=\"378.3\" stroke-linecap=\"round\" style=\"stroke:white;stroke-width:4\"/><line x1=\"229.629\" y1=\"378.3\" x2=\"222.222\" y2=\"378.3\" stroke-linecap=\"round\" style=\"stroke:white;stroke-width:4\"/><line x1=\"222.222\" y1=\"378.3\" x2=\"225.926\" y2=\"371.885\" stroke-linecap=\"round\" style=\"stroke:white;stroke-width:4\"/><line x1=\"225.926\" y1=\"371.885\" x2=\"222.222\" y2=\"365.47\" stroke-linecap=\"round\" style=\"stroke:white;stroke-width:4\"/><line x1=\"222.222\" y1=\"365.47\" x2=\"214.815\" y2=\"365.47\" stroke-linecap=\"round\" style=\"stroke:white;stroke-width:4\"/><line x1=\"214.815\" y1=\"365.47\" x2=\"211.111\" y2=\"371.885\" stroke-linecap=\"round\" style=\"stroke:white;stroke-width:4\"/><line x1=\"211.111\" y1=\"371.885\" x2=\"207.407\" y2=\"365.47\" stroke-linecap=\"round\" style=\"stroke:white;stroke-width:4\"/><line x1=\"207.407\" y1=\"365.47\" x2=\"200.0\" y2=\"365.47\" stroke-linecap=\"round\" style=\"stroke:white;stroke-width:4\"/><line x1=\"200.0\" y1=\"365.47\" x2=\"203.704\" y2=\"359.055\" stroke-linecap=\"round\" style=\"stroke:white;stroke-width:4\"/><line x1=\"203.704\" y1=\"359.055\" x2=\"200.0\" y2=\"352.64\" stroke-linecap=\"round\" style=\"stroke:white;stroke-width:4\"/><line x1=\"200.0\" y1=\"352.64\" x2=\"207.407\" y2=\"352.64\" stroke-linecap=\"round\" style=\"stroke:white;stroke-width:4\"/><line x1=\"207.407\" y1=\"352.64\" x2=\"211.111\" y2=\"346.225\" stroke-linecap=\"round\" style=\"stroke:white;stroke-width:4\"/><line x1=\"211.111\" y1=\"346.225\" x2=\"207.407\" y2=\"339.81\" stroke-linecap=\"round\" style=\"stroke:white;stroke-width:4\"/><line x1=\"207.407\" y1=\"339.81\" x2=\"200.0\" y2=\"339.81\" stroke-linecap=\"round\" style=\"stroke:white;stroke-width:4\"/><line x1=\"200.0\" y1=\"339.81\" x2=\"203.704\" y2=\"333.395\" stroke-linecap=\"round\" style=\"stroke:white;stroke-width:4\"/><line x1=\"203.704\" y1=\"333.395\" x2=\"200.0\" y2=\"326.98\" stroke-linecap=\"round\" style=\"stroke:white;stroke-width:4\"/><line x1=\"200.0\" y1=\"326.98\" x2=\"207.407\" y2=\"326.98\" stroke-linecap=\"round\" style=\"stroke:white;stroke-width:4\"/><line x1=\"207.407\" y1=\"326.98\" x2=\"211.111\" y2=\"320.565\" stroke-linecap=\"round\" style=\"stroke:white;stroke-width:4\"/><line x1=\"211.111\" y1=\"320.565\" x2=\"214.815\" y2=\"326.98\" stroke-linecap=\"round\" style=\"stroke:white;stroke-width:4\"/><line x1=\"214.815\" y1=\"326.98\" x2=\"222.222\" y2=\"326.98\" stroke-linecap=\"round\" style=\"stroke:white;stroke-width:4\"/><line x1=\"222.222\" y1=\"326.98\" x2=\"225.926\" y2=\"320.565\" stroke-linecap=\"round\" style=\"stroke:white;stroke-width:4\"/><line x1=\"225.926\" y1=\"320.565\" x2=\"222.222\" y2=\"314.15\" stroke-linecap=\"round\" style=\"stroke:white;stroke-width:4\"/><line x1=\"222.222\" y1=\"314.15\" x2=\"229.629\" y2=\"314.15\" stroke-linecap=\"round\" style=\"stroke:white;stroke-width:4\"/><line x1=\"229.629\" y1=\"314.15\" x2=\"233.333\" y2=\"307.735\" stroke-linecap=\"round\" style=\"stroke:white;stroke-width:4\"/><line x1=\"233.333\" y1=\"307.735\" x2=\"229.629\" y2=\"301.32\" stroke-linecap=\"round\" style=\"stroke:white;stroke-width:4\"/><line x1=\"229.629\" y1=\"301.32\" x2=\"222.222\" y2=\"301.32\" stroke-linecap=\"round\" style=\"stroke:white;stroke-width:4\"/><line x1=\"222.222\" y1=\"301.32\" x2=\"225.926\" y2=\"294.905\" stroke-linecap=\"round\" style=\"stroke:white;stroke-width:4\"/><line x1=\"225.926\" y1=\"294.905\" x2=\"222.222\" y2=\"288.49\" stroke-linecap=\"round\" style=\"stroke:white;stroke-width:4\"/><line x1=\"222.222\" y1=\"288.49\" x2=\"214.815\" y2=\"288.49\" stroke-linecap=\"round\" style=\"stroke:white;stroke-width:4\"/><line x1=\"214.815\" y1=\"288.49\" x2=\"211.111\" y2=\"294.905\" stroke-linecap=\"round\" style=\"stroke:white;stroke-width:4\"/><line x1=\"211.111\" y1=\"294.905\" x2=\"207.407\" y2=\"288.49\" stroke-linecap=\"round\" style=\"stroke:white;stroke-width:4\"/><line x1=\"207.407\" y1=\"288.49\" x2=\"200.0\" y2=\"288.49\" stroke-linecap=\"round\" style=\"stroke:white;stroke-width:4\"/><line x1=\"200.0\" y1=\"288.49\" x2=\"203.704\" y2=\"282.075\" stroke-linecap=\"round\" style=\"stroke:white;stroke-width:4\"/><line x1=\"203.704\" y1=\"282.075\" x2=\"200.0\" y2=\"275.66\" stroke-linecap=\"round\" style=\"stroke:white;stroke-width:4\"/><line x1=\"200.0\" y1=\"275.66\" x2=\"207.407\" y2=\"275.66\" stroke-linecap=\"round\" style=\"stroke:white;stroke-width:4\"/><line x1=\"207.407\" y1=\"275.66\" x2=\"211.111\" y2=\"269.245\" stroke-linecap=\"round\" style=\"stroke:white;stroke-width:4\"/><line x1=\"211.111\" y1=\"269.245\" x2=\"207.407\" y2=\"262.83\" stroke-linecap=\"round\" style=\"stroke:white;stroke-width:4\"/><line x1=\"207.407\" y1=\"262.83\" x2=\"200.0\" y2=\"262.83\" stroke-linecap=\"round\" style=\"stroke:white;stroke-width:4\"/><line x1=\"200.0\" y1=\"262.83\" x2=\"203.704\" y2=\"256.415\" stroke-linecap=\"round\" style=\"stroke:white;stroke-width:4\"/><line x1=\"203.704\" y1=\"256.415\" x2=\"200.0\" y2=\"250.0\" stroke-linecap=\"round\" style=\"stroke:white;stroke-width:4\"/>\n",
              "        <g visibility=visible transform=\"rotate(90,200.0,250.0) translate(182.0, 232.0)\">\n",
              "<path style=\" stroke:none;fill-rule:evenodd;fill:white;fill-opacity:1;\" d=\"M 18.214844 0.632812 C 16.109375 1.800781 15.011719 4.074219 15.074219 7.132812 L 15.085938 7.652344 L 14.785156 7.496094 C 13.476562 6.824219 11.957031 6.671875 10.40625 7.066406 C 8.46875 7.550781 6.515625 9.15625 4.394531 11.992188 C 3.0625 13.777344 2.679688 14.636719 3.042969 15.027344 L 3.15625 15.152344 L 3.519531 15.152344 C 4.238281 15.152344 4.828125 14.886719 8.1875 13.039062 C 9.386719 12.378906 10.371094 11.839844 10.378906 11.839844 C 10.386719 11.839844 10.355469 11.929688 10.304688 12.035156 C 9.832031 13.09375 9.257812 14.820312 8.96875 16.078125 C 7.914062 20.652344 8.617188 24.53125 11.070312 27.660156 C 11.351562 28.015625 11.363281 27.914062 10.972656 28.382812 C 8.925781 30.84375 7.945312 33.28125 8.238281 35.1875 C 8.289062 35.527344 8.28125 35.523438 8.917969 35.523438 C 10.941406 35.523438 13.074219 34.207031 15.136719 31.6875 C 15.359375 31.417969 15.328125 31.425781 15.5625 31.574219 C 16.292969 32.042969 18.023438 32.964844 18.175781 32.964844 C 18.335938 32.964844 19.941406 32.210938 20.828125 31.71875 C 20.996094 31.625 21.136719 31.554688 21.136719 31.558594 C 21.203125 31.664062 21.898438 32.414062 22.222656 32.730469 C 23.835938 34.300781 25.5625 35.132812 27.582031 35.300781 C 27.90625 35.328125 27.9375 35.308594 28.007812 34.984375 C 28.382812 33.242188 27.625 30.925781 25.863281 28.425781 L 25.542969 27.96875 L 25.699219 27.785156 C 28.945312 23.960938 29.132812 18.699219 26.257812 11.96875 L 26.207031 11.84375 L 27.945312 12.703125 C 31.53125 14.476562 32.316406 14.800781 33.03125 14.800781 C 33.976562 14.800781 33.78125 13.9375 32.472656 12.292969 C 28.519531 7.355469 25.394531 5.925781 21.921875 7.472656 L 21.558594 7.636719 L 21.578125 7.542969 C 21.699219 6.992188 21.761719 5.742188 21.699219 5.164062 C 21.496094 3.296875 20.664062 1.964844 19.003906 0.855469 C 18.480469 0.503906 18.457031 0.5 18.214844 0.632812\"/>\n",
              "</g>\n",
              "      </svg>\n",
              "    "
            ],
            "text/plain": [
              "<IPython.core.display.HTML object>"
            ]
          },
          "metadata": {
            "tags": []
          }
        }
      ]
    }
  ]
}