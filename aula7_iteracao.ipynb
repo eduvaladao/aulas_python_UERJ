{
  "nbformat": 4,
  "nbformat_minor": 0,
  "metadata": {
    "colab": {
      "name": "aula7_iteracao.ipynb",
      "provenance": [],
      "authorship_tag": "ABX9TyPh3VcPC9/k0w4s2lx/cBXI",
      "include_colab_link": true
    },
    "kernelspec": {
      "name": "python3",
      "display_name": "Python 3"
    },
    "language_info": {
      "name": "python"
    }
  },
  "cells": [
    {
      "cell_type": "markdown",
      "metadata": {
        "id": "view-in-github",
        "colab_type": "text"
      },
      "source": [
        "<a href=\"https://colab.research.google.com/github/eduvaladao/aulas_python_UERJ/blob/main/aula7_iteracao.ipynb\" target=\"_parent\"><img src=\"https://colab.research.google.com/assets/colab-badge.svg\" alt=\"Open In Colab\"/></a>"
      ]
    },
    {
      "cell_type": "markdown",
      "metadata": {
        "id": "74wGW-lz-pFE"
      },
      "source": [
        "\n",
        "# **Iteração**\n",
        "\n",
        "aula baseada no livro: http://openbookproject.net/thinkcs/python/english3e/iteration.html\n",
        "\n",
        "Os computadores costumam ser usados para automatizar tarefas repetitivas. Repetir tarefas idênticas ou similares sem cometer erros é algo que os computadores fazem bem e as pessoas fazem mal.\n",
        "\n",
        "A execução repetida de um conjunto de instruções é chamada de **iteração**.\n",
        "\n",
        "Já vimos a declaração **for** em aulas anteriores. Essa é a forma de iteração que você provavelmente usará com mais frequência.\n",
        "\n",
        "Mas neste capítulo, vamos ver a declaração **while** - outra maneira de fazer o seu programa fazer iteração, útil em circunstâncias ligeiramente diferentes.\n",
        "\n",
        "Antes de fazermos isso, vamos revisar algumas ideias ...\n"
      ]
    },
    {
      "cell_type": "markdown",
      "metadata": {
        "id": "GMJB8LPC_OT9"
      },
      "source": [
        "\n",
        "# **Declaração**\n",
        "\n",
        "É possível fazer várias declarações da mesma variável:\n"
      ]
    },
    {
      "cell_type": "code",
      "metadata": {
        "colab": {
          "base_uri": "https://localhost:8080/"
        },
        "id": "rOEk31ej-n4y",
        "outputId": "0097c118-0561-44bb-a4f4-19cfc5ce314f"
      },
      "source": [
        "a = 15\n",
        "print(a)\n",
        "a = 17\n",
        "print(a)"
      ],
      "execution_count": 2,
      "outputs": [
        {
          "output_type": "stream",
          "text": [
            "15\n",
            "17\n"
          ],
          "name": "stdout"
        }
      ]
    },
    {
      "cell_type": "markdown",
      "metadata": {
        "id": "TjBvfyvr_ZJz"
      },
      "source": [
        "Em Python, uma **instrução de atribuição** pode tornar duas variáveis iguais, mas como outras atribuições podem alterar uma delas, elas não precisam se manter iguais:"
      ]
    },
    {
      "cell_type": "code",
      "metadata": {
        "id": "t1ffkng8_bpa",
        "colab": {
          "base_uri": "https://localhost:8080/"
        },
        "outputId": "30841771-98d1-4226-b8b7-ffb64b60997b"
      },
      "source": [
        "x = 5\n",
        "print(x)\n",
        "y = x\n",
        "print(y)\n",
        "y = 8\n",
        "print ('x: ', x, 'y: ', y)"
      ],
      "execution_count": 3,
      "outputs": [
        {
          "output_type": "stream",
          "text": [
            "5\n",
            "5\n",
            "x:  5 y:  8\n"
          ],
          "name": "stdout"
        }
      ]
    },
    {
      "cell_type": "markdown",
      "metadata": {
        "id": "lVbpcyLs_mk3"
      },
      "source": [
        "\n",
        "# **Atualizando variáveis**\n",
        "\n",
        "Quando uma instrução de atribuição é executada, o interpretador de python segue os seguintes passos:\n",
        "\n",
        "   * a expressão do lado direito (ou seja, a expressão que vem depois \n",
        "do token de atribuição =) é avaliada primeiro. Isso produz um valor.\n",
        "   * Em seguida, a atribuição é feita, de modo que a variável no lado esquerdo agora se refere ao novo valor.\n",
        "\n",
        "Uma das formas mais comuns de atribuição é uma **atualização**, em que o **novo valor da variável depende de seu valor antigo**.\n"
      ]
    },
    {
      "cell_type": "code",
      "metadata": {
        "id": "5g1zGe0kAEnY",
        "colab": {
          "base_uri": "https://localhost:8080/"
        },
        "outputId": "2d29e118-311c-4d79-c4de-51d0ddcbf001"
      },
      "source": [
        "n = 5\n",
        "n = 3 * n + 1\n",
        "print(n)"
      ],
      "execution_count": 4,
      "outputs": [
        {
          "output_type": "stream",
          "text": [
            "16\n"
          ],
          "name": "stdout"
        }
      ]
    },
    {
      "cell_type": "markdown",
      "metadata": {
        "id": "2qKrbtjJANDy"
      },
      "source": [
        "\n",
        "# **Inicialização**\n",
        "\n",
        "É preciso inicializar uma variável antes de usá-la pela primeira vez:\n"
      ]
    },
    {
      "cell_type": "code",
      "metadata": {
        "id": "8GmcI1ssAPog",
        "colab": {
          "base_uri": "https://localhost:8080/",
          "height": 185
        },
        "outputId": "9eb0bd2e-56e1-4e01-d81e-c2d8602298d9"
      },
      "source": [
        "w = t + 4\n",
        "print(w)"
      ],
      "execution_count": 5,
      "outputs": [
        {
          "output_type": "error",
          "ename": "NameError",
          "evalue": "ignored",
          "traceback": [
            "\u001b[0;31m---------------------------------------------------------------------------\u001b[0m",
            "\u001b[0;31mNameError\u001b[0m                                 Traceback (most recent call last)",
            "\u001b[0;32m<ipython-input-5-b9144eddec92>\u001b[0m in \u001b[0;36m<module>\u001b[0;34m()\u001b[0m\n\u001b[0;32m----> 1\u001b[0;31m \u001b[0mw\u001b[0m \u001b[0;34m=\u001b[0m \u001b[0mt\u001b[0m \u001b[0;34m+\u001b[0m \u001b[0;36m4\u001b[0m\u001b[0;34m\u001b[0m\u001b[0;34m\u001b[0m\u001b[0m\n\u001b[0m\u001b[1;32m      2\u001b[0m \u001b[0mprint\u001b[0m\u001b[0;34m(\u001b[0m\u001b[0mw\u001b[0m\u001b[0;34m)\u001b[0m\u001b[0;34m\u001b[0m\u001b[0;34m\u001b[0m\u001b[0m\n",
            "\u001b[0;31mNameError\u001b[0m: name 't' is not defined"
          ]
        }
      ]
    },
    {
      "cell_type": "code",
      "metadata": {
        "id": "sd3FmxnaATU5",
        "colab": {
          "base_uri": "https://localhost:8080/"
        },
        "outputId": "067de624-4101-406d-a660-b15a8ba239ba"
      },
      "source": [
        "t = 8\n",
        "w = t + 4\n",
        "print(w)"
      ],
      "execution_count": 6,
      "outputs": [
        {
          "output_type": "stream",
          "text": [
            "12\n"
          ],
          "name": "stdout"
        }
      ]
    },
    {
      "cell_type": "markdown",
      "metadata": {
        "id": "0WCvMSoAAcF1"
      },
      "source": [
        "\n",
        "# **O loop for revisitado**\n",
        "\n",
        "Podemos atualizar uma variável dentro de um loop **for**.\n",
        "\n",
        "Para tal, vamos escrever uma função que calcula a soma de todos os ítens de uma lista.\n"
      ]
    },
    {
      "cell_type": "code",
      "metadata": {
        "id": "O74YFInKAfRN",
        "colab": {
          "base_uri": "https://localhost:8080/"
        },
        "outputId": "18581f0d-f472-4f17-d10b-8054f600124d"
      },
      "source": [
        "def mysum(xs):\n",
        "    \"\"\" Soma todos os números em uma dada lista, e retorna o total. \"\"\"\n",
        "    total = 0                # inicialização da variável total\n",
        "    for x in xs:             # para cada item da lista xs\n",
        "        total += x    # somar o valor anterior ao item atual da lista (total = total + x)\n",
        "    return total\n",
        "\n",
        "print(mysum([2,4,6,8]))\n",
        "\n",
        "assert mysum([2, 4, 6, 8])  # declaração para testar a validade das condições da função mysum. Veremos mais a seguir."
      ],
      "execution_count": 9,
      "outputs": [
        {
          "output_type": "stream",
          "text": [
            "20\n"
          ],
          "name": "stdout"
        }
      ]
    },
    {
      "cell_type": "markdown",
      "metadata": {
        "id": "Afo_D0M9AnPd"
      },
      "source": [
        "# **A declaração while**"
      ]
    },
    {
      "cell_type": "code",
      "metadata": {
        "id": "fGc3gcjJApSc",
        "colab": {
          "base_uri": "https://localhost:8080/"
        },
        "outputId": "5daf3c19-5398-4d08-b625-cf4d760d36b4"
      },
      "source": [
        "def soma_ate(n):\n",
        "    \"\"\" Retorna a soma de 1+2+3 ... n \"\"\"\n",
        "    ss = 0\n",
        "    v = 1\n",
        "    while v <= n:      \n",
        "        ss = ss + v\n",
        "        v = v + 1\n",
        "    return ss\n",
        "\n",
        "print(soma_ate(8))"
      ],
      "execution_count": 11,
      "outputs": [
        {
          "output_type": "stream",
          "text": [
            "36\n"
          ],
          "name": "stdout"
        }
      ]
    },
    {
      "cell_type": "markdown",
      "metadata": {
        "id": "IOfufkawA7cH"
      },
      "source": [
        "\n",
        "\n",
        "Mais formalmente, aqui está o fluxo preciso de execução para uma declaração while:\n",
        "\n",
        "   * Avalia a condição na linha 5 (while v <= n:), gerando um valor **True** ou **False**.\n",
        "   * Se o valor for **False**, saia da instrução **while** e continue a execução na próxima instrução (linha 8 neste caso, return ss).\n",
        "   * Se o valor for **True**, execute cada uma das instruções no corpo (linhas 6 e 7) e, em seguida, volta para a instrução **while** na linha 5.\n",
        "\n",
        "**Atenção** O corpo do loop tem que mudar o valor de uma ou mais variáveis para assegurar que em algum momento a condição do loop será False. Caso contrário, pode-se produzir um loop infinito.\n"
      ]
    },
    {
      "cell_type": "markdown",
      "metadata": {
        "id": "OAJg_m2mBN8V"
      },
      "source": [
        "\n",
        "# **Escolhendo entre for e while**\n",
        "\n",
        "   * Use um loop **for** se você souber, antes de iniciar o loop, o número máximo de vezes que precisará executar o corpo.\n",
        "      * iteração definida\n",
        "\n",
        "   * Se você precisar repetir algum cálculo até que alguma condição seja atendida e não puder calcular antecipadamente quando (ou se) isso acontecer, você precisará de um loop **while**.\n",
        "       * iteração indefinida\n",
        "\n"
      ]
    },
    {
      "cell_type": "markdown",
      "metadata": {
        "id": "PsLq8FdbBgWj"
      },
      "source": [
        "\n",
        "# **Contadores**\n",
        "\n",
        "Para contar os digitos de um dado número n, podemos escrever uma função:\n"
      ]
    },
    {
      "cell_type": "code",
      "metadata": {
        "id": "B-M7jDW4Dem2",
        "colab": {
          "base_uri": "https://localhost:8080/"
        },
        "outputId": "99c55cc0-eeb3-4dbf-e3be-f9eae3baeab7"
      },
      "source": [
        "def counter(n):\n",
        "    count = 0\n",
        "    while n!=0:\n",
        "        count = count + 1\n",
        "        n = n // 10         # divisão de inteiros\n",
        "    return count\n",
        "\n",
        "counter(7100)"
      ],
      "execution_count": 12,
      "outputs": [
        {
          "output_type": "execute_result",
          "data": {
            "text/plain": [
              "4"
            ]
          },
          "metadata": {
            "tags": []
          },
          "execution_count": 12
        }
      ]
    },
    {
      "cell_type": "markdown",
      "metadata": {
        "id": "eFXRsGIYDgGQ"
      },
      "source": [
        "\n",
        "\n",
        "Esta função demonstra um importante padrão de computação chamado **contador**.\n",
        "\n",
        "   * A contagem de variáveis é inicializada em 0 e, em seguida, incrementada toda vez que o corpo do loop é executado.\n",
        "   * Quando o loop acaba, a variável **count** contém o resultado - o número total de vezes que o corpo do loop foi executado, que é o mesmo que o número de dígitos.\n",
        "\n",
        "Podemos testar a função com a declaração **assert**:\n"
      ]
    },
    {
      "cell_type": "code",
      "metadata": {
        "id": "kRuM-Ef6Dudv"
      },
      "source": [
        "assert counter(1002)"
      ],
      "execution_count": 13,
      "outputs": []
    },
    {
      "cell_type": "code",
      "metadata": {
        "id": "ThMlrHlwDvYg",
        "colab": {
          "base_uri": "https://localhost:8080/",
          "height": 167
        },
        "outputId": "91a2fbbe-3de0-41e8-c676-77b5bbac089b"
      },
      "source": [
        "assert counter(0)"
      ],
      "execution_count": 14,
      "outputs": [
        {
          "output_type": "error",
          "ename": "AssertionError",
          "evalue": "ignored",
          "traceback": [
            "\u001b[0;31m---------------------------------------------------------------------------\u001b[0m",
            "\u001b[0;31mAssertionError\u001b[0m                            Traceback (most recent call last)",
            "\u001b[0;32m<ipython-input-14-a5e679c9fb09>\u001b[0m in \u001b[0;36m<module>\u001b[0;34m()\u001b[0m\n\u001b[0;32m----> 1\u001b[0;31m \u001b[0;32massert\u001b[0m \u001b[0mcounter\u001b[0m\u001b[0;34m(\u001b[0m\u001b[0;36m0\u001b[0m\u001b[0;34m)\u001b[0m\u001b[0;34m\u001b[0m\u001b[0;34m\u001b[0m\u001b[0m\n\u001b[0m",
            "\u001b[0;31mAssertionError\u001b[0m: "
          ]
        }
      ]
    },
    {
      "cell_type": "markdown",
      "metadata": {
        "id": "QkXfKag1D5be"
      },
      "source": [
        "\n",
        "# **Encapsulamento e generalização**\n",
        "\n",
        "O **encapsulamento** é o processo de envolver uma parte do código em uma função, permitindo que você tire proveito de todas as vantagens das funções.\n",
        "\n",
        "**Generalização** significa tomar algo específico, como imprimir os múltiplos de 2 e torná-lo mais geral, como imprimir os múltiplos de qualquer inteiro.\n",
        "\n",
        "# **Variáveis locais**\n",
        "\n",
        "Variáveis criadas dentro de uma definição de função são **locais**; não é possível acessar uma variável local de fora de sua função inicial.\n",
        "\n",
        "Isso significa que você está livre para ter múltiplas variáveis com o mesmo nome, desde que elas não estejam na mesma função.\n",
        "\n",
        "O Python examina todas as instruções em uma função - se alguma delas atribuir um valor a uma variável, essa é a pista que o Python usa para tornar a variável uma variável local.\n",
        "\n",
        "É comum e perfeitamente legal ter diferentes variáveis locais com o mesmo nome. Em particular, nomes como **i** e **j** são usados freqüentemente como variáveis de loop. Se você evitar usá-los em uma função só porque os usou em outro lugar, provavelmente tornará o programa mais difícil de ler.\n",
        "\n",
        "# **A declaração break**\n",
        "\n",
        "A instrução break é usada para deixar imediatamente o corpo do loop. A próxima instrução a ser executada é a primeira após o corpo:\n"
      ]
    },
    {
      "cell_type": "code",
      "metadata": {
        "id": "aFH7e4EpD4iq",
        "colab": {
          "base_uri": "https://localhost:8080/"
        },
        "outputId": "03dd0524-091f-4bba-efd5-7b15f83b671c"
      },
      "source": [
        "for i in [12, 16, 17, 24, 29]:\n",
        "    if i % 2 == 1:  # If the number is odd\n",
        "       break        #  ... immediately exit the loop\n",
        "    print(i)\n",
        "print(\"done\")"
      ],
      "execution_count": 15,
      "outputs": [
        {
          "output_type": "stream",
          "text": [
            "12\n",
            "16\n",
            "done\n"
          ],
          "name": "stdout"
        }
      ]
    },
    {
      "cell_type": "markdown",
      "metadata": {
        "id": "_YEYs0ktEZIm"
      },
      "source": [
        "\n",
        "# **A declaração continue**\n",
        "\n",
        "Esta é uma instrução de fluxo de controle que faz com que o programa pule imediatamente o processamento do resto do corpo do loop, **para a iteração atual**. Mas o loop ainda continua correndo pelas iterações restantes:\n"
      ]
    },
    {
      "cell_type": "code",
      "metadata": {
        "id": "8U2xk7FZEmWT",
        "colab": {
          "base_uri": "https://localhost:8080/"
        },
        "outputId": "6aebb493-d58d-4258-83de-eb547806761f"
      },
      "source": [
        "for i in [12, 16, 17, 24, 29, 30]:\n",
        "    if i % 2 == 1:      # If the number is odd\n",
        "       continue         # Don't process it\n",
        "    print(i)\n",
        "print(\"done\")"
      ],
      "execution_count": 16,
      "outputs": [
        {
          "output_type": "stream",
          "text": [
            "12\n",
            "16\n",
            "24\n",
            "30\n",
            "done\n"
          ],
          "name": "stdout"
        }
      ]
    },
    {
      "cell_type": "markdown",
      "metadata": {
        "id": "mi7jUjy0EuAk"
      },
      "source": [
        "\n",
        "# **Exercícios**\n",
        "\n",
        "1) A **conjectura de Collatz**, diz que \"Todos os inteiros positivos irão eventualmente convergir para 1 usando as regras do Collatz\". Faça um programa que verifique a conjectura de Collatz para alguns valores. As regras de Collatz são: Dado um número **n**:\n",
        "\n",
        "  * se **n** for par, divida-o por **2**;\n",
        "  * Se **n** for ímpar, atualize-o para 3*n + 1\n",
        "\n",
        "2) Modifique a função counter para contar o número de vezes que os dígitos 0 e 5 aparecem em um dado número n. Por exemplo, n = 10568, tem 2 dígitos 0 ou 5.\n",
        "\n",
        "3) Encapsule e generalize a seguinte declaração:\n"
      ]
    },
    {
      "cell_type": "code",
      "metadata": {
        "id": "lRIuGbvtFLAg"
      },
      "source": [
        "for i in [12, 16, 17, 24, 29]:\n",
        "    if i % 2 == 1:  # If the number is odd\n",
        "       break        #  ... immediately exit the loop\n",
        "    print(i)\n",
        "print(\"done\")"
      ],
      "execution_count": null,
      "outputs": []
    },
    {
      "cell_type": "markdown",
      "metadata": {
        "id": "ycOzOyMfFTQs"
      },
      "source": [
        "\n",
        "\n",
        "4) O método de Newton para raiz quadrada. Suponha que você queira calcular a raiz quadrada de **n**. Se você começar com quase qualquer aproximação, poderá calcular uma aproximação melhor (mais próxima da resposta real) com a seguinte fórmula: melhor = (approx + n/approx)/2\n",
        "\n",
        "Usando um loop e repetindo esta fórmula até que a melhor aproximação se aproxime o suficiente da anterior (podemos considerar uma diferença de 0,001), podemos escrever uma função para calcular a raiz quadrada.\n",
        "\n",
        "Esse é um exemplo de repetição **indefinida**. Com qual tipo de loop você deve escrever o seu programa?\n",
        "\n",
        "# **Debugar com print**\n",
        "\n",
        "É de extrema importância saber prever possíveis bugs e quando encontrá-los, saber debugar. A primeira ferramenta é utilizando o print em pontos estratégicos do programa.\n",
        "\n",
        "Outra forma de debugar é usando a declaração built-in do Python, **assert**.\n",
        "\n",
        "Consideramos a seguinte função, que calcula o valor absoluto de um número.\n"
      ]
    },
    {
      "cell_type": "code",
      "metadata": {
        "id": "g3uulLhDFhnw",
        "colab": {
          "base_uri": "https://localhost:8080/"
        },
        "outputId": "5a92c21c-5727-446d-b3b7-22b301c20a77"
      },
      "source": [
        "def valor_modulo(x):\n",
        "    if (x < 0):\n",
        "        return -x\n",
        "    elif (x > 0):\n",
        "        return x\n",
        "\n",
        "print (valor_modulo(-88))\n",
        "print (valor_modulo(12))"
      ],
      "execution_count": 107,
      "outputs": [
        {
          "output_type": "stream",
          "text": [
            "88\n",
            "12\n"
          ],
          "name": "stdout"
        }
      ]
    },
    {
      "cell_type": "code",
      "metadata": {
        "id": "xo665A40Qri9"
      },
      "source": [
        "assert valor_modulo(-1002)"
      ],
      "execution_count": 108,
      "outputs": []
    },
    {
      "cell_type": "code",
      "metadata": {
        "colab": {
          "base_uri": "https://localhost:8080/",
          "height": 167
        },
        "id": "oi-y_GegQwRU",
        "outputId": "3dcb9d92-09e4-4437-b78d-1ced1784a386"
      },
      "source": [
        "assert valor_modulo(0)"
      ],
      "execution_count": 109,
      "outputs": [
        {
          "output_type": "error",
          "ename": "AssertionError",
          "evalue": "ignored",
          "traceback": [
            "\u001b[0;31m---------------------------------------------------------------------------\u001b[0m",
            "\u001b[0;31mAssertionError\u001b[0m                            Traceback (most recent call last)",
            "\u001b[0;32m<ipython-input-109-f5b45c58fcca>\u001b[0m in \u001b[0;36m<module>\u001b[0;34m()\u001b[0m\n\u001b[0;32m----> 1\u001b[0;31m \u001b[0;32massert\u001b[0m \u001b[0mvalor_modulo\u001b[0m\u001b[0;34m(\u001b[0m\u001b[0;36m0\u001b[0m\u001b[0;34m)\u001b[0m\u001b[0;34m\u001b[0m\u001b[0;34m\u001b[0m\u001b[0m\n\u001b[0m",
            "\u001b[0;31mAssertionError\u001b[0m: "
          ]
        }
      ]
    },
    {
      "cell_type": "markdown",
      "metadata": {
        "id": "h1znqY0siTPj"
      },
      "source": [
        "Exercício 1:"
      ]
    },
    {
      "cell_type": "code",
      "metadata": {
        "colab": {
          "base_uri": "https://localhost:8080/"
        },
        "id": "2RCQNpLeiWIr",
        "outputId": "e2e4cdf0-a9df-403a-bf92-a1661928bed0"
      },
      "source": [
        "def collatz_sequence(n):\n",
        "    ''' Makes the Collatz sequence, i.e. if n is an even positive integer\n",
        "    returns n/2 and if n is an odd positive integer returns 3*n + 1, so \n",
        "    that the last term, by the Collatz Conjecture, is always 1. '''\n",
        "    print(n)\n",
        "    while n > 1:\n",
        "        if n % 2 == 0:\n",
        "            n = n/2\n",
        "            print(n)\n",
        "        else:\n",
        "            n = 3*n + 1\n",
        "            print(n) \n",
        "\n",
        "collatz_sequence(12)\n",
        "        "
      ],
      "execution_count": 110,
      "outputs": [
        {
          "output_type": "stream",
          "text": [
            "12\n",
            "6.0\n",
            "3.0\n",
            "10.0\n",
            "5.0\n",
            "16.0\n",
            "8.0\n",
            "4.0\n",
            "2.0\n",
            "1.0\n"
          ],
          "name": "stdout"
        }
      ]
    },
    {
      "cell_type": "markdown",
      "metadata": {
        "id": "OC8QKJPGoc_L"
      },
      "source": [
        "Exercício 2:"
      ]
    },
    {
      "cell_type": "code",
      "metadata": {
        "colab": {
          "base_uri": "https://localhost:8080/"
        },
        "id": "3AdcQJHyof-K",
        "outputId": "a44bb812-365a-4894-fe39-7e814952ff76"
      },
      "source": [
        "def counter_0and5(n):\n",
        "    ''' Counts the number of 0s and 5s that appears in any integer n. '''\n",
        "    count = 0\n",
        "    while n != 0:\n",
        "        if n % 5 == 0:\n",
        "            count = count + 1\n",
        "        n = n // 10\n",
        "    return count\n",
        "        \n",
        "counter_0and5(51005)"
      ],
      "execution_count": 111,
      "outputs": [
        {
          "output_type": "execute_result",
          "data": {
            "text/plain": [
              "4"
            ]
          },
          "metadata": {
            "tags": []
          },
          "execution_count": 111
        }
      ]
    },
    {
      "cell_type": "markdown",
      "metadata": {
        "id": "yWzPjb6z-cbs"
      },
      "source": [
        "Exercício 3:"
      ]
    },
    {
      "cell_type": "code",
      "metadata": {
        "colab": {
          "base_uri": "https://localhost:8080/"
        },
        "id": "RsNRnOgZ-evu",
        "outputId": "627a4431-8999-4037-d16f-a9ef0a4e9f2e"
      },
      "source": [
        "def print_firsteven(list_numbers):\n",
        "    ''' Print the first even numbers until one odd number appears in a list. '''\n",
        "    for i in list_numbers:\n",
        "        if i % 2 != 0:  # If the number is odd\n",
        "           break        #  ... immediately exit the loop\n",
        "        print(i)\n",
        "    print(\"done\") \n",
        "\n",
        "def print_alleven(list_numbers):\n",
        "    ''' Print all even numbers in a list. '''\n",
        "    for i in list_numbers:\n",
        "        if i % 2 != 0:  # If the number is odd\n",
        "           continue     # Don't process it \n",
        "        print(i)\n",
        "    print(\"done\") \n",
        "\n",
        "print_firsteven([12, 16, 17, 24, 29])\n",
        "print_alleven([12, 16, 17, 24, 29, 30])"
      ],
      "execution_count": 112,
      "outputs": [
        {
          "output_type": "stream",
          "text": [
            "12\n",
            "16\n",
            "done\n",
            "12\n",
            "16\n",
            "24\n",
            "30\n",
            "done\n"
          ],
          "name": "stdout"
        }
      ]
    },
    {
      "cell_type": "markdown",
      "metadata": {
        "id": "gT8CRLUYCNhG"
      },
      "source": [
        "Exercício 4:"
      ]
    },
    {
      "cell_type": "code",
      "metadata": {
        "colab": {
          "base_uri": "https://localhost:8080/"
        },
        "id": "uGGd52UPCQIc",
        "outputId": "3a001fa3-eedd-4664-ff80-c605bd71e7a8"
      },
      "source": [
        "def sqrt_newton(n, l):\n",
        "    ''' Uses the Newton's method to find the square root of a number. '''\n",
        "    x = n\n",
        "    while (1):\n",
        "        sqrt = 0.5*(x + n/x)\n",
        "        if abs(x - sqrt) < l:\n",
        "            break \n",
        "        x = sqrt\n",
        "    return x\n",
        "\n",
        "sqrt_newton(16, 0.001)    "
      ],
      "execution_count": 114,
      "outputs": [
        {
          "output_type": "execute_result",
          "data": {
            "text/plain": [
              "4.000000636692939"
            ]
          },
          "metadata": {
            "tags": []
          },
          "execution_count": 114
        }
      ]
    }
  ]
}