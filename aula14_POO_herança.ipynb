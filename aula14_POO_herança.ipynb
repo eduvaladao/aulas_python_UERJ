{
  "nbformat": 4,
  "nbformat_minor": 0,
  "metadata": {
    "kernelspec": {
      "display_name": "Python 3",
      "language": "python",
      "name": "python3"
    },
    "language_info": {
      "codemirror_mode": {
        "name": "ipython",
        "version": 3
      },
      "file_extension": ".py",
      "mimetype": "text/x-python",
      "name": "python",
      "nbconvert_exporter": "python",
      "pygments_lexer": "ipython3",
      "version": "3.7.0"
    },
    "colab": {
      "name": "aula14_POO_herança.ipynb",
      "provenance": [],
      "include_colab_link": true
    }
  },
  "cells": [
    {
      "cell_type": "markdown",
      "metadata": {
        "id": "view-in-github",
        "colab_type": "text"
      },
      "source": [
        "<a href=\"https://colab.research.google.com/github/eduvaladao/aulas_python_UERJ/blob/main/aula14_POO_heran%C3%A7a.ipynb\" target=\"_parent\"><img src=\"https://colab.research.google.com/assets/colab-badge.svg\" alt=\"Open In Colab\"/></a>"
      ]
    },
    {
      "cell_type": "markdown",
      "metadata": {
        "id": "PmiTPZ1RKT3-"
      },
      "source": [
        "# Classes, Programação Orientada a Objetos e Herança\n",
        "\n",
        "## Classe MeuTempo \n",
        "Como outro exemplo de classe, ou seja um tipo definido pelo usuário, definiremos uma classe chamada MeuTempo que registra a hora do dia. Forneceremos um método `__init__` para garantir que todas as instâncias sejam criadas com atributos e inicialização apropriados. A definição de classe é assim:"
      ]
    },
    {
      "cell_type": "code",
      "metadata": {
        "id": "K2pf20tCKT3-"
      },
      "source": [
        "class  MeuTempo :\n",
        "\n",
        "    def  __init__ ( self ,  hrs = 0 ,  mins = 0 ,  segs = 0 ): \n",
        "        \"\" \"Criar um objeto MeuTempo inicializado para hrs, mins, segs\" \"\" \n",
        "        self.horas  =  hrs \n",
        "        self.minutos  =  mins\n",
        "        self.segundos  =  segs"
      ],
      "execution_count": null,
      "outputs": []
    },
    {
      "cell_type": "markdown",
      "metadata": {
        "id": "aTxCvKHNKT3_"
      },
      "source": [
        "Podemos instanciar um novo objeto MeuTempo :"
      ]
    },
    {
      "cell_type": "code",
      "metadata": {
        "id": "hF-id5MzKT3_"
      },
      "source": [
        "tim1  =  MeuTempo ( 11 ,  59 ,  30 )\n",
        "print(tim1)\n",
        "print(tim1.horas,\":\",tim1.minutos,\":\",tim1.segundos)"
      ],
      "execution_count": null,
      "outputs": []
    },
    {
      "cell_type": "markdown",
      "metadata": {
        "id": "AWVa6aCIKT4B"
      },
      "source": [
        "### Exercício:\n",
        " Adicionar um método `__str__` para que os objetos MeuTempo possam se imprimir decentemente.\n",
        "\n",
        "\n",
        "## Funções puras  e modificadores\n",
        "Nas próximas seções, escreveremos duas versões de uma função chamada `add_time` , que calcula a soma de dois objetos de tipo MeuTempo. Elas demonstrarão dois tipos de funções: funções puras e modificadoras.\n",
        "\n",
        "A seguir, uma primeira versão \"rascunho\" do `add_time`:"
      ]
    },
    {
      "cell_type": "code",
      "metadata": {
        "id": "OckolpEbKT4B"
      },
      "source": [
        "def  add_time ( t1 ,  t2 ): \n",
        "    h  =  t1 . horas  +  t2 . horas \n",
        "    m  =  t1 . minutos  +  t2 . minutos \n",
        "    s  =  t1 . segundos  +  t2 . segundos \n",
        "    sum_t  =  MeuTempo ( h ,  m ,  s ) \n",
        "    return  sum_t"
      ],
      "execution_count": null,
      "outputs": []
    },
    {
      "cell_type": "markdown",
      "metadata": {
        "id": "_i1qzBZHKT4B"
      },
      "source": [
        "A função cria um novo objeto MeuTempo e retorna uma referência ao novo objeto. Isso é chamado de **função pura** porque ***não modifica nenhum dos objetos*** passados como parâmetros e ***não tem efeitos colaterais***, como atualizar variáveis globais, exibir um valor ou obter entrada do usuário."
      ]
    },
    {
      "cell_type": "code",
      "metadata": {
        "id": "2rFwv4vbKT4B"
      },
      "source": [
        "hora_atual  =  MeuTempo ( 12 ,  15 ,  30 ) \n",
        "tempo_bolo =  MeuTempo ( 1 ,  10 ,  0 ) \n",
        "bolo_pronto  =  add_time ( hora_atual ,  tempo_bolo ) \n",
        "print(bolo_pronto.horas,\":\",bolo_pronto.minutos,\":\",bolo_pronto.segundos)"
      ],
      "execution_count": null,
      "outputs": []
    },
    {
      "cell_type": "markdown",
      "metadata": {
        "id": "tDxlRBceKT4B"
      },
      "source": [
        "A saída deste programa é `13 : 25 : 30` , o que está correto. Por outro lado, há casos em que o resultado não está correto. \n",
        "\n",
        "O problema é que essa função não lida com casos em que o número de segundos ou minutos chega a ***mais de sessenta***. Quando isso acontece, temos que **carregar os segundos extras para a coluna de minutos** ou os minutos extras para a coluna de horas.\n",
        "\n",
        "Uma melhor versão de `add_time` seria:"
      ]
    },
    {
      "cell_type": "code",
      "metadata": {
        "id": "MwueRQyjKT4C"
      },
      "source": [
        "def  add_time ( t1 ,  t2 ): \n",
        "\n",
        "    h  =  t1.horas  +  t2.horas \n",
        "    m  =  t1.minutos  +  t2.minutos \n",
        "    s  =  t1.segundos  +  t2.segundos \n",
        "\n",
        "    if  s  >=  60 : \n",
        "        s  -=  60 \n",
        "        m  +=  1 \n",
        "\n",
        "    if  m  >=  60 : \n",
        "        m  -=  60 \n",
        "        h  +=  1\n",
        "        \n",
        "    sum_t  =  MeuTempo ( h ,  m ,  s ) \n",
        "    return  sum_t"
      ],
      "execution_count": null,
      "outputs": []
    },
    {
      "cell_type": "code",
      "metadata": {
        "id": "X2RHcEjQKT4C"
      },
      "source": [
        "hora_noite=MeuTempo(10,55,50)\n",
        "bp = add_time(hora_noite,tempo_bolo)\n",
        "print(bp.horas,\":\",bp.minutos,\":\",bp.segundos)"
      ],
      "execution_count": null,
      "outputs": []
    },
    {
      "cell_type": "markdown",
      "metadata": {
        "id": "TBcejJiuKT4D"
      },
      "source": [
        "A função esta ficando maior, e ainda não funciona para todos os casos possíveis."
      ]
    },
    {
      "cell_type": "markdown",
      "metadata": {
        "id": "zWuYUZXwKT4D"
      },
      "source": [
        "## Modificadores \n",
        "Há momentos em que é útil para uma função modificar um ou mais dos objetos que recebe como parâmetros. Normalmente, o chamador mantém uma referência aos objetos que ele passa, portanto, quaisquer alterações feitas pela função são visíveis para o chamador. Funções que funcionam dessa maneira são chamadas de **modificadores**.\n",
        "\n",
        "A função `incremento` , que adiciona um determinado número de segundos a um objeto MeuTempo, seria escrito mais naturalmente como um modificador. Um rascunho da função é assim:"
      ]
    },
    {
      "cell_type": "code",
      "metadata": {
        "id": "X4zy-UhrKT4D"
      },
      "source": [
        "def incremento ( t ,  seg ): \n",
        "    t.segundos  +=  seg \n",
        "\n",
        "    if  t.segundos  >=  60 : \n",
        "        t.segundos  -=  60 \n",
        "        t.minutos  +=  1 \n",
        "\n",
        "    if  t.minutos  >=  60 : \n",
        "        t.minutos  -=  60 \n",
        "        t.horas  +=  1"
      ],
      "execution_count": null,
      "outputs": []
    },
    {
      "cell_type": "markdown",
      "metadata": {
        "id": "cWE9--k1KT4D"
      },
      "source": [
        "A primeira linha executa a operação básica; o restante lida com os casos especiais que vimos antes. **Ela não retorna nenhum valor porque as mudanças já estão salvas no objeto que foi passado de parâmetro, que foi modificado pela função.**\n",
        "\n",
        "Mas, o que aconteceria se o parâmetro seg for muito maior que sessenta? Nesse caso, não é suficiente carregar uma vez; temos que continuar fazendo até que os segundos tenham menos de sessenta. Uma solução é substituir as instruções `if` por `while` :"
      ]
    },
    {
      "cell_type": "code",
      "metadata": {
        "id": "oHfYUlsWKT4D"
      },
      "source": [
        "def  incremento ( t ,  segs ): \n",
        "    t.segundos  +=  segs \n",
        "\n",
        "    while  t.segundos  >=  60 : \n",
        "        t.segundos  -=  60 \n",
        "        t.minutos  +=  1 \n",
        "\n",
        "    while  t.minutos  >=  60 : \n",
        "        t.minutos  -=  60 \n",
        "        t.horas  +=  1"
      ],
      "execution_count": null,
      "outputs": []
    },
    {
      "cell_type": "markdown",
      "metadata": {
        "id": "7Ob8eKR_KT4D"
      },
      "source": [
        "Esta função está agora correta quando os segundos não são negativos e quando as horas não excedem 23, mas além disso ainda pode ser melhorada."
      ]
    },
    {
      "cell_type": "code",
      "metadata": {
        "id": "3yK5AAEUKT4D"
      },
      "source": [
        "incremento(hora_atual,3600)\n",
        "print(hora_atual.horas,\":\",hora_atual.minutos,\":\",hora_atual.segundos)"
      ],
      "execution_count": null,
      "outputs": []
    },
    {
      "cell_type": "markdown",
      "metadata": {
        "id": "lyTXWyjuKT4D"
      },
      "source": [
        "## Convertendo incremento em um método\n",
        "\n",
        "Ao programar orientado a objetos,  é preferível colocar funções que trabalham com objetos MeuTempo na classe MeuTempo, então vamos converter a função `incremento` em um método. "
      ]
    },
    {
      "cell_type": "code",
      "metadata": {
        "id": "fKmstbq8KT4D"
      },
      "source": [
        "class  MeuTempo : \n",
        "    def  __init__ ( self ,  hrs = 0 ,  mins = 0 ,  segs = 0 ): \n",
        "        \"\" \"Criar um objeto MeuTempo inicializado para hrs, mins, segs\" \"\" \n",
        "        self.horas  =  hrs \n",
        "        self.minutos  =  mins\n",
        "        self.segundos  =  segs\n",
        "        \n",
        "    # Definições de outros métodos anteriores devem ir aqui ... \n",
        "\n",
        "    def  incremento ( self ,  segs ): \n",
        "        self.segundos  +=  segs \n",
        "\n",
        "        while self.segundos  >=  60 : \n",
        "            self.segundos  -=  60 \n",
        "            self.minutos  +=  1 \n",
        "\n",
        "        while self.minutos  >=  60 : \n",
        "            self.minutos  -=  60 \n",
        "            self.horas  +=  1\n",
        "            "
      ],
      "execution_count": null,
      "outputs": []
    },
    {
      "cell_type": "markdown",
      "metadata": {
        "id": "kDl2V2QmKT4D"
      },
      "source": [
        "Agora podemos invocar o incremento usando a sintaxe para invocar um método. Novamente, o objeto no qual o método é invocado é atribuído ao primeiro parâmetro, `self`. O segundo parâmetro, `segs`, obtém o valor 500."
      ]
    },
    {
      "cell_type": "code",
      "metadata": {
        "id": "tOyidE4KKT4D"
      },
      "source": [
        "minha_hora=MeuTempo(13,10,1)\n",
        "minha_hora.incremento( 500 ) #incrementar em 500 segundos = 8 minutos e 20 segundos\n",
        "print(minha_hora.horas,\":\",minha_hora.minutos,\":\",minha_hora.segundos)\n",
        "print(minha_hora)"
      ],
      "execution_count": null,
      "outputs": []
    },
    {
      "cell_type": "markdown",
      "metadata": {
        "id": "RcBpYme-KT4E"
      },
      "source": [
        "**Na OOP (programação orientada a objeto), estamos realmente tentando agrupar os dados e as operações que se aplicam a ele**. Então, gostaríamos de ter essa lógica dentro da classe MeuTempo. Uma boa solução é reescrever o inicializador de classe para que ele possa lidar com valores iniciais de segundos ou minutos que estão fora dos valores normalizados . (Um tempo normalizado seria algo como 3 horas 12 minutos e 20 segundos. O mesmo tempo, mas não normalizado poderia ser 2 horas e 70 minutos e 140 segundos.)\n",
        "\n",
        "**Ver o exemplo do texto em http://openbookproject.net/thinkcs/python/english3e/even_more_oop.html  seção 21.5, com uma implementação mais \"esperta\" da classe do tempo.**"
      ]
    },
    {
      "cell_type": "markdown",
      "metadata": {
        "id": "Jejt-gtwKT4E"
      },
      "source": [
        "### Outro exemplo de método \n",
        "A função `depois` deve comparar dois tempos, e dizer se o primeiro é estritamente após o segundo. Isso é um pouco mais complicado porque opera em dois objetos MeuTempo, não apenas um. Mas nós preferimos escrevê-lo como um método de qualquer maneira - neste caso, um método no primeiro argumento:\n"
      ]
    },
    {
      "cell_type": "code",
      "metadata": {
        "id": "Hj4KGsyZKT4E"
      },
      "source": [
        "class  MeuTempo :\n",
        "    def  __init__ ( self ,  hrs = 0 ,  mins = 0 ,  segs = 0 ): \n",
        "        \"\" \"Criar um objeto MeuTempo inicializado para hrs, mins, segs\" \"\" \n",
        "        self.horas  =  hrs \n",
        "        self.minutos  =  mins\n",
        "        self.segundos  =  segs\n",
        "\n",
        "    # Definições de métodos anteriores aqui ... \n",
        "    # bla bla incremento, __str__ etc\n",
        "    \n",
        "    def  depois ( self ,  time2 ): \n",
        "        \"\" \"Retorna True se self for estritamente maior que time2\" \"\" \n",
        "        if  self.horas  >  time2.horas : \n",
        "            return  True \n",
        "        if  self.horas  <  time2.horas : \n",
        "            return  False \n",
        "\n",
        "        if  self.minutos  >  time2.minutos : \n",
        "            return  True \n",
        "        if  self.minutos  <  time2.minutos : \n",
        "            return  False \n",
        "        if  self.segundos  >  time2.segundos : \n",
        "            return  True \n",
        "        return  False\n",
        "    \n",
        "t1  =  MeuTempo ( 10 ,  55 ,  12 ) \n",
        "t2  =  MeuTempo ( 10 ,  48 ,  22 ) \n",
        "t1.depois ( t2 )              # é t1 após t2? "
      ],
      "execution_count": null,
      "outputs": []
    },
    {
      "cell_type": "markdown",
      "metadata": {
        "id": "ALNhVvUTKT4E"
      },
      "source": [
        "## Sobrecarga de operadores\n",
        "Algumas linguagens, incluindo o Python, possibilitam ter diferentes significados para o mesmo operador quando aplicados a diferentes tipos. Por exemplo, `+` em Python significa coisas bem diferentes para números inteiros e para strings. Esse recurso é chamado de ***sobrecarga do operador*** (*operator overloading*).\n",
        "\n",
        "É especialmente útil quando os programadores também podem sobrecarregar os operadores para seus próprios tipos definidos pelo usuário. Por exemplo, para substituir o operador de adição `+` , podemos fornecer um método chamado `__add__`  (*essa é a versão da classe que pode trabalhar com formato não normalizado do tempo, mencionada acima*):"
      ]
    },
    {
      "cell_type": "code",
      "metadata": {
        "id": "YrHr6hzQKT4E"
      },
      "source": [
        "class  MeuTempo : \n",
        "    # Métodos previamente definidos aqui ... \n",
        "    def  __init__ ( self ,  hrs = 0 ,  mins = 0 ,  segs = 0 ): \n",
        "        \"\"\" Criar um novo objeto MeuTempo inicializado para hrs, min, segs. \n",
        "           Os valores de mins e segs podem estar fora do intervalo de 0-59, \n",
        "           mas o objecto MeuTempo resultante será normalizado.  \"\"\" \n",
        "        # Calcular total de segundos para representar \n",
        "        self.totalsegs =  hrs * 3600  +  mins * 60  +  segs \n",
        "        self.horas =  self.totalsegs  //  3600         # Divisão em h, m, s \n",
        "        restosegs =  self.totalsegs  %  3600 \n",
        "        self.minutos  =  restosegs  //  60 \n",
        "        self.segundos  =  restosegs  %  60\n",
        "        if self.horas >=24:\n",
        "            self.horas = self.horas%24\n",
        "    def  to_seconds ( self ): \n",
        "        \"\" \"Retorna o número de segundos representados por esta instância \" \"\" \n",
        "        return  self.totalsegs\n",
        "    \n",
        "    def  __add__ ( self ,  other ): \n",
        "        \"\"\" Retorna a soma do tempo atual e outro, para utilizar com o simbolo + \"\"\"\n",
        "        return  MeuTempo ( 0 ,  0 ,  self.to_seconds()  +  other.to_seconds())\n",
        "    \n",
        "    def __str__(self):\n",
        "        \"\"\"Retorna uma representação do objeto como string, legível para humanos.\"\"\"\n",
        "        return '%.2d:%.2d:%.2d' % (self.horas, self.minutos, self.segundos)  "
      ],
      "execution_count": null,
      "outputs": []
    },
    {
      "cell_type": "markdown",
      "metadata": {
        "id": "O8ut_-epKT4E"
      },
      "source": [
        "Como de costume, o primeiro parâmetro é o objeto no qual o método é invocado. O segundo parâmetro é convenientemente chamado de `other` para distingui-lo do `self` . Para adicionar dois objetos MeuTempo, criamos e retornamos um novo objeto MeuTempo que contém sua soma.\n",
        "\n",
        "Agora, quando aplicamos o operador `+` aos objetos MeuTempo, o Python invoca o método `__add__`:"
      ]
    },
    {
      "cell_type": "code",
      "metadata": {
        "id": "xluWeIFOKT4E"
      },
      "source": [
        "a=MeuTempo(1,40,30)\n",
        "b=MeuTempo(12,55,15)\n",
        "print(a,b) #os dois tempos iniciais a e b\n",
        "print(a + b) #o resultado da soma \"normalizada\"\n",
        "print(a,b) #os valores de a e b não mudaram!!"
      ],
      "execution_count": null,
      "outputs": []
    },
    {
      "cell_type": "markdown",
      "metadata": {
        "id": "Z9lsAu7uKT4E"
      },
      "source": [
        "A expressão `a + b` é equivalente a `a .__ add __ (b)` , mas obviamente mais elegante. \n",
        "\n",
        "**Exercício:** adicione um método `__sub __ (self, other)` que sobrecarrega o operador de subtração e teste-o.\n",
        "\n",
        "### Classe \"Ponto\"\n",
        "Nos próximos exercícios, voltaremos à classe Ponto, definida na aula anterior sobre objetos, e sobrecarregaremos alguns de seus operadores. Em primeiro lugar, adicionar dois pontos adiciona suas respectivas coordenadas (x, y):"
      ]
    },
    {
      "cell_type": "code",
      "metadata": {
        "id": "hkkDuyMUKT4E"
      },
      "source": [
        "class  Ponto: \n",
        "    # Métodos previamente definidos aqui ... \n",
        "\n",
        "    def  __add__ ( self ,  other ): \n",
        "        return  Ponto( self.x + other.x , self.y + other.y ) "
      ],
      "execution_count": null,
      "outputs": []
    },
    {
      "cell_type": "markdown",
      "metadata": {
        "id": "lFyvwXbSKT4E"
      },
      "source": [
        "Para sobrecarregar o operador de multiplicação `*` podemos utilizar a definição de produto escalar, na definição de `__mul__`. Aqui se o operando esquerdo de `*` for um ponto , o Python invoca `__mul__` , que assume que o outro operando também é um objeto tipo Ponto, e calcula o produto escalar dos dois pontos, definidos de acordo com as regras da álgebra linear. \n",
        "\n",
        "```python\n",
        "def  __mul__ ( self ,  other ): \n",
        "        return  self.x  *  other.x  +  self.y  *  other.y\n",
        "```\n",
        "Em outro caso, se o operando da esquerda for um número primitivo e o da direita o objeto Ponto, podemos fazer uma multiplicação escalar e sobrecarregar `__rmul__` (***r*** por **right**). O resultado é um novo ponto cujas coordenadas são um múltiplo das coordenadas originais. Se `outro` for de um tipo que não pode ser multiplicado por um número de ponto flutuante, então `__rmul__` produzirá um erro. \n",
        "\n",
        "```python\n",
        "def  __rmul__ ( self ,  other ): \n",
        "    return Ponto( other * self.x , other * self.y ) \n",
        "```\n",
        "\n",
        "Mas esta definição de multiplicação escalar não é comutativa: se tentarmos usar o Ponto a esquerda e o escalar a direita, o Python daria um erro. "
      ]
    },
    {
      "cell_type": "code",
      "metadata": {
        "id": "gLaTARw7KT4F"
      },
      "source": [
        "class  Ponto: \n",
        "    \"\"\" Cria um novo Ponto, com coordenadas x, y \"\"\"\n",
        "\n",
        "    def __init__(self, x=0, y=0):\n",
        "        \"\"\" Inicializa em x, y o novo ponto criado pela classe \"\"\"\n",
        "        self.x = x\n",
        "        self.y = y\n",
        "    def __str__(self):\n",
        "        return \"({0}, {1})\".format(self.x, self.y)\n",
        "    # Métodos previamente definidos aqui ... \n",
        "\n",
        "    def  __add__ ( self ,  other ): \n",
        "        \"\"\" Retorna a soma de dois Pontos (x1+x2, y1+y2)\"\"\"\n",
        "        return  Ponto( self.x + other.x , self.y + other.y ) \n",
        "    \n",
        "    def  __mul__ ( self ,  other ): \n",
        "        \"\"\" Retorna o produto escalar de dois Pontos \"\"\"\n",
        "        return  self.x  *  other.x  +  self.y  *  other.y\n",
        "        \n",
        "    def  __rmul__ ( self ,  other ): \n",
        "        \"\"\" Retorna o resultado da multiplicação escalar s * (x,y) = (s*x, s*y)\"\"\"\n",
        "        return Ponto( other * self.x , other * self.y ) \n",
        "    "
      ],
      "execution_count": null,
      "outputs": []
    },
    {
      "cell_type": "code",
      "metadata": {
        "id": "KHzmW_0xKT4F"
      },
      "source": [
        "a=Ponto(1,3)\n",
        "b=Ponto(0.1,4.5)\n",
        "c=a+b\n",
        "print(c)\n",
        "d= a*b\n",
        "print(d)"
      ],
      "execution_count": null,
      "outputs": []
    },
    {
      "cell_type": "code",
      "metadata": {
        "id": "OaRfJXwQKT4F"
      },
      "source": [
        "a2= 2*a\n",
        "print(a2)\n",
        "\n",
        "#multiplicacao escalar nao e comutativa\n",
        "a3 = a*3\n",
        "print(a3)"
      ],
      "execution_count": null,
      "outputs": []
    },
    {
      "cell_type": "markdown",
      "metadata": {
        "id": "YijB9ARKKT4F"
      },
      "source": [
        "Se quisermos uma versão comutativa precisamos checar se o segundo operando é de tipo Ponto, usando a função `isinstance`:"
      ]
    },
    {
      "cell_type": "code",
      "metadata": {
        "id": "jirn7P3LKT4F"
      },
      "source": [
        "class  Ponto: \n",
        "    \"\"\" Cria um novo Ponto, com coordenadas x, y \"\"\"\n",
        "\n",
        "    def __init__(self, x=0, y=0):\n",
        "        \"\"\" Inicializa em x, y o novo ponto criado pela classe \"\"\"\n",
        "        self.x = x\n",
        "        self.y = y\n",
        "    def __str__(self):\n",
        "        return \"({0}, {1})\".format(self.x, self.y)\n",
        "    # Métodos previamente definidos aqui ... \n",
        "\n",
        "    def  __add__ ( self ,  other ): \n",
        "        \"\"\" Retorna a soma de dois Pontos (x1+x2, y1+y2)\"\"\"\n",
        "        return  Ponto( self.x + other.x , self.y + other.y ) \n",
        "    def  __mul__ ( self ,  other ): \n",
        "        \"\"\" Retorna o produto escalar de dois Pontos, ou a multiplicação escalar se for possível.\"\"\"\n",
        "        if isinstance(other,Ponto):\n",
        "            return  self.x  *  other.x  +  self.y  *  other.y\n",
        "        else:\n",
        "            try:\n",
        "                return Ponto(other * self.x , other *  self.y)\n",
        "            except:\n",
        "                return 'nan'\n",
        "    def  __rmul__ ( self ,  other ): \n",
        "        \"\"\" Retorna o resultado da multiplicação escalar s * (x,y) = (s*x, s*y)\"\"\"\n",
        "        return Ponto( other * self.x , other * self.y ) "
      ],
      "execution_count": null,
      "outputs": []
    },
    {
      "cell_type": "code",
      "metadata": {
        "id": "XdUzsT1JKT4F"
      },
      "source": [
        "p0=Ponto(0.1,3.4)\n",
        "p1 = 3*p0\n",
        "print(p1)\n",
        "p2=p0*3\n",
        "print(p2)"
      ],
      "execution_count": null,
      "outputs": []
    },
    {
      "cell_type": "markdown",
      "metadata": {
        "id": "acVM-5JeKT4F"
      },
      "source": [
        "## Polimorfismo \n",
        "A maioria dos métodos que escrevemos funciona apenas para um tipo específico. Quando criamos um novo objeto, escrevemos métodos que operam nesse tipo.\n",
        "\n",
        "Mas há certas operações que desejaremos aplicar a muitos tipos, como as operações aritméticas nas seções anteriores. **Se muitos tipos suportam o mesmo conjunto de operações, podemos escrever funções que funcionem em qualquer um desses tipos.**\n",
        "\n",
        "Por exemplo, a operação multadd (que é comum em álgebra linear) leva três parâmetros; multiplica os dois primeiros e adiciona o terceiro. Podemos escrevê-lo em Python assim:"
      ]
    },
    {
      "cell_type": "code",
      "metadata": {
        "id": "4cAv0cEEKT4G"
      },
      "source": [
        "def  multadd  ( x ,  y ,  z ): \n",
        "    return  x  *  y  +  z "
      ],
      "execution_count": null,
      "outputs": []
    },
    {
      "cell_type": "markdown",
      "metadata": {
        "id": "qFuT_hFbKT4G"
      },
      "source": [
        "Esta função funcionará para quaisquer valores de x e y que possam ser multiplicados e para qualquer valor de z que possa ser adicionado ao produto.\n",
        "\n",
        "Podemos invocá-lo com valores numéricos ou com Pontos:\n"
      ]
    },
    {
      "cell_type": "code",
      "metadata": {
        "id": "-ARpqyBhKT4G"
      },
      "source": [
        "s = multadd  ( 3 ,  2 ,  1 )\n",
        "print(s)\n",
        "s2 = multadd(5,p0,p1)\n",
        "print(s2)\n",
        "s3 = multadd(p2,p1,3)\n",
        "print(s3)"
      ],
      "execution_count": null,
      "outputs": []
    },
    {
      "cell_type": "markdown",
      "metadata": {
        "id": "TwejF105KT4H"
      },
      "source": [
        "* No primeiro caso, a função é aplicada em três valores numéricos escalares, o resultado é um número escalar.\n",
        "\n",
        "* No segundo caso o  Ponto  `p0` é multiplicado por um escalar e depois adicionado a outro Ponto `p1`. \n",
        "\n",
        "* No último caso, o produto escalar de `p2` e `p1`  gera um valor numérico, portanto, o terceiro parâmetro da função também deve ser um valor numérico.\n",
        "\n",
        "Uma função como essa que pode receber argumentos com tipos diferentes é chamada de ***polimórfica***.\n",
        "\n",
        "Como outro exemplo, consideremos agora a função `front_and_back`, que imprime uma lista duas vezes, para frente e para trás:"
      ]
    },
    {
      "cell_type": "code",
      "metadata": {
        "id": "1TuOsGx8KT4H"
      },
      "source": [
        "def front_and_back ( frente ): \n",
        "    import  copy \n",
        "    tras  =  copy.copy ( frente ) \n",
        "    tras.reverse()  #metodo reverse proprio das listas\n",
        "    print( str ( frente )  +  str ( tras ) )"
      ],
      "execution_count": null,
      "outputs": []
    },
    {
      "cell_type": "markdown",
      "metadata": {
        "id": "t_32Fr-fKT4H"
      },
      "source": [
        "Como o método reverse é um modificador, é preciso fazer uma cópia da lista antes de inverté-la, para isto chamamos  a função `copy` do módulo `copy` que consegue fazer cópias de objetos. Esta função pode ser usada com qualquer classe que só tenha atributos primitivos (se tiver objetos de outras classes teremos que utilizar a função `deepcopy`).\n",
        "\n",
        "Aplicando esta função a uma lista:"
      ]
    },
    {
      "cell_type": "code",
      "metadata": {
        "id": "dEA2uDCKKT4H"
      },
      "source": [
        "minha_lista  =  [ 1 ,  2 ,  3 ,  4 ] \n",
        "front_and_back ( minha_lista ) \n"
      ],
      "execution_count": null,
      "outputs": []
    },
    {
      "cell_type": "markdown",
      "metadata": {
        "id": "FLTkG0o2KT4I"
      },
      "source": [
        "Obviamente, pretendíamos aplicar essa função a listas, portanto, não é de surpreender que funcione. O que seria surpreendente é se pudéssemos aplicá-lo a um objeto da classe Ponto.\n",
        "\n",
        "Para determinar se uma função pode ser aplicada a um novo tipo, aplicamos a regra fundamental de polimorfismo do Python, chamada ***regra de tipagem de pato*** : se todas as operações dentro da função puderem ser aplicadas ao tipo, a função pode ser aplicada ao tipo. As operações na função` front_and_back` incluem copiar , inverter e imprimir. (Nem todas as linguagens de programação definem o polimorfismo dessa maneira. Procure por ***duck typing*** e veja se você consegue descobrir por que ele tem esse nome.)\n",
        "\n",
        "A função `copy` funciona em qualquer objeto, e nós já escrevemos um método `__str__` para objetos do tipo Ponto, então tudo que precisamos é um método `reverse` na classe Ponto :\n"
      ]
    },
    {
      "cell_type": "code",
      "metadata": {
        "id": "geetdafCKT4I"
      },
      "source": [
        "class  Ponto: \n",
        "    \"\"\" Cria um novo Ponto, com coordenadas x, y \"\"\"\n",
        "    def __init__(self, x=0, y=0):\n",
        "        \"\"\" Inicializa em x, y o novo ponto criado pela classe \"\"\"\n",
        "        self.x = x\n",
        "        self.y = y\n",
        "    def __str__(self):\n",
        "        return \"({0}, {1})\".format(self.x, self.y)\n",
        "    # outros métodos previamente definidos aqui ... blah blah\n",
        "    \n",
        "    def  reverse ( self ): \n",
        "        \"\"\" Função que inverte as coordenadas do ponto x<->y\"\"\"\n",
        "        ( self.x  ,  self.y )  =  ( self.y ,  self.x ) "
      ],
      "execution_count": null,
      "outputs": []
    },
    {
      "cell_type": "markdown",
      "metadata": {
        "id": "qAeyuEZRKT4I"
      },
      "source": [
        "Então podemos passar Pontos para a função `front_and_back` :"
      ]
    },
    {
      "cell_type": "code",
      "metadata": {
        "id": "QdUhNQxQKT4I"
      },
      "source": [
        "meu_ponto=Ponto(45,-70)\n",
        "front_and_back(meu_ponto)"
      ],
      "execution_count": null,
      "outputs": []
    },
    {
      "cell_type": "markdown",
      "metadata": {
        "id": "2keWGSVuKT4K"
      },
      "source": [
        "O polimorfismo mais interessante é o tipo não intencional, onde descobrimos que uma função que já escrevemos pode ser aplicada a um tipo para o qual nunca planejamos."
      ]
    },
    {
      "cell_type": "markdown",
      "metadata": {
        "id": "YCwJLyBuKT4K"
      },
      "source": [
        "## Herança \n",
        "\n",
        "O recurso de linguagem mais frequentemente associado à programação orientada a objetos é a herança. Herança é a capacidade de ***definir uma nova classe que é uma versão modificada de uma classe existente***.\n",
        "\n",
        "A principal vantagem desse recurso é que você pode adicionar novos métodos a uma classe sem modificar a classe existente. É chamado de herança porque a nova classe herda todos os métodos da classe existente. Estendendo essa metáfora, a classe existente é às vezes chamada de classe mãe (ou pai) ou classe **base**. A nova classe pode ser chamada de classe filha ou **subclasse**.\n",
        "\n",
        "A herança é um recurso poderoso. Alguns programas que seriam complicados sem herança podem ser escritos de forma concisa e simples. Além disso, a herança pode facilitar a reutilização de código, já que você pode personalizar o comportamento de classes base sem precisar modificá-las. Em alguns casos, a estrutura de herança reflete a estrutura natural do problema, o que torna o programa mais fácil de entender.\n",
        "\n",
        "Por outro lado, a herança pode dificultar a leitura dos programas. Quando um método é invocado, às vezes não fica claro onde encontrar sua definição. O código relevante pode estar espalhado entre vários módulos. Além disso, muitas das coisas que podem ser feitas usando herança podem ser feitas de maneira elegante (ou mais) sem ela. Se a estrutura natural do problema não se presta à herança, esse estilo de programação pode fazer mais mal do que bem.\n"
      ]
    },
    {
      "cell_type": "code",
      "metadata": {
        "id": "40mtkcH2KT4K"
      },
      "source": [
        "class meuPet:\n",
        "    \"\"\" Classe que representa bichinhos de estimação e seus atributos \"\"\"\n",
        "    def __init__(self,nome=\"fofinha\",idade=0,cor=\"pintado\",sexo =\"menina\", especie=\"\",som=\"\"):\n",
        "        self.nome  = nome\n",
        "        self.idade = idade\n",
        "        self.cor   = cor\n",
        "        self.sexo  = sexo\n",
        "        self.especie = especie\n",
        "        self.som     = som\n",
        "    def __str__(self):\n",
        "        meustr = \"%s é %s de cor %s, tem %d ano(s)\"%(self.nome , self.sexo , self.cor , self.idade)\n",
        "        if self.especie !=\"\":\n",
        "            if self.sexo == \"menino\" :\n",
        "                meustr = meustr + \" e é um %s.\" %(self.especie)\n",
        "            else:\n",
        "                if self.especie[-1]==\"o\":  \n",
        "                    meustr = meustr + \" e é uma %sa.\"%(self.especie[:-1])\n",
        "                else: \n",
        "                    meustr = meustr + \" e é uma %s.\"%(self.especie)\n",
        "        return meustr\n",
        "    def fala(self):\n",
        "        return self.som\n",
        "\n",
        "class cachorro(meuPet):\n",
        "    \"\"\" Classe que representa um cachorrinho, que é um tipo de bichinho de estimação \"\"\"\n",
        "    def __init__(self, nome=\"Frufru\",idade=\"0\",cor=\"castanho\",sexo=\"menina\"):\n",
        "        #Uma forma de chamar o inicializador da classe basse. Nesse caso precisa dar o self nos argumentos\n",
        "        meuPet.__init__(self,nome,idade,cor,sexo,\"cachorro\",\"auau!\") \n",
        "        \n",
        "class gato(meuPet):\n",
        "    \"\"\" Classe que representa um gatinho, que é um outro tipo de bichinho de estimação \"\"\"\n",
        "    def __init__(self, nome=\"Fifi\",idade=\"0\",cor=\"castanho\",sexo=\"menina\"):\n",
        "        #Outra forma de chamar o inicializador da classe basse é chamar a função super(), nesse caso não usamos self\n",
        "        super().__init__(nome,idade,cor,sexo,\"gato\",\"miau!\")\n",
        "        \n",
        "class hamster(meuPet):\n",
        "    \"\"\" Classe que representa um hamster, outro tipo de bichinho de estimação \"\"\"\n",
        "    def __init__(self,nome=\"Hamtaro\",idade=1,cor=\"malhado\",sexo=\"menino\",brinquedo=\"roda\"):\n",
        "        # Se quisermos modificar o init da classe e adicionar  mais atributos ou mudá-los\n",
        "        meuPet.__init__(self)\n",
        "        self.nome  = nome\n",
        "        self.idade = idade\n",
        "        self.cor   = cor\n",
        "        self.sexo  = sexo\n",
        "        self.brinquedo = brinquedo\n",
        "        self.especie = \"hamster\"\n",
        "    \n",
        " \n"
      ],
      "execution_count": null,
      "outputs": []
    },
    {
      "cell_type": "markdown",
      "metadata": {
        "id": "hVjWt-IrKT4K"
      },
      "source": [
        "As classes `cachorro` e `gato` são subclasses de `meuPet`, então os métodos da classe base podem ser utilizados nas subclasses:"
      ]
    },
    {
      "cell_type": "code",
      "metadata": {
        "id": "TN9H1ezxKT4K"
      },
      "source": [
        "fruqui = cachorro(\"Fruqui\",2,\"branco\",\"menino\")\n",
        "print(fruqui)\n",
        "print(fruqui.nome,\"fala:\", fruqui.fala()) # fala() é um método definido na classe base."
      ],
      "execution_count": null,
      "outputs": []
    },
    {
      "cell_type": "code",
      "metadata": {
        "id": "fn5y72u9KT4K"
      },
      "source": [
        "bia = gato (\"Bartola\",4,\"preto\")\n",
        "print(bia, \"Fala\",bia.fala())"
      ],
      "execution_count": null,
      "outputs": []
    },
    {
      "cell_type": "code",
      "metadata": {
        "id": "y4JvhKEjKT4L"
      },
      "source": [
        "quentina = meuPet(\"Tarantina\",1,\"preto\",\"menina\",\"tarántula\")\n",
        "print(quentina)"
      ],
      "execution_count": null,
      "outputs": []
    },
    {
      "cell_type": "code",
      "metadata": {
        "id": "ZE80H5h7KT4L"
      },
      "source": [
        "hamlet = hamster()\n",
        "print(hamlet)\n",
        "print(hamlet.fala()) # não imprime nada porque o hamster não tem atributo som\n",
        "susy = hamster(nome=\"Susy\",sexo=\"menina\",idade=2)\n",
        "print(susy)"
      ],
      "execution_count": null,
      "outputs": []
    },
    {
      "cell_type": "markdown",
      "metadata": {
        "id": "8p6Ps61XKT4L"
      },
      "source": [
        "##  Exercícios \n",
        "1. Escreva uma função booleana  chamada `entre`  que tome dois objetos MeuTempo, t1 e t2 , como argumentos, e retorne `True` se um terceiro objeto MeuTempo invocado estiver entre os dois tempos. Suponha que o tempo t1 <= t2 , e faça o teste fechado no limite inferior e abra no limite superior, isto é, retorne True se t1 <= obj < t2.\n",
        "\n",
        "1. Transforme a função acima em um método na classe MeuTempo.\n",
        "\n",
        "1. Sobrecarregue o(s) operador(es) necessário(s)  --ver a lista de métodos especiais em https://docs.python.org/3/reference/datamodel.html#special-method-names -- para que, em vez de ter que escrever :\n",
        "```python\n",
        "if t1.depois( t2 ):  \n",
        "     ...\n",
        "```\n",
        "possamos usar o mais conveniente:\n",
        "```python\n",
        "if t1  >  t2 :  \n",
        "     ...\n",
        "```\n",
        "\n",
        "1. Defina um novo tipo de tartaruga, TurtleGTX, que venha com alguns recursos extras: ela pode saltar para uma determinada distância, e tem um odômetro que rastreia até onde a tartaruga viajou desde que saiu da linha de produção. (A classe base tem vários sinônimos como `fd` e `forward` ; `back` , `backward` e `bk` : para este exercício, concentre-se **apenas** em colocar essa funcionalidade no método `forward`.) Pense cuidadosamente sobre como contar a distância se a tartaruga for solicitada a avançar por um valor negativo. (Não gostaríamos de comprar uma tartaruga de segunda mão cuja leitura do odômetro foi falsificada porque seu proprietário anterior a levou para trás ao redor do quarteirão com muita frequência. Tente isso em um carro perto de você e veja se o odômetro do carro conta para cima ou para baixo quando você marcha ré.)\n",
        "\n",
        "1. Depois de percorrer uma distância aleatória, sua tartaruga deve quebrar com um pneu furado. Depois disso, aumente uma exceção sempre que `forward` for chamado. Também forneça um método `trocar_pneu` que possa consertar o pneu furado e eliminar a exceção para a tartaruga continuar seu percorso."
      ]
    },
    {
      "cell_type": "code",
      "metadata": {
        "id": "JaOXgrqdKT4L"
      },
      "source": [
        ""
      ],
      "execution_count": null,
      "outputs": []
    }
  ]
}