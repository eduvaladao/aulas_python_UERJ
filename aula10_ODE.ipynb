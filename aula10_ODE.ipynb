{
  "nbformat": 4,
  "nbformat_minor": 0,
  "metadata": {
    "kernelspec": {
      "display_name": "Python 3",
      "language": "python",
      "name": "python3"
    },
    "language_info": {
      "codemirror_mode": {
        "name": "ipython",
        "version": 3
      },
      "file_extension": ".py",
      "mimetype": "text/x-python",
      "name": "python",
      "nbconvert_exporter": "python",
      "pygments_lexer": "ipython3",
      "version": "3.7.0"
    },
    "colab": {
      "name": "aula10_ODE.ipynb",
      "provenance": [],
      "collapsed_sections": [],
      "include_colab_link": true
    }
  },
  "cells": [
    {
      "cell_type": "markdown",
      "metadata": {
        "id": "view-in-github",
        "colab_type": "text"
      },
      "source": [
        "<a href=\"https://colab.research.google.com/github/eduvaladao/aulas_python_UERJ/blob/main/aula10_ODE.ipynb\" target=\"_parent\"><img src=\"https://colab.research.google.com/assets/colab-badge.svg\" alt=\"Open In Colab\"/></a>"
      ]
    },
    {
      "cell_type": "markdown",
      "metadata": {
        "id": "ek0aPbb2gkU3"
      },
      "source": [
        "# Integração e análise numérica\n",
        "\n",
        "A integração numérica é composta por uma ampla gama de algoritmos para **calcular o valor numérico de uma integral definida**. \n",
        "\n",
        "O termo também é usado para se referir a métodos numéricos para determinar a solução de equações diferenciais ordinárias (ODEs), que veremos na próxima aula.\n",
        "\n",
        "## Soma de Riemann\n",
        "\n",
        "Um exemplo de algoritmo de cálculo numérico de uma integral é a **soma de Riemann**, que é um tipo de aproximação por uma soma finita.\n",
        "\n",
        "A soma de Riemann é calculada particionando-se a região de integração em ***formas*** \"pequenas\" (retângulos, trapezóides, parábolas, cubos) que somadas compõem uma região que é similar à função sendo medida. Ao calcular-se a área de cada uma dessa formas e ao adicionar cada uma dessas pequenas áreas, obtém-se a integral. Essa abordagem pode ser usada para encontrar uma aproximação númerica de uma integral definida.\n",
        "\n",
        "\n",
        "### Definição de soma de Riemann\n",
        "\n",
        "Considerando-se uma função $f$ definida no intervalo fechado $[a,b] \\in \\mathbb{R}$, a soma de Riemann é:\n",
        "\n",
        "<br><br>\n",
        "<p align=center>$S  = \\sum_{i=1}^{n} f(x_i^*)\\Delta_{x_i}$ </p>\n",
        "<br><br>\n",
        "\n",
        "onde $\\Delta_{x_i} = x_{i} - x_{i-1}$ e $x_i^* \\in [x_{i-1}, x_i]$  \n",
        "<br>\n",
        "\n",
        "**Ao determinarmos a escolha de $x_i^*$, determinamos o tipo de soma de Riemann.**\n",
        "\n",
        "Alguns exemplos de métodos de integração de Riemann são:\n",
        "* **Soma de Riemann pela esquerda**: quando $x_i^* = x_{i-1} \\; \\forall \\;i$ (para todos os intervalos);\n",
        "* **Soma de Riemann pela direita**: quando $x_i^* = x_{i} \\; \\forall \\;i$ ;\n",
        "* **Soma trapezoidal**.\n",
        "\n",
        "\n",
        "\n",
        "\n",
        "![](https://github.com/malbouis/Python_intro/blob/master/aulas/figuras/somas_de_Riemann.png?raw=true)\n",
        "\n",
        "<br><br>\n",
        "**Vejamos um exemplo de soma de Riemann abaixo.**\n",
        "\n"
      ]
    },
    {
      "cell_type": "markdown",
      "metadata": {
        "id": "EHuDaVmzeyw9"
      },
      "source": [
        "\n",
        "Imaginemos um problema simples de integração, com resultado analítico, como a exponencial:\n",
        "\n",
        "$f(x) = \\mathrm{e}^{-x}  \\Rightarrow \\qquad \\int ^{10}_{0} f(x)dx = -1* \\left(\\mathrm{e}^{-10} - \\mathrm{e}^{0}\\right)  = 0.9999546000702375$\n"
      ]
    },
    {
      "cell_type": "code",
      "metadata": {
        "id": "-wtmX-ebeyw-",
        "colab": {
          "base_uri": "https://localhost:8080/"
        },
        "outputId": "28a4219c-1306-4fd4-e453-f530ad83a3de"
      },
      "source": [
        "import math\n",
        "math.exp(0)-math.exp(-10)\n"
      ],
      "execution_count": null,
      "outputs": [
        {
          "output_type": "execute_result",
          "data": {
            "text/plain": [
              "0.9999546000702375"
            ]
          },
          "metadata": {
            "tags": []
          },
          "execution_count": 7
        }
      ]
    },
    {
      "cell_type": "markdown",
      "metadata": {
        "id": "hjY4mriGeyxE"
      },
      "source": [
        "Ao fazer uma  integração numérica da função f(x), a largura escolhida do intervalo pode influenciar na precisão do resultado. Nesse mesmo exemplo anterior, por exemplo, se decidirmos usar intervalos de largura $1$."
      ]
    },
    {
      "cell_type": "code",
      "metadata": {
        "id": "Ng3WvOCheyxF",
        "colab": {
          "base_uri": "https://localhost:8080/"
        },
        "outputId": "ca0fbe36-ac18-41b2-a03c-312a592136e8"
      },
      "source": [
        "x = range(0, 10)\n",
        "y = [math.exp(-xi) for xi in x]  # isto se chama \"list comprehension\"\n",
        "print(x)\n",
        "print(y)"
      ],
      "execution_count": null,
      "outputs": [
        {
          "output_type": "stream",
          "text": [
            "range(0, 10)\n",
            "[1.0, 0.36787944117144233, 0.1353352832366127, 0.049787068367863944, 0.01831563888873418, 0.006737946999085467, 0.0024787521766663585, 0.0009118819655545162, 0.00033546262790251185, 0.00012340980408667956]\n"
          ],
          "name": "stdout"
        }
      ]
    },
    {
      "cell_type": "code",
      "metadata": {
        "id": "aG8OEh1aeyxK",
        "colab": {
          "base_uri": "https://localhost:8080/",
          "height": 265
        },
        "outputId": "3307da78-b565-47a4-a24c-dd1cedca95d0"
      },
      "source": [
        "import matplotlib.pyplot as plt\n",
        "import numpy as np\n",
        "plt.bar(x,y,color=\"red\",align=\"edge\",width=1)\n",
        "x1 = np.linspace(0,10, 1000) # intervalo de 0 a 10, com 1000 divisões\n",
        "y1=[math.exp(-xi) for xi in x1]\n",
        "plt.plot(x1,y1)\n",
        "plt.show()"
      ],
      "execution_count": null,
      "outputs": [
        {
          "output_type": "display_data",
          "data": {
            "image/png": "[encoded data removed]",
            "text/plain": [
              "<Figure size 432x288 with 1 Axes>"
            ]
          },
          "metadata": {
            "tags": [],
            "needs_background": "light"
          }
        }
      ]
    },
    {
      "cell_type": "markdown",
      "metadata": {
        "id": "Maa5TOtdeyxQ"
      },
      "source": [
        "* Os retângulos acima representam a soma de Riemann pela esquerda ou direita? \n",
        "\n",
        "* Se fizermos a soma de Riemann dos retângulos acima, o resultado deveria ser __maior__ ou __menor__ do que a integral analítica? "
      ]
    },
    {
      "cell_type": "code",
      "metadata": {
        "id": "knxQbtUieyxR",
        "colab": {
          "base_uri": "https://localhost:8080/"
        },
        "outputId": "42278f16-6337-460d-d1eb-043de88ba311"
      },
      "source": [
        "x_i = 0\n",
        "x_f = 10\n",
        "dx = 1\n",
        "x = np.arange(x_i,x_f,dx)\n",
        "S = 0\n",
        "for xi in x:\n",
        "    S = S+ math.exp(-xi)*dx # *dx que e 1 nesse caso\n",
        "    \n",
        "print(\"Soma de 10 caixinhas= \",S)"
      ],
      "execution_count": null,
      "outputs": [
        {
          "output_type": "stream",
          "text": [
            "Soma de 10 caixinhas=  1.5819048852379485\n"
          ],
          "name": "stdout"
        }
      ]
    },
    {
      "cell_type": "code",
      "metadata": {
        "id": "yvpElBUpeyxU",
        "colab": {
          "base_uri": "https://localhost:8080/"
        },
        "outputId": "e16a4921-628a-4652-a479-8cf6d48978df"
      },
      "source": [
        "x_i = 0\n",
        "x_f = 10\n",
        "dx = 0.01\n",
        "x = np.arange(x_i,x_f,dx)\n",
        "S = 0\n",
        "for xi in x:\n",
        "    S = S+ math.exp(-xi)*dx \n",
        "    \n",
        "print(\"Soma de 1000 caixinhas= \",S)\n",
        "    "
      ],
      "execution_count": null,
      "outputs": [
        {
          "output_type": "stream",
          "text": [
            "Soma de 1000 caixinhas=  1.0049627060117017\n"
          ],
          "name": "stdout"
        }
      ]
    },
    {
      "cell_type": "markdown",
      "metadata": {
        "id": "zz8ch5fReyxZ"
      },
      "source": [
        "## Exercícios\n",
        "\n",
        "1. Quantos intervalos (ou qual largura de intervalo) é preciso implementar para ter uma precisão de 1% no resultado numérico na integração de $f(x)$ de 0 a 10? \n",
        "\n",
        "$\\dfrac{R_{num}-R_{an}}{R_{an}} \\leq 1\\% $\n",
        "\n",
        "2. Faça a integração numérica pela esquerda da mesma função. Compare o resultado com a integração pela direita.\n",
        "\n",
        "3. Faça a integração por trapézios. Lembre que a área de um trapézio é dada por: $A=\\frac{(a + b)h}{2}$\n",
        "\n",
        "3. Faça a integração numérica das funções trigonométricas $\\sin(x)$ e $\\cos(x)$ num período $0 < x \\leq 2\\pi$\n",
        "\n",
        "4. Faça a integração das funções hiperbólicas  $\\sinh(x)$ e $\\cosh(x)$ no intervalo $0-10$."
      ]
    },
    {
      "cell_type": "markdown",
      "metadata": {
        "id": "2L-E6bdSg6yC"
      },
      "source": [
        "Exercício 1:"
      ]
    },
    {
      "cell_type": "code",
      "metadata": {
        "colab": {
          "base_uri": "https://localhost:8080/"
        },
        "id": "AAEQ8RvthB5W",
        "outputId": "03b5a92b-1a95-4e97-def1-e71e8d959199"
      },
      "source": [
        "import math\n",
        "import numpy as np\n",
        "\n",
        "x_i = 0\n",
        "x_f = 10\n",
        "n_steps = np.arange(10, 10000, 1)\n",
        "an = math.exp(0)-math.exp(-10)\n",
        "\n",
        "for i in n_steps:\n",
        "    dx = (x_f - x_i)/i\n",
        "    x = np.arange(x_i, x_f, dx)\n",
        "    S1 = 0\n",
        "    for xi in x:\n",
        "        S1 = S1 + math.exp(-xi)*dx\n",
        "    if (S1 - an)/an <= 0.01:\n",
        "        print(f\"Soma de {i} caixinhas =\", S1)\n",
        "        break"
      ],
      "execution_count": null,
      "outputs": [
        {
          "output_type": "stream",
          "text": [
            "Soma de 502 caixinhas = 1.00994737378044\n"
          ],
          "name": "stdout"
        }
      ]
    },
    {
      "cell_type": "markdown",
      "metadata": {
        "id": "ZKgweqZZWKO7"
      },
      "source": [
        "Exercício 2:"
      ]
    },
    {
      "cell_type": "code",
      "metadata": {
        "colab": {
          "base_uri": "https://localhost:8080/",
          "height": 282
        },
        "id": "MdeFrUlJWSll",
        "outputId": "6489625e-46f5-4ded-9cca-a91c187e0842"
      },
      "source": [
        "x_i = 0\n",
        "x_f = 10\n",
        "dx = 0.1\n",
        "x = np.arange(x_i, x_f, dx)\n",
        "S = 0\n",
        "for xi in x:\n",
        "    S = S + math.exp(-(xi+dx))*dx \n",
        "\n",
        "y = [math.exp(-xi-dx) for xi in x] \n",
        "plt.bar(x, y, color=\"red\", align=\"edge\", width=0.1)\n",
        "x1 = np.linspace(0,10, 1000) # intervalo de 0 a 10, com 1000 divisões\n",
        "y1 = [math.exp(-xi) for xi in x1]\n",
        "plt.plot(x1, y1)\n",
        "plt.show()\n",
        "    \n",
        "print(\"Soma de 100 caixinhas =\", S)"
      ],
      "execution_count": null,
      "outputs": [
        {
          "output_type": "display_data",
          "data": {
            "image/png": "[encoded data removed]",
            "text/plain": [
              "<Figure size 432x288 with 1 Axes>"
            ]
          },
          "metadata": {
            "tags": [],
            "needs_background": "light"
          }
        },
        {
          "output_type": "stream",
          "text": [
            "Soma de 100 caixinhas = 0.9507900267172598\n"
          ],
          "name": "stdout"
        }
      ]
    },
    {
      "cell_type": "markdown",
      "metadata": {
        "id": "nck1qSyAg-wt"
      },
      "source": [
        "Exercício 3:"
      ]
    },
    {
      "cell_type": "code",
      "metadata": {
        "colab": {
          "base_uri": "https://localhost:8080/"
        },
        "id": "e1aJ2e0NhAqX",
        "outputId": "1e297439-bed2-4769-cf06-57a3b94ba080"
      },
      "source": [
        "x_i = 0\n",
        "x_f = 10\n",
        "dx = 0.01\n",
        "x = np.arange(x_i, x_f, dx)\n",
        "S = 0\n",
        "for xi in x:\n",
        "    S = S + ((math.exp(-(xi+dx)) + math.exp(-xi))/2)*dx \n",
        "    \n",
        "print(\"Soma de 1000 caixinhas =\", S)"
      ],
      "execution_count": null,
      "outputs": [
        {
          "output_type": "stream",
          "text": [
            "Soma de 1000 caixinhas = 0.9999629330113492\n"
          ],
          "name": "stdout"
        }
      ]
    },
    {
      "cell_type": "markdown",
      "metadata": {
        "id": "j4Q1wrKuiXOm"
      },
      "source": [
        "Exercício 4:"
      ]
    },
    {
      "cell_type": "code",
      "metadata": {
        "colab": {
          "base_uri": "https://localhost:8080/"
        },
        "id": "Qhkjx3gaiZtO",
        "outputId": "4eaf30ae-b842-4db1-a0e1-3200ef3ab087"
      },
      "source": [
        "import numpy as np\n",
        "import math\n",
        "\n",
        "xi = 0\n",
        "xf = 2*math.pi\n",
        "n_steps = 10000\n",
        "dx = abs((xf - xi))/n_steps\n",
        "x = np.arange(xi, xf, dx)\n",
        "s1 = 0\n",
        "s2 = 0\n",
        "for i in x:\n",
        "    s1 = s1 + math.sin(i)*dx\n",
        "    s2 = s2 + math.cos(i)*dx\n",
        "\n",
        "print(\"Integral do seno de 0 a 2pi, soma de 10000 caixinhas =\", s1)\n",
        "print(\"Integral do cosseno de 0 a 2pi, soma de 10000 caixinhas =\", s2)\n",
        "  "
      ],
      "execution_count": null,
      "outputs": [
        {
          "output_type": "stream",
          "text": [
            "Integral do seno de 0 a 2pi, soma de 10000 caixinhas = -3.4143411059876175e-16\n",
            "Integral do cosseno de 0 a 2pi, soma de 10000 caixinhas = -1.2912847874302358e-16\n"
          ],
          "name": "stdout"
        }
      ]
    },
    {
      "cell_type": "markdown",
      "metadata": {
        "id": "vt2monAhu0VV"
      },
      "source": [
        "Exercício 5:"
      ]
    },
    {
      "cell_type": "code",
      "metadata": {
        "colab": {
          "base_uri": "https://localhost:8080/"
        },
        "id": "Lx8LHEQPu2-3",
        "outputId": "dac7a72c-fbd6-4314-94ab-dcf363ab5ab4"
      },
      "source": [
        "import numpy as np\n",
        "import math\n",
        "\n",
        "xi = 0\n",
        "xf = 10\n",
        "n_steps = 1000000\n",
        "dx = abs((xf - xi))/n_steps\n",
        "x = np.arange(xi, xf, dx)\n",
        "s1 = 0\n",
        "s2 = 0\n",
        "for i in x:\n",
        "    s1 = s1 + math.sinh(i)*dx\n",
        "    s2 = s2 + math.cosh(i)*dx\n",
        "\n",
        "print(\"Integral do seno hiperbólico de 0 a 2pi, soma de 1000000 caixinhas =\", s1)\n",
        "print(\"Integral do cosseno hiperbólico de 0 a 2pi, soma de 1000000 caixinhas =\", s2)"
      ],
      "execution_count": null,
      "outputs": [
        {
          "output_type": "stream",
          "text": [
            "Integral do seno hiperbólico de 0 a 2pi, soma de 1000000 caixinhas = 11012.177854030622\n",
            "Integral do cosseno hiperbólico de 0 a 2pi, soma de 1000000 caixinhas = 11013.177813630555\n"
          ],
          "name": "stdout"
        }
      ]
    },
    {
      "cell_type": "code",
      "metadata": {
        "id": "TpEjSHNGeyxa",
        "outputId": "7cdf789f-0b37-4258-dc81-11ef380d7e62"
      },
      "source": [
        "sh = [math.sinh(xi) for xi in x1]\n",
        "plt.plot(x1,sh)\n",
        "plt.show()"
      ],
      "execution_count": null,
      "outputs": [
        {
          "output_type": "display_data",
          "data": {
            "image/png": "[encoded data removed]",
            "text/plain": [
              "<Figure size 432x288 with 1 Axes>"
            ]
          },
          "metadata": {
            "tags": [],
            "needs_background": "light"
          }
        }
      ]
    },
    {
      "cell_type": "markdown",
      "metadata": {
        "id": "6UKLyVZ7eyxe"
      },
      "source": [
        "### Exercícios extras de resolução numérica de equações diferenciais\n",
        "\n",
        "1. Imagine que tem um/a maratonista treinando, que num trecho de $5 km$ tem velocidade quase constante de $12 km/h$. Produza uma lista distância percorrida em intervalos de 1 minuto.\n",
        "\n",
        "1. O/A mesmo/a atleta no seguinte trecho acelera por $200$ metros até chegar em $15 km/h$ por $2 km$. Queremos obter uma tabela ou gráfico da distância percorrida en função do tempo e o tempo total para chegar em $7 km$, faça isto utilizando listas.\n",
        "\n",
        "1. Considere um péndulo simples num plano. O comprimento da linha é $1$ metro, a massa é $0,2 kg$ e a aceleração de gravidade $9,8 m/s^2$. Faça um gráfico ou crie uma tabela para a posição em coordenadas cartesianas em função do tempo, utilizando listas.\n",
        "\n",
        "\n",
        "- (opcional) Pesquise sobre o pacote numpy e os objetos desse pacote chamados array, tente utilizálos ao invés de listas para resolver os exercícios.\n",
        "\n",
        "- (opcional) Pesquise sobre o pacote scipy e seu modulo integrate para resolver integrações ou equações diferenciais numéricamente.\n"
      ]
    },
    {
      "cell_type": "markdown",
      "metadata": {
        "id": "5jtFSZnpP9AV"
      },
      "source": [
        ""
      ]
    },
    {
      "cell_type": "markdown",
      "metadata": {
        "id": "-RtxeLwghF65"
      },
      "source": [
        "# Análise numérica: resolução de equações diferenciais ordinárias (EDO)\n",
        "\n",
        "Como resolver o problema quando ao invés de uma integração, onde temos somente um valor final, temos uma equação diferencial, onde **queremos uma série de valores em função de uma variável**.\n",
        "\n",
        "Tomemos o exemplo do corredor, no primeiro intervalo, onde durante $5 km$ tem velocidade quase constante de $12 km/h$. A função que queremos obter é $d(t)$, com os dados  $d_{final}$, $d_{inicial}$, e $v = \\dfrac{\\mathrm{d}d}{\\mathrm{d}t}$. \n",
        "\n",
        "Analiticamente este problema é simples:\n",
        "\n",
        "$ d(t) = d_{inicial} + v * t $\n",
        "\n",
        "Então numericamente podemos fazer:\n"
      ]
    },
    {
      "cell_type": "code",
      "metadata": {
        "id": "0OFSLe64hF68"
      },
      "source": [
        "d_inicial=0\n",
        "d_final=5\n",
        "v=12.                           #km/h\n",
        "t=[i for i in range(0,30)]     #intervalos de 1 minuto, 30 minutos\n",
        "d = [d_inicial+v/60 * ti for ti in t] # v em km/min"
      ],
      "execution_count": null,
      "outputs": []
    },
    {
      "cell_type": "markdown",
      "metadata": {
        "id": "r9IRa-62hF7C"
      },
      "source": [
        "Podemos também ver o gráfico"
      ]
    },
    {
      "cell_type": "code",
      "metadata": {
        "id": "ZplxUtoehF7C",
        "colab": {
          "base_uri": "https://localhost:8080/",
          "height": 280
        },
        "outputId": "5eea0bb3-9298-4c69-a575-ef8b30a6bc1d"
      },
      "source": [
        "import matplotlib.pyplot as plt \n",
        "plt.plot(t,d)\n",
        "plt.xlabel('tempo (min)')\n",
        "plt.ylabel('distância (km)')\n",
        "plt.show()\n"
      ],
      "execution_count": null,
      "outputs": [
        {
          "output_type": "display_data",
          "data": {
            "image/png": "[encoded data removed]",
            "text/plain": [
              "<Figure size 432x288 with 1 Axes>"
            ]
          },
          "metadata": {
            "tags": [],
            "needs_background": "light"
          }
        }
      ]
    },
    {
      "cell_type": "markdown",
      "metadata": {
        "id": "kgaHYTJmhF7H"
      },
      "source": [
        "Para achar o tempo que demorou em percorrer os 5 kilômetros podemos utilizar a o método ```index``` da lista:"
      ]
    },
    {
      "cell_type": "code",
      "metadata": {
        "id": "_54lPjcthF7I",
        "colab": {
          "base_uri": "https://localhost:8080/"
        },
        "outputId": "36578c6c-c19b-4ddb-bd9f-477af65fd361"
      },
      "source": [
        "i=d.index(5)\n",
        "print(\"O atleta percorreu {0} kilômetros em {1} minutos\".format(d[i],t[i]))"
      ],
      "execution_count": null,
      "outputs": [
        {
          "output_type": "stream",
          "text": [
            "O atleta percorreu 5.0 kilômetros em 25 minutos\n"
          ],
          "name": "stdout"
        }
      ]
    },
    {
      "cell_type": "markdown",
      "metadata": {
        "id": "ybXmAPAwhF7L"
      },
      "source": [
        "## Método de Euler\n",
        "\n",
        "Se tivermos uma equação diferencial mais complexa, onde seja preciso fazer iterações, podemos utilizar o chamado método de Euler.\n",
        "<br>\n",
        "<br>\n",
        "\n",
        "Vamos considerar $y(t)$ como uma solução da equação diferencial e sua derivada, $y'$, uma função de $t$ e $y(t)$:\n",
        "\n",
        "<center>\n",
        "$y' = f(t,y(t)) $ \n",
        "\n",
        "e\n",
        "\n",
        "$y(t_0)=y_0$\n",
        "\n",
        "</center>\n",
        "\n",
        "Então podemos dividir o intervalo $t_0$ até $t_{n}$ em $n$ ***intervalos regulares*** de largura _h_\n",
        "\n",
        "$h =\\Delta t = \\dfrac{t_{n}-t_0}{n} $,    \n",
        "\n",
        "ou seja, $t_{n} = t_0 + n* h$ \n",
        "\n",
        "e de forma mais geral: $t_i = t_0 +i* h$. \n",
        "\n",
        "<br>\n",
        "\n",
        "Levando em conta que a derivada $y'(t_{n-1}) \\approx y'_{n-1} = \\frac{\\Delta y}{\\Delta t} = \\frac{y_{n} - y_{n-1}}{h}$, temos que: \n",
        "\n",
        "$y'_{n-1}*h = y_{n} - y_{n-1}$\n",
        "\n",
        "Sendo assim, a aproximação numérica para a $y(t)$ é: \n",
        "\n",
        "<br> \n",
        "\n",
        "<center>\n",
        "$\\boxed{y(t_n) = y_n = y_{n-1} + y'_{n-1} * h}$ \n",
        "\n",
        "e\n",
        "\n",
        "$y'_n = f(t_n,y_n) $\n",
        "</center>\n",
        "\n",
        "<br>\n",
        "\n",
        "Nesse caso a primeira derivada $y'$ pode depender tanto do $t$ quanto do $y$, e precisamos ter um valor de contorno para $y_0$ e $y'_0$.\n",
        "\n",
        "![](https://github.com/malbouis/Python_intro/blob/master/aulas/pics/euler.png?raw=true)\n"
      ]
    },
    {
      "cell_type": "markdown",
      "metadata": {
        "id": "2XhFzdE0cyGT"
      },
      "source": [
        "Vejamos um exemplo. Consideremos a seguinte equação diferencial com as condições de contorno:\n",
        "\n",
        "$\\frac{dy}{dt} = y$\n",
        "\n",
        "$y(0) = 1$\n",
        "\n",
        "$t_0 = 0$"
      ]
    },
    {
      "cell_type": "code",
      "metadata": {
        "id": "5kBntrWhhF7M",
        "colab": {
          "base_uri": "https://localhost:8080/",
          "height": 269
        },
        "outputId": "d2cd259d-f4c9-4172-a299-7e9f6becaf62"
      },
      "source": [
        "import math\n",
        "def f(t, y): \n",
        "    \"\"\" exemplo de função \n",
        "        Nesse exemplo, dy/dt só depende de y.\n",
        "    \"\"\"\n",
        "    return y\n",
        "\n",
        "t = range(0,100) #t0 = 0\n",
        "y=[]\n",
        "y.append(1)      #y_0 = 1\n",
        "\n",
        "dt = t[1]-t[0] #sabemos que nesse caso o intervalo é 1 pela construção da lista t, mas é melhor colocar para ser geral\n",
        "\n",
        "for i in range(1,100) :\n",
        "    yi = y[i-1]  + f(t[i-1],y[i-1]) * dt  #aprox. numérica do método de Euler\n",
        "    y.append(yi)\n",
        "\n",
        "plt.yscale('log')\n",
        "plt.xscale('log')\n",
        "plt.plot(t,y)\n",
        "plt.show()"
      ],
      "execution_count": null,
      "outputs": [
        {
          "output_type": "display_data",
          "data": {
            "image/png": "[encoded data removed]",
            "text/plain": [
              "<Figure size 432x288 with 1 Axes>"
            ]
          },
          "metadata": {
            "tags": [],
            "needs_background": "light"
          }
        }
      ]
    },
    {
      "cell_type": "code",
      "metadata": {
        "id": "1fJ__lb4xfK-",
        "colab": {
          "base_uri": "https://localhost:8080/",
          "height": 274
        },
        "outputId": "4bd530db-0359-4de4-f3c5-dbeea1598d87"
      },
      "source": [
        "from scipy.integrate import solve_ivp\n",
        "#https://docs.scipy.org/doc/scipy/reference/generated/scipy.integrate.solve_ivp.html#scipy.integrate.solve_ivp\n",
        "import numpy as np\n",
        "import math\n",
        "\n",
        "y0 = [1]\n",
        "t = [i for i in range(0,100)]\n",
        "sol = solve_ivp(f, [0,100], y0, method='RK45', t_eval=t)\n",
        "#print(t)\n",
        "#print(sol)\n",
        "exp = [math.exp(i) for i in t]\n",
        "\n",
        "# vamos imprimir para comparar o método de Euler com o padrão da função 'solve_ivp' (RK45)\n",
        "plt.plot(sol.t, sol.y[0], 'b', label='Runge-Kutta 4(5)')\n",
        "plt.plot(t,y, 'g', label='Euler')\n",
        "plt.plot(t, exp, 'r', label='Solução Exata')\n",
        "plt.yscale('log')\n",
        "plt.xscale('log')\n",
        "plt.legend()\n",
        "plt.show()"
      ],
      "execution_count": null,
      "outputs": [
        {
          "output_type": "display_data",
          "data": {
            "image/png": "[encoded data removed]",
            "text/plain": [
              "<Figure size 432x288 with 1 Axes>"
            ]
          },
          "metadata": {
            "tags": [],
            "needs_background": "light"
          }
        }
      ]
    },
    {
      "cell_type": "markdown",
      "metadata": {
        "id": "x5qgjD8vD8Tv"
      },
      "source": [
        "Podemos modificar o tamanho dos intervalos regulares do método de Euler e ver se a estimativa pelo método de Euler melhora."
      ]
    },
    {
      "cell_type": "code",
      "metadata": {
        "id": "VtPcPLM_EmMo",
        "colab": {
          "base_uri": "https://localhost:8080/",
          "height": 308
        },
        "outputId": "a0d80f75-b90e-4fc7-a4e1-8582ce26c415"
      },
      "source": [
        "import math\n",
        "import numpy as np\n",
        "\n",
        "def f(t, y): \n",
        "    \"\"\" exemplo de função \n",
        "        Nesse exemplo, dy/dt só depende de y.\n",
        "    \"\"\"\n",
        "    return y\n",
        "\n",
        "def Euler(fun, t, y0):\n",
        "\n",
        "  y=[]\n",
        "  y.append(y0)      \n",
        "  dt = t[1]-t[0]\n",
        "\n",
        "  for i in range(len(t)-1) :\n",
        "    yi = y[i-1]  + fun(t[i-1],y[i-1]) * dt\n",
        "    y.append(yi)\n",
        "\n",
        "  return t, y\n",
        "\n",
        "t = np.arange(0,100, 0.1)\n",
        "x,y = Euler(f, t, y0=1)\n",
        "\n",
        "t2 = np.arange(0,100,1)\n",
        "x2,y2 = Euler(f,t2,y0=1)\n",
        "\n",
        "t3 = np.arange(0,100,0.0001)\n",
        "x3,y3 = Euler(f,t3,y0=1)\n",
        "\n",
        "exp = [math.exp(i) for i in x]\n",
        "print(len(y), len(x))\n",
        "plt.plot(x,y, 'g', label='Método de Euler com dt=0.1')\n",
        "plt.plot(x2,y2, 'b', label='Método de Euler com dt=1')\n",
        "plt.plot(x3,y3, 'y', label='Método de Euler com dt=0.0001')\n",
        "plt.plot(t, exp, 'r', label='Solução Exata')\n",
        "\n",
        "plt.yscale('log')\n",
        "plt.xscale('log')\n",
        "plt.legend()"
      ],
      "execution_count": null,
      "outputs": [
        {
          "output_type": "stream",
          "text": [
            "1000 1000\n"
          ],
          "name": "stdout"
        },
        {
          "output_type": "execute_result",
          "data": {
            "text/plain": [
              "<matplotlib.legend.Legend at 0x7f0cdd000f10>"
            ]
          },
          "metadata": {
            "tags": []
          },
          "execution_count": 18
        },
        {
          "output_type": "display_data",
          "data": {
            "image/png": "[encoded data removed]",
            "text/plain": [
              "<Figure size 432x288 with 1 Axes>"
            ]
          },
          "metadata": {
            "tags": [],
            "needs_background": "light"
          }
        }
      ]
    },
    {
      "cell_type": "markdown",
      "metadata": {
        "id": "Km6QOvkjJReL"
      },
      "source": [
        "Consideremos agora um segundo exemplo, com a seguinte equação diferencial e condições de contorno:\n",
        "\n",
        "$y' + 2y = 2 - e^{-4t}$\n",
        "\n",
        "$y(0) = 1$\n",
        "\n",
        "O primeiro passo é determinar a função dy/dt:\n",
        "\n",
        "$y' = 2 - 2y - e^{-4t}$\n",
        "\n",
        "A solução da EDO pelo método de Euler no ponto $n$ é dada por:\n",
        "\n",
        "$y_n = y_{n-1} + y'_{n-1}*dt$"
      ]
    },
    {
      "cell_type": "code",
      "metadata": {
        "id": "rf109gHmJQ4G",
        "colab": {
          "base_uri": "https://localhost:8080/",
          "height": 286
        },
        "outputId": "0bc71e3d-7ece-4b9b-a210-eef7abeb8cf8"
      },
      "source": [
        "import math\n",
        "import numpy as np\n",
        "import matplotlib.pyplot as plt\n",
        "\n",
        "\n",
        "def func(t, y):\n",
        "  return 2 - 2*y - math.exp(-4*t)\n",
        "\n",
        "def Euler(fun, t, y0):\n",
        "  y=[]\n",
        "  y.append(y0)      \n",
        "  dt = t[1]-t[0]\n",
        "  for i in range(len(t)-1) :\n",
        "    yi = y[i-1]  + fun(t[i-1],y[i-1]) * dt\n",
        "    y.append(yi)\n",
        "  return t, y\n",
        "\n",
        "t = np.arange(0,100, 0.1)\n",
        "x,y = Euler(func, t, y0=1)\n",
        "\n",
        "# solução analítica é y(t) = 1 + 0.5*e^{-4t} - 0.5*e^{-2t}\n",
        "y_sol = [1 + 0.5*math.exp(-4*i) - 0.5*math.exp(-2*i) for i in x]\n",
        "\n",
        "plt.plot(x, y, label='Euler com dt=0.1')\n",
        "plt.plot(x, y_sol, label='Solução Exata')\n",
        "#plt.yscale('log')\n",
        "plt.xscale('log')\n",
        "plt.legend()"
      ],
      "execution_count": null,
      "outputs": [
        {
          "output_type": "execute_result",
          "data": {
            "text/plain": [
              "<matplotlib.legend.Legend at 0x7f0cd6f6afd0>"
            ]
          },
          "metadata": {
            "tags": []
          },
          "execution_count": 21
        },
        {
          "output_type": "display_data",
          "data": {
            "image/png": "[encoded data removed]",
            "text/plain": [
              "<Figure size 432x288 with 1 Axes>"
            ]
          },
          "metadata": {
            "tags": [],
            "needs_background": "light"
          }
        }
      ]
    },
    {
      "cell_type": "markdown",
      "metadata": {
        "id": "___jL8uEbwzc"
      },
      "source": [
        "### EDO de segunda ordem\n",
        "\n",
        "Consideremos a seguinte EDO com suas condições de contorno:\n",
        "\n",
        "$y'' - y' +3y = t \\;\\;\\;\\;$      (1)\n",
        "\n",
        "$y(0) = 1$\n",
        "\n",
        "$y'(0) = -2$\n",
        "\n",
        "Para conseguir resolver essa EDO de segunda ordem, devemos reduzi-la a duas EDOs de primeira ordem:\n",
        "\n",
        "$y_1(t) := y(t)$\n",
        "\n",
        "$y_2(t) := y'(t) $\n",
        "\n",
        "Logo, podemos reescrever a equação (1) como:\n",
        "\n",
        "$y'_{2} - y_2 + 3y_1 = t \\Rightarrow y'_{2} = y_2 - 3y_1 + t$\n",
        "\n",
        "e\n",
        "\n",
        "$y'_1 = y_2$\n",
        "\n",
        "Com as condições de contorno $y_{1}(0)=1$ e $y_2(0)=-2$\n",
        "\n",
        "Vamos construir o método de Euler para essas EDOs de primeira ordem:"
      ]
    },
    {
      "cell_type": "code",
      "metadata": {
        "id": "lrZ3c_9NdpIS",
        "colab": {
          "base_uri": "https://localhost:8080/",
          "height": 317
        },
        "outputId": "363de34a-cbc4-48a2-b506-3628bb49ad18"
      },
      "source": [
        "def y2_prime(y2, y1, t):\n",
        "  return y2 - 3*y1 + t\n",
        "\n",
        "def y1_prime(y2):\n",
        "  return y2\n",
        "\n",
        "dt = 0.01\n",
        "t = np.arange(0,4, dt)\n",
        "\n",
        "y1_0 = 1           # condição de contorno\n",
        "y1=[]\n",
        "y1.append(y1_0)\n",
        "\n",
        "y2_0 = -2          # condição de contorno\n",
        "y2=[]\n",
        "y2.append(y2_0)\n",
        "\n",
        "for i in range(len(t)-1):\n",
        "  #y1i = y1[i-1] + y1_prime(y2[i-1])*dt\n",
        "  #y2i = y2[i-1] + y2_prime(y2[i-1], y1[i-1], t[i-1])*dt\n",
        "  y1i = y1[i] + y1_prime(y2[i])*dt\n",
        "  y2i = y2[i] + y2_prime(y2[i], y1[i], t[i])*dt\n",
        "\n",
        "  y1.append(y1i)\n",
        "  y2.append(y2i)\n",
        "\n",
        "print(y1[-1])\n",
        "print(y2[-1])\n",
        "\n",
        "plt.plot(t, y1)"
      ],
      "execution_count": null,
      "outputs": [
        {
          "output_type": "stream",
          "text": [
            "4.177267183031822\n",
            "-22.160554481346125\n"
          ],
          "name": "stdout"
        },
        {
          "output_type": "execute_result",
          "data": {
            "text/plain": [
              "[<matplotlib.lines.Line2D at 0x7f0cda8cebd0>]"
            ]
          },
          "metadata": {
            "tags": []
          },
          "execution_count": 24
        },
        {
          "output_type": "display_data",
          "data": {
            "image/png": "[encoded data removed]",
            "text/plain": [
              "<Figure size 432x288 with 1 Axes>"
            ]
          },
          "metadata": {
            "tags": [],
            "needs_background": "light"
          }
        }
      ]
    },
    {
      "cell_type": "markdown",
      "metadata": {
        "id": "E6VwkvIQhF7T"
      },
      "source": [
        "### O pêndulo simples\n",
        "\n",
        "No caso da **aceleração** assim como no caso do **pêndulo simples**, a equação diferencial é de segundo grau. \n",
        "\n",
        "Nesse caso é necessário na iteração resolver para $v$ e para $x$. \n",
        "\n",
        "A expressão para a aceleração pode ser uma função da posição, do tempo e também da velocidade, $a(v,x,t)$.\n",
        "\n",
        "$ v(t_i)= v_{i} = v_{i-1} + a(v_{i-1},x_{i-1},t_{i-1}) * h $\n",
        "\n",
        "e\n",
        "\n",
        "$ x(t_i)= x_{i} = x_{i-1} + v_{i-1} *h $\n",
        "<br>\n",
        "<br>\n",
        "\n",
        "A escolha do valor da velocidade pode ser:\n",
        "* a velocidade no ponto anterior (**método de Euler**);\n",
        "* a velocidade atualizada;\n",
        "* uma média das duas (método do ponto médio). "
      ]
    },
    {
      "cell_type": "markdown",
      "metadata": {
        "id": "oFqx0jRchF7T"
      },
      "source": [
        "### Exercícios extras de resolução numérica de equações  diferenciais (da aula passada)\n",
        "\n",
        "1. Imagine que tem um/a maratonista treinando, que num trecho de $5 km$ tem velocidade quase constante de $12 km/h$. Produza uma lista distância percorrida em intervalos de 1 minuto.\n",
        "\n",
        "1. O/A mesmo/a atleta no seguinte trecho acelera por $200$ metros até chegar em $15 km/h$ por $2 km$. Queremos obter uma tabela ou gráfico da distância percorrida en função do tempo e o tempo total para chegar em $7 km$, faça isto utilizando listas.\n",
        "\n",
        "1. Considere um pêndulo simples num plano. O comprimento da linha é $1$ metro, a massa é $0,2 kg$ e a aceleração de gravidade $9,8 m/s^2$. Faça um gráfico ou crie uma tabela para a posição em coordenadas cartesianas em função do tempo, utilizando listas.\n",
        "\n",
        "1. Resolva o pêndulo simples com coordenadas polares (ao invés de coordenadas cartesianas).\n",
        "\n",
        "- (opcional) Pesquise sobre o pacote numpy e os objetos desse pacote chamados array, tente utilizálos ao invés de listas para resolver os exercícios.\n",
        "\n",
        "- (opcional) Pesquise sobre o pacote scipy e seu modulo integrate para resolver integrações ou equações diferenciais numéricamente.\n"
      ]
    },
    {
      "cell_type": "markdown",
      "metadata": {
        "id": "3BPZiANObtJS"
      },
      "source": [
        "Exercício 3 e 4:"
      ]
    },
    {
      "cell_type": "code",
      "metadata": {
        "colab": {
          "base_uri": "https://localhost:8080/",
          "height": 541
        },
        "id": "syU0568Pb0BP",
        "outputId": "74870416-be8d-42b0-d74b-9c209ce450db"
      },
      "source": [
        "import math\n",
        "import numpy as np\n",
        "import matplotlib.pyplot as plt\n",
        "\n",
        "\n",
        "def theta2_prime(t, theta1, g = 9.8, l = 1):\n",
        "    return -(g/l)*math.sin(theta1)\n",
        "\n",
        "def theta1_prime(t, theta2):\n",
        "    return theta2\n",
        "\n",
        "def euler_cromer_2order(theta1_prime, theta2_prime, t, theta1_0, theta2_0):\n",
        "    theta1 = [theta1_0]   \n",
        "    theta2 = [theta2_0]    \n",
        "    dt = t[1] - t[0]\n",
        "    for i in range(len(t)-1):\n",
        "        theta1_iplus1 = theta1[i] + theta1_prime(t[i], theta2[i])*dt\n",
        "        theta2_iplus1 = theta2[i] + theta2_prime(t[i], theta1[i])*dt\n",
        "        theta1.append(theta1_iplus1)\n",
        "        theta2.append(theta2_iplus1)\n",
        "    return theta1, theta2\n",
        "\n",
        "t = np.arange(0, 2, 0.001)\n",
        "a = math.pi/3\n",
        "theta1, theta2 = euler_cromer_2order(theta1_prime, theta2_prime, t, a, 0)\n",
        "\n",
        "\n",
        "plt.plot(t, theta1)\n",
        "plt.xlabel(\"t (s)\")\n",
        "plt.ylabel(\"ângulo (radianos)\")\n",
        "plt.show()\n",
        "plt.plot(t, theta2)\n",
        "plt.xlabel(\"t (s)\")\n",
        "plt.ylabel(\"velocidade angular (radianos/s)\")\n",
        "plt.show()"
      ],
      "execution_count": 50,
      "outputs": [
        {
          "output_type": "display_data",
          "data": {
            "image/png": "[encoded data removed]",
            "text/plain": [
              "<Figure size 432x288 with 1 Axes>"
            ]
          },
          "metadata": {
            "tags": [],
            "needs_background": "light"
          }
        },
        {
          "output_type": "display_data",
          "data": {
            "image/png": "[encoded data removed]",
            "text/plain": [
              "<Figure size 432x288 with 1 Axes>"
            ]
          },
          "metadata": {
            "tags": [],
            "needs_background": "light"
          }
        }
      ]
    },
    {
      "cell_type": "code",
      "metadata": {
        "colab": {
          "base_uri": "https://localhost:8080/",
          "height": 283
        },
        "id": "ATDTnFAVvY7r",
        "outputId": "f4cc04a5-53c6-4d09-e95b-46406ed54d91"
      },
      "source": [
        "def pendulum_x(amplitude, length, theta, g):\n",
        "    ''' x position of the simple pendulum (amplitude << 1)\n",
        "    for angle(time = 0) = amplitude and Derivative[angle](time = 0)\n",
        "    = 0 '''\n",
        "    import math\n",
        "    x = length*math.sin(theta)\n",
        "    return x \n",
        "\n",
        "def pendulum_y(amplitude, length, theta, g):\n",
        "    ''' y position of the simple pendulum (amplitude << 1)\n",
        "    for angle(time = 0) = amplitude and Derivative[angle](time = 0)\n",
        "    = 0 '''\n",
        "    import math\n",
        "    y = - length*math.cos(theta)\n",
        "    return y \n",
        "\n",
        "x = []\n",
        "y = []\n",
        "for i in range(len(t)-1):\n",
        "    x.append(pendulum_x(a, 1, theta1[i], 9.8))\n",
        "    y.append(pendulum_y(a, 1, theta1[i], 9.8))\n",
        "\n",
        "plt.plot(x, y)\n",
        "plt.axis([-0.9, 0.9, -1.8, 0])\n",
        "plt.xlabel(\"x (m)\")\n",
        "plt.ylabel(\"y (m)\")\n",
        "plt.show() \n"
      ],
      "execution_count": 48,
      "outputs": [
        {
          "output_type": "display_data",
          "data": {
            "image/png": "[encoded data removed]",
            "text/plain": [
              "<Figure size 432x288 with 1 Axes>"
            ]
          },
          "metadata": {
            "tags": [],
            "needs_background": "light"
          }
        }
      ]
    },
    {
      "cell_type": "code",
      "metadata": {
        "colab": {
          "base_uri": "https://localhost:8080/",
          "height": 269
        },
        "id": "X0IIJ0pt3aCj",
        "outputId": "336b1763-9ca9-48fc-c780-ef29f008a246"
      },
      "source": [
        "import matplotlib.animation as animation\n",
        "from matplotlib import rc\n",
        "rc('animation', html='jshtml')\n",
        "from IPython.display import HTML, Image, display # For GIF\n",
        "\n",
        "fig, ax = plt.subplots()\n",
        "xdata, ydata = x, y\n",
        "ln, = plt.plot([], [], 'ro', animated = True)    ### A massa \n",
        "spring, = plt.plot([], [], 'b-', linewidth = 2)  ### A linha do pendulo\n",
        "traj, = plt.plot([], [],'g-', linewidth=1)         ### A trajetoria\n",
        "\n",
        "\n",
        "def init():\n",
        "   L = 1\n",
        "   ax.set_xlim(-1.1*L, 1.1*L)      ### O “quadro” e eixos, \n",
        "   ax.set_ylim(-1.1*L,0)           ### no caso do pendulo simples L delimita o tamanho\n",
        "   return ln,\n",
        "\n",
        "def draw(n):\n",
        "   spring.set_data([0.0, xdata[n]], [0.0,  ydata[n]])\n",
        "   ln.set_data(xdata[n], ydata[n])\n",
        "   traj.set_data(xdata[:n],ydata[:n])\n",
        "   return spring, ln, traj\n",
        "\n",
        "ani = animation.FuncAnimation(fig, draw, 301, interval= 1,  init_func=init, blit=True)\n",
        "# Save as GIF\n",
        "ani.save('anima_pendulo_simples.gif', writer='pillow', fps=60)\n"
      ],
      "execution_count": 49,
      "outputs": [
        {
          "output_type": "display_data",
          "data": {
            "image/png": "[encoded data removed]",
            "text/plain": [
              "<Figure size 432x288 with 1 Axes>"
            ]
          },
          "metadata": {
            "tags": [],
            "needs_background": "light"
          }
        }
      ]
    }
  ]
}