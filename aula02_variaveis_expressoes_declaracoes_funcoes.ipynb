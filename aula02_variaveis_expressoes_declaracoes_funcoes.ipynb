{
  "nbformat": 4,
  "nbformat_minor": 0,
  "metadata": {
    "kernelspec": {
      "display_name": "Python 3",
      "language": "python",
      "name": "python3"
    },
    "language_info": {
      "codemirror_mode": {
        "name": "ipython",
        "version": 3
      },
      "file_extension": ".py",
      "mimetype": "text/x-python",
      "name": "python",
      "nbconvert_exporter": "python",
      "pygments_lexer": "ipython3",
      "version": "3.7.0"
    },
    "colab": {
      "name": " aula2_variaveis_expressoes_declaracoes_funcoes.ipynb",
      "provenance": [],
      "collapsed_sections": [
        "ovDMJX2TyAlZ",
        "VKVkWHALyAli",
        "fhVLq2sGyAll",
        "1D7bGyTuyAlr",
        "xLQU58LJyAl8",
        "9K0YVGLjyAmA",
        "LDYykqsryAmT",
        "5w0g3eItyAmZ",
        "t9JkW-fLyAmc",
        "LIEmLrEiyAmg",
        "Pg2nZDTayAmq",
        "ApWStk60yAm4",
        "Vz8GxGVqyAm5",
        "yvM-GLIOyAm6",
        "4S5d3rEkyAm9",
        "CmmYIGI7yAnP",
        "lY0k8SHNyAni"
      ],
      "include_colab_link": true
    }
  },
  "cells": [
    {
      "cell_type": "markdown",
      "metadata": {
        "id": "view-in-github",
        "colab_type": "text"
      },
      "source": [
        "<a href=\"https://colab.research.google.com/github/eduvaladao/aulas_python_UERJ/blob/main/aula2_variaveis_expressoes_declaracoes_funcoes.ipynb\" target=\"_parent\"><img src=\"https://colab.research.google.com/assets/colab-badge.svg\" alt=\"Open In Colab\"/></a>"
      ]
    },
    {
      "cell_type": "markdown",
      "metadata": {
        "id": "lelXyfLdyAko"
      },
      "source": [
        "Essa aula é uma tradução, com algumas poucas modificações, do livro online: ***\"Think Python: How to Think Like a Computer Scientist\", Allen B. Downey, Version 2.0.17***\n",
        "http://greenteapress.com/thinkpython2/html/index.html\n",
        "\n",
        "\n",
        "Existe também uma versão do livro em português: https://penseallen.github.io/PensePython2e/"
      ]
    },
    {
      "cell_type": "markdown",
      "metadata": {
        "id": "bJijrhpvyAkq"
      },
      "source": [
        "# Variáveis, expressões e declarações"
      ]
    },
    {
      "cell_type": "markdown",
      "metadata": {
        "id": "_bhRA5L9yAku"
      },
      "source": [
        "## Valores e tipos\n",
        "\n",
        "* **valor** : algo fundamental manipulado pelo programa\n",
        "   * letra\n",
        "   * número\n",
        "* **tipo** : classificação dos valores\n",
        "   * letra: string\n",
        "   * número: inteiro, float, bool\n",
        "\n",
        "#### String\n",
        "* o tipo string é *str* e é identificado por aspas"
      ]
    },
    {
      "cell_type": "code",
      "metadata": {
        "id": "RYRG4hz_yAkv",
        "colab": {
          "base_uri": "https://localhost:8080/",
          "height": 35
        },
        "outputId": "061f69f0-565c-4232-9657-e653e8af16a6"
      },
      "source": [
        "'letras'"
      ],
      "execution_count": null,
      "outputs": [
        {
          "output_type": "execute_result",
          "data": {
            "application/vnd.google.colaboratory.intrinsic+json": {
              "type": "string"
            },
            "text/plain": [
              "'letras'"
            ]
          },
          "metadata": {
            "tags": []
          },
          "execution_count": 28
        }
      ]
    },
    {
      "cell_type": "markdown",
      "metadata": {
        "id": "cDzybOZLyAk1"
      },
      "source": [
        "#### Float\n",
        "* os números reais são representados pelo tipo de dados *float*"
      ]
    },
    {
      "cell_type": "code",
      "metadata": {
        "id": "B0jZHHaIyAk2",
        "colab": {
          "base_uri": "https://localhost:8080/"
        },
        "outputId": "27481a9b-33cb-4f2c-ecc7-f5bac56b9f64"
      },
      "source": [
        "10.8"
      ],
      "execution_count": null,
      "outputs": [
        {
          "output_type": "execute_result",
          "data": {
            "text/plain": [
              "10.8"
            ]
          },
          "metadata": {
            "tags": []
          },
          "execution_count": 29
        }
      ]
    },
    {
      "cell_type": "markdown",
      "metadata": {
        "id": "g2hnhSZKyAk5"
      },
      "source": [
        "Para saber o **tipo** de dados:"
      ]
    },
    {
      "cell_type": "code",
      "metadata": {
        "id": "rShNIDOGyAk6",
        "colab": {
          "base_uri": "https://localhost:8080/"
        },
        "outputId": "891bcb72-295b-48e3-f95f-031eee6ba403"
      },
      "source": [
        "type('letras')"
      ],
      "execution_count": null,
      "outputs": [
        {
          "output_type": "execute_result",
          "data": {
            "text/plain": [
              "str"
            ]
          },
          "metadata": {
            "tags": []
          },
          "execution_count": 30
        }
      ]
    },
    {
      "cell_type": "code",
      "metadata": {
        "id": "bgLmjbLzyAk-",
        "colab": {
          "base_uri": "https://localhost:8080/"
        },
        "outputId": "b35c8b72-bc9e-403f-fa57-d4d4d1d8fb80"
      },
      "source": [
        "type(10.8)"
      ],
      "execution_count": null,
      "outputs": [
        {
          "output_type": "execute_result",
          "data": {
            "text/plain": [
              "float"
            ]
          },
          "metadata": {
            "tags": []
          },
          "execution_count": 31
        }
      ]
    },
    {
      "cell_type": "code",
      "metadata": {
        "id": "_ce8NeUqyAlC",
        "colab": {
          "base_uri": "https://localhost:8080/"
        },
        "outputId": "44873cf0-572a-4267-c29b-1331772cdba1"
      },
      "source": [
        "type(8)"
      ],
      "execution_count": null,
      "outputs": [
        {
          "output_type": "execute_result",
          "data": {
            "text/plain": [
              "int"
            ]
          },
          "metadata": {
            "tags": []
          },
          "execution_count": 32
        }
      ]
    },
    {
      "cell_type": "code",
      "metadata": {
        "id": "3K2FzKtzyAlF",
        "colab": {
          "base_uri": "https://localhost:8080/"
        },
        "outputId": "212dc1bd-0e48-4805-aa0f-cff8574edd57"
      },
      "source": [
        "type('3.8')"
      ],
      "execution_count": null,
      "outputs": [
        {
          "output_type": "execute_result",
          "data": {
            "text/plain": [
              "str"
            ]
          },
          "metadata": {
            "tags": []
          },
          "execution_count": 33
        }
      ]
    },
    {
      "cell_type": "markdown",
      "metadata": {
        "id": "AqGNnOVIyAlI"
      },
      "source": [
        "## Variáveis\n",
        "\n",
        "Uma **variável** é um nome que se refere a um **valor**.\n",
        "\n",
        "\n",
        "Uma **declaração de atribuição** de variáveis, cria novas variáveis e lhes atribui valores:"
      ]
    },
    {
      "cell_type": "code",
      "metadata": {
        "id": "eekgmp1XyAlJ"
      },
      "source": [
        "mensagem = 'Temos um número grande alunos inscritos na disciplina'"
      ],
      "execution_count": null,
      "outputs": []
    },
    {
      "cell_type": "code",
      "metadata": {
        "colab": {
          "base_uri": "https://localhost:8080/",
          "height": 35
        },
        "id": "aTsV35iH4hP1",
        "outputId": "4034cdbd-5bac-4eeb-87d1-08197fed0435"
      },
      "source": [
        "mensagem"
      ],
      "execution_count": null,
      "outputs": [
        {
          "output_type": "execute_result",
          "data": {
            "application/vnd.google.colaboratory.intrinsic+json": {
              "type": "string"
            },
            "text/plain": [
              "'Temos um número grande alunos inscritos na disciplina'"
            ]
          },
          "metadata": {
            "tags": []
          },
          "execution_count": 35
        }
      ]
    },
    {
      "cell_type": "code",
      "metadata": {
        "id": "7OeSFySfyAlM",
        "colab": {
          "base_uri": "https://localhost:8080/"
        },
        "outputId": "aa620c8e-77f3-4405-db45-b2fb0958d446"
      },
      "source": [
        "n_alunos = 25\n",
        "n_alunos"
      ],
      "execution_count": null,
      "outputs": [
        {
          "output_type": "execute_result",
          "data": {
            "text/plain": [
              "25"
            ]
          },
          "metadata": {
            "tags": []
          },
          "execution_count": 37
        }
      ]
    },
    {
      "cell_type": "code",
      "metadata": {
        "id": "Panrmk5NyAlP",
        "colab": {
          "base_uri": "https://localhost:8080/"
        },
        "outputId": "5b7fc3ed-8f3d-4f21-8f40-3d134d57ee00"
      },
      "source": [
        "pi = 3.1415926535897932\n",
        "pi"
      ],
      "execution_count": null,
      "outputs": [
        {
          "output_type": "execute_result",
          "data": {
            "text/plain": [
              "3.141592653589793"
            ]
          },
          "metadata": {
            "tags": []
          },
          "execution_count": 39
        }
      ]
    },
    {
      "cell_type": "code",
      "metadata": {
        "id": "ZrfHXsU0yAlR",
        "colab": {
          "base_uri": "https://localhost:8080/"
        },
        "outputId": "266b0fdb-9154-444d-ae68-1fc0cf08f8ca"
      },
      "source": [
        "type(mensagem)"
      ],
      "execution_count": null,
      "outputs": [
        {
          "output_type": "execute_result",
          "data": {
            "text/plain": [
              "str"
            ]
          },
          "metadata": {
            "tags": []
          },
          "execution_count": 40
        }
      ]
    },
    {
      "cell_type": "code",
      "metadata": {
        "id": "NTIHLjqCyAlU",
        "colab": {
          "base_uri": "https://localhost:8080/"
        },
        "outputId": "3a0e636e-cfa5-4b33-84ca-030686a79a80"
      },
      "source": [
        "type(n_alunos)"
      ],
      "execution_count": null,
      "outputs": [
        {
          "output_type": "execute_result",
          "data": {
            "text/plain": [
              "int"
            ]
          },
          "metadata": {
            "tags": []
          },
          "execution_count": 41
        }
      ]
    },
    {
      "cell_type": "code",
      "metadata": {
        "id": "Sjo05z0syAlW",
        "colab": {
          "base_uri": "https://localhost:8080/"
        },
        "outputId": "bff3257e-02e5-4c6a-f281-93748654d270"
      },
      "source": [
        "type(pi)"
      ],
      "execution_count": null,
      "outputs": [
        {
          "output_type": "execute_result",
          "data": {
            "text/plain": [
              "float"
            ]
          },
          "metadata": {
            "tags": []
          },
          "execution_count": 42
        }
      ]
    },
    {
      "cell_type": "markdown",
      "metadata": {
        "id": "ovDMJX2TyAlZ"
      },
      "source": [
        "## Nomes de variáveis e palavras-chave\n",
        "Em geral, é de boa prática usarmos nomes de variáveis sugestivos.\n",
        "\n",
        "Nomes de variáveis podem ser arbitrariamente longos. Eles podem conter letras e números, mas **precisam começar com uma letra**. \n",
        "Pode-se usar letras maiúsculas, mas a diretriz de programação em Python é começar nomes de variáveis com letras minúsculas.\n",
        "\n",
        "O caractere *underline*, '_',  pode aparecer em um nome. É frequentemente usado em nomes com várias palavras, como *meu_nome* ou *massa_de_repouso*.\n",
        "\n",
        "Ao criar uma variável com um nome não permitido, haverá um erro de sintaxe:"
      ]
    },
    {
      "cell_type": "code",
      "metadata": {
        "id": "kNPMnzy1yAlZ",
        "colab": {
          "base_uri": "https://localhost:8080/",
          "height": 132
        },
        "outputId": "e5992d02-9f58-403e-ba9f-7a48122f4062"
      },
      "source": [
        "500mil_pessoas = 'multidao'"
      ],
      "execution_count": null,
      "outputs": [
        {
          "output_type": "error",
          "ename": "SyntaxError",
          "evalue": "ignored",
          "traceback": [
            "\u001b[0;36m  File \u001b[0;32m\"<ipython-input-43-20b6b75de348>\"\u001b[0;36m, line \u001b[0;32m1\u001b[0m\n\u001b[0;31m    500mil_pessoas = 'multidao'\u001b[0m\n\u001b[0m                 ^\u001b[0m\n\u001b[0;31mSyntaxError\u001b[0m\u001b[0;31m:\u001b[0m invalid syntax\n"
          ]
        }
      ]
    },
    {
      "cell_type": "code",
      "metadata": {
        "id": "hqHlckTuyAlc",
        "colab": {
          "base_uri": "https://localhost:8080/",
          "height": 132
        },
        "outputId": "f2f76677-c4ac-476f-db34-31ab8e0ab067"
      },
      "source": [
        "milh@res = 10000 "
      ],
      "execution_count": null,
      "outputs": [
        {
          "output_type": "error",
          "ename": "SyntaxError",
          "evalue": "ignored",
          "traceback": [
            "\u001b[0;36m  File \u001b[0;32m\"<ipython-input-44-bf37c9c6512e>\"\u001b[0;36m, line \u001b[0;32m1\u001b[0m\n\u001b[0;31m    milh@res = 10000\u001b[0m\n\u001b[0m                     ^\u001b[0m\n\u001b[0;31mSyntaxError\u001b[0m\u001b[0;31m:\u001b[0m can't assign to operator\n"
          ]
        }
      ]
    },
    {
      "cell_type": "code",
      "metadata": {
        "id": "DbD14wyoyAlf",
        "colab": {
          "base_uri": "https://localhost:8080/",
          "height": 132
        },
        "outputId": "5ecdf0c3-0b08-4401-cbaa-dca98aed297c"
      },
      "source": [
        "class = 'Introdução a Python'"
      ],
      "execution_count": null,
      "outputs": [
        {
          "output_type": "error",
          "ename": "SyntaxError",
          "evalue": "ignored",
          "traceback": [
            "\u001b[0;36m  File \u001b[0;32m\"<ipython-input-45-6c404f2ec67c>\"\u001b[0;36m, line \u001b[0;32m1\u001b[0m\n\u001b[0;31m    class = 'Introdução a Python'\u001b[0m\n\u001b[0m          ^\u001b[0m\n\u001b[0;31mSyntaxError\u001b[0m\u001b[0;31m:\u001b[0m invalid syntax\n"
          ]
        }
      ]
    },
    {
      "cell_type": "markdown",
      "metadata": {
        "id": "VKVkWHALyAli"
      },
      "source": [
        "#### Palavras-chave de Python"
      ]
    },
    {
      "cell_type": "code",
      "metadata": {
        "id": "sWr9j7SEyAli",
        "colab": {
          "base_uri": "https://localhost:8080/"
        },
        "outputId": "a725d410-fe64-4275-985a-22be4005c9d0"
      },
      "source": [
        "import keyword\n",
        "print(keyword.kwlist)"
      ],
      "execution_count": null,
      "outputs": [
        {
          "output_type": "stream",
          "text": [
            "['False', 'None', 'True', 'and', 'as', 'assert', 'async', 'await', 'break', 'class', 'continue', 'def', 'del', 'elif', 'else', 'except', 'finally', 'for', 'from', 'global', 'if', 'import', 'in', 'is', 'lambda', 'nonlocal', 'not', 'or', 'pass', 'raise', 'return', 'try', 'while', 'with', 'yield']\n"
          ],
          "name": "stdout"
        }
      ]
    },
    {
      "cell_type": "markdown",
      "metadata": {
        "id": "fhVLq2sGyAll"
      },
      "source": [
        "## Operadores e operandos\n",
        "* **Operadores**: símbolos especiais que representam cálculos como adição e multiplicação. \n",
        "* **Operandos**: valores aos quais o operador é aplicado.\n",
        "\n",
        "### Operadores:\n",
        "* adição: + \n",
        "* subtração: - \n",
        "* divisão: /\n",
        "* multiplicação: *\n",
        "* potência: **"
      ]
    },
    {
      "cell_type": "markdown",
      "metadata": {
        "id": "g0uSfIsQyAll"
      },
      "source": [
        "Em **python2**, a divisão de inteiros retorna um inteiro (**divisão de piso**). \n",
        "\n",
        "Porém, em **python3**, o resultado é um float:"
      ]
    },
    {
      "cell_type": "code",
      "metadata": {
        "id": "_a4fFXlxyAlm",
        "colab": {
          "base_uri": "https://localhost:8080/"
        },
        "outputId": "8940040a-1be7-4c6a-aa60-36dbbd46b4bf"
      },
      "source": [
        "59/60"
      ],
      "execution_count": null,
      "outputs": [
        {
          "output_type": "execute_result",
          "data": {
            "text/plain": [
              "0.9833333333333333"
            ]
          },
          "metadata": {
            "tags": []
          },
          "execution_count": 47
        }
      ]
    },
    {
      "cell_type": "code",
      "metadata": {
        "id": "nhHqhOAEyAlo",
        "colab": {
          "base_uri": "https://localhost:8080/"
        },
        "outputId": "3bed3872-55b8-4efb-c969-b5d8e313c31b"
      },
      "source": [
        "# Para divisão de piso em python3:\n",
        "59//60"
      ],
      "execution_count": null,
      "outputs": [
        {
          "output_type": "execute_result",
          "data": {
            "text/plain": [
              "0"
            ]
          },
          "metadata": {
            "tags": []
          },
          "execution_count": 48
        }
      ]
    },
    {
      "cell_type": "markdown",
      "metadata": {
        "id": "1D7bGyTuyAlr"
      },
      "source": [
        "## Expressões e declarações\n",
        "Uma **expressão** é uma combinação de *valores*, *variáveis* e *operadores*. \n",
        "\n",
        "Um valor por si só é considerado uma expressão.\n",
        "\n",
        "Uma variável por si só também é considerada uma expressão.\n",
        "\n",
        "Exemplos de expressão:"
      ]
    },
    {
      "cell_type": "code",
      "metadata": {
        "id": "kjQ96wYiyAls",
        "colab": {
          "base_uri": "https://localhost:8080/"
        },
        "outputId": "d5679962-f66f-47d1-cba6-029354ecc220"
      },
      "source": [
        "n_alunos"
      ],
      "execution_count": null,
      "outputs": [
        {
          "output_type": "execute_result",
          "data": {
            "text/plain": [
              "25"
            ]
          },
          "metadata": {
            "tags": []
          },
          "execution_count": 49
        }
      ]
    },
    {
      "cell_type": "code",
      "metadata": {
        "id": "ct3w6YuqyAlv",
        "colab": {
          "base_uri": "https://localhost:8080/"
        },
        "outputId": "f11cbd65-fcc9-465e-aff4-e7f5c397c954"
      },
      "source": [
        "20"
      ],
      "execution_count": null,
      "outputs": [
        {
          "output_type": "execute_result",
          "data": {
            "text/plain": [
              "20"
            ]
          },
          "metadata": {
            "tags": []
          },
          "execution_count": 50
        }
      ]
    },
    {
      "cell_type": "code",
      "metadata": {
        "id": "tGsdE5X9yAl0",
        "colab": {
          "base_uri": "https://localhost:8080/"
        },
        "outputId": "0c1274bc-01c6-435d-b9ed-0bd1ad08edc4"
      },
      "source": [
        "n_alunos + 20"
      ],
      "execution_count": null,
      "outputs": [
        {
          "output_type": "execute_result",
          "data": {
            "text/plain": [
              "45"
            ]
          },
          "metadata": {
            "tags": []
          },
          "execution_count": 51
        }
      ]
    },
    {
      "cell_type": "markdown",
      "metadata": {
        "id": "JwPi2FD6yAl2"
      },
      "source": [
        "Uma **declaração** é um pedaço de código que o interpretador de Python pode executar. \n",
        "Por exemplo, uma atribuição (*assignment*) também é uma declaração: "
      ]
    },
    {
      "cell_type": "code",
      "metadata": {
        "id": "ekbstHg3yAl2"
      },
      "source": [
        "x = 20"
      ],
      "execution_count": null,
      "outputs": []
    },
    {
      "cell_type": "code",
      "metadata": {
        "id": "OV7WnTOWyAl6",
        "colab": {
          "base_uri": "https://localhost:8080/"
        },
        "outputId": "ae0a3e44-86aa-4297-a1aa-e4ebca155529"
      },
      "source": [
        "print(' \"print\" também é uma declaração')"
      ],
      "execution_count": null,
      "outputs": [
        {
          "output_type": "stream",
          "text": [
            " \"print\" também é uma declaração\n"
          ],
          "name": "stdout"
        }
      ]
    },
    {
      "cell_type": "markdown",
      "metadata": {
        "id": "JFrzoqa-4f7b"
      },
      "source": [
        "* Quando criamos uma **expressão** o interpretador **calcula** algo e obtém um resultado;\n",
        "* Ao criar uma **declaração**, o interpretador de Python precisa **executar** a declaração, que é atender ao comando da declaração. Em geral, declarações não precisam ter um resultado."
      ]
    },
    {
      "cell_type": "markdown",
      "metadata": {
        "id": "xLQU58LJyAl8"
      },
      "source": [
        "### Exercício\n",
        "Digite as seguintes expressões e/ou declarações no prompt e veja o que elas fazem:\n",
        "* 5\n",
        "* x = 5\n",
        "* x + 1\n",
        "\n",
        "Em seguida, escreva um script com as declarações e compare a saída do script e do prompt. Modifique o script para que as saídas (do script e prompt) sejam iguais."
      ]
    },
    {
      "cell_type": "code",
      "metadata": {
        "id": "LE6WbfsU9L3g",
        "colab": {
          "base_uri": "https://localhost:8080/"
        },
        "outputId": "b232ed96-1c4e-4c04-947b-70ac96e0d300"
      },
      "source": [
        "5"
      ],
      "execution_count": null,
      "outputs": [
        {
          "output_type": "execute_result",
          "data": {
            "text/plain": [
              "5"
            ]
          },
          "metadata": {
            "tags": []
          },
          "execution_count": 54
        }
      ]
    },
    {
      "cell_type": "code",
      "metadata": {
        "id": "_cEqIa_VDJ7p"
      },
      "source": [
        "x = 5"
      ],
      "execution_count": null,
      "outputs": []
    },
    {
      "cell_type": "code",
      "metadata": {
        "id": "JshLSsPBDMim",
        "colab": {
          "base_uri": "https://localhost:8080/"
        },
        "outputId": "e253d791-df8e-4be7-903d-42cfe1813eb4"
      },
      "source": [
        "x + 1"
      ],
      "execution_count": null,
      "outputs": [
        {
          "output_type": "execute_result",
          "data": {
            "text/plain": [
              "6"
            ]
          },
          "metadata": {
            "tags": []
          },
          "execution_count": 56
        }
      ]
    },
    {
      "cell_type": "code",
      "metadata": {
        "id": "3vltzq-M-pTE",
        "colab": {
          "base_uri": "https://localhost:8080/"
        },
        "outputId": "59b66429-cc03-4cef-ff56-fcdd04448b33"
      },
      "source": [
        "# esse comando logo abaixo é do jupyter notebook para escrever um artigo .py\n",
        "%%writefile ex_aula2.py\n",
        "5\n",
        "x = 5\n",
        "x + 1\n"
      ],
      "execution_count": null,
      "outputs": [
        {
          "output_type": "stream",
          "text": [
            "Writing ex_aula2.py\n"
          ],
          "name": "stdout"
        }
      ]
    },
    {
      "cell_type": "code",
      "metadata": {
        "id": "7RxF7atIyAl9"
      },
      "source": [
        "# como rodar um script a partir do jupyter notebook:\n",
        "%run -i ex_aula2.py"
      ],
      "execution_count": null,
      "outputs": []
    },
    {
      "cell_type": "markdown",
      "metadata": {
        "id": "zIOTCGal9reh"
      },
      "source": [
        "Em um script, para que o resultado de uma expressão seja impresso na tela, é preciso imprimí-lo explicitamente.\n"
      ]
    },
    {
      "cell_type": "code",
      "metadata": {
        "colab": {
          "base_uri": "https://localhost:8080/"
        },
        "id": "raHf9h0b-bmk",
        "outputId": "1b1c83b9-461d-4d77-e950-48fa15d920cd"
      },
      "source": [
        "# esse comando logo abaixo é do jupyter notebook para escrever um artigo .py\n",
        "%%writefile ex_aula2.py\n",
        "5\n",
        "x = 5\n",
        "x + 1 \n",
        "\n",
        "print(5)\n",
        "print(x)\n",
        "print(x+1)\n"
      ],
      "execution_count": null,
      "outputs": [
        {
          "output_type": "stream",
          "text": [
            "Overwriting ex_aula2.py\n"
          ],
          "name": "stdout"
        }
      ]
    },
    {
      "cell_type": "code",
      "metadata": {
        "colab": {
          "base_uri": "https://localhost:8080/"
        },
        "id": "kaqiCBfn_CeB",
        "outputId": "f71aa407-3320-42e4-cd3a-6fb709d8d641"
      },
      "source": [
        "# como rodar um script a partir do jupyter notebook:\n",
        "%run -i ex_aula2.py"
      ],
      "execution_count": null,
      "outputs": [
        {
          "output_type": "stream",
          "text": [
            "5\n",
            "5\n",
            "6\n"
          ],
          "name": "stdout"
        }
      ]
    },
    {
      "cell_type": "markdown",
      "metadata": {
        "id": "9K0YVGLjyAmA"
      },
      "source": [
        "## Ordem das Operações\n",
        "\n",
        "Quando mais de um operador aparece em uma expressão, a ordem de avaliação depende das **regras de precedência**. Para operadores matemáticos, o **Python segue a convenção matemática**. O acrônimo **PEMDAS (Parênteses, Exponenciação, Multiplicação e Divisão)** é uma maneira útil de lembrar as regras:\n",
        "\n",
        "**P**arênteses: têm a precedência mais alta e podem ser usados para forçar uma expressão a ser avaliada na ordem desejada. As expressões entre parênteses são avaliadas primeiro.\n",
        "\n",
        "Você também pode usar parênteses para melhorar a legibilidade, mesmo não alterando o resultado."
      ]
    },
    {
      "cell_type": "code",
      "metadata": {
        "id": "h4j1JDFxyAmA",
        "colab": {
          "base_uri": "https://localhost:8080/"
        },
        "outputId": "755ab521-55b3-4414-843c-80dd63aed6fd"
      },
      "source": [
        "2 * (3 - 1)"
      ],
      "execution_count": null,
      "outputs": [
        {
          "output_type": "execute_result",
          "data": {
            "text/plain": [
              "4"
            ]
          },
          "metadata": {
            "tags": []
          },
          "execution_count": 62
        }
      ]
    },
    {
      "cell_type": "code",
      "metadata": {
        "id": "7f3yC-CEyAmD",
        "colab": {
          "base_uri": "https://localhost:8080/"
        },
        "outputId": "531fcb43-830c-42b9-8e6a-e723cdb10481"
      },
      "source": [
        "(1 + 1)**(5 - 2)"
      ],
      "execution_count": null,
      "outputs": [
        {
          "output_type": "execute_result",
          "data": {
            "text/plain": [
              "8"
            ]
          },
          "metadata": {
            "tags": []
          },
          "execution_count": 63
        }
      ]
    },
    {
      "cell_type": "code",
      "metadata": {
        "id": "pH750EvYyAmF",
        "colab": {
          "base_uri": "https://localhost:8080/"
        },
        "outputId": "4d462de9-880e-42bd-add5-0318c98e44d2"
      },
      "source": [
        "(n_alunos * 100) / 60"
      ],
      "execution_count": null,
      "outputs": [
        {
          "output_type": "execute_result",
          "data": {
            "text/plain": [
              "41.666666666666664"
            ]
          },
          "metadata": {
            "tags": []
          },
          "execution_count": 64
        }
      ]
    },
    {
      "cell_type": "markdown",
      "metadata": {
        "id": "cxN4MvhNyAmH"
      },
      "source": [
        "**E**xponenciação: tem a segunda precedência mais alta:"
      ]
    },
    {
      "cell_type": "code",
      "metadata": {
        "id": "WMRKhSxeyAmH",
        "colab": {
          "base_uri": "https://localhost:8080/"
        },
        "outputId": "9a4b7c86-c224-41e3-8e7c-0b4c053b2a31"
      },
      "source": [
        "2 ** 1 + 1"
      ],
      "execution_count": null,
      "outputs": [
        {
          "output_type": "execute_result",
          "data": {
            "text/plain": [
              "3"
            ]
          },
          "metadata": {
            "tags": []
          },
          "execution_count": 65
        }
      ]
    },
    {
      "cell_type": "code",
      "metadata": {
        "id": "X1SZYx89yAmK",
        "colab": {
          "base_uri": "https://localhost:8080/"
        },
        "outputId": "004f7da6-10d2-41be-c39a-0a77e6c2eda3"
      },
      "source": [
        "3 * 1 ** 3"
      ],
      "execution_count": null,
      "outputs": [
        {
          "output_type": "execute_result",
          "data": {
            "text/plain": [
              "3"
            ]
          },
          "metadata": {
            "tags": []
          },
          "execution_count": 66
        }
      ]
    },
    {
      "cell_type": "markdown",
      "metadata": {
        "id": "9U1vUd1ayAmN"
      },
      "source": [
        "**M**ultiplicação e **D**ivisão: têm a mesma precedência, que é maior que **A**dição e **S**ubtração, que também têm a mesma precedência."
      ]
    },
    {
      "cell_type": "code",
      "metadata": {
        "id": "SsDu7MhmyAmO",
        "colab": {
          "base_uri": "https://localhost:8080/"
        },
        "outputId": "2cb66803-fce6-416d-8599-5e8819b95c52"
      },
      "source": [
        "2 * 3 - 1"
      ],
      "execution_count": null,
      "outputs": [
        {
          "output_type": "execute_result",
          "data": {
            "text/plain": [
              "5"
            ]
          },
          "metadata": {
            "tags": []
          },
          "execution_count": 67
        }
      ]
    },
    {
      "cell_type": "code",
      "metadata": {
        "id": "pmHofaQeyAmQ",
        "colab": {
          "base_uri": "https://localhost:8080/"
        },
        "outputId": "96275658-74ca-40a9-fd85-5e6ded79edce"
      },
      "source": [
        "6 + 4/2"
      ],
      "execution_count": null,
      "outputs": [
        {
          "output_type": "execute_result",
          "data": {
            "text/plain": [
              "8.0"
            ]
          },
          "metadata": {
            "tags": []
          },
          "execution_count": 68
        }
      ]
    },
    {
      "cell_type": "markdown",
      "metadata": {
        "id": "cGwkp5A7yAmS"
      },
      "source": [
        "***Na dúvida, use sempre parênteses!***"
      ]
    },
    {
      "cell_type": "markdown",
      "metadata": {
        "id": "LDYykqsryAmT"
      },
      "source": [
        "## Operações com Strings\n",
        "\n",
        "Em geral, **não é possível realizar operações matemáticas em strings**"
      ]
    },
    {
      "cell_type": "code",
      "metadata": {
        "id": "NCV21oC4yAmT",
        "colab": {
          "base_uri": "https://localhost:8080/",
          "height": 167
        },
        "outputId": "950b4ca1-e044-4488-8e36-de6aed8143a6"
      },
      "source": [
        "'2' - '1'"
      ],
      "execution_count": null,
      "outputs": [
        {
          "output_type": "error",
          "ename": "TypeError",
          "evalue": "ignored",
          "traceback": [
            "\u001b[0;31m---------------------------------------------------------------------------\u001b[0m",
            "\u001b[0;31mTypeError\u001b[0m                                 Traceback (most recent call last)",
            "\u001b[0;32m<ipython-input-1-c3c854adf3eb>\u001b[0m in \u001b[0;36m<module>\u001b[0;34m()\u001b[0m\n\u001b[0;32m----> 1\u001b[0;31m \u001b[0;34m'2'\u001b[0m \u001b[0;34m-\u001b[0m \u001b[0;34m'1'\u001b[0m\u001b[0;34m\u001b[0m\u001b[0;34m\u001b[0m\u001b[0m\n\u001b[0m",
            "\u001b[0;31mTypeError\u001b[0m: unsupported operand type(s) for -: 'str' and 'str'"
          ]
        }
      ]
    },
    {
      "cell_type": "code",
      "metadata": {
        "id": "FieeOYMUyAmV",
        "colab": {
          "base_uri": "https://localhost:8080/",
          "height": 167
        },
        "outputId": "81705d94-3f95-4fd6-c486-5a16300696b9"
      },
      "source": [
        "'quebrar' / 'ovos'"
      ],
      "execution_count": null,
      "outputs": [
        {
          "output_type": "error",
          "ename": "TypeError",
          "evalue": "ignored",
          "traceback": [
            "\u001b[0;31m---------------------------------------------------------------------------\u001b[0m",
            "\u001b[0;31mTypeError\u001b[0m                                 Traceback (most recent call last)",
            "\u001b[0;32m<ipython-input-2-188d66571968>\u001b[0m in \u001b[0;36m<module>\u001b[0;34m()\u001b[0m\n\u001b[0;32m----> 1\u001b[0;31m \u001b[0;34m'quebrar'\u001b[0m \u001b[0;34m/\u001b[0m \u001b[0;34m'ovos'\u001b[0m\u001b[0;34m\u001b[0m\u001b[0;34m\u001b[0m\u001b[0m\n\u001b[0m",
            "\u001b[0;31mTypeError\u001b[0m: unsupported operand type(s) for /: 'str' and 'str'"
          ]
        }
      ]
    },
    {
      "cell_type": "code",
      "metadata": {
        "id": "rdulv9iIyAmX",
        "colab": {
          "base_uri": "https://localhost:8080/",
          "height": 167
        },
        "outputId": "cb04f26d-f911-4cc9-f64e-1fa359614a40"
      },
      "source": [
        "'acucar' * 'doce'"
      ],
      "execution_count": null,
      "outputs": [
        {
          "output_type": "error",
          "ename": "TypeError",
          "evalue": "ignored",
          "traceback": [
            "\u001b[0;31m---------------------------------------------------------------------------\u001b[0m",
            "\u001b[0;31mTypeError\u001b[0m                                 Traceback (most recent call last)",
            "\u001b[0;32m<ipython-input-3-cda8bbb9d3ff>\u001b[0m in \u001b[0;36m<module>\u001b[0;34m()\u001b[0m\n\u001b[0;32m----> 1\u001b[0;31m \u001b[0;34m'acucar'\u001b[0m \u001b[0;34m*\u001b[0m \u001b[0;34m'doce'\u001b[0m\u001b[0;34m\u001b[0m\u001b[0;34m\u001b[0m\u001b[0m\n\u001b[0m",
            "\u001b[0;31mTypeError\u001b[0m: can't multiply sequence by non-int of type 'str'"
          ]
        }
      ]
    },
    {
      "cell_type": "markdown",
      "metadata": {
        "id": "5w0g3eItyAmZ"
      },
      "source": [
        "#### O operador '+' pode ser aplicado a strings: ele realiza **concatenação**, o que significa unir as strings vinculando-as de ponta a ponta."
      ]
    },
    {
      "cell_type": "code",
      "metadata": {
        "id": "RKl-wf3-yAma",
        "colab": {
          "base_uri": "https://localhost:8080/"
        },
        "outputId": "ff345423-43fa-4f9c-a249-f5d70ca50b86"
      },
      "source": [
        "primeira_frase = 'mundo, mundo'\n",
        "segunda_frase = ', vasto mundo'\n",
        "print(primeira_frase + segunda_frase)"
      ],
      "execution_count": null,
      "outputs": [
        {
          "output_type": "stream",
          "text": [
            "mundo, mundo, vasto mundo\n"
          ],
          "name": "stdout"
        }
      ]
    },
    {
      "cell_type": "markdown",
      "metadata": {
        "id": "t9JkW-fLyAmc"
      },
      "source": [
        "#### O operador '*' também pode ser aplicado a strings. Porém um dos operandos tem que ser uma string e o outro um inteiro:"
      ]
    },
    {
      "cell_type": "code",
      "metadata": {
        "id": "l5H58WxqyAmc",
        "colab": {
          "base_uri": "https://localhost:8080/",
          "height": 35
        },
        "outputId": "34631e12-2679-4fd3-fcee-d78651cb72b2"
      },
      "source": [
        "'mundo'*4"
      ],
      "execution_count": null,
      "outputs": [
        {
          "output_type": "execute_result",
          "data": {
            "application/vnd.google.colaboratory.intrinsic+json": {
              "type": "string"
            },
            "text/plain": [
              "'mundomundomundomundo'"
            ]
          },
          "metadata": {
            "tags": []
          },
          "execution_count": 5
        }
      ]
    },
    {
      "cell_type": "code",
      "metadata": {
        "id": "Hdg05v-2yAme",
        "colab": {
          "base_uri": "https://localhost:8080/",
          "height": 35
        },
        "outputId": "9efe1bd7-692b-4612-8bd4-e2b708f2d1e9"
      },
      "source": [
        "'mundo, '*2 + 'vasto mundo' "
      ],
      "execution_count": null,
      "outputs": [
        {
          "output_type": "execute_result",
          "data": {
            "application/vnd.google.colaboratory.intrinsic+json": {
              "type": "string"
            },
            "text/plain": [
              "'mundo, mundo, vasto mundo'"
            ]
          },
          "metadata": {
            "tags": []
          },
          "execution_count": 6
        }
      ]
    },
    {
      "cell_type": "markdown",
      "metadata": {
        "id": "LIEmLrEiyAmg"
      },
      "source": [
        "## Comentários\n",
        "\n",
        "É recomendável adicionar observações aos seus programas para explicar em linguagem natural o que o programa está fazendo. Essas observações são chamadas de **comentários** e começam com o símbolo **#**.\n",
        "\n",
        "Um comentário é útil quando relata alguma característica não óbvia do programa."
      ]
    },
    {
      "cell_type": "code",
      "metadata": {
        "id": "W-wGB1sgyAmh",
        "colab": {
          "base_uri": "https://localhost:8080/"
        },
        "outputId": "9560944f-00ad-4e72-a90c-bd3bfe0a6cb2"
      },
      "source": [
        "# Calcular a velocidade v de um corpo\n",
        "s = 100 # distância em metros\n",
        "t = 10 # tempo em segundos\n",
        "v = s/t\n",
        "print('velocidade = ', v, 'm/s')"
      ],
      "execution_count": null,
      "outputs": [
        {
          "output_type": "stream",
          "text": [
            "velocidade =  10.0 m/s\n"
          ],
          "name": "stdout"
        }
      ]
    },
    {
      "cell_type": "markdown",
      "metadata": {
        "id": "7XRiXmw5yAmj"
      },
      "source": [
        "Exemplo de comentário inútil:"
      ]
    },
    {
      "cell_type": "code",
      "metadata": {
        "id": "4jSqqx_OyAmk"
      },
      "source": [
        "s = 100 # atribui o valor 100 a s. "
      ],
      "execution_count": null,
      "outputs": []
    },
    {
      "cell_type": "markdown",
      "metadata": {
        "id": "gu34FLdpyAmn"
      },
      "source": [
        "A escolha de bons nomes de variáveis, diminui o número de comentários necessários:"
      ]
    },
    {
      "cell_type": "code",
      "metadata": {
        "id": "mP_22gxMyAmo",
        "colab": {
          "base_uri": "https://localhost:8080/"
        },
        "outputId": "4305dca8-b10f-46fb-d594-34915b8e200b"
      },
      "source": [
        "# Calcular a velocidade em m/s de um corpo\n",
        "distancia = 100 \n",
        "tempo = 10 \n",
        "velocidade = distancia/tempo\n",
        "print(velocidade, 'm/s')"
      ],
      "execution_count": null,
      "outputs": [
        {
          "output_type": "stream",
          "text": [
            "10.0 m/s\n"
          ],
          "name": "stdout"
        }
      ]
    },
    {
      "cell_type": "markdown",
      "metadata": {
        "id": "Pg2nZDTayAmq"
      },
      "source": [
        "## Debugging\n",
        "\n",
        "Os **erros de sintaxe** mais comuns até aqui devem ser:\n",
        "\n",
        "* ***nome de variável ilegal (não permitido)***:\n",
        "   * *class* e *yield*, que são palavras-chave (keyword)\n",
        "   * *meu-nome* e *R$*, que contêm caracteres ilegais.\n",
        "\n",
        "Se você colocar um espaço em um nome de variável, o Python acha que são dois operandos sem um operador:"
      ]
    },
    {
      "cell_type": "code",
      "metadata": {
        "id": "ahiFLzTUyAmr",
        "colab": {
          "base_uri": "https://localhost:8080/",
          "height": 132
        },
        "outputId": "b5548940-63cc-4c41-aa3f-4a2fb34ff526"
      },
      "source": [
        "nome ruim de variavel = 5"
      ],
      "execution_count": null,
      "outputs": [
        {
          "output_type": "error",
          "ename": "SyntaxError",
          "evalue": "ignored",
          "traceback": [
            "\u001b[0;36m  File \u001b[0;32m\"<ipython-input-10-2525dea9ab01>\"\u001b[0;36m, line \u001b[0;32m1\u001b[0m\n\u001b[0;31m    nome ruim de variavel = 5\u001b[0m\n\u001b[0m            ^\u001b[0m\n\u001b[0;31mSyntaxError\u001b[0m\u001b[0;31m:\u001b[0m invalid syntax\n"
          ]
        }
      ]
    },
    {
      "cell_type": "markdown",
      "metadata": {
        "id": "1lACCLu_yAmv"
      },
      "source": [
        "As mensagens mais comuns são SyntaxError: sintaxe inválida e SyntaxError: token inválido, nenhum dos quais é muito informativo.\n",
        "\n",
        "O **erro de execução** que você provavelmente mais encontrará é a de **tentativa de uso de uma variável antes antes de atribuir um valor (*use before def*)**. Isso pode acontecer quando se soletra um nome de variável errado:"
      ]
    },
    {
      "cell_type": "code",
      "metadata": {
        "id": "VExIEYFUyAmv",
        "colab": {
          "base_uri": "https://localhost:8080/",
          "height": 219
        },
        "outputId": "2e6a4e36-5fbd-435b-88c4-c50f61ecb2c7"
      },
      "source": [
        "# cálculo do IMC de um bebê\n",
        "massa = 11 # em Kg\n",
        "altura = 0.70 # m\n",
        "imc = mass/altura**2 \n",
        "print(imc)"
      ],
      "execution_count": null,
      "outputs": [
        {
          "output_type": "error",
          "ename": "NameError",
          "evalue": "ignored",
          "traceback": [
            "\u001b[0;31m---------------------------------------------------------------------------\u001b[0m",
            "\u001b[0;31mNameError\u001b[0m                                 Traceback (most recent call last)",
            "\u001b[0;32m<ipython-input-11-f04b3748c689>\u001b[0m in \u001b[0;36m<module>\u001b[0;34m()\u001b[0m\n\u001b[1;32m      2\u001b[0m \u001b[0mmassa\u001b[0m \u001b[0;34m=\u001b[0m \u001b[0;36m11\u001b[0m \u001b[0;31m# em Kg\u001b[0m\u001b[0;34m\u001b[0m\u001b[0;34m\u001b[0m\u001b[0m\n\u001b[1;32m      3\u001b[0m \u001b[0maltura\u001b[0m \u001b[0;34m=\u001b[0m \u001b[0;36m0.70\u001b[0m \u001b[0;31m# m\u001b[0m\u001b[0;34m\u001b[0m\u001b[0;34m\u001b[0m\u001b[0m\n\u001b[0;32m----> 4\u001b[0;31m \u001b[0mimc\u001b[0m \u001b[0;34m=\u001b[0m \u001b[0mmass\u001b[0m\u001b[0;34m/\u001b[0m\u001b[0maltura\u001b[0m\u001b[0;34m**\u001b[0m\u001b[0;36m2\u001b[0m\u001b[0;34m\u001b[0m\u001b[0;34m\u001b[0m\u001b[0m\n\u001b[0m\u001b[1;32m      5\u001b[0m \u001b[0mprint\u001b[0m\u001b[0;34m(\u001b[0m\u001b[0mimc\u001b[0m\u001b[0;34m)\u001b[0m\u001b[0;34m\u001b[0m\u001b[0;34m\u001b[0m\u001b[0m\n",
            "\u001b[0;31mNameError\u001b[0m: name 'mass' is not defined"
          ]
        }
      ]
    },
    {
      "cell_type": "markdown",
      "metadata": {
        "id": "xzrpx4qNyAmz"
      },
      "source": [
        "Os **erros de semântica** mais comuns até aqui devem ser os de precedência de operações matemáticas. Por exemplo, se você quer calcular 1/(2pi):"
      ]
    },
    {
      "cell_type": "code",
      "metadata": {
        "id": "uYtTBiEDyAm0",
        "colab": {
          "base_uri": "https://localhost:8080/"
        },
        "outputId": "c04ba34a-b27a-4972-bcbc-b25082adbd35"
      },
      "source": [
        "pi = 3.14\n",
        "1/2*pi"
      ],
      "execution_count": null,
      "outputs": [
        {
          "output_type": "execute_result",
          "data": {
            "text/plain": [
              "1.57"
            ]
          },
          "metadata": {
            "tags": []
          },
          "execution_count": 12
        }
      ]
    },
    {
      "cell_type": "code",
      "metadata": {
        "id": "FYBKn0PxyAm2",
        "colab": {
          "base_uri": "https://localhost:8080/"
        },
        "outputId": "c4a07a52-0868-4fe8-885d-2d49cc2a7807"
      },
      "source": [
        "1/(2*pi)"
      ],
      "execution_count": null,
      "outputs": [
        {
          "output_type": "execute_result",
          "data": {
            "text/plain": [
              "0.1592356687898089"
            ]
          },
          "metadata": {
            "tags": []
          },
          "execution_count": 13
        }
      ]
    },
    {
      "cell_type": "markdown",
      "metadata": {
        "id": "ApWStk60yAm4"
      },
      "source": [
        "## Glossário\n",
        "\n",
        "* **valor:** Uma das unidades básicas de dados, como um número ou string, que um programa manipula.\n",
        "* **tipo:** Uma categoria de valores. Os tipos que vimos até agora são inteiros (tipo int), números de ponto flutuante (tipo float) e strings (tipo str).\n",
        "* **inteiro:** Um tipo que representa números inteiros.\n",
        "* **ponto flutuante:** Um tipo que representa números com partes fracionárias.\n",
        "* **string:** Um tipo que representa sequências de caracteres.\n",
        "* **variável:** Um nome que se refere a um valor.\n",
        "* **declaração:** Uma seção de código que representa um comando ou ação. Até agora, as declarações que temos visto são atribuições e declarações impressas.\n",
        "* **atribuição:** Uma declaração que atribui um valor a uma variável.\n",
        "* **palavra chave:** Uma palavra reservada que é usada pelo compilador para analisar um programa; você não pode usar palavras-chave como if, def e while como nomes de variáveis.\n",
        "* **operador:** Um símbolo especial que representa um cálculo simples, como adição, multiplicação ou concatenação de string.\n",
        "* **operando:** Um dos valores nos quais um operador opera.\n",
        "* **divisão de piso:** A operação que divide dois números e corta a parte fracionária.\n",
        "* **expressão:** Uma combinação de variáveis, operadores e valores que representa um único valor de resultado.\n",
        "* **Estimar/calcular:** Simplificar uma expressão executando as operações para gerar um único valor.\n",
        "* **regras de precedência:** O conjunto de regras que governam a ordem na qual as expressões envolvendo vários operadores e operandos são avaliadas.\n",
        "* **concatenar:** Unir dois operandos de ponta a ponta.\n",
        "* **Comentar:** Informações em um programa destinado a outros programadores (ou qualquer pessoa que esteja lendo o código-fonte) e não tem efeito sobre a execução do programa."
      ]
    },
    {
      "cell_type": "markdown",
      "metadata": {
        "id": "Vz8GxGVqyAm5"
      },
      "source": [
        "## Exercícios\n",
        "\n",
        "### Exercício 1:\n",
        "Considere as seguintes declarações de atribuições:\n",
        "   * largura = 17 \n",
        "   * altura = 12.0\n",
        "   * delimitador = \".\"\n",
        "   \n",
        "Para cada uma das expressões a seguir, escreva o valor das expressões e o tipo (do valor da expressão):\n",
        "1. largura/2\n",
        "1. largura/2.0\n",
        "1. altura/3\n",
        "1. 1 + 2 * 5\n",
        "1. delimitador*5\n",
        "\n",
        "Use o interpretador de python para verificar suas respostas.\n",
        "\n",
        "### Exercício 2:\n",
        "O volume de uma esfera de raio *r* é $\\frac{4}{3} \\pi r^{3}$ \n",
        "\n",
        "Qual é o volume de uma esfera de raio 5?\n",
        "\n",
        "### Exercício 3:\n",
        "Suponha que o preço de um livro seja 24.95 reais, porém as livrarias têm desconto de 40%. Os custos de envio são de 3.00 reais para o primeiro livro e 0.75 reais para os livros adicionais. Qual é o custo total da compra de 60 livros?  \n",
        "\n",
        "### Exercício 4:\n",
        "Um laser vermelho (com comprimento de onda $\\lambda = 632.8$ nm) incide em uma fenda dupla produzindo um padrão de interferência com franjas claras e escuras, em um anteparo situado a uma distância D = 1.98 m da fenda. Calcule a distância $\\Delta y$ entre dois máximos consecutivos de interferência. Considere o espaçamento entre as fendas, $d$, como sendo igual a 0.250 mm.\n",
        "*Dica: a distância entre dois máximos de interferência consecutivos pode ser aproximada por $\\Delta y = \\frac{\\lambda D}{d}$.*"
      ]
    },
    {
      "cell_type": "markdown",
      "metadata": {
        "id": "TS3j9W0yvpFX"
      },
      "source": [
        "Exercício 1:\n",
        "\n",
        "1 - valor 8.5 e tipo float;\n",
        "\n",
        "2 - valor 8.5 e tipo float;\n",
        "\n",
        "3 - valor 4.0 e tipo float;\n",
        "\n",
        "4 - valor 11 e tipo inteiro;\n",
        "\n",
        "5 - valor ..... e tipo string;"
      ]
    },
    {
      "cell_type": "code",
      "metadata": {
        "colab": {
          "base_uri": "https://localhost:8080/"
        },
        "id": "i4cQnBvvzTol",
        "outputId": "99bf8b94-41b5-4561-de9c-01e3bc76f3ab"
      },
      "source": [
        "%%writefile exerc_1.py\n",
        "largura = 17\n",
        "altura = 12.0\n",
        "delimitador = \".\"\n",
        "\n",
        "resultado1 = largura/2\n",
        "resultado2 = largura/2.0\n",
        "resultado3 = altura/3\n",
        "resultado4 = 1 + 2*5\n",
        "resultado5 = delimitador*5\n",
        "\n",
        "a = type(resultado1)\n",
        "b = type(resultado2)\n",
        "c = type(resultado3)\n",
        "d = type(resultado4)\n",
        "e = type(resultado5)\n",
        "\n",
        "print(resultado1, a)\n",
        "print(resultado2, b)\n",
        "print(resultado3, c)\n",
        "print(resultado4, d)\n",
        "print(resultado5, e)\n",
        "\n"
      ],
      "execution_count": null,
      "outputs": [
        {
          "output_type": "stream",
          "text": [
            "Overwriting exerc_1.py\n"
          ],
          "name": "stdout"
        }
      ]
    },
    {
      "cell_type": "code",
      "metadata": {
        "colab": {
          "base_uri": "https://localhost:8080/"
        },
        "id": "GreFqJw7yfi3",
        "outputId": "4bb70fe9-8c26-47bf-d1ec-17bf1e1346f3"
      },
      "source": [
        "%run -i exerc_1.py"
      ],
      "execution_count": null,
      "outputs": [
        {
          "output_type": "stream",
          "text": [
            "8.5 <class 'float'>\n",
            "8.5 <class 'float'>\n",
            "4.0 <class 'float'>\n",
            "11 <class 'int'>\n",
            "..... <class 'str'>\n"
          ],
          "name": "stdout"
        }
      ]
    },
    {
      "cell_type": "markdown",
      "metadata": {
        "id": "yfuM6Tq70uBB"
      },
      "source": [
        "Exercício 2:"
      ]
    },
    {
      "cell_type": "code",
      "metadata": {
        "colab": {
          "base_uri": "https://localhost:8080/"
        },
        "id": "QhLNTuiC0xUj",
        "outputId": "ccbbdd13-d9a6-45ed-b2ee-3565bc4510f0"
      },
      "source": [
        "# Calcular o volume de uma esfera de raio 5\n",
        "pi = 3.14\n",
        "r = 5\n",
        "volume = (4/3)*pi*(r**3)\n",
        "\n",
        "print('Volume =', volume)"
      ],
      "execution_count": null,
      "outputs": [
        {
          "output_type": "stream",
          "text": [
            "Volume = 523.3333333333334\n"
          ],
          "name": "stdout"
        }
      ]
    },
    {
      "cell_type": "markdown",
      "metadata": {
        "id": "EjYr46IP16mb"
      },
      "source": [
        "Exercício 3:"
      ]
    },
    {
      "cell_type": "code",
      "metadata": {
        "colab": {
          "base_uri": "https://localhost:8080/"
        },
        "id": "kjpZBL8c19Jh",
        "outputId": "555ebddc-7201-4b16-b3b3-f284be28f50c"
      },
      "source": [
        "# Custo total da compra de 60 livros em reais\n",
        "valor_livro = 24.95 \n",
        "desconto = 0.4\n",
        "custo_envio_livro1 = 3.00\n",
        "custo_envio_restolivros = 0.75\n",
        "\n",
        "total = 60*(valor_livro - valor_livro*desconto) + custo_envio_livro1 + 59*custo_envio_restolivros\n",
        "\n",
        "print('Valor total =', total, 'Reais')"
      ],
      "execution_count": null,
      "outputs": [
        {
          "output_type": "stream",
          "text": [
            "Valor total = 945.4499999999999 Reais\n"
          ],
          "name": "stdout"
        }
      ]
    },
    {
      "cell_type": "markdown",
      "metadata": {
        "id": "68CLcGZj3u52"
      },
      "source": [
        "Exercício 4:"
      ]
    },
    {
      "cell_type": "code",
      "metadata": {
        "colab": {
          "base_uri": "https://localhost:8080/"
        },
        "id": "4swLA-Kz3ug5",
        "outputId": "bc50cabc-f447-480a-abdc-fe35dcbe7bcf"
      },
      "source": [
        "# Distância entre dois máximos consecutivos de interferência de um laser vermelho em uma dupla fenda\n",
        "lambdaa_0 = 632.8 # comprimento de onda do laser em nm\n",
        "D = 1.98 # distância entre a fenda e o anteparo em m\n",
        "dd_0 = 0.250 # espaçamento entre as fendas em mm\n",
        "\n",
        "# Convertendo tudo para metro\n",
        "lambdaa = lambdaa_0*(10**(-9))\n",
        "dd = dd_0*(10**(-3))\n",
        "\n",
        "# Distância entre os máximos\n",
        "delta_y = (lambdaa*D)/dd\n",
        "\n",
        "print('Distância entre dois máximos consecutivos é de', delta_y, 'm')\n"
      ],
      "execution_count": null,
      "outputs": [
        {
          "output_type": "stream",
          "text": [
            "Distância entre dois máximos consecutivos é de 0.005011776 m\n"
          ],
          "name": "stdout"
        }
      ]
    },
    {
      "cell_type": "markdown",
      "metadata": {
        "id": "DCrxSD21yAm5"
      },
      "source": [
        "# Funções"
      ]
    },
    {
      "cell_type": "markdown",
      "metadata": {
        "id": "yvM-GLIOyAm6"
      },
      "source": [
        "Em programação, uma **função é uma sequência de declarações** (à qual atribuímos um nome) que realiza uma tarefa.\n",
        "\n",
        "Ao criar uma função, deve-se especificar o nome da função e a sequência de declarações.\n",
        "\n",
        "## Chamada de funções\n",
        "Já vimos um exemplo pelo menos de chamada de função:"
      ]
    },
    {
      "cell_type": "code",
      "metadata": {
        "id": "O-1NcOgpyAm7"
      },
      "source": [
        "type(40)"
      ],
      "execution_count": null,
      "outputs": []
    },
    {
      "cell_type": "markdown",
      "metadata": {
        "id": "IclBSjDnyAm8"
      },
      "source": [
        "* **nome** da função: *type*\n",
        "* **argumento**: 40\n",
        "* **valor de retorno** da função: é o resultado que a função retorna. Nesse exemplo, a função de nome *type*, retorna o tipo do *argumento* passado na função."
      ]
    },
    {
      "cell_type": "markdown",
      "metadata": {
        "id": "4S5d3rEkyAm9"
      },
      "source": [
        "## Funções de conversão de tipo\n",
        "O Python fornece funções internas (*built-in*) que convertem valores de um tipo para outro ==> **casting**. \n",
        "A função *int* pega qualquer valor e o converte em um inteiro, se puder:"
      ]
    },
    {
      "cell_type": "code",
      "metadata": {
        "id": "gIHOB4rvyAm9"
      },
      "source": [
        "int(2.8)"
      ],
      "execution_count": null,
      "outputs": []
    },
    {
      "cell_type": "markdown",
      "metadata": {
        "id": "XJrt_NNjyAnA"
      },
      "source": [
        "ou reclama do contrário:"
      ]
    },
    {
      "cell_type": "code",
      "metadata": {
        "id": "8w5OMsbjyAnA"
      },
      "source": [
        "int('Oi')"
      ],
      "execution_count": null,
      "outputs": []
    },
    {
      "cell_type": "markdown",
      "metadata": {
        "id": "UkGIO12EyAnE"
      },
      "source": [
        "A função *float* converte inteiros e strings em *floats*:"
      ]
    },
    {
      "cell_type": "code",
      "metadata": {
        "id": "jGOOPfIwyAnF"
      },
      "source": [
        "float(32)"
      ],
      "execution_count": null,
      "outputs": []
    },
    {
      "cell_type": "code",
      "metadata": {
        "id": "d6TazWrfyAnH"
      },
      "source": [
        "float('3.14159')"
      ],
      "execution_count": null,
      "outputs": []
    },
    {
      "cell_type": "markdown",
      "metadata": {
        "id": "6XfpD0dCyAnJ"
      },
      "source": [
        "A função *str* converte seu argumento em *strings*:"
      ]
    },
    {
      "cell_type": "code",
      "metadata": {
        "id": "-sz7LWoRyAnK"
      },
      "source": [
        "str(32)"
      ],
      "execution_count": null,
      "outputs": []
    },
    {
      "cell_type": "code",
      "metadata": {
        "id": "U9T3M5GNyAnN"
      },
      "source": [
        "str(3.14159)"
      ],
      "execution_count": null,
      "outputs": []
    },
    {
      "cell_type": "markdown",
      "metadata": {
        "id": "CmmYIGI7yAnP"
      },
      "source": [
        "## Funções matemáticas"
      ]
    },
    {
      "cell_type": "markdown",
      "metadata": {
        "id": "_wFdzP_iyAnQ"
      },
      "source": [
        "O Python possui um **módulo matemático** que fornece a maioria das funções matemáticas familiares. \n",
        "\n",
        "Um **módulo** de python é um arquivo que contém uma coleção de funções relacionadas.\n",
        "\n",
        "Antes de poder usar um certo módulo, temos que ***importá-lo***:"
      ]
    },
    {
      "cell_type": "code",
      "metadata": {
        "id": "aGv2wQDSyAnQ"
      },
      "source": [
        "import math"
      ],
      "execution_count": null,
      "outputs": []
    },
    {
      "cell_type": "markdown",
      "metadata": {
        "id": "hWbsgixIyAnT"
      },
      "source": [
        "A declaração acima **cria um objeto de módulo** chamado **math**.\n",
        "\n",
        "Você pode imprimir o objeto de módulo:"
      ]
    },
    {
      "cell_type": "code",
      "metadata": {
        "id": "lCYxRgZ3yAnT"
      },
      "source": [
        "print(math)"
      ],
      "execution_count": null,
      "outputs": []
    },
    {
      "cell_type": "markdown",
      "metadata": {
        "id": "EsqhhLqpyAnW"
      },
      "source": [
        "O objeto do módulo contém as funções e variáveis definidas no módulo. \n",
        "\n",
        "Para acessar uma das funções do módulo usamos a seguinte expressão:\n",
        "\n",
        "* *nome_do_objeto_do_modulo**.**nome_da_funcao*\n",
        "\n",
        "\n",
        "Esse formato é chamado de **notação de ponto**."
      ]
    },
    {
      "cell_type": "code",
      "metadata": {
        "id": "fBiTNnOqyAnX"
      },
      "source": [
        "import math\n",
        "cateto_oposto = 4\n",
        "cateto_adjacente = 2\n",
        "tangente_theta = cateto_oposto/cateto_adjacente\n",
        "theta = math.atan(tangente_theta)\n",
        "print(theta, 'em radianos')"
      ],
      "execution_count": null,
      "outputs": []
    },
    {
      "cell_type": "markdown",
      "metadata": {
        "id": "AGXntHK4yAnZ"
      },
      "source": [
        "As funções trigonométricas pegam os argumentos em radianos.\n",
        "\n",
        "Podemos converter de radianos para graus com uma função do objeto módulo:"
      ]
    },
    {
      "cell_type": "code",
      "metadata": {
        "id": "fhqpsjxoyAna"
      },
      "source": [
        "math.degrees(theta)"
      ],
      "execution_count": null,
      "outputs": []
    },
    {
      "cell_type": "markdown",
      "metadata": {
        "id": "XFekzYqTyAnc"
      },
      "source": [
        "Ou:"
      ]
    },
    {
      "cell_type": "code",
      "metadata": {
        "id": "CgBttJJvyAnd"
      },
      "source": [
        "theta_graus = theta*180/math.pi\n",
        "print(theta_graus)"
      ],
      "execution_count": null,
      "outputs": []
    },
    {
      "cell_type": "markdown",
      "metadata": {
        "id": "NyEp61x9yAnf"
      },
      "source": [
        "Acessamos o valor de $\\pi$ determinado no módulo matemático através da variável math.pi. O valor dessa variável é uma aproximação de π, com precisão de cerca de 15 dígitos."
      ]
    },
    {
      "cell_type": "markdown",
      "metadata": {
        "id": "_Odw631TyAng"
      },
      "source": [
        "Quantos graus tem o ângulo $\\theta$ correspondente a $cos\\theta = \\sqrt2/2$ ?"
      ]
    },
    {
      "cell_type": "code",
      "metadata": {
        "id": "Xz4ifIZoyAng"
      },
      "source": [
        "math.degrees(math.acos(math.sqrt(2)/2))"
      ],
      "execution_count": null,
      "outputs": []
    },
    {
      "cell_type": "markdown",
      "metadata": {
        "id": "lY0k8SHNyAni"
      },
      "source": [
        "## Composição\n",
        "\n",
        "Até agora, analisamos os **elementos** de um programa - variáveis, expressões e declarações - isoladamente, sem falar sobre como combiná-los.\n",
        "\n",
        "Um dos recursos mais úteis das linguagens de programação é a capacidade de usar blocos de construção pequenos e **compô-los**. \n",
        "\n",
        "Por exemplo, ***o argumento de uma função pode ser qualquer tipo de expressão***, incluindo operadores aritméticos:"
      ]
    },
    {
      "cell_type": "code",
      "metadata": {
        "id": "UJDBQAlZyAni"
      },
      "source": [
        "x = math.sin(theta_graus/360.0 * 2 * math.pi)"
      ],
      "execution_count": null,
      "outputs": []
    },
    {
      "cell_type": "markdown",
      "metadata": {
        "id": "llhNEDQpyAnk"
      },
      "source": [
        "E até mesmo chamadas de função:"
      ]
    },
    {
      "cell_type": "code",
      "metadata": {
        "id": "nDcv8BxcyAnk"
      },
      "source": [
        "x = math.exp(math.log (x + 1))"
      ],
      "execution_count": null,
      "outputs": []
    },
    {
      "cell_type": "markdown",
      "metadata": {
        "id": "d0Dlce6iyAnl"
      },
      "source": [
        "* Em quase todo lugar onde é possível usar um valor, também é possível usar uma expressão arbitrária\n",
        "* Porém, o lado esquerdo de uma **declaração de atribuição** deve ser sempre um ***nome de variável***. "
      ]
    },
    {
      "cell_type": "code",
      "metadata": {
        "id": "iiUwTGjHyAnl"
      },
      "source": [
        "horas = 2\n",
        "minutos = horas * 60"
      ],
      "execution_count": null,
      "outputs": []
    },
    {
      "cell_type": "code",
      "metadata": {
        "id": "-QtS5uwryAnn"
      },
      "source": [
        "horas * 60 = minutos "
      ],
      "execution_count": null,
      "outputs": []
    },
    {
      "cell_type": "code",
      "metadata": {
        "id": "-ADGE1FAyAnp"
      },
      "source": [
        ""
      ],
      "execution_count": null,
      "outputs": []
    },
    {
      "cell_type": "code",
      "metadata": {
        "id": "QJ69lU5uyAnq"
      },
      "source": [
        ""
      ],
      "execution_count": null,
      "outputs": []
    }
  ]
}
