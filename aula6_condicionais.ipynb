{
  "nbformat": 4,
  "nbformat_minor": 0,
  "metadata": {
    "kernelspec": {
      "display_name": "Python 3",
      "language": "python",
      "name": "python3"
    },
    "language_info": {
      "codemirror_mode": {
        "name": "ipython",
        "version": 3
      },
      "file_extension": ".py",
      "mimetype": "text/x-python",
      "name": "python",
      "nbconvert_exporter": "python",
      "pygments_lexer": "ipython3",
      "version": "3.6.4"
    },
    "colab": {
      "name": "aula6_condicionais.ipynb",
      "provenance": [],
      "collapsed_sections": [],
      "include_colab_link": true
    }
  },
  "cells": [
    {
      "cell_type": "markdown",
      "metadata": {
        "id": "view-in-github",
        "colab_type": "text"
      },
      "source": [
        "<a href=\"https://colab.research.google.com/github/eduvaladao/aulas_python_UERJ/blob/main/aula6_condicionais.ipynb\" target=\"_parent\"><img src=\"https://colab.research.google.com/assets/colab-badge.svg\" alt=\"Open In Colab\"/></a>"
      ]
    },
    {
      "cell_type": "markdown",
      "metadata": {
        "id": "lfImG9sDRIxG"
      },
      "source": [
        "# Condicionais\n",
        "aula baseada no capítulos 5 do livro base desse curso: http://openbookproject.net/thinkcs/python/english3e/index.html\n",
        "\n",
        "\n",
        "Os programas ficam realmente interessantes quando podemos testar as condições e alterar o comportamento do programa, dependendo do resultado dos testes. É disso que trata este capítulo.\n",
        "\n",
        "Condicionais são formas de testar se uma condição é satisfeita no nosso programa."
      ]
    },
    {
      "cell_type": "markdown",
      "metadata": {
        "id": "XzWDFI5FRIxJ"
      },
      "source": [
        "## Valores booleanos e expressões\n",
        "\n",
        "Um valor **booleano** é um valor verdadeiro ou falso e é a base de toda a computação moderna.\n",
        "\n",
        "Em Python, os dois valores booleanos são True e False (com letra maiúscula) e o tipo de objeto de Python é **bool**.\n",
        "\n"
      ]
    },
    {
      "cell_type": "code",
      "metadata": {
        "id": "KPyyrKXzRIxM",
        "colab": {
          "base_uri": "https://localhost:8080/"
        },
        "outputId": "43843af3-e8cf-4571-87c7-0e6e0d4f04cc"
      },
      "source": [
        "type(True)"
      ],
      "execution_count": 1,
      "outputs": [
        {
          "output_type": "execute_result",
          "data": {
            "text/plain": [
              "bool"
            ]
          },
          "metadata": {
            "tags": []
          },
          "execution_count": 1
        }
      ]
    },
    {
      "cell_type": "markdown",
      "metadata": {
        "id": "lVOljVd9RIxl"
      },
      "source": [
        "* **Expressão booleana**: é uma expressão que avalia produzir um resultado que é um valor **booleano**. \n",
        "\n",
        "Por exemplo, o ***operador*** `==` avalia se dois valores são iguais:"
      ]
    },
    {
      "cell_type": "code",
      "metadata": {
        "id": "K5K6TiiVRIxp",
        "colab": {
          "base_uri": "https://localhost:8080/"
        },
        "outputId": "6c54381e-e74c-4707-8c83-5fa4945f6a46"
      },
      "source": [
        "5 == (2 + 3)"
      ],
      "execution_count": 2,
      "outputs": [
        {
          "output_type": "execute_result",
          "data": {
            "text/plain": [
              "True"
            ]
          },
          "metadata": {
            "tags": []
          },
          "execution_count": 2
        }
      ]
    },
    {
      "cell_type": "code",
      "metadata": {
        "id": "xmw-5ZR5RIx7",
        "colab": {
          "base_uri": "https://localhost:8080/"
        },
        "outputId": "d30fbf35-fc88-46d2-d585-a2214313788d"
      },
      "source": [
        "5 == 6"
      ],
      "execution_count": 3,
      "outputs": [
        {
          "output_type": "execute_result",
          "data": {
            "text/plain": [
              "False"
            ]
          },
          "metadata": {
            "tags": []
          },
          "execution_count": 3
        }
      ]
    },
    {
      "cell_type": "code",
      "metadata": {
        "id": "gkyjgl8GRIyO",
        "colab": {
          "base_uri": "https://localhost:8080/"
        },
        "outputId": "10aab66a-f09d-4fb7-b823-ba4e4ecf42be"
      },
      "source": [
        "j = 'hel'\n",
        "j + 'lo' == 'hello'"
      ],
      "execution_count": 4,
      "outputs": [
        {
          "output_type": "execute_result",
          "data": {
            "text/plain": [
              "True"
            ]
          },
          "metadata": {
            "tags": []
          },
          "execution_count": 4
        }
      ]
    },
    {
      "cell_type": "markdown",
      "metadata": {
        "id": "qpgvAjhmRIyd"
      },
      "source": [
        "O operador `==` é um dos seis **operadores de comparação** comuns que produzem um resultado do tipo **bool**; aqui estão todos os seis:\n",
        "\n",
        "* x == y               : Produz ***True*** se x for ***igual*** a y\n",
        "* x != y               : Produz ***True*** se x ***não for igual*** a y\n",
        "* x > y                : Produz ***True*** se x for ***maior*** que y\n",
        "* x < y                : Produz ***True*** se x for ***menor*** y\n",
        "* x >= y               : Produz ***True*** se x for ***maior ou igual*** a y\n",
        "* x <= y               : Produz ***True*** se x for ***menor ou igual*** a y\n",
        "\n",
        "\n",
        "Obs.: o operador == é um **operador de comparação**. O operador = é um **operador de atribuição**.\n"
      ]
    },
    {
      "cell_type": "markdown",
      "metadata": {
        "id": "pbyMUywKRIyf"
      },
      "source": [
        "## Operadores lógicos\n",
        "\n",
        "* ***and***\n",
        "* ***or***\n",
        "* ***not***\n",
        "\n",
        "Com eles, podemos construir operações booleanas complexas a partir de expressões simples.\n",
        "\n"
      ]
    },
    {
      "cell_type": "code",
      "metadata": {
        "id": "SD8k6ma-RIyh",
        "colab": {
          "base_uri": "https://localhost:8080/"
        },
        "outputId": "63ea3e08-061c-49c7-fd82-5c21ae7823cb"
      },
      "source": [
        "x = 0\n",
        "y = 10\n",
        "x == 0 and y <= 10"
      ],
      "execution_count": 5,
      "outputs": [
        {
          "output_type": "execute_result",
          "data": {
            "text/plain": [
              "True"
            ]
          },
          "metadata": {
            "tags": []
          },
          "execution_count": 5
        }
      ]
    },
    {
      "cell_type": "code",
      "metadata": {
        "id": "R3tN9PLIRIyx",
        "colab": {
          "base_uri": "https://localhost:8080/"
        },
        "outputId": "d05e41dc-c644-4ed5-cd80-dfb45e9e8592"
      },
      "source": [
        "y % 2 == 0 or y % 3 == 0"
      ],
      "execution_count": 6,
      "outputs": [
        {
          "output_type": "execute_result",
          "data": {
            "text/plain": [
              "True"
            ]
          },
          "metadata": {
            "tags": []
          },
          "execution_count": 6
        }
      ]
    },
    {
      "cell_type": "code",
      "metadata": {
        "id": "ka3GAGZyRIy6",
        "colab": {
          "base_uri": "https://localhost:8080/"
        },
        "outputId": "68b2aed7-191c-44c3-926c-8a33b4d158e3"
      },
      "source": [
        "not (y % 2 == 0)"
      ],
      "execution_count": 7,
      "outputs": [
        {
          "output_type": "execute_result",
          "data": {
            "text/plain": [
              "False"
            ]
          },
          "metadata": {
            "tags": []
          },
          "execution_count": 7
        }
      ]
    },
    {
      "cell_type": "code",
      "metadata": {
        "id": "DvA6Yqc5RIzD",
        "colab": {
          "base_uri": "https://localhost:8080/"
        },
        "outputId": "ab0968ad-f2b3-4260-d5d3-56e01978abd0"
      },
      "source": [
        "not (x > 0)"
      ],
      "execution_count": 8,
      "outputs": [
        {
          "output_type": "execute_result",
          "data": {
            "text/plain": [
              "True"
            ]
          },
          "metadata": {
            "tags": []
          },
          "execution_count": 8
        }
      ]
    },
    {
      "cell_type": "markdown",
      "metadata": {
        "id": "CCacuWg_RIzN"
      },
      "source": [
        "**Avaliação de curto-circuito**: \n",
        "   * em uma expressão com ***or***, o interpretador de Python avalia primeiro a expressão da esquerda. Se for igual a ***True***, on interpretador não avalia a expressão da direita\n",
        "   \n",
        "   \n",
        "   * em uma expressão com ***and***, se a expressão da esquerda for ***False***, o interpretador não avalia a expressão da direita.\n",
        "   \n",
        "   \n",
        "## Execução condicional\n",
        "\n",
        "Para escrever programas úteis, quase sempre precisamos ter a habilidade de **verificar condições** e adaptar o comportamento do programa de acordo com o resultado dessas verificações.     \n",
        "\n",
        "==> **Declarações condicionais** \n",
        "\n",
        "\n",
        "A forma mais simples é a declaração ***if***:"
      ]
    },
    {
      "cell_type": "code",
      "metadata": {
        "id": "15mJwyQKRIzP",
        "colab": {
          "base_uri": "https://localhost:8080/"
        },
        "outputId": "0c887929-54ff-424b-d04e-939579503604"
      },
      "source": [
        "# Exemplo de execução condicional:\n",
        "if x % 2 == 0:\n",
        "    print(x, \" é par.\")\n",
        "    print(\"Você sabia que 2 é o único número par que é também número primo?\")\n",
        "else:\n",
        "    print(x, \" é impar.\")\n",
        "    print(\"Você sabia que a multiplicação de dois números ímpares \" +\n",
        "                                         \"sempre gera um resultado ímpar?\")"
      ],
      "execution_count": 9,
      "outputs": [
        {
          "output_type": "stream",
          "text": [
            "0  é par.\n",
            "Você sabia que 2 é o único número par que é também número primo?\n"
          ],
          "name": "stdout"
        }
      ]
    },
    {
      "cell_type": "markdown",
      "metadata": {
        "id": "dOkAb3IzRIza"
      },
      "source": [
        "A expressão booleana após a declaração ***if*** é chamada de **condição**. \n",
        "* Se for verdade, todas as instruções indentadas serão executadas. \n",
        "* Se não, então todas as declarações indentadas sob a **cláusula** ***else*** serão executadas.\n",
        "\n",
        "\n",
        "A sintaxe de uma declaração ***if*** é a seguinte:\n",
        "\n"
      ]
    },
    {
      "cell_type": "code",
      "metadata": {
        "id": "plY8gPoaRIzc"
      },
      "source": [
        "if EXPRESSÃO BOOLEANA:     # cabeçalho da declaração condicional\n",
        "    DECLARAÇÕES_1        # Executado se o resultado da condição booleana for True. Esse é o **bloco** da declaração condicional\n",
        "else:\n",
        "    DECLARAÇÕES_2        # Executado se o resultado da condição booleana for False. **bloco** da cláusula ***else***"
      ],
      "execution_count": null,
      "outputs": []
    },
    {
      "cell_type": "markdown",
      "metadata": {
        "id": "xFLutcW3RIzo"
      },
      "source": [
        "### Também é possível fazer uma declaração condicional, omitindo a cláusula ***else***"
      ]
    },
    {
      "cell_type": "code",
      "metadata": {
        "id": "9eKO9KAWRIzr",
        "colab": {
          "base_uri": "https://localhost:8080/"
        },
        "outputId": "99d28b39-e6f4-4615-fd75-4b8f6d25aca2"
      },
      "source": [
        "import math\n",
        "x = -8\n",
        "if x < 0:\n",
        "    print(\"O número negativo \",  x, \" não é válido.\")\n",
        "    x = 42\n",
        "    print(\"Decidi usar o número 42.\")\n",
        "\n",
        "print(\"A raiz quadrada de \", x, \"é\", math.sqrt(x))\n"
      ],
      "execution_count": 12,
      "outputs": [
        {
          "output_type": "stream",
          "text": [
            "O número negativo  -8  não é válido.\n",
            "Decidi usar o número 42.\n",
            "A raiz quadrada de  42 é 6.48074069840786\n"
          ],
          "name": "stdout"
        }
      ]
    },
    {
      "cell_type": "markdown",
      "metadata": {
        "id": "qMnr_MJeRIz0"
      },
      "source": [
        "No exemplo acima a última expressão de print não faz parte do bloco da declaração condicional pois não está indentada. Será sempre executada."
      ]
    },
    {
      "cell_type": "markdown",
      "metadata": {
        "id": "IuqDw_3YRIz2"
      },
      "source": [
        "## A declaração de retorno\n",
        "\n",
        "Já vimos anteriormente que uma função pode retornar um valor ou ser vazia (*void*).\n",
        "\n",
        "Algumas funções podem terminar antes de chegar ao fim e retornar (ou não) um valor, caso uma dada condição seja cumprida."
      ]
    },
    {
      "cell_type": "code",
      "metadata": {
        "id": "khZyyZsWRIz4"
      },
      "source": [
        "def print_raiz_quadrada(x):\n",
        "    if x <= 0:\n",
        "        print(\"Somente valores positivos, por favor.\")\n",
        "        return\n",
        "    \n",
        "    print(\"A raiz de \", x, \"é\", x**0.5)\n",
        "    return x**0.5"
      ],
      "execution_count": 13,
      "outputs": []
    },
    {
      "cell_type": "code",
      "metadata": {
        "id": "4A29uFwTNntE",
        "colab": {
          "base_uri": "https://localhost:8080/"
        },
        "outputId": "3948d0fd-1b9d-42cd-e26d-ad11b3b2e6c2"
      },
      "source": [
        "print_raiz_quadrada(-8)"
      ],
      "execution_count": 14,
      "outputs": [
        {
          "output_type": "stream",
          "text": [
            "Somente valores positivos, por favor.\n"
          ],
          "name": "stdout"
        }
      ]
    },
    {
      "cell_type": "code",
      "metadata": {
        "id": "gWxOgAkDNpc2",
        "colab": {
          "base_uri": "https://localhost:8080/"
        },
        "outputId": "97640ed7-6cf1-457a-e187-f497b2232933"
      },
      "source": [
        "print_raiz_quadrada(9)"
      ],
      "execution_count": 15,
      "outputs": [
        {
          "output_type": "stream",
          "text": [
            "A raiz de  9 é 3.0\n"
          ],
          "name": "stdout"
        },
        {
          "output_type": "execute_result",
          "data": {
            "text/plain": [
              "3.0"
            ]
          },
          "metadata": {
            "tags": []
          },
          "execution_count": 15
        }
      ]
    },
    {
      "cell_type": "markdown",
      "metadata": {
        "id": "H265ZJjIRI0J"
      },
      "source": [
        "## Condicionais encadeadas\n",
        "\n",
        "Às vezes há mais de duas possibilidades e precisamos de mais de dois ramos. Uma maneira de expressar uma computação assim é uma condicional encadeada:"
      ]
    },
    {
      "cell_type": "code",
      "metadata": {
        "id": "2T74cSiqRI0L"
      },
      "source": [
        "x = 0\n",
        "y = 10"
      ],
      "execution_count": 16,
      "outputs": []
    },
    {
      "cell_type": "code",
      "metadata": {
        "id": "YlPuaeb4RI0Q",
        "colab": {
          "base_uri": "https://localhost:8080/"
        },
        "outputId": "b4bc39cd-8e14-4b6e-ff68-5c373cb085c1"
      },
      "source": [
        "if x < y:\n",
        "    print('x is less than y')\n",
        "    print(x)\n",
        "elif x > y:\n",
        "    print('x is greater than y')\n",
        "else:\n",
        "    print('x and y are equal')"
      ],
      "execution_count": 17,
      "outputs": [
        {
          "output_type": "stream",
          "text": [
            "x is less than y\n",
            "0\n"
          ],
          "name": "stdout"
        }
      ]
    },
    {
      "cell_type": "markdown",
      "metadata": {
        "id": "7xJo458eRIz_"
      },
      "source": [
        "### Exercícios\n",
        "\n",
        "1. Considere o seguinte script abaixo.\n",
        "obs: Pode também fazer no Trinket!"
      ]
    },
    {
      "cell_type": "code",
      "metadata": {
        "id": "NajHrqwGdYXZ",
        "colab": {
          "base_uri": "https://localhost:8080/"
        },
        "outputId": "de8b69b5-b95d-43de-e7b9-d8abbfdd6e83"
      },
      "source": [
        "!pip3 install ColabTurtle"
      ],
      "execution_count": 18,
      "outputs": [
        {
          "output_type": "stream",
          "text": [
            "Collecting ColabTurtle\n",
            "  Downloading https://files.pythonhosted.org/packages/08/6f/619066317c24cd988979ad1b8c7b324c09ee1c408bfd88926889d6a62d99/ColabTurtle-2.1.0.tar.gz\n",
            "Building wheels for collected packages: ColabTurtle\n",
            "  Building wheel for ColabTurtle (setup.py) ... \u001b[?25l\u001b[?25hdone\n",
            "  Created wheel for ColabTurtle: filename=ColabTurtle-2.1.0-cp37-none-any.whl size=7661 sha256=0ca9b9585b3eda3895ee2b4c38c9651ad43edd11aa164c8c4ca30f8fdba33795\n",
            "  Stored in directory: /root/.cache/pip/wheels/df/e9/3f/df3fccd8971c5473dc0c6450984cd057de8c9a1271069ebf18\n",
            "Successfully built ColabTurtle\n",
            "Installing collected packages: ColabTurtle\n",
            "Successfully installed ColabTurtle-2.1.0\n"
          ],
          "name": "stdout"
        }
      ]
    },
    {
      "cell_type": "code",
      "metadata": {
        "id": "vB4IycDrhrGa",
        "colab": {
          "base_uri": "https://localhost:8080/",
          "height": 521
        },
        "outputId": "4dda602d-86e8-40bf-df7f-f3749cff5db8"
      },
      "source": [
        "import ColabTurtle.Turtle as tess\n",
        "\n",
        "def draw_bar(t, height):\n",
        "    \"\"\" Get turtle t to draw one bar, of height. \"\"\"\n",
        "    t.forward(height)\n",
        "    t.right(90)\n",
        "    t.forward(40)\n",
        "    t.right(90)\n",
        "    t.forward(height)\n",
        "    t.left(90)\n",
        "    t.forward(10)\n",
        "    t.left(90)\n",
        "\n",
        "tess.initializeTurtle()   # inicialização\n",
        "\n",
        "tess.color(\"blue\")\n",
        "tess.bgcolor(\"white\")\n",
        "tess.penup() #levantar a caneta\n",
        "tess.goto(10,450) #mudar posicao de inicio \n",
        "tess.pendown() #abaixar a caneta\n",
        "\n",
        "xs = [48,117,200,240,160,260,220]\n",
        "\n",
        "for a in xs:\n",
        "    draw_bar(tess, a)"
      ],
      "execution_count": 19,
      "outputs": [
        {
          "output_type": "display_data",
          "data": {
            "text/html": [
              "\n",
              "      <svg width=\"800\" height=\"500\">\n",
              "        <rect width=\"100%\" height=\"100%\" fill=\"white\"/>\n",
              "        <line x1=\"10\" y1=\"450\" x2=\"10.0\" y2=\"402.0\" stroke-linecap=\"round\" style=\"stroke:blue;stroke-width:4\"/><line x1=\"10.0\" y1=\"402.0\" x2=\"50.0\" y2=\"402.0\" stroke-linecap=\"round\" style=\"stroke:blue;stroke-width:4\"/><line x1=\"50.0\" y1=\"402.0\" x2=\"50.0\" y2=\"450.0\" stroke-linecap=\"round\" style=\"stroke:blue;stroke-width:4\"/><line x1=\"50.0\" y1=\"450.0\" x2=\"60.0\" y2=\"450.0\" stroke-linecap=\"round\" style=\"stroke:blue;stroke-width:4\"/><line x1=\"60.0\" y1=\"450.0\" x2=\"60.0\" y2=\"333.0\" stroke-linecap=\"round\" style=\"stroke:blue;stroke-width:4\"/><line x1=\"60.0\" y1=\"333.0\" x2=\"100.0\" y2=\"333.0\" stroke-linecap=\"round\" style=\"stroke:blue;stroke-width:4\"/><line x1=\"100.0\" y1=\"333.0\" x2=\"100.0\" y2=\"450.0\" stroke-linecap=\"round\" style=\"stroke:blue;stroke-width:4\"/><line x1=\"100.0\" y1=\"450.0\" x2=\"110.0\" y2=\"450.0\" stroke-linecap=\"round\" style=\"stroke:blue;stroke-width:4\"/><line x1=\"110.0\" y1=\"450.0\" x2=\"110.0\" y2=\"250.0\" stroke-linecap=\"round\" style=\"stroke:blue;stroke-width:4\"/><line x1=\"110.0\" y1=\"250.0\" x2=\"150.0\" y2=\"250.0\" stroke-linecap=\"round\" style=\"stroke:blue;stroke-width:4\"/><line x1=\"150.0\" y1=\"250.0\" x2=\"150.0\" y2=\"450.0\" stroke-linecap=\"round\" style=\"stroke:blue;stroke-width:4\"/><line x1=\"150.0\" y1=\"450.0\" x2=\"160.0\" y2=\"450.0\" stroke-linecap=\"round\" style=\"stroke:blue;stroke-width:4\"/><line x1=\"160.0\" y1=\"450.0\" x2=\"160.0\" y2=\"210.0\" stroke-linecap=\"round\" style=\"stroke:blue;stroke-width:4\"/><line x1=\"160.0\" y1=\"210.0\" x2=\"200.0\" y2=\"210.0\" stroke-linecap=\"round\" style=\"stroke:blue;stroke-width:4\"/><line x1=\"200.0\" y1=\"210.0\" x2=\"200.0\" y2=\"450.0\" stroke-linecap=\"round\" style=\"stroke:blue;stroke-width:4\"/><line x1=\"200.0\" y1=\"450.0\" x2=\"210.0\" y2=\"450.0\" stroke-linecap=\"round\" style=\"stroke:blue;stroke-width:4\"/><line x1=\"210.0\" y1=\"450.0\" x2=\"210.0\" y2=\"290.0\" stroke-linecap=\"round\" style=\"stroke:blue;stroke-width:4\"/><line x1=\"210.0\" y1=\"290.0\" x2=\"250.0\" y2=\"290.0\" stroke-linecap=\"round\" style=\"stroke:blue;stroke-width:4\"/><line x1=\"250.0\" y1=\"290.0\" x2=\"250.0\" y2=\"450.0\" stroke-linecap=\"round\" style=\"stroke:blue;stroke-width:4\"/><line x1=\"250.0\" y1=\"450.0\" x2=\"260.0\" y2=\"450.0\" stroke-linecap=\"round\" style=\"stroke:blue;stroke-width:4\"/><line x1=\"260.0\" y1=\"450.0\" x2=\"260.0\" y2=\"190.0\" stroke-linecap=\"round\" style=\"stroke:blue;stroke-width:4\"/><line x1=\"260.0\" y1=\"190.0\" x2=\"300.0\" y2=\"190.0\" stroke-linecap=\"round\" style=\"stroke:blue;stroke-width:4\"/><line x1=\"300.0\" y1=\"190.0\" x2=\"300.0\" y2=\"450.0\" stroke-linecap=\"round\" style=\"stroke:blue;stroke-width:4\"/><line x1=\"300.0\" y1=\"450.0\" x2=\"310.0\" y2=\"450.0\" stroke-linecap=\"round\" style=\"stroke:blue;stroke-width:4\"/><line x1=\"310.0\" y1=\"450.0\" x2=\"310.0\" y2=\"230.0\" stroke-linecap=\"round\" style=\"stroke:blue;stroke-width:4\"/><line x1=\"310.0\" y1=\"230.0\" x2=\"350.0\" y2=\"230.0\" stroke-linecap=\"round\" style=\"stroke:blue;stroke-width:4\"/><line x1=\"350.0\" y1=\"230.0\" x2=\"350.0\" y2=\"450.0\" stroke-linecap=\"round\" style=\"stroke:blue;stroke-width:4\"/><line x1=\"350.0\" y1=\"450.0\" x2=\"360.0\" y2=\"450.0\" stroke-linecap=\"round\" style=\"stroke:blue;stroke-width:4\"/>\n",
              "        <g visibility=visible transform=\"rotate(360,360.0,450.0) translate(342.0, 432.0)\">\n",
              "<path style=\" stroke:none;fill-rule:evenodd;fill:blue;fill-opacity:1;\" d=\"M 18.214844 0.632812 C 16.109375 1.800781 15.011719 4.074219 15.074219 7.132812 L 15.085938 7.652344 L 14.785156 7.496094 C 13.476562 6.824219 11.957031 6.671875 10.40625 7.066406 C 8.46875 7.550781 6.515625 9.15625 4.394531 11.992188 C 3.0625 13.777344 2.679688 14.636719 3.042969 15.027344 L 3.15625 15.152344 L 3.519531 15.152344 C 4.238281 15.152344 4.828125 14.886719 8.1875 13.039062 C 9.386719 12.378906 10.371094 11.839844 10.378906 11.839844 C 10.386719 11.839844 10.355469 11.929688 10.304688 12.035156 C 9.832031 13.09375 9.257812 14.820312 8.96875 16.078125 C 7.914062 20.652344 8.617188 24.53125 11.070312 27.660156 C 11.351562 28.015625 11.363281 27.914062 10.972656 28.382812 C 8.925781 30.84375 7.945312 33.28125 8.238281 35.1875 C 8.289062 35.527344 8.28125 35.523438 8.917969 35.523438 C 10.941406 35.523438 13.074219 34.207031 15.136719 31.6875 C 15.359375 31.417969 15.328125 31.425781 15.5625 31.574219 C 16.292969 32.042969 18.023438 32.964844 18.175781 32.964844 C 18.335938 32.964844 19.941406 32.210938 20.828125 31.71875 C 20.996094 31.625 21.136719 31.554688 21.136719 31.558594 C 21.203125 31.664062 21.898438 32.414062 22.222656 32.730469 C 23.835938 34.300781 25.5625 35.132812 27.582031 35.300781 C 27.90625 35.328125 27.9375 35.308594 28.007812 34.984375 C 28.382812 33.242188 27.625 30.925781 25.863281 28.425781 L 25.542969 27.96875 L 25.699219 27.785156 C 28.945312 23.960938 29.132812 18.699219 26.257812 11.96875 L 26.207031 11.84375 L 27.945312 12.703125 C 31.53125 14.476562 32.316406 14.800781 33.03125 14.800781 C 33.976562 14.800781 33.78125 13.9375 32.472656 12.292969 C 28.519531 7.355469 25.394531 5.925781 21.921875 7.472656 L 21.558594 7.636719 L 21.578125 7.542969 C 21.699219 6.992188 21.761719 5.742188 21.699219 5.164062 C 21.496094 3.296875 20.664062 1.964844 19.003906 0.855469 C 18.480469 0.503906 18.457031 0.5 18.214844 0.632812\"/>\n",
              "</g>\n",
              "      </svg>\n",
              "    "
            ],
            "text/plain": [
              "<IPython.core.display.HTML object>"
            ]
          },
          "metadata": {
            "tags": []
          }
        }
      ]
    },
    {
      "cell_type": "markdown",
      "metadata": {
        "id": "7UXSE3AaRI0H"
      },
      "source": [
        "1) Modifique-o para que o resultado seja um **histograma**, como o mostrado na figura abaixo.\n",
        "Amplie seu script para que seja possível passar ao programa dados (frequência), com o valor do bin (classe de frequência) e cores determinados pelo usuário.\n",
        "\n",
        "\n",
        "Adicione declarações condicionais à função para casos passíveis de gerar erros, como por exemplo, se alguma variável do argumento da \n",
        "função não for definida.\n",
        "\n",
        "***Exemplo***: amplie sua função para tomar como argumento uma lista que contenha as frequências do histograma e verifique que o argumento realmente é uma lista. Caso não seja, imprima uma mensagem de erro.\n",
        "\n",
        "![](https://github.com/malbouis/Python_intro/raw/fe29ca731544b9f0d25bb2db0f7af084abd46b4a/aulas_2019/pics/histo.png)\n",
        "\n",
        "2) Repita o exercício 1) usando **Manipulação de exceção em Python** (pesquisem!!!!), com as cláusulas ```try``` e ```except```.  <=== **A ser apresentado em sala de aula**.\n",
        "\n",
        "3) **Desafio**: Faça um programa equivalente ao do item 1., utilizando ***matplotlib*** e ***numpy*** ao invés de ***turtle***"
      ]
    },
    {
      "cell_type": "markdown",
      "metadata": {
        "id": "QubvbmdzMODR"
      },
      "source": [
        "Exercício 1:"
      ]
    },
    {
      "cell_type": "code",
      "metadata": {
        "colab": {
          "base_uri": "https://localhost:8080/",
          "height": 521
        },
        "id": "JtVfjTZbL_B_",
        "outputId": "7d58604d-be69-45eb-ab58-57ad4cef90d4"
      },
      "source": [
        "import ColabTurtle.Turtle as tess\n",
        "\n",
        "def draw_bar(t, height, width_bin):\n",
        "    \"\"\"Gets turtle 't' to draw one bar, of height 'height' and \n",
        "    width 'width_bin'.\"\"\"\n",
        "    t.forward(height)\n",
        "    t.right(90)\n",
        "    t.forward(width_bin)\n",
        "    t.right(90)\n",
        "    t.forward(height)\n",
        "    t.left(180) \n",
        "\n",
        "def draw_histogram(t, height, color = \"blue\", colorbg = \"white\", width_bin = 40):\n",
        "    \"\"\"Draws a histogram using turtle 't' with the arbitrary list of frequencies \n",
        "    'height' and 'width_bin' as the width of each bin.\"\"\"\n",
        "    if type(height) != list:\n",
        "        print(\"TypeError: You must use a list as an argument.\")\n",
        "    else:\n",
        "        t.color(color)\n",
        "        t.bgcolor(colorbg)\n",
        "        t.penup() \n",
        "        t.goto(10,450) # initial position\n",
        "        t.pendown()\n",
        "        for i in height:\n",
        "            draw_bar(t, i, width_bin)\n",
        "\n",
        "tess.initializeTurtle() \n",
        "lista = [48,117,200,240,160,260,220]  \n",
        "lista2 = 5\n",
        "lista3 = \"string\"\n",
        "lista4 = True\n",
        "draw_histogram(tess, lista, \"red\", \"pink\", 60)\n"
      ],
      "execution_count": 36,
      "outputs": [
        {
          "output_type": "display_data",
          "data": {
            "text/html": [
              "\n",
              "      <svg width=\"800\" height=\"500\">\n",
              "        <rect width=\"100%\" height=\"100%\" fill=\"pink\"/>\n",
              "        <line x1=\"10\" y1=\"450\" x2=\"10.0\" y2=\"402.0\" stroke-linecap=\"round\" style=\"stroke:red;stroke-width:4\"/><line x1=\"10.0\" y1=\"402.0\" x2=\"70.0\" y2=\"402.0\" stroke-linecap=\"round\" style=\"stroke:red;stroke-width:4\"/><line x1=\"70.0\" y1=\"402.0\" x2=\"70.0\" y2=\"450.0\" stroke-linecap=\"round\" style=\"stroke:red;stroke-width:4\"/><line x1=\"70.0\" y1=\"450.0\" x2=\"70.0\" y2=\"333.0\" stroke-linecap=\"round\" style=\"stroke:red;stroke-width:4\"/><line x1=\"70.0\" y1=\"333.0\" x2=\"130.0\" y2=\"333.0\" stroke-linecap=\"round\" style=\"stroke:red;stroke-width:4\"/><line x1=\"130.0\" y1=\"333.0\" x2=\"130.0\" y2=\"450.0\" stroke-linecap=\"round\" style=\"stroke:red;stroke-width:4\"/><line x1=\"130.0\" y1=\"450.0\" x2=\"130.0\" y2=\"250.0\" stroke-linecap=\"round\" style=\"stroke:red;stroke-width:4\"/><line x1=\"130.0\" y1=\"250.0\" x2=\"190.0\" y2=\"250.0\" stroke-linecap=\"round\" style=\"stroke:red;stroke-width:4\"/><line x1=\"190.0\" y1=\"250.0\" x2=\"190.0\" y2=\"450.0\" stroke-linecap=\"round\" style=\"stroke:red;stroke-width:4\"/><line x1=\"190.0\" y1=\"450.0\" x2=\"190.0\" y2=\"210.0\" stroke-linecap=\"round\" style=\"stroke:red;stroke-width:4\"/><line x1=\"190.0\" y1=\"210.0\" x2=\"250.0\" y2=\"210.0\" stroke-linecap=\"round\" style=\"stroke:red;stroke-width:4\"/><line x1=\"250.0\" y1=\"210.0\" x2=\"250.0\" y2=\"450.0\" stroke-linecap=\"round\" style=\"stroke:red;stroke-width:4\"/><line x1=\"250.0\" y1=\"450.0\" x2=\"250.0\" y2=\"290.0\" stroke-linecap=\"round\" style=\"stroke:red;stroke-width:4\"/><line x1=\"250.0\" y1=\"290.0\" x2=\"310.0\" y2=\"290.0\" stroke-linecap=\"round\" style=\"stroke:red;stroke-width:4\"/><line x1=\"310.0\" y1=\"290.0\" x2=\"310.0\" y2=\"450.0\" stroke-linecap=\"round\" style=\"stroke:red;stroke-width:4\"/><line x1=\"310.0\" y1=\"450.0\" x2=\"310.0\" y2=\"190.0\" stroke-linecap=\"round\" style=\"stroke:red;stroke-width:4\"/><line x1=\"310.0\" y1=\"190.0\" x2=\"370.0\" y2=\"190.0\" stroke-linecap=\"round\" style=\"stroke:red;stroke-width:4\"/><line x1=\"370.0\" y1=\"190.0\" x2=\"370.0\" y2=\"450.0\" stroke-linecap=\"round\" style=\"stroke:red;stroke-width:4\"/><line x1=\"370.0\" y1=\"450.0\" x2=\"370.0\" y2=\"230.0\" stroke-linecap=\"round\" style=\"stroke:red;stroke-width:4\"/><line x1=\"370.0\" y1=\"230.0\" x2=\"430.0\" y2=\"230.0\" stroke-linecap=\"round\" style=\"stroke:red;stroke-width:4\"/><line x1=\"430.0\" y1=\"230.0\" x2=\"430.0\" y2=\"450.0\" stroke-linecap=\"round\" style=\"stroke:red;stroke-width:4\"/>\n",
              "        <g visibility=visible transform=\"rotate(360,430.0,450.0) translate(412.0, 432.0)\">\n",
              "<path style=\" stroke:none;fill-rule:evenodd;fill:red;fill-opacity:1;\" d=\"M 18.214844 0.632812 C 16.109375 1.800781 15.011719 4.074219 15.074219 7.132812 L 15.085938 7.652344 L 14.785156 7.496094 C 13.476562 6.824219 11.957031 6.671875 10.40625 7.066406 C 8.46875 7.550781 6.515625 9.15625 4.394531 11.992188 C 3.0625 13.777344 2.679688 14.636719 3.042969 15.027344 L 3.15625 15.152344 L 3.519531 15.152344 C 4.238281 15.152344 4.828125 14.886719 8.1875 13.039062 C 9.386719 12.378906 10.371094 11.839844 10.378906 11.839844 C 10.386719 11.839844 10.355469 11.929688 10.304688 12.035156 C 9.832031 13.09375 9.257812 14.820312 8.96875 16.078125 C 7.914062 20.652344 8.617188 24.53125 11.070312 27.660156 C 11.351562 28.015625 11.363281 27.914062 10.972656 28.382812 C 8.925781 30.84375 7.945312 33.28125 8.238281 35.1875 C 8.289062 35.527344 8.28125 35.523438 8.917969 35.523438 C 10.941406 35.523438 13.074219 34.207031 15.136719 31.6875 C 15.359375 31.417969 15.328125 31.425781 15.5625 31.574219 C 16.292969 32.042969 18.023438 32.964844 18.175781 32.964844 C 18.335938 32.964844 19.941406 32.210938 20.828125 31.71875 C 20.996094 31.625 21.136719 31.554688 21.136719 31.558594 C 21.203125 31.664062 21.898438 32.414062 22.222656 32.730469 C 23.835938 34.300781 25.5625 35.132812 27.582031 35.300781 C 27.90625 35.328125 27.9375 35.308594 28.007812 34.984375 C 28.382812 33.242188 27.625 30.925781 25.863281 28.425781 L 25.542969 27.96875 L 25.699219 27.785156 C 28.945312 23.960938 29.132812 18.699219 26.257812 11.96875 L 26.207031 11.84375 L 27.945312 12.703125 C 31.53125 14.476562 32.316406 14.800781 33.03125 14.800781 C 33.976562 14.800781 33.78125 13.9375 32.472656 12.292969 C 28.519531 7.355469 25.394531 5.925781 21.921875 7.472656 L 21.558594 7.636719 L 21.578125 7.542969 C 21.699219 6.992188 21.761719 5.742188 21.699219 5.164062 C 21.496094 3.296875 20.664062 1.964844 19.003906 0.855469 C 18.480469 0.503906 18.457031 0.5 18.214844 0.632812\"/>\n",
              "</g>\n",
              "      </svg>\n",
              "    "
            ],
            "text/plain": [
              "<IPython.core.display.HTML object>"
            ]
          },
          "metadata": {
            "tags": []
          }
        }
      ]
    },
    {
      "cell_type": "markdown",
      "metadata": {
        "id": "YoAd9VI9Y_k2"
      },
      "source": [
        "Exercício 2:"
      ]
    },
    {
      "cell_type": "code",
      "metadata": {
        "colab": {
          "base_uri": "https://localhost:8080/",
          "height": 539
        },
        "id": "e7sdrvquZCmH",
        "outputId": "d0723983-9691-40a7-a80f-bd570bc85260"
      },
      "source": [
        "import ColabTurtle.Turtle as tess\n",
        "\n",
        "def draw_bar(t, height, width_bin):\n",
        "    \"\"\"Gets turtle 't' to draw one bar, of height 'height' and \n",
        "    width 'width_bin'.\"\"\"\n",
        "    t.forward(height)\n",
        "    t.right(90)\n",
        "    t.forward(width_bin)\n",
        "    t.right(90)\n",
        "    t.forward(height)\n",
        "    t.left(180) \n",
        "\n",
        "def draw_histogram(t, height, color = \"blue\", colorbg = \"white\", width_bin = 40):\n",
        "    \"\"\"Draws a histogram using turtle 't' with the arbitrary list of frequencies \n",
        "    'height' and 'width_bin' as the width of each bin.\"\"\"\n",
        "    t.color(color)\n",
        "    t.bgcolor(colorbg)\n",
        "    t.penup() \n",
        "    t.goto(10,450) # initial position\n",
        "    t.pendown()\n",
        "    try:\n",
        "        for i in height:\n",
        "            draw_bar(t, i, width_bin) \n",
        "    except:\n",
        "        print(\"TypeError: You must use a list as an argument.\")\n",
        "\n",
        "tess.initializeTurtle() \n",
        "lista = [48,117,200,240,160,260,220]  \n",
        "lista2 = 5\n",
        "lista3 = \"string\"\n",
        "lista4 = True\n",
        "draw_histogram(tess, lista4, \"blue\", \"pink\", 30)"
      ],
      "execution_count": 41,
      "outputs": [
        {
          "output_type": "display_data",
          "data": {
            "text/html": [
              "\n",
              "      <svg width=\"800\" height=\"500\">\n",
              "        <rect width=\"100%\" height=\"100%\" fill=\"pink\"/>\n",
              "        \n",
              "        <g visibility=visible transform=\"rotate(360,10,450) translate(-8, 432)\">\n",
              "<path style=\" stroke:none;fill-rule:evenodd;fill:blue;fill-opacity:1;\" d=\"M 18.214844 0.632812 C 16.109375 1.800781 15.011719 4.074219 15.074219 7.132812 L 15.085938 7.652344 L 14.785156 7.496094 C 13.476562 6.824219 11.957031 6.671875 10.40625 7.066406 C 8.46875 7.550781 6.515625 9.15625 4.394531 11.992188 C 3.0625 13.777344 2.679688 14.636719 3.042969 15.027344 L 3.15625 15.152344 L 3.519531 15.152344 C 4.238281 15.152344 4.828125 14.886719 8.1875 13.039062 C 9.386719 12.378906 10.371094 11.839844 10.378906 11.839844 C 10.386719 11.839844 10.355469 11.929688 10.304688 12.035156 C 9.832031 13.09375 9.257812 14.820312 8.96875 16.078125 C 7.914062 20.652344 8.617188 24.53125 11.070312 27.660156 C 11.351562 28.015625 11.363281 27.914062 10.972656 28.382812 C 8.925781 30.84375 7.945312 33.28125 8.238281 35.1875 C 8.289062 35.527344 8.28125 35.523438 8.917969 35.523438 C 10.941406 35.523438 13.074219 34.207031 15.136719 31.6875 C 15.359375 31.417969 15.328125 31.425781 15.5625 31.574219 C 16.292969 32.042969 18.023438 32.964844 18.175781 32.964844 C 18.335938 32.964844 19.941406 32.210938 20.828125 31.71875 C 20.996094 31.625 21.136719 31.554688 21.136719 31.558594 C 21.203125 31.664062 21.898438 32.414062 22.222656 32.730469 C 23.835938 34.300781 25.5625 35.132812 27.582031 35.300781 C 27.90625 35.328125 27.9375 35.308594 28.007812 34.984375 C 28.382812 33.242188 27.625 30.925781 25.863281 28.425781 L 25.542969 27.96875 L 25.699219 27.785156 C 28.945312 23.960938 29.132812 18.699219 26.257812 11.96875 L 26.207031 11.84375 L 27.945312 12.703125 C 31.53125 14.476562 32.316406 14.800781 33.03125 14.800781 C 33.976562 14.800781 33.78125 13.9375 32.472656 12.292969 C 28.519531 7.355469 25.394531 5.925781 21.921875 7.472656 L 21.558594 7.636719 L 21.578125 7.542969 C 21.699219 6.992188 21.761719 5.742188 21.699219 5.164062 C 21.496094 3.296875 20.664062 1.964844 19.003906 0.855469 C 18.480469 0.503906 18.457031 0.5 18.214844 0.632812\"/>\n",
              "</g>\n",
              "      </svg>\n",
              "    "
            ],
            "text/plain": [
              "<IPython.core.display.HTML object>"
            ]
          },
          "metadata": {
            "tags": []
          }
        },
        {
          "output_type": "stream",
          "text": [
            "TypeError: You must use a list as an argument.\n"
          ],
          "name": "stdout"
        }
      ]
    },
    {
      "cell_type": "markdown",
      "metadata": {
        "id": "UHHM1siadD53"
      },
      "source": [
        "Exercício 3:"
      ]
    },
    {
      "cell_type": "code",
      "metadata": {
        "colab": {
          "base_uri": "https://localhost:8080/",
          "height": 309
        },
        "id": "0iUeR_XGdGO8",
        "outputId": "cd9547ad-5178-41f5-fca6-0296c498a0d1"
      },
      "source": [
        "import matplotlib.pyplot as plt\n",
        "import numpy as np\n",
        "\n",
        "x = np.array([np.full((1, 48), 1),np.full((1, 117), 2),np.full((1, 200), 3),np.full((1, 240), 4),np.full((1, 160), 5),np.full((1, 260), 6),np.full((1, 220), 7)])\n",
        "\n",
        "\n",
        "plt.hist(x, bins = 7)  # density=False would make counts\n",
        "plt.ylabel('Frequency')\n",
        "plt.xlabel('Bin')\n",
        "\n",
        "plt.show()"
      ],
      "execution_count": 48,
      "outputs": [
        {
          "output_type": "stream",
          "text": [
            "/usr/local/lib/python3.7/dist-packages/ipykernel_launcher.py:4: VisibleDeprecationWarning: Creating an ndarray from ragged nested sequences (which is a list-or-tuple of lists-or-tuples-or ndarrays with different lengths or shapes) is deprecated. If you meant to do this, you must specify 'dtype=object' when creating the ndarray\n",
            "  after removing the cwd from sys.path.\n"
          ],
          "name": "stderr"
        },
        {
          "output_type": "error",
          "ename": "ValueError",
          "evalue": "ignored",
          "traceback": [
            "\u001b[0;31m---------------------------------------------------------------------------\u001b[0m",
            "\u001b[0;31mValueError\u001b[0m                                Traceback (most recent call last)",
            "\u001b[0;32m<ipython-input-48-28a5d520347a>\u001b[0m in \u001b[0;36m<module>\u001b[0;34m()\u001b[0m\n\u001b[1;32m      2\u001b[0m \u001b[0;32mimport\u001b[0m \u001b[0mnumpy\u001b[0m \u001b[0;32mas\u001b[0m \u001b[0mnp\u001b[0m\u001b[0;34m\u001b[0m\u001b[0;34m\u001b[0m\u001b[0m\n\u001b[1;32m      3\u001b[0m \u001b[0;34m\u001b[0m\u001b[0m\n\u001b[0;32m----> 4\u001b[0;31m \u001b[0mx\u001b[0m \u001b[0;34m=\u001b[0m \u001b[0mnp\u001b[0m\u001b[0;34m.\u001b[0m\u001b[0marray\u001b[0m\u001b[0;34m(\u001b[0m\u001b[0;34m[\u001b[0m\u001b[0mnp\u001b[0m\u001b[0;34m.\u001b[0m\u001b[0mfull\u001b[0m\u001b[0;34m(\u001b[0m\u001b[0;34m(\u001b[0m\u001b[0;36m1\u001b[0m\u001b[0;34m,\u001b[0m \u001b[0;36m48\u001b[0m\u001b[0;34m)\u001b[0m\u001b[0;34m,\u001b[0m \u001b[0;36m1\u001b[0m\u001b[0;34m)\u001b[0m\u001b[0;34m,\u001b[0m\u001b[0mnp\u001b[0m\u001b[0;34m.\u001b[0m\u001b[0mfull\u001b[0m\u001b[0;34m(\u001b[0m\u001b[0;34m(\u001b[0m\u001b[0;36m1\u001b[0m\u001b[0;34m,\u001b[0m \u001b[0;36m117\u001b[0m\u001b[0;34m)\u001b[0m\u001b[0;34m,\u001b[0m \u001b[0;36m2\u001b[0m\u001b[0;34m)\u001b[0m\u001b[0;34m,\u001b[0m\u001b[0mnp\u001b[0m\u001b[0;34m.\u001b[0m\u001b[0mfull\u001b[0m\u001b[0;34m(\u001b[0m\u001b[0;34m(\u001b[0m\u001b[0;36m1\u001b[0m\u001b[0;34m,\u001b[0m \u001b[0;36m200\u001b[0m\u001b[0;34m)\u001b[0m\u001b[0;34m,\u001b[0m \u001b[0;36m3\u001b[0m\u001b[0;34m)\u001b[0m\u001b[0;34m,\u001b[0m\u001b[0mnp\u001b[0m\u001b[0;34m.\u001b[0m\u001b[0mfull\u001b[0m\u001b[0;34m(\u001b[0m\u001b[0;34m(\u001b[0m\u001b[0;36m1\u001b[0m\u001b[0;34m,\u001b[0m \u001b[0;36m240\u001b[0m\u001b[0;34m)\u001b[0m\u001b[0;34m,\u001b[0m \u001b[0;36m4\u001b[0m\u001b[0;34m)\u001b[0m\u001b[0;34m,\u001b[0m\u001b[0mnp\u001b[0m\u001b[0;34m.\u001b[0m\u001b[0mfull\u001b[0m\u001b[0;34m(\u001b[0m\u001b[0;34m(\u001b[0m\u001b[0;36m1\u001b[0m\u001b[0;34m,\u001b[0m \u001b[0;36m160\u001b[0m\u001b[0;34m)\u001b[0m\u001b[0;34m,\u001b[0m \u001b[0;36m5\u001b[0m\u001b[0;34m)\u001b[0m\u001b[0;34m,\u001b[0m\u001b[0mnp\u001b[0m\u001b[0;34m.\u001b[0m\u001b[0mfull\u001b[0m\u001b[0;34m(\u001b[0m\u001b[0;34m(\u001b[0m\u001b[0;36m1\u001b[0m\u001b[0;34m,\u001b[0m \u001b[0;36m260\u001b[0m\u001b[0;34m)\u001b[0m\u001b[0;34m,\u001b[0m \u001b[0;36m6\u001b[0m\u001b[0;34m)\u001b[0m\u001b[0;34m,\u001b[0m\u001b[0mnp\u001b[0m\u001b[0;34m.\u001b[0m\u001b[0mfull\u001b[0m\u001b[0;34m(\u001b[0m\u001b[0;34m(\u001b[0m\u001b[0;36m1\u001b[0m\u001b[0;34m,\u001b[0m \u001b[0;36m220\u001b[0m\u001b[0;34m)\u001b[0m\u001b[0;34m,\u001b[0m \u001b[0;36m7\u001b[0m\u001b[0;34m)\u001b[0m\u001b[0;34m]\u001b[0m\u001b[0;34m)\u001b[0m\u001b[0;34m\u001b[0m\u001b[0;34m\u001b[0m\u001b[0m\n\u001b[0m\u001b[1;32m      5\u001b[0m \u001b[0;34m\u001b[0m\u001b[0m\n\u001b[1;32m      6\u001b[0m \u001b[0;34m\u001b[0m\u001b[0m\n",
            "\u001b[0;31mValueError\u001b[0m: could not broadcast input array from shape (48) into shape (1)"
          ]
        }
      ]
    },
    {
      "cell_type": "code",
      "metadata": {
        "colab": {
          "base_uri": "https://localhost:8080/",
          "height": 265
        },
        "id": "P133O39HgvyJ",
        "outputId": "3f71cea4-63fa-487c-b83a-bb9704a22653"
      },
      "source": [
        "import matplotlib.pyplot as plt\n",
        "plt.bar([1, 2, 3, 4, 5, 6, 7], [48,117,200,240,160,260,220])\n",
        "plt.show()"
      ],
      "execution_count": 49,
      "outputs": [
        {
          "output_type": "display_data",
          "data": {
            "image/png": "[encoded data removed]",
            "text/plain": [
              "<Figure size 432x288 with 1 Axes>"
            ]
          },
          "metadata": {
            "tags": [],
            "needs_background": "light"
          }
        }
      ]
    }
  ]
}