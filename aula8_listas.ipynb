{
  "nbformat": 4,
  "nbformat_minor": 0,
  "metadata": {
    "kernelspec": {
      "display_name": "Python 3",
      "language": "python",
      "name": "python3"
    },
    "language_info": {
      "codemirror_mode": {
        "name": "ipython",
        "version": 3
      },
      "file_extension": ".py",
      "mimetype": "text/x-python",
      "name": "python",
      "nbconvert_exporter": "python",
      "pygments_lexer": "ipython3",
      "version": "3.6.4"
    },
    "colab": {
      "name": "aula8_listas.ipynb",
      "provenance": [],
      "include_colab_link": true
    }
  },
  "cells": [
    {
      "cell_type": "markdown",
      "metadata": {
        "id": "view-in-github",
        "colab_type": "text"
      },
      "source": [
        "<a href=\"https://colab.research.google.com/github/eduvaladao/aulas_python_UERJ/blob/main/aula8_listas.ipynb\" target=\"_parent\"><img src=\"https://colab.research.google.com/assets/colab-badge.svg\" alt=\"Open In Colab\"/></a>"
      ]
    },
    {
      "cell_type": "markdown",
      "metadata": {
        "id": "NiQ_H4VUJ33w"
      },
      "source": [
        "\n",
        "# Strings\n",
        "\n",
        "Strings não são como números inteiros, de ponto flutuante ou booleanos. Uma string é uma sequência, ou seja, uma coleção ordenada de outros valores. Vamos ver como acessar os caracteres que compõem uma string e aprender alguns métodos que as strings oferecem. \n",
        "\n",
        " - Aula baseada no livro: http://openbookproject.net/thinkcs/python/english3e/index.html\n",
        "\n",
        "Uma `string` é uma sequência de caracteres. Como já vimos, é possível acessar um caractere de cada vez com o operador de colchete.  \n",
        "- Lembre-se que o índice é uma referência do começo da string, e a referência da primeira letra é zero\n",
        "- Pode-se usar índices negativos, que contam de trás para a frente a partir do fim da string. \n",
        "- Uma `string` é imutável. "
      ]
    },
    {
      "cell_type": "code",
      "metadata": {
        "id": "fe5Nck5sLPG3",
        "colab": {
          "base_uri": "https://localhost:8080/",
          "height": 35
        },
        "outputId": "2f1ce760-e26f-479b-cdb0-ccb2d57f0be5"
      },
      "source": [
        "fruta = 'banana'\n",
        "letra = fruta[1]\n",
        "letra"
      ],
      "execution_count": 115,
      "outputs": [
        {
          "output_type": "execute_result",
          "data": {
            "application/vnd.google.colaboratory.intrinsic+json": {
              "type": "string"
            },
            "text/plain": [
              "'a'"
            ]
          },
          "metadata": {
            "tags": []
          },
          "execution_count": 115
        }
      ]
    },
    {
      "cell_type": "markdown",
      "metadata": {
        "id": "BEbouUfULb0-"
      },
      "source": [
        "É possível utilizar algumas funções integradas ao python com as `strings`, por exemplo, `len`."
      ]
    },
    {
      "cell_type": "code",
      "metadata": {
        "id": "7p0jJNe3MkBC",
        "colab": {
          "base_uri": "https://localhost:8080/"
        },
        "outputId": "5ef0cffb-9e30-4a2e-89f1-65bf04220ade"
      },
      "source": [
        "len(fruta)\n"
      ],
      "execution_count": null,
      "outputs": [
        {
          "output_type": "execute_result",
          "data": {
            "text/plain": [
              "6"
            ]
          },
          "metadata": {
            "tags": []
          },
          "execution_count": 2
        }
      ]
    },
    {
      "cell_type": "code",
      "metadata": {
        "id": "mhQQNAYXM9Y5",
        "colab": {
          "base_uri": "https://localhost:8080/"
        },
        "outputId": "8b246223-9b79-4b89-a84c-62a1a43a43ab"
      },
      "source": [
        "tamanho = len(fruta)\n",
        "ultimaLetra = fruta[tamanho-1]\n",
        "print(ultimaLetra)"
      ],
      "execution_count": null,
      "outputs": [
        {
          "output_type": "stream",
          "text": [
            "a\n"
          ],
          "name": "stdout"
        }
      ]
    },
    {
      "cell_type": "markdown",
      "metadata": {
        "id": "BaoP_gw8NSNW"
      },
      "source": [
        "1.   Exercício: percorra toda a 'string' banana, utilizando as iterações\n",
        "apresentadas nas aulas anteriores, e imprima na tela uma letra por linha como se fosse em uma escada. \n"
      ]
    },
    {
      "cell_type": "code",
      "metadata": {
        "colab": {
          "base_uri": "https://localhost:8080/"
        },
        "id": "FGsX04nV098a",
        "outputId": "035d2f5d-51bf-406b-939f-6347a8f4aa26"
      },
      "source": [
        "def staircase(string):\n",
        "    tamanho = len(string)\n",
        "    for i in range(tamanho):\n",
        "        print(' '*i, string[i]) \n",
        "\n",
        "escada('banana')"
      ],
      "execution_count": null,
      "outputs": [
        {
          "output_type": "stream",
          "text": [
            " b\n",
            "  a\n",
            "   n\n",
            "    a\n",
            "     n\n",
            "      a\n"
          ],
          "name": "stdout"
        }
      ]
    },
    {
      "cell_type": "markdown",
      "metadata": {
        "id": "NCiSChVSSaBG"
      },
      "source": [
        "2. Exercício: escreva uma função que receba uma `string` como argumento e exiba as letras de trás para a frente, uma por linha."
      ]
    },
    {
      "cell_type": "code",
      "metadata": {
        "colab": {
          "base_uri": "https://localhost:8080/"
        },
        "id": "je1XnZ2a2W7S",
        "outputId": "f9cd0f74-a539-4c14-e7ab-323d67d4ef5a"
      },
      "source": [
        "def backwards(string):\n",
        "    tamanho = len(string)\n",
        "    for i in range(tamanho):\n",
        "        print(string[(tamanho - 1) - i]) \n",
        "\n",
        "backwards('banana')"
      ],
      "execution_count": null,
      "outputs": [
        {
          "output_type": "stream",
          "text": [
            "a\n",
            "n\n",
            "a\n",
            "n\n",
            "a\n",
            "b\n"
          ],
          "name": "stdout"
        }
      ]
    },
    {
      "cell_type": "markdown",
      "metadata": {
        "id": "Ijj6avSgSu2U"
      },
      "source": [
        "#Métodos e operadores de `strings`\n",
        "Os métodos são semelhantes às funções, vale a pena pesquisar sobre os métodos e operadores que podem ser utilizados com as `strings`, por exemplo: \n",
        " - métodos: `upper`, `find`\n",
        " - operadores: `in`"
      ]
    },
    {
      "cell_type": "code",
      "metadata": {
        "id": "D4rur9A-UWQ0",
        "colab": {
          "base_uri": "https://localhost:8080/",
          "height": 35
        },
        "outputId": "8cbee03a-0c29-4410-e816-82c402a5c368"
      },
      "source": [
        "#o método upper recebe uma string e devolve uma nova string com todas as letras maiúsculas\n",
        "nova_fruta = fruta.upper()\n",
        "nova_fruta"
      ],
      "execution_count": null,
      "outputs": [
        {
          "output_type": "execute_result",
          "data": {
            "application/vnd.google.colaboratory.intrinsic+json": {
              "type": "string"
            },
            "text/plain": [
              "'BANANA'"
            ]
          },
          "metadata": {
            "tags": []
          },
          "execution_count": 36
        }
      ]
    },
    {
      "cell_type": "code",
      "metadata": {
        "id": "2CRHCX3FUjLC",
        "colab": {
          "base_uri": "https://localhost:8080/"
        },
        "outputId": "3fd4d852-0521-483f-de23-aaeebf630398"
      },
      "source": [
        "#o método find encontra a posição de uma letra específica na string \n",
        "indice = fruta.index(\"a\")\n",
        "indice"
      ],
      "execution_count": null,
      "outputs": [
        {
          "output_type": "execute_result",
          "data": {
            "text/plain": [
              "1"
            ]
          },
          "metadata": {
            "tags": []
          },
          "execution_count": 37
        }
      ]
    },
    {
      "cell_type": "code",
      "metadata": {
        "id": "6BH0WLHkU04e",
        "colab": {
          "base_uri": "https://localhost:8080/"
        },
        "outputId": "08f33516-ffbc-4f22-9310-ebfdcb5b14b8"
      },
      "source": [
        "indice = fruta.index(\"a\",2)\n",
        "indice"
      ],
      "execution_count": null,
      "outputs": [
        {
          "output_type": "execute_result",
          "data": {
            "text/plain": [
              "3"
            ]
          },
          "metadata": {
            "tags": []
          },
          "execution_count": 38
        }
      ]
    },
    {
      "cell_type": "code",
      "metadata": {
        "id": "E8qhTLPVVost",
        "colab": {
          "base_uri": "https://localhost:8080/"
        },
        "outputId": "e811e904-3114-4253-c0ca-db82b9602e84"
      },
      "source": [
        "#in é um operador booleano que recebe duas strings e retorna True se a primeira aparecer como uma substring da segunda\n",
        "'a' in 'banana'"
      ],
      "execution_count": null,
      "outputs": [
        {
          "output_type": "execute_result",
          "data": {
            "text/plain": [
              "True"
            ]
          },
          "metadata": {
            "tags": []
          },
          "execution_count": 39
        }
      ]
    },
    {
      "cell_type": "code",
      "metadata": {
        "id": "HeG5NZU2VxeT",
        "colab": {
          "base_uri": "https://localhost:8080/"
        },
        "outputId": "f7059e56-db7f-4494-d297-2de70bd11123"
      },
      "source": [
        "'nn' in 'banana'\n"
      ],
      "execution_count": null,
      "outputs": [
        {
          "output_type": "execute_result",
          "data": {
            "text/plain": [
              "False"
            ]
          },
          "metadata": {
            "tags": []
          },
          "execution_count": 40
        }
      ]
    },
    {
      "cell_type": "code",
      "metadata": {
        "colab": {
          "base_uri": "https://localhost:8080/"
        },
        "id": "bXiMcc9mWc8t",
        "outputId": "af9934db-2dcf-4c01-c8cf-5cfcd5bd7d99"
      },
      "source": [
        "'ana' in 'banana'"
      ],
      "execution_count": null,
      "outputs": [
        {
          "output_type": "execute_result",
          "data": {
            "text/plain": [
              "True"
            ]
          },
          "metadata": {
            "tags": []
          },
          "execution_count": 41
        }
      ]
    },
    {
      "cell_type": "code",
      "metadata": {
        "id": "sPrGliL3V3W6",
        "colab": {
          "base_uri": "https://localhost:8080/"
        },
        "outputId": "1a44cd4b-c908-446e-e240-e2d7b6738173"
      },
      "source": [
        "#Exercitando o que já vimos\n",
        "#A função a seguir imprime todas as letras de palav1 que também aparecem em palav2:\n",
        "def in_both(palav1, palav2):\n",
        "    for letra in palav1:\n",
        "        if letra in palav2:\n",
        "            print(letra)\n",
        "\n",
        "in_both(\"aulas\", \"remotas\") "
      ],
      "execution_count": null,
      "outputs": [
        {
          "output_type": "stream",
          "text": [
            "a\n",
            "a\n",
            "s\n"
          ],
          "name": "stdout"
        }
      ]
    },
    {
      "cell_type": "markdown",
      "metadata": {
        "id": "AtxgfQT9KY8y"
      },
      "source": [
        "# Listas \n",
        "\n",
        "Uma lista é uma coleção ordenada de valores. Os valores que compõem uma lista são chamados de seus **elementos** ou seus **itens** . Nós usaremos o termo elemento ou item para significar a mesma coisa. ***A lista mantém a ordem de seus elementos***, portanto podem ser identificadas como **sequências** (como também são sequências as _strings_ (cadeias de carateres, e as tuplas) \n",
        "\n",
        "\n",
        "## Valores de lista\n",
        "Existem várias maneiras de criar uma nova lista; o mais simples é incluir os elementos entre colchetes:\n"
      ]
    },
    {
      "cell_type": "code",
      "metadata": {
        "id": "sgtadaMKJ33y",
        "colab": {
          "base_uri": "https://localhost:8080/"
        },
        "outputId": "93ee0a4c-9842-4ff6-d90d-f393231d87e6"
      },
      "source": [
        "ps  =  [ 10 ,  20 ,  30 ,  40 ] \n",
        "qs  =  [ \"spam\" ,  \"bungee\" ,  \"cantar\" ]\n",
        "print(ps, type(ps))\n",
        "print(qs, type(qs))"
      ],
      "execution_count": null,
      "outputs": [
        {
          "output_type": "stream",
          "text": [
            "[10, 20, 30, 40] <class 'list'>\n",
            "['spam', 'bungee', 'cantar'] <class 'list'>\n"
          ],
          "name": "stdout"
        }
      ]
    },
    {
      "cell_type": "markdown",
      "metadata": {
        "id": "EjIqwfYwJ34A"
      },
      "source": [
        "O primeiro exemplo é uma lista de quatro inteiros. O segundo é uma lista de três strings. Os elementos de uma lista não precisam ser do mesmo tipo. A lista a seguir contém uma string, um float, um inteiro e (incrivelmente) outra lista:"
      ]
    },
    {
      "cell_type": "code",
      "metadata": {
        "id": "g17yeeHiJ34D"
      },
      "source": [
        "zs  =  [ \"olá\" ,  2.0 ,  5 ,  [ 10 ,  20 ]]"
      ],
      "execution_count": null,
      "outputs": []
    },
    {
      "cell_type": "markdown",
      "metadata": {
        "id": "rHOG3ji-J34K"
      },
      "source": [
        "- Uma lista dentro de outra lista é dita ***aninhada*** .\n",
        "- Finalmente, uma lista sem elementos é chamada de lista vazia e é denotada \\[ \\] .\n",
        "- Já vimos que podemos atribuir valores de lista a variáveis ou passar ***listas como parâmetros*** para funções."
      ]
    },
    {
      "cell_type": "code",
      "metadata": {
        "id": "nR-63WGFJ34M",
        "colab": {
          "base_uri": "https://localhost:8080/"
        },
        "outputId": "f25329e4-7aea-49de-97a3-b059591fece3"
      },
      "source": [
        "palavras  =  [ \"maça\" ,  \"queijo\" ,  \"cachorro\" ] \n",
        "numeros  =  [ 17 ,  123 ] \n",
        "lista_vazia  =  [] \n",
        "print ( palavras ,  numeros ,  lista_vazia ) "
      ],
      "execution_count": null,
      "outputs": [
        {
          "output_type": "stream",
          "text": [
            "['maça', 'queijo', 'cachorro'] [17, 123] []\n"
          ],
          "name": "stdout"
        }
      ]
    },
    {
      "cell_type": "markdown",
      "metadata": {
        "id": "CEWkC2n7J34R"
      },
      "source": [
        "## Acessando elementos \n",
        "A sintaxe para acessar os elementos de uma lista é o operador índice: \\[ \\] (não confundir com uma lista vazia). A expressão dentro dos colchetes especifica o índice. Lembre-se que os índices no Python começam em 0:"
      ]
    },
    {
      "cell_type": "code",
      "metadata": {
        "id": "WMzE-8IIJ34T",
        "colab": {
          "base_uri": "https://localhost:8080/"
        },
        "outputId": "d8315974-2832-43d6-caff-aed52f0e91b5"
      },
      "source": [
        "numeros[0]"
      ],
      "execution_count": null,
      "outputs": [
        {
          "output_type": "execute_result",
          "data": {
            "text/plain": [
              "17"
            ]
          },
          "metadata": {
            "tags": []
          },
          "execution_count": 46
        }
      ]
    },
    {
      "cell_type": "code",
      "metadata": {
        "id": "feodhl5uJ34Z",
        "colab": {
          "base_uri": "https://localhost:8080/",
          "height": 35
        },
        "outputId": "fefc8f54-c246-484b-cfc2-c159ce7810b4"
      },
      "source": [
        "palavras[1]"
      ],
      "execution_count": null,
      "outputs": [
        {
          "output_type": "execute_result",
          "data": {
            "application/vnd.google.colaboratory.intrinsic+json": {
              "type": "string"
            },
            "text/plain": [
              "'queijo'"
            ]
          },
          "metadata": {
            "tags": []
          },
          "execution_count": 51
        }
      ]
    },
    {
      "cell_type": "markdown",
      "metadata": {
        "id": "JzRGayFKJ34s"
      },
      "source": [
        "Qualquer expressão que avalie para um inteiro pode ser usada como um índice:"
      ]
    },
    {
      "cell_type": "code",
      "metadata": {
        "id": "8z3Y5YJ1J34t",
        "colab": {
          "base_uri": "https://localhost:8080/"
        },
        "outputId": "9c75c33a-4b3a-45a8-985e-e423f80d2a85"
      },
      "source": [
        "numeros[ 9 - 8 ] "
      ],
      "execution_count": null,
      "outputs": [
        {
          "output_type": "execute_result",
          "data": {
            "text/plain": [
              "123"
            ]
          },
          "metadata": {
            "tags": []
          },
          "execution_count": 47
        }
      ]
    },
    {
      "cell_type": "code",
      "metadata": {
        "id": "JsKKbKEcJ34z",
        "colab": {
          "base_uri": "https://localhost:8080/",
          "height": 167
        },
        "outputId": "36f0111f-ca4c-4b95-944f-66b54618e3e8"
      },
      "source": [
        "numeros[ 1.0 ] "
      ],
      "execution_count": null,
      "outputs": [
        {
          "output_type": "error",
          "ename": "TypeError",
          "evalue": "ignored",
          "traceback": [
            "\u001b[0;31m---------------------------------------------------------------------------\u001b[0m",
            "\u001b[0;31mTypeError\u001b[0m                                 Traceback (most recent call last)",
            "\u001b[0;32m<ipython-input-48-0cde34bf83fb>\u001b[0m in \u001b[0;36m<module>\u001b[0;34m()\u001b[0m\n\u001b[0;32m----> 1\u001b[0;31m \u001b[0mnumeros\u001b[0m\u001b[0;34m[\u001b[0m \u001b[0;36m1.0\u001b[0m \u001b[0;34m]\u001b[0m\u001b[0;34m\u001b[0m\u001b[0;34m\u001b[0m\u001b[0m\n\u001b[0m",
            "\u001b[0;31mTypeError\u001b[0m: list indices must be integers or slices, not float"
          ]
        }
      ]
    },
    {
      "cell_type": "markdown",
      "metadata": {
        "id": "tDAZ2i0ZJ342"
      },
      "source": [
        "Ao tentar acessar o elemento `1.0` temos um erro pois os índices devem ser números de tipo inteiro, não de ponto flutuante. Se tentássemos acessar ou atribuir um elemento que não existe também teremos um erro de execução:"
      ]
    },
    {
      "cell_type": "code",
      "metadata": {
        "id": "16G3GtIcJ343",
        "colab": {
          "base_uri": "https://localhost:8080/",
          "height": 167
        },
        "outputId": "243d965b-b99b-4e15-d81a-655896c825ed"
      },
      "source": [
        "numeros[2]"
      ],
      "execution_count": null,
      "outputs": [
        {
          "output_type": "error",
          "ename": "IndexError",
          "evalue": "ignored",
          "traceback": [
            "\u001b[0;31m---------------------------------------------------------------------------\u001b[0m",
            "\u001b[0;31mIndexError\u001b[0m                                Traceback (most recent call last)",
            "\u001b[0;32m<ipython-input-49-91860da3118d>\u001b[0m in \u001b[0;36m<module>\u001b[0;34m()\u001b[0m\n\u001b[0;32m----> 1\u001b[0;31m \u001b[0mnumeros\u001b[0m\u001b[0;34m[\u001b[0m\u001b[0;36m2\u001b[0m\u001b[0;34m]\u001b[0m\u001b[0;34m\u001b[0m\u001b[0;34m\u001b[0m\u001b[0m\n\u001b[0m",
            "\u001b[0;31mIndexError\u001b[0m: list index out of range"
          ]
        }
      ]
    },
    {
      "cell_type": "markdown",
      "metadata": {
        "id": "Ec1RflQiJ348"
      },
      "source": [
        "É comum usar uma variável de loop como um índice de lista.\n"
      ]
    },
    {
      "cell_type": "code",
      "metadata": {
        "id": "tcQgc-SrJ349",
        "colab": {
          "base_uri": "https://localhost:8080/"
        },
        "outputId": "5e70d029-f579-49e9-aa39-8ddeb3ad21ac"
      },
      "source": [
        "horta  =  [ \"manjericao\" ,  \"hortela\" ,  \"cebolinha\" ,  \"salsa\" ] \n",
        "\n",
        "for  i  in  [ 0 ,  1 ,  2 ,  3 ]: \n",
        "    print ( horta [ i ])"
      ],
      "execution_count": null,
      "outputs": [
        {
          "output_type": "stream",
          "text": [
            "manjericao\n",
            "hortela\n",
            "cebolinha\n",
            "salsa\n"
          ],
          "name": "stdout"
        }
      ]
    },
    {
      "cell_type": "markdown",
      "metadata": {
        "id": "SiDiCnxrJ35D"
      },
      "source": [
        "Mas o exemplo acima **não** precisa usar o índice `i` para coisa nenhuma além de obter os itens da lista, então esta versão onde o própio loop `for` obtem os elementos acaba sendo mais direta :"
      ]
    },
    {
      "cell_type": "code",
      "metadata": {
        "id": "3CVWgAiYJ35D",
        "colab": {
          "base_uri": "https://localhost:8080/"
        },
        "outputId": "742f9a4e-2f02-41da-f1d9-79fb4550d079"
      },
      "source": [
        "for i in horta  : \n",
        "    print ( i )"
      ],
      "execution_count": null,
      "outputs": [
        {
          "output_type": "stream",
          "text": [
            "manjericao\n",
            "hortela\n",
            "cebolinha\n",
            "salsa\n"
          ],
          "name": "stdout"
        }
      ]
    },
    {
      "cell_type": "markdown",
      "metadata": {
        "id": "gCNirG2ZJ35J"
      },
      "source": [
        "## Comprimento de uma lista\n",
        "A utilização dos índices pode ser útil se o objetivo for **atualizar** o valor do elemento. Nesse caso também é possível usar a função `len` sobre a lista para conhecer seu comprimento. P. ex.:"
      ]
    },
    {
      "cell_type": "code",
      "metadata": {
        "id": "WY6xVqSiJ35K",
        "colab": {
          "base_uri": "https://localhost:8080/"
        },
        "outputId": "9b8c5b4e-22af-4131-d8b2-d0bbcc397982"
      },
      "source": [
        "n = len(horta)\n",
        "for i in range(n):\n",
        "    horta[i] = horta[i].upper()\n",
        "    print(horta[i])\n",
        "    "
      ],
      "execution_count": null,
      "outputs": [
        {
          "output_type": "stream",
          "text": [
            "MANJERICAO\n",
            "HORTELA\n",
            "CEBOLINHA\n",
            "SALSA\n"
          ],
          "name": "stdout"
        }
      ]
    },
    {
      "cell_type": "markdown",
      "metadata": {
        "id": "qVHfGdUZJ35P"
      },
      "source": [
        "_(A função `upper` é um ***método*** das strings que muda as letras minúsculas a maiúsculas)_\n",
        "\n",
        "O último valor do índice `i` do loop acima é `n-1`.  Uma lista pode conter outra lista como elemento, porém esta lista **aninhada** conta como um só valor."
      ]
    },
    {
      "cell_type": "code",
      "metadata": {
        "id": "aE6TBIFKJ35Q",
        "colab": {
          "base_uri": "https://localhost:8080/"
        },
        "outputId": "d0385968-4a25-41b7-e1c3-7fa8098c1d36"
      },
      "source": [
        "listaCarros = [\"marcas de carro\", 1, [\"Ford\", \"Toyota\", \"BMW\"], [1, 2, 3]]\n",
        "len(listaCarros)"
      ],
      "execution_count": null,
      "outputs": [
        {
          "output_type": "execute_result",
          "data": {
            "text/plain": [
              "4"
            ]
          },
          "metadata": {
            "tags": []
          },
          "execution_count": 53
        }
      ]
    },
    {
      "cell_type": "code",
      "metadata": {
        "id": "gmbiltZqJ35U",
        "colab": {
          "base_uri": "https://localhost:8080/"
        },
        "outputId": "984b87e1-2317-4cb0-a1e3-d15492e89b9a"
      },
      "source": [
        "print(listaCarros[2],len(listaCarros[2]))"
      ],
      "execution_count": null,
      "outputs": [
        {
          "output_type": "stream",
          "text": [
            "['Ford', 'Toyota', 'BMW'] 3\n"
          ],
          "name": "stdout"
        }
      ]
    },
    {
      "cell_type": "markdown",
      "metadata": {
        "id": "Yfp6Hh42J35Y"
      },
      "source": [
        "## As listas são _mutáveis_\n",
        "\n",
        "Como foi visto acima, os valores dos elementos de uma lista podem ser mudados, e/ou mais elementos adicionados. Isto quer dizer que as listas são mutáveis.  Examinemos os exemplos:"
      ]
    },
    {
      "cell_type": "code",
      "metadata": {
        "id": "OJEtcmC2J35Z",
        "colab": {
          "base_uri": "https://localhost:8080/"
        },
        "outputId": "3be9ed36-c651-47e6-9997-84bcacb07444"
      },
      "source": [
        "mylist = [1,2,3,\"maria\"]\n",
        "print(mylist[3].capitalize())\n",
        "print(mylist[3])"
      ],
      "execution_count": null,
      "outputs": [
        {
          "output_type": "stream",
          "text": [
            "Maria\n",
            "maria\n"
          ],
          "name": "stdout"
        }
      ]
    },
    {
      "cell_type": "markdown",
      "metadata": {
        "id": "xJVE2Vx1J35c"
      },
      "source": [
        "Aqui ao chamar a função `capitalize()` (outro  método dos strings) esta retorna o string com a primeira letra em maiúscula, mas o quarto elemento da lista (que tem índice 3) não muda.  Porém podemos __atualizar__ o valor desse elemento, ou de outros (como o terceiro, de índice 2)."
      ]
    },
    {
      "cell_type": "code",
      "metadata": {
        "id": "gEk5VrlkJ35c",
        "colab": {
          "base_uri": "https://localhost:8080/"
        },
        "outputId": "91190416-c31a-4990-d63a-10f47eb54530"
      },
      "source": [
        "mylist[3]=mylist[3].capitalize()\n",
        "print(mylist)\n",
        "mylist[2]=\"trois\"\n",
        "print(mylist)"
      ],
      "execution_count": null,
      "outputs": [
        {
          "output_type": "stream",
          "text": [
            "[1, 2, 3, 'Maria']\n",
            "[1, 2, 'trois', 'Maria']\n"
          ],
          "name": "stdout"
        }
      ]
    },
    {
      "cell_type": "markdown",
      "metadata": {
        "id": "iJ4DZl8dJ35g"
      },
      "source": [
        "## _Fatias_ de listas\n",
        "\n",
        "Podemos aplicar operações de fatia para selecionar sublistas"
      ]
    },
    {
      "cell_type": "code",
      "metadata": {
        "id": "0pADNmv9J35g",
        "colab": {
          "base_uri": "https://localhost:8080/"
        },
        "outputId": "70ec6b58-cb4c-43fc-8d95-19c59d5335b2"
      },
      "source": [
        "print(mylist)\n",
        "mylist[1:3]"
      ],
      "execution_count": null,
      "outputs": [
        {
          "output_type": "stream",
          "text": [
            "[1, 2, 'trois', 'Maria']\n"
          ],
          "name": "stdout"
        },
        {
          "output_type": "execute_result",
          "data": {
            "text/plain": [
              "[2, 'trois']"
            ]
          },
          "metadata": {
            "tags": []
          },
          "execution_count": 57
        }
      ]
    },
    {
      "cell_type": "markdown",
      "metadata": {
        "id": "p2f8NdzNJ35k"
      },
      "source": [
        "O operador seleciona a sublista incluindo o primeiro índice e excluindo o último (no caso acima, os índices 1 e 2). Ao deixar um lado do operador em branco, selecionamos até o fim (ou desde o começo) da lista:"
      ]
    },
    {
      "cell_type": "code",
      "metadata": {
        "id": "IWdOdlghJ35l",
        "colab": {
          "base_uri": "https://localhost:8080/"
        },
        "outputId": "2df90696-e8b0-4263-dea5-351da78b76e5"
      },
      "source": [
        "mylist[2:]"
      ],
      "execution_count": null,
      "outputs": [
        {
          "output_type": "execute_result",
          "data": {
            "text/plain": [
              "['trois', 'Maria']"
            ]
          },
          "metadata": {
            "tags": []
          },
          "execution_count": 58
        }
      ]
    },
    {
      "cell_type": "code",
      "metadata": {
        "id": "eiH-0SqdJ35p",
        "colab": {
          "base_uri": "https://localhost:8080/"
        },
        "outputId": "60d3a7ab-a67a-4d1c-e0f3-18a86143f373"
      },
      "source": [
        "mylist[:2]"
      ],
      "execution_count": null,
      "outputs": [
        {
          "output_type": "execute_result",
          "data": {
            "text/plain": [
              "[1, 2]"
            ]
          },
          "metadata": {
            "tags": []
          },
          "execution_count": 59
        }
      ]
    },
    {
      "cell_type": "markdown",
      "metadata": {
        "id": "id5P0OxEJ35t"
      },
      "source": [
        "Com o operador de fatia, podemos atualizar toda uma sub-lista de uma só vez:"
      ]
    },
    {
      "cell_type": "code",
      "metadata": {
        "id": "GnyEmR05J35u",
        "colab": {
          "base_uri": "https://localhost:8080/"
        },
        "outputId": "825966d9-5bf6-466c-c10a-d711326b5f99"
      },
      "source": [
        "a_list = [ \"a\" , \"b\" , \"c\" , \"d\" , \"e\" , \"f\" ]\n",
        "a_list [ 1 : 3 ] = [ \"x\" , \"y\" ]\n",
        "a_list"
      ],
      "execution_count": null,
      "outputs": [
        {
          "output_type": "execute_result",
          "data": {
            "text/plain": [
              "['a', 'x', 'y', 'd', 'e', 'f']"
            ]
          },
          "metadata": {
            "tags": []
          },
          "execution_count": 60
        }
      ]
    },
    {
      "cell_type": "markdown",
      "metadata": {
        "id": "ZqR73_vYJ35x"
      },
      "source": [
        "Também podemos remover elementos de uma lista atribuindo uma lista vazia a eles:"
      ]
    },
    {
      "cell_type": "code",
      "metadata": {
        "id": "Gf_v4uk-J35y",
        "colab": {
          "base_uri": "https://localhost:8080/"
        },
        "outputId": "8c0b541e-6c07-4342-9cb7-33e1cd4ebaba"
      },
      "source": [
        "a_list[1:3]=[]\n",
        "a_list"
      ],
      "execution_count": null,
      "outputs": [
        {
          "output_type": "execute_result",
          "data": {
            "text/plain": [
              "['a', 'd', 'e', 'f']"
            ]
          },
          "metadata": {
            "tags": []
          },
          "execution_count": 61
        }
      ]
    },
    {
      "cell_type": "markdown",
      "metadata": {
        "id": "UUnEgeELJ351"
      },
      "source": [
        "Porém tem uma alternativa mais legível e menos propensa a erros, utilizando o comando `del`:"
      ]
    },
    {
      "cell_type": "code",
      "metadata": {
        "id": "kWu_Pa5uJ351",
        "colab": {
          "base_uri": "https://localhost:8080/"
        },
        "outputId": "392b2ccc-455e-495a-8e42-81724bdc3201"
      },
      "source": [
        "a = [\"um\", \"dois\", \"três\"]\n",
        "del a[1]\n",
        "a"
      ],
      "execution_count": null,
      "outputs": [
        {
          "output_type": "execute_result",
          "data": {
            "text/plain": [
              "['um', 'três']"
            ]
          },
          "metadata": {
            "tags": []
          },
          "execution_count": 62
        }
      ]
    },
    {
      "cell_type": "markdown",
      "metadata": {
        "id": "fvbNIfdNJ359"
      },
      "source": [
        "Este comando também pode ser utlizado com fatias:"
      ]
    },
    {
      "cell_type": "code",
      "metadata": {
        "id": "cgqdE6wVJ35-",
        "colab": {
          "base_uri": "https://localhost:8080/"
        },
        "outputId": "270ad2bb-2146-4a7d-b20d-6af2be1da8dd"
      },
      "source": [
        "b=[\"un\",\"deux\",\"trois\",\"quatre\",\"cinq\"]\n",
        "del b[2:4]\n",
        "b"
      ],
      "execution_count": null,
      "outputs": [
        {
          "output_type": "execute_result",
          "data": {
            "text/plain": [
              "['un', 'deux', 'cinq']"
            ]
          },
          "metadata": {
            "tags": []
          },
          "execution_count": 63
        }
      ]
    },
    {
      "cell_type": "markdown",
      "metadata": {
        "id": "rPleF8RsJ36C"
      },
      "source": [
        "Podemos fatiar em passos:"
      ]
    },
    {
      "cell_type": "code",
      "metadata": {
        "id": "Xstl1kWMJ36D",
        "colab": {
          "base_uri": "https://localhost:8080/"
        },
        "outputId": "d2ee9231-f04f-4e3d-e785-2805a91ad856"
      },
      "source": [
        "print(a_list)\n",
        "a_list[1:4:2]      # pegar uma fatia de índices 1 a 4 com passo de 2 elementos."
      ],
      "execution_count": null,
      "outputs": [
        {
          "output_type": "stream",
          "text": [
            "['a', 'd', 'e', 'f']\n"
          ],
          "name": "stdout"
        },
        {
          "output_type": "execute_result",
          "data": {
            "text/plain": [
              "['d', 'f']"
            ]
          },
          "metadata": {
            "tags": []
          },
          "execution_count": 64
        }
      ]
    },
    {
      "cell_type": "markdown",
      "metadata": {
        "id": "mF3TGXnpJ36I"
      },
      "source": [
        "Em resumo:"
      ]
    },
    {
      "cell_type": "code",
      "metadata": {
        "id": "Gzsm_dThJ36J",
        "colab": {
          "base_uri": "https://localhost:8080/"
        },
        "outputId": "1e6140f3-c1e0-47d2-d3c9-a5ebd85de97e"
      },
      "source": [
        "start=2\n",
        "stop=3\n",
        "a_list[start:stop]  # items start through stop-1\n",
        "a_list[start:]      # items start through the rest of the array\n",
        "a_list[:stop]       # items from the beginning through stop-1\n",
        "a_list[:]           # a copy of the whole array\n",
        "a_list[-1]    # last item in the array\n",
        "a_list[-2:]   # last two items in the array\n",
        "a_list[:-2]   # everything except the last two items"
      ],
      "execution_count": null,
      "outputs": [
        {
          "output_type": "execute_result",
          "data": {
            "text/plain": [
              "['a', 'd']"
            ]
          },
          "metadata": {
            "tags": []
          },
          "execution_count": 65
        }
      ]
    },
    {
      "cell_type": "markdown",
      "metadata": {
        "id": "JSCZGPTgJ36M"
      },
      "source": [
        "De modo similar, o \"passo\" pode ser um número negativo:\n"
      ]
    },
    {
      "cell_type": "code",
      "metadata": {
        "id": "0UOABZDSJ36M",
        "colab": {
          "base_uri": "https://localhost:8080/"
        },
        "outputId": "4f634a1b-81a6-4c7f-c44b-e80c28508fa6"
      },
      "source": [
        "a_list[::-1]    # all items in the array, reversed\n",
        "a_list[1::-1]   # the first two items, reversed\n",
        "a_list[:-3:-1]  # the last two items, reversed\n",
        "a_list[-3::-1]  # everything except the last two items, reversed"
      ],
      "execution_count": null,
      "outputs": [
        {
          "output_type": "execute_result",
          "data": {
            "text/plain": [
              "['d', 'a']"
            ]
          },
          "metadata": {
            "tags": []
          },
          "execution_count": 66
        }
      ]
    },
    {
      "cell_type": "markdown",
      "metadata": {
        "id": "yo3q2X7rJ36Q"
      },
      "source": [
        "Método slice():"
      ]
    },
    {
      "cell_type": "code",
      "metadata": {
        "id": "jipg_R5SJ36R",
        "colab": {
          "base_uri": "https://localhost:8080/"
        },
        "outputId": "2871ef7d-0d40-407e-b8c6-1d34fe22b1e9"
      },
      "source": [
        "print(a_list[1:4:2])\n",
        "print(a_list[slice(1, 4, 2)])"
      ],
      "execution_count": null,
      "outputs": [
        {
          "output_type": "stream",
          "text": [
            "['d', 'f']\n",
            "['d', 'f']\n"
          ],
          "name": "stdout"
        }
      ]
    },
    {
      "cell_type": "markdown",
      "metadata": {
        "id": "Ftpl-Fy9bOm3"
      },
      "source": [
        "Obs.: O fatiamento também funciona com `strings`."
      ]
    },
    {
      "cell_type": "markdown",
      "metadata": {
        "id": "CKBfUaLoJ36U"
      },
      "source": [
        "## Métodos de lista\n",
        "\n",
        "O operador de ponto pode ser usado para acessar métodos internos de objetos de lista. Começaremos com o método mais útil para adicionar algo ao final de uma lista existente, o `append`:"
      ]
    },
    {
      "cell_type": "code",
      "metadata": {
        "id": "mSEk8r7CJ36V",
        "colab": {
          "base_uri": "https://localhost:8080/"
        },
        "outputId": "aa5f4d27-5b35-485a-b877-439025119ca3"
      },
      "source": [
        "milista=[]\n",
        "\n",
        "milista.append(10)\n",
        "milista.append(25)\n",
        "milista.append(5)\n",
        "milista.append(35)\n",
        "milista.append(30)\n",
        "\n",
        "milista"
      ],
      "execution_count": null,
      "outputs": [
        {
          "output_type": "execute_result",
          "data": {
            "text/plain": [
              "[10, 25, 5, 35, 30]"
            ]
          },
          "metadata": {
            "tags": []
          },
          "execution_count": 68
        }
      ]
    },
    {
      "cell_type": "markdown",
      "metadata": {
        "id": "BJpFrBQuJ36Y"
      },
      "source": [
        "Este método de lista adiciona o argumento passado para o __final__ da lista. Nós vamos usá-lo frequentemente para  criar novas listas. \n",
        "\n",
        "Outro método bastante utilizado é `extend`, ele toma uma lista como argumento e adiciona todos os elementos:"
      ]
    },
    {
      "cell_type": "code",
      "metadata": {
        "id": "TyJp1D0lbyLf",
        "colab": {
          "base_uri": "https://localhost:8080/"
        },
        "outputId": "1955e228-74e1-4e65-b901-2a43be849df3"
      },
      "source": [
        "lista1 = ['a', 'b', 'c']\n",
        "lista2 = ['d', 'e', 'f']\n",
        "lista1.extend(lista2)\n",
        "lista1"
      ],
      "execution_count": null,
      "outputs": [
        {
          "output_type": "execute_result",
          "data": {
            "text/plain": [
              "['a', 'b', 'c', 'd', 'e', 'f']"
            ]
          },
          "metadata": {
            "tags": []
          },
          "execution_count": 69
        }
      ]
    },
    {
      "cell_type": "markdown",
      "metadata": {
        "id": "MlDR-8z1c2vj"
      },
      "source": [
        "Também é possível excluir elementos de uma lista de diferentes formas, dependendo do que quer fazer."
      ]
    },
    {
      "cell_type": "code",
      "metadata": {
        "id": "QGi2ggWKc2Et",
        "colab": {
          "base_uri": "https://localhost:8080/"
        },
        "outputId": "8b19cba1-368d-4f65-b90f-262ba80ed75f"
      },
      "source": [
        "#caso queira utilizar o elemento excluído, utilize o método pop\n",
        "lista = ['a', 'b', 'c', 'd', 'e', 'f']\n",
        "ele = lista.pop(2)\n",
        "print(lista)\n",
        "print(ele)"
      ],
      "execution_count": null,
      "outputs": [
        {
          "output_type": "stream",
          "text": [
            "['a', 'b', 'd', 'e', 'f']\n",
            "c\n"
          ],
          "name": "stdout"
        }
      ]
    },
    {
      "cell_type": "code",
      "metadata": {
        "id": "Z_xFNBX1dxET",
        "colab": {
          "base_uri": "https://localhost:8080/"
        },
        "outputId": "f65f0ae5-a300-4a62-993b-c645193941d0"
      },
      "source": [
        "#caso não queira utilizar o elemento excluído, utilize a instrução del\n",
        "lista = ['a', 'b', 'c', 'd', 'e', 'f']\n",
        "del lista[2]\n",
        "print(lista)"
      ],
      "execution_count": null,
      "outputs": [
        {
          "output_type": "stream",
          "text": [
            "['a', 'b', 'd', 'e', 'f']\n"
          ],
          "name": "stdout"
        }
      ]
    },
    {
      "cell_type": "code",
      "metadata": {
        "id": "czrloIUCeV2j",
        "colab": {
          "base_uri": "https://localhost:8080/"
        },
        "outputId": "3bf1526d-0600-4b12-a539-fc05edfa0509"
      },
      "source": [
        "#caso saiba o elemento que quer excluir, mas não o índice, utilize o método remove\n",
        "lista = ['a', 'b', 'c', 'd', 'e', 'f']\n",
        "lista.remove('d')\n",
        "print(lista)"
      ],
      "execution_count": null,
      "outputs": [
        {
          "output_type": "stream",
          "text": [
            "['a', 'b', 'c', 'e', 'f']\n"
          ],
          "name": "stdout"
        }
      ]
    },
    {
      "cell_type": "markdown",
      "metadata": {
        "id": "QuAg2OjIJ36Y"
      },
      "source": [
        "## Exercício\n",
        "\n",
        "1. Resolução numérica de equações diferenciais. Imagine que tem um/a maratonista treinando, que num trecho de $5 km$ tem velocidade quase constante de $12 km/h$. Produza uma lista distância percorrida em intervalos de 1 minuto. \n",
        "\n",
        "2. O/A mesmo/a atleta no seguinte trecho acelera  por $200$ metros até chegar em $15 km/h$  por $2 km$. Queremos obter uma tabela ou gráfico da distância percorrida en função do tempo e o tempo total para chegar em $7 km$, faça isto utilizando listas. \n",
        "\n",
        "3. Considere um péndulo simples num plano. O comprimento da linha é $1$ metro, a massa é $0,2 kg$ e a aceleração de gravidade $9,8 m/s^2$. Faça um gráfico ou crie uma tabela para a posição em coordenadas cartesianas em função do tempo, utilizando listas.\n",
        "\n",
        "4. (opcional) Pesquise sobre o pacote `numpy` e os objetos desse pacote chamados `array`, tente utilizálos ao invés de listas para resolver os exercícios.\n",
        "\n",
        "Dica: podem usar o pacote `matplotlib.pyplot` para fazer um gráfico:"
      ]
    },
    {
      "cell_type": "code",
      "metadata": {
        "id": "XEkSrUBqJ36Z",
        "colab": {
          "base_uri": "https://localhost:8080/",
          "height": 296
        },
        "outputId": "89c78cba-894e-42be-8d04-430bde0f0e54"
      },
      "source": [
        "import matplotlib.pyplot as plt\n",
        "\n",
        "t=[0,1,2,3,4,5,6,7,8,9,10]\n",
        "x=[0,4.2,8,10,23,30,35,41,44,50,55]\n",
        "\n",
        "plt.plot(t,x)\n",
        "plt.xlabel(\"tempo s\")\n",
        "plt.ylabel(\"distância m\")"
      ],
      "execution_count": 56,
      "outputs": [
        {
          "output_type": "execute_result",
          "data": {
            "text/plain": [
              "Text(0, 0.5, 'distância m')"
            ]
          },
          "metadata": {
            "tags": []
          },
          "execution_count": 56
        },
        {
          "output_type": "display_data",
          "data": {
            "image/png": "[encoded data removed]",
            "text/plain": [
              "<Figure size 432x288 with 1 Axes>"
            ]
          },
          "metadata": {
            "tags": [],
            "needs_background": "light"
          }
        }
      ]
    },
    {
      "cell_type": "markdown",
      "metadata": {
        "id": "LPz3G-5ZrsDR"
      },
      "source": [
        "Exercício 1:"
      ]
    },
    {
      "cell_type": "code",
      "metadata": {
        "colab": {
          "base_uri": "https://localhost:8080/"
        },
        "id": "-3xwOZperqOx",
        "outputId": "acca9623-c421-4ede-e673-8e864b800572"
      },
      "source": [
        "def distancia_mru(tempo, tempo_0, velocidade, distancia_0):\n",
        "    distancia = velocidade*(tempo - tempo_0) + distancia_0\n",
        "    return distancia\n",
        "    \n",
        "tempo = 0  # min\n",
        "lista_tempo = [tempo] \n",
        "while tempo < 25: \n",
        "    tempo = tempo + 1\n",
        "    lista_tempo.append(tempo) \n",
        "\n",
        "velocidade = 200  # m/min\n",
        "lista_distancia = []\n",
        "for tempo in lista_tempo:\n",
        "    distancia = distancia_mru(tempo, 0, velocidade, 0)\n",
        "    lista_distancia.append(distancia/(1000)) # km\n",
        "\n",
        "print(lista_distancia)\n",
        "print(lista_tempo)"
      ],
      "execution_count": 52,
      "outputs": [
        {
          "output_type": "stream",
          "text": [
            "[0.0, 0.2, 0.4, 0.6, 0.8, 1.0, 1.2, 1.4, 1.6, 1.8, 2.0, 2.2, 2.4, 2.6, 2.8, 3.0, 3.2, 3.4, 3.6, 3.8, 4.0, 4.2, 4.4, 4.6, 4.8, 5.0]\n",
            "[0, 1, 2, 3, 4, 5, 6, 7, 8, 9, 10, 11, 12, 13, 14, 15, 16, 17, 18, 19, 20, 21, 22, 23, 24, 25]\n"
          ],
          "name": "stdout"
        }
      ]
    },
    {
      "cell_type": "markdown",
      "metadata": {
        "id": "AmsJ9URlwLR-"
      },
      "source": [
        "Exercício 2:"
      ]
    },
    {
      "cell_type": "code",
      "metadata": {
        "colab": {
          "base_uri": "https://localhost:8080/"
        },
        "id": "eRvkHV7LETvt",
        "outputId": "3f5d5e77-c931-4845-82ff-a1260f6be225"
      },
      "source": [
        "def distancia_mrua(velocidade_0, aceleracao, tempo, tempo_0, distancia_0):\n",
        "    distancia = distancia_0 + velocidade_0*(tempo - tempo_0) + (aceleracao*((tempo - tempo_0)**2))/2\n",
        "    return distancia \n",
        "\n",
        "def torricelli_aceleracao(velocidade_0, velocidade, distancia, distancia_0):\n",
        "    aceleracao = (velocidade**2 - velocidade_0**2)/(2*(distancia - distancia_0))\n",
        "    return aceleracao \n",
        "\n",
        "def tempo_mrua(tempo_0, velocidade_0, velocidade, aceleracao):\n",
        "    tempo = (1/aceleracao)*(velocidade - velocidade_0) + tempo_0\n",
        "    return tempo\n",
        "\n",
        "a = torricelli_aceleracao(200, 250, 7000, 5000) # m/min**2\n",
        "t = tempo_mrua(25, 200, 250, 5.625) # min\n",
        "print(t, a)\n",
        "\n",
        "tempo = lista_tempo[-1]\n",
        "while tempo < int(t): \n",
        "    tempo = tempo + 1\n",
        "    lista_tempo.append(tempo) \n",
        "\n",
        "for tempo in lista_tempo[26:]:\n",
        "    distancia = distancia_mrua(200, a, tempo, 25, 5000)\n",
        "    lista_distancia.append(distancia/1000)  # km\n",
        "\n",
        "print(lista_tempo)\n",
        "print(lista_distancia)"
      ],
      "execution_count": 53,
      "outputs": [
        {
          "output_type": "stream",
          "text": [
            "33.888888888888886 5.625\n",
            "[0, 1, 2, 3, 4, 5, 6, 7, 8, 9, 10, 11, 12, 13, 14, 15, 16, 17, 18, 19, 20, 21, 22, 23, 24, 25, 26, 27, 28, 29, 30, 31, 32, 33]\n",
            "[0.0, 0.2, 0.4, 0.6, 0.8, 1.0, 1.2, 1.4, 1.6, 1.8, 2.0, 2.2, 2.4, 2.6, 2.8, 3.0, 3.2, 3.4, 3.6, 3.8, 4.0, 4.2, 4.4, 4.6, 4.8, 5.0, 5.2028125, 5.41125, 5.6253125, 5.845, 6.0703125, 6.30125, 6.5378125, 6.78]\n"
          ],
          "name": "stdout"
        }
      ]
    },
    {
      "cell_type": "code",
      "metadata": {
        "colab": {
          "base_uri": "https://localhost:8080/"
        },
        "id": "gzTRrizhGQqf",
        "outputId": "7150c612-21f1-4892-e76b-654748406244"
      },
      "source": [
        "print(\"O tempo total de corrida é de\", t, \"minutos\")"
      ],
      "execution_count": 55,
      "outputs": [
        {
          "output_type": "stream",
          "text": [
            "O tempo total de corrida é de 33.888888888888886 minutos\n"
          ],
          "name": "stdout"
        }
      ]
    },
    {
      "cell_type": "code",
      "metadata": {
        "colab": {
          "base_uri": "https://localhost:8080/",
          "height": 297
        },
        "id": "O8nVgA3GGsmw",
        "outputId": "6b359a4d-df85-4d05-e423-03a08d7dd40f"
      },
      "source": [
        "plt.plot(lista_tempo, lista_distancia)\n",
        "plt.xlabel(\"tempo (minutos)\")\n",
        "plt.ylabel(\"distância (km)\")"
      ],
      "execution_count": 57,
      "outputs": [
        {
          "output_type": "execute_result",
          "data": {
            "text/plain": [
              "Text(0, 0.5, 'distância (km)')"
            ]
          },
          "metadata": {
            "tags": []
          },
          "execution_count": 57
        },
        {
          "output_type": "display_data",
          "data": {
            "image/png": "[encoded data removed]",
            "text/plain": [
              "<Figure size 432x288 with 1 Axes>"
            ]
          },
          "metadata": {
            "tags": [],
            "needs_background": "light"
          }
        }
      ]
    },
    {
      "cell_type": "code",
      "metadata": {
        "colab": {
          "base_uri": "https://localhost:8080/",
          "height": 296
        },
        "id": "f8kS-rCeHZWa",
        "outputId": "89e4b30e-9653-4a7b-ad98-585134451a31"
      },
      "source": [
        "plt.plot(lista_tempo[25:], lista_distancia[25:])\n",
        "plt.xlabel(\"tempo (minutos)\")\n",
        "plt.ylabel(\"distância (km)\")"
      ],
      "execution_count": 58,
      "outputs": [
        {
          "output_type": "execute_result",
          "data": {
            "text/plain": [
              "Text(0, 0.5, 'distância (km)')"
            ]
          },
          "metadata": {
            "tags": []
          },
          "execution_count": 58
        },
        {
          "output_type": "display_data",
          "data": {
            "image/png": "[encoded data removed]",
            "text/plain": [
              "<Figure size 432x288 with 1 Axes>"
            ]
          },
          "metadata": {
            "tags": [],
            "needs_background": "light"
          }
        }
      ]
    },
    {
      "cell_type": "code",
      "metadata": {
        "colab": {
          "base_uri": "https://localhost:8080/",
          "height": 296
        },
        "id": "kmWB5GVOIAtA",
        "outputId": "d69a3bfb-5e25-4657-fe8e-b57ac8eb89c5"
      },
      "source": [
        "lista = []\n",
        "for i in range(25, 60):\n",
        "    d = distancia_mrua(200, 5.625, i, 25, 5000)\n",
        "    lista.append(d/1000)\n",
        "\n",
        "\n",
        "plt.plot(range(25, 60), lista)\n",
        "plt.xlabel(\"tempo (minutos)\")\n",
        "plt.ylabel(\"distância (km)\")\n",
        "    "
      ],
      "execution_count": 62,
      "outputs": [
        {
          "output_type": "execute_result",
          "data": {
            "text/plain": [
              "Text(0, 0.5, 'distância (km)')"
            ]
          },
          "metadata": {
            "tags": []
          },
          "execution_count": 62
        },
        {
          "output_type": "display_data",
          "data": {
            "image/png": "[encoded data removed]",
            "text/plain": [
              "<Figure size 432x288 with 1 Axes>"
            ]
          },
          "metadata": {
            "tags": [],
            "needs_background": "light"
          }
        }
      ]
    },
    {
      "cell_type": "markdown",
      "metadata": {
        "id": "XPnd-R2QJ1AU"
      },
      "source": [
        "Exercício 3:"
      ]
    },
    {
      "cell_type": "code",
      "metadata": {
        "colab": {
          "base_uri": "https://localhost:8080/",
          "height": 368
        },
        "id": "swvcC_f-J3Sq",
        "outputId": "e1f8bbae-5ef9-46fa-d0fd-24b6a2caa343"
      },
      "source": [
        "def pendulum_angle(amplitude, length, time, g):\n",
        "    ''' Angular position of the simple pendulum (amplitude << 1)\n",
        "    for angle(time = 0) = amplitude and Derivative[angle](time = 0)\n",
        "    = 0 '''\n",
        "    import math\n",
        "    angle = amplitude*math.cos(math.sqrt(g/length)*time)\n",
        "    return angle \n",
        "\n",
        "def pendulum_period(length, g):\n",
        "    ''' Oscillation's period of the simple pendulum (amplitude << 1)\n",
        "    for angle(time = 0) = amplitude and Derivative[angle](time = 0)\n",
        "    = 0 '''\n",
        "    import math\n",
        "    period = 2*math.pi*math.sqrt(length/g)\n",
        "    return period\n",
        "\n",
        "def pendulum_x(amplitude, length, time, g):\n",
        "    ''' x position of the simple pendulum (amplitude << 1)\n",
        "    for angle(time = 0) = amplitude and Derivative[angle](time = 0)\n",
        "    = 0 '''\n",
        "    import math\n",
        "    a = pendulum_angle(amplitude, length, time, g)\n",
        "    x = length*math.sin(a)\n",
        "    return x \n",
        "\n",
        "def pendulum_y(amplitude, length, time, g):\n",
        "    ''' y position of the simple pendulum (amplitude << 1)\n",
        "    for angle(time = 0) = amplitude and Derivative[angle](time = 0)\n",
        "    = 0 '''\n",
        "    import math\n",
        "    a = pendulum_angle(amplitude, length, time, g)\n",
        "    y = - length*math.cos(a)\n",
        "    return y\n",
        "\n",
        "\n",
        "time = 0\n",
        "list_time = []\n",
        "while time <= pendulum_period(1, 9.8):\n",
        "    time = time + 0.01\n",
        "    list_time.append(time)\n",
        "\n",
        "list_x = []\n",
        "for time in list_time:\n",
        "    a = pendulum_x(0.4, 1, time, 9.8)\n",
        "    list_x.append(a) \n",
        "\n",
        "list_y = []\n",
        "for time in list_time:\n",
        "    a = pendulum_y(0.4, 1, time, 9.8)\n",
        "    list_y.append(a)\n",
        "\n",
        "print(list_time)\n",
        "print(list_x)\n",
        "print(list_y)\n",
        "\n",
        "plt.plot(list_x, list_y)\n",
        "plt.axis([-0.6, 0.6, -1.6, -0.3])\n",
        "plt.xlabel(\"x (m)\")\n",
        "plt.ylabel(\"y (m)\")"
      ],
      "execution_count": 116,
      "outputs": [
        {
          "output_type": "stream",
          "text": [
            "[0.01, 0.02, 0.03, 0.04, 0.05, 0.060000000000000005, 0.07, 0.08, 0.09, 0.09999999999999999, 0.10999999999999999, 0.11999999999999998, 0.12999999999999998, 0.13999999999999999, 0.15, 0.16, 0.17, 0.18000000000000002, 0.19000000000000003, 0.20000000000000004, 0.21000000000000005, 0.22000000000000006, 0.23000000000000007, 0.24000000000000007, 0.25000000000000006, 0.26000000000000006, 0.2700000000000001, 0.2800000000000001, 0.2900000000000001, 0.3000000000000001, 0.3100000000000001, 0.3200000000000001, 0.3300000000000001, 0.34000000000000014, 0.35000000000000014, 0.36000000000000015, 0.37000000000000016, 0.38000000000000017, 0.3900000000000002, 0.4000000000000002, 0.4100000000000002, 0.4200000000000002, 0.4300000000000002, 0.4400000000000002, 0.45000000000000023, 0.46000000000000024, 0.47000000000000025, 0.48000000000000026, 0.49000000000000027, 0.5000000000000002, 0.5100000000000002, 0.5200000000000002, 0.5300000000000002, 0.5400000000000003, 0.5500000000000003, 0.5600000000000003, 0.5700000000000003, 0.5800000000000003, 0.5900000000000003, 0.6000000000000003, 0.6100000000000003, 0.6200000000000003, 0.6300000000000003, 0.6400000000000003, 0.6500000000000004, 0.6600000000000004, 0.6700000000000004, 0.6800000000000004, 0.6900000000000004, 0.7000000000000004, 0.7100000000000004, 0.7200000000000004, 0.7300000000000004, 0.7400000000000004, 0.7500000000000004, 0.7600000000000005, 0.7700000000000005, 0.7800000000000005, 0.7900000000000005, 0.8000000000000005, 0.8100000000000005, 0.8200000000000005, 0.8300000000000005, 0.8400000000000005, 0.8500000000000005, 0.8600000000000005, 0.8700000000000006, 0.8800000000000006, 0.8900000000000006, 0.9000000000000006, 0.9100000000000006, 0.9200000000000006, 0.9300000000000006, 0.9400000000000006, 0.9500000000000006, 0.9600000000000006, 0.9700000000000006, 0.9800000000000006, 0.9900000000000007, 1.0000000000000007, 1.0100000000000007, 1.0200000000000007, 1.0300000000000007, 1.0400000000000007, 1.0500000000000007, 1.0600000000000007, 1.0700000000000007, 1.0800000000000007, 1.0900000000000007, 1.1000000000000008, 1.1100000000000008, 1.1200000000000008, 1.1300000000000008, 1.1400000000000008, 1.1500000000000008, 1.1600000000000008, 1.1700000000000008, 1.1800000000000008, 1.1900000000000008, 1.2000000000000008, 1.2100000000000009, 1.2200000000000009, 1.2300000000000009, 1.2400000000000009, 1.2500000000000009, 1.260000000000001, 1.270000000000001, 1.280000000000001, 1.290000000000001, 1.300000000000001, 1.310000000000001, 1.320000000000001, 1.330000000000001, 1.340000000000001, 1.350000000000001, 1.360000000000001, 1.370000000000001, 1.380000000000001, 1.390000000000001, 1.400000000000001, 1.410000000000001, 1.420000000000001, 1.430000000000001, 1.440000000000001, 1.450000000000001, 1.460000000000001, 1.470000000000001, 1.480000000000001, 1.490000000000001, 1.500000000000001, 1.5100000000000011, 1.5200000000000011, 1.5300000000000011, 1.5400000000000011, 1.5500000000000012, 1.5600000000000012, 1.5700000000000012, 1.5800000000000012, 1.5900000000000012, 1.6000000000000012, 1.6100000000000012, 1.6200000000000012, 1.6300000000000012, 1.6400000000000012, 1.6500000000000012, 1.6600000000000013, 1.6700000000000013, 1.6800000000000013, 1.6900000000000013, 1.7000000000000013, 1.7100000000000013, 1.7200000000000013, 1.7300000000000013, 1.7400000000000013, 1.7500000000000013, 1.7600000000000013, 1.7700000000000014, 1.7800000000000014, 1.7900000000000014, 1.8000000000000014, 1.8100000000000014, 1.8200000000000014, 1.8300000000000014, 1.8400000000000014, 1.8500000000000014, 1.8600000000000014, 1.8700000000000014, 1.8800000000000014, 1.8900000000000015, 1.9000000000000015, 1.9100000000000015, 1.9200000000000015, 1.9300000000000015, 1.9400000000000015, 1.9500000000000015, 1.9600000000000015, 1.9700000000000015, 1.9800000000000015, 1.9900000000000015, 2.0000000000000013, 2.010000000000001]\n",
            "[0.38923782161889037, 0.38869634682130827, 0.38779418041183533, 0.3865317621462937, 0.3849097124103713, 0.38292883688989693, 0.3805901324941238, 0.3778947944717881, 0.3748442246471876, 0.371440040691529, 0.36768408633339633, 0.3635784424015011, 0.35912543858296825, 0.35432766577137326, 0.3491879888706633, 0.3437095599140403, 0.3378958313509326, 0.33175056935040315, 0.3252778669657879, 0.3184821570030999, 0.3113682244347919, 0.3039412182009084, 0.29620666224147696, 0.28817046560721993, 0.27983893150030775, 0.27121876510291665, 0.2623170800587696, 0.25314140348160263, 0.24369967937454637, 0.23400027035569285, 0.22405195759753996, 0.21386393890148897, 0.203445824842994, 0.19280763293822487, 0.18195977979905376, 0.17091307125969185, 0.15967869047521147, 0.14826818400935055, 0.13669344594622776, 0.12496670007774108, 0.11310048023529444, 0.10110760885093126, 0.08900117384877246, 0.07679450398269638, 0.0645011427502915, 0.05213482102611065, 0.039709428569011454, 0.027238984568755942, 0.01473760740593728, 0.0022194838066142693, -0.010301162421329167, -0.022810101879173445, -0.03529313110265626, -0.047736103928199894, -0.060124962508189876, -0.07244576778670228, -0.08468472925210475, -0.0968282337896856, -0.10886287346580789, -0.12077547208495934, -0.13255311037235157, -0.1441831496472982, -0.1556532538663211, -0.16695140992965823, -0.17806594616040813, -0.1889855488817797, -0.19969927703465487, -0.21019657479473958, -0.22046728216579545, -0.230501643542654, -0.2402903142547312, -0.2498243651174316, -0.2590952850350018, -0.2680949817139089, -0.27681578056056166, -0.2852504218510153, -0.2933920562731137, -0.3012342389532171, -0.30877092209015583, -0.3159964463282757, -0.3229055310093401, -0.32949326344958363, -0.33575508739335475, -0.3416867907985103, -0.34728449311105064, -0.35254463218740073, -0.35746395102229345, -0.36203948443840944, -0.3662685458908307, -0.3701487145350115, -0.37367782270142885, -0.37685394391340166, -0.3796753815768426, -0.3821406584619952, -0.3842485070876036, -0.3859978611075356, -0.387387847788725, -0.38841778165750634, -0.3890871593790653, -0.3893956559219286, -0.389343122046248, -0.3889295831411935, -0.3881552394231585, -0.3870204674927809, -0.38552582323510626, -0.38367204603364263, -0.3814600642556884, -0.37889100195324427, -0.375966186711138, -0.37268715856179907, -0.3690556798744995, -0.36507374611592686, -0.3607435973687595, -0.3560677304855591, -0.3510489117468646, -0.3456901898849433, -0.3399949093283062, -0.33396672351689, -0.32760960813381657, -0.3209278740969149, -0.31392618015177826, -0.30660954490807407, -0.2989833581621509, -0.2910533913517169, -0.2828258069925046, -0.2743071669523852, -0.26550443942532526, -0.256425004475871, -0.24707665803444534, -0.23746761423459134, -0.22760650599532728, -0.21750238376489262, -0.2071647123562709, -0.1966033658198528, -0.18582862031432565, -0.17485114495320517, -0.16368199062121727, -0.15233257677181983, -0.14081467623439375, -0.1291403980768139, -0.11732216858610772, -0.10537271044651512, -0.09330502021032094, -0.08113234417216494, -0.06886815277198234, -0.056526113665130114, -0.044120063610468, -0.031663979338047696, -0.019171947567502623, -0.006658134356113226, 0.005863246038236266, 0.018377962589469457, 0.030871799038595098, 0.04333058533839351, 0.0557402288148899, 0.06808674485565094, 0.08035628693934802, 0.09253517582716618, 0.10460992774441939, 0.11656728139007418, 0.1283942236226817, 0.14007801368335038, 0.15160620582972223, 0.16296667026930348, 0.17414761229578035, 0.18513758954796888, 0.19592552732762594, 0.20650073192931842, 0.21685290195273282, 0.22697213758504278, 0.23684894785804528, 0.24647425590159994, 0.2558394022312631, 0.2649361461237756, 0.27375666514909375, 0.2822935529418147, 0.29053981530803147, 0.29848886477575326, 0.3061345137079537, 0.31347096610699154, 0.3204928082475236, 0.32719499828204723, 0.3335728549688492, 0.3396220456763628, 0.3453385738207588, 0.35071876589500994, 0.35575925824770094, 0.3604569837685257, 0.3648091586347755, 0.3688132692692031, 0.3724670596545228, 0.3757685191435254, 0.37871587089642644, 0.38130756106869673, 0.3835422488633242, 0.38541879755131303, 0.38693626655331725, 0.38809390466373106, 0.38889114448639367, 0.3893275981384166, 0.3894030542655925]\n",
            "[-0.921137296075553, -0.9213659153494713, -0.9217459919298336, -0.9222760957826464, -0.9229542314178777, -0.9237778444399664, -0.9247438299594679, -0.9258485428573753, -0.9270878098910851, -0.9284569436280151, -0.9299507581894729, -0.9315635867834778, -0.9332893010008154, -0.935121331843633, -0.937052692450356, -0.9390760024746116, -0.9411835140692075, -0.943367139419051, -0.9456184797592458, -0.9479288558065172, -0.9502893395236659, -0.9526907871279893, -0.9551238732456453, -0.9575791261048447, -0.960046963651657, -0.9625177304632102, -0.9649817353242708, -0.9674292893247364, -0.9698507443275709, -0.9722365316493012, -0.9745772007884804, -0.9768634580316433, -0.9790862047613345, -0.9812365752868972, -0.9833059740159621, -0.9852861117830595, -0.9871690411515758, -0.9889471905064342, -0.9906133967574564, -0.9921609364773841, -0.9935835553040046, -0.9948754954427449, -0.9960315211144377, -0.9970469418026674, -0.9979176331661379, -0.9986400554937577, -0.9992112695935342, -0.999628950020788, -0.9998913955665127, -0.9999975369427828, -0.9999469416187888, -0.9997398157782162, -0.9993770033860949, -0.9988599823707806, -0.9981908579442054, -0.9973723531007841, -0.9964077963522253, -0.9953011067718, -0.9940567764372252, -0.9926798503760692, -0.9911759041313581, -0.9895510190777355, -0.9878117556300019, -0.9859651244960438, -0.9840185561349941, -0.9819798685888894, -0.9798572338620745, -0.9776591430271389, -0.9753943702392522, -0.9730719358424306, -0.97070106875153, -0.9682911682927157, -0.9658517656828253, -0.9633924853245529, -0.9609230060897943, -0.9584530227579324, -0.9559922077694117, -0.953550173447772, -0.951136434835505, -0.9487603732807885, -0.9464312009034657, -0.9441579260596944, -0.9419493199156103, -0.9398138842312423, -0.9377598204468992, -0.9357950001554028, -0.9339269370349756, -0.9321627603093628, -0.9305091897939625, -0.9289725125793974, -0.9275585613971333, -0.9262726947054603, -0.9251197785284233, -0.9241041700751235, -0.9232297031621913, -0.9224996754581585, -0.9219168375648747, -0.9214833839480024, -0.9212009457259203, -0.921070585324019, -0.9210927929993158, -0.9212674852384716, -0.9215940050306048, -0.9220711240146658, -0.9226970464994962, -0.9234694153529712, -0.9243853197547255, -0.9254413048048302, -0.9266333829783415, -0.9279570474128274, -0.9294072870127342, -0.9309786033507342, -0.9326650293419639, -0.9344601496622866, -0.9363571228763853, -0.938348705235592, -0.9404272760989213, -0.9425848649237867, -0.9448131797654006, -0.9471036372159252, -0.9494473937061038, -0.9518353780834498, -0.954258325372162, -0.9567068116108844, -0.9591712896553142, -0.9616421258236123, -0.964109637253691, -0.9665641298328578, -0.9689959365521249, -0.9713954561298561, -0.9737531917424451, -0.9760597896935358, -0.9783060778480033, -0.9804831036526357, -0.9825821715622944, -0.9845948796883687, -0.9865131554856609, -0.988329290294514, -0.9900359725570596, -0.9916263195299739, -0.9930939073210816, -0.9944327990835554, -0.9956375712092989, -0.9967033373723243, -0.9976257702835142, -0.998401121029978, -0.9990262358852285, -0.9994985704904633, -0.9998162013222575, -0.9999778343777905, -0.9999828110252171, -0.9998311109837801, -0.9995233524156004, -0.9990607891285856, -0.9984453049074165, -0.9976794050069198, -0.9967662048591541, -0.9957094160620534, -0.9945133297333462, -0.9931827973285317, -0.9917232090358321, -0.9901404698741119, -0.988440973631666, -0.9866315747944296, -0.9847195586214781, -0.9827126095336153, -0.9806187779873439, -0.9784464460115616, -0.9762042915879229, -0.9739012520579673, -0.9715464867408748, -0.9691493389451146, -0.966719297555371, -0.9642659583730422, -0.9617989853843926, -0.9593280721252176, -0.9568629033047393, -0.9544131168445256, -0.9519882664806298, -0.9495977850689993, -0.9472509487256353, -0.9449568419241225, -0.9427243236640981, -0.9405619948151225, -0.9384781667313546, -0.9364808312235127, -0.9345776319659301, -0.9327758374081614, -0.9310823152526243, -0.9295035085522605, -0.928045413475178, -0.9267135587767571, -0.9255129870137757, -0.9244482375297397, -0.9235233312357971, -0.9227417572073456, -0.9221064611126961, -0.9216198354868773, -0.9212837118608268, -0.9210993547537484, -0.9210674575342612]\n"
          ],
          "name": "stdout"
        },
        {
          "output_type": "execute_result",
          "data": {
            "text/plain": [
              "Text(0, 0.5, 'y (m)')"
            ]
          },
          "metadata": {
            "tags": []
          },
          "execution_count": 116
        },
        {
          "output_type": "display_data",
          "data": {
            "image/png": "[encoded data removed]",
            "text/plain": [
              "<Figure size 432x288 with 1 Axes>"
            ]
          },
          "metadata": {
            "tags": [],
            "needs_background": "light"
          }
        }
      ]
    },
    {
      "cell_type": "markdown",
      "metadata": {
        "id": "xvQ6sGjbfkMm"
      },
      "source": [
        "Exercício 4:"
      ]
    },
    {
      "cell_type": "code",
      "metadata": {
        "id": "7F_S4XyofzBX"
      },
      "source": [
        "o array do numpy é uma generalização da lista, pode ter ordem 0 - escalar, ordem 1 - lista, ordem 2 - matriz etc"
      ],
      "execution_count": null,
      "outputs": []
    }
  ]
}