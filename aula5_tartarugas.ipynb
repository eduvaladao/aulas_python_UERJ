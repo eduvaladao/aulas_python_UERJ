{
  "nbformat": 4,
  "nbformat_minor": 0,
  "metadata": {
    "kernelspec": {
      "display_name": "Python 3",
      "language": "python",
      "name": "python3"
    },
    "language_info": {
      "codemirror_mode": {
        "name": "ipython",
        "version": 3
      },
      "file_extension": ".py",
      "mimetype": "text/x-python",
      "name": "python",
      "nbconvert_exporter": "python",
      "pygments_lexer": "ipython3",
      "version": "3.6.4"
    },
    "colab": {
      "name": "aula5_tartarugas.ipynb",
      "provenance": [],
      "collapsed_sections": [],
      "include_colab_link": true
    }
  },
  "cells": [
    {
      "cell_type": "markdown",
      "metadata": {
        "id": "view-in-github",
        "colab_type": "text"
      },
      "source": [
        "<a href=\"https://colab.research.google.com/github/eduvaladao/aulas_python_UERJ/blob/main/aula5_tartarugas.ipynb\" target=\"_parent\"><img src=\"https://colab.research.google.com/assets/colab-badge.svg\" alt=\"Open In Colab\"/></a>"
      ]
    },
    {
      "cell_type": "markdown",
      "metadata": {
        "id": "aWqaS17IKyX4"
      },
      "source": [
        "# Tartarugas!\n",
        "\n",
        "AVISO: essa aula foi feita em sua quase totalidade como tradução do capítulo 3 do livro texto: http://openbookproject.net/thinkcs/python/english3e/index.html\n",
        "\n",
        "Referência: http://greenteapress.com/thinkpython2/html/thinkpython2005.html#sec42"
      ]
    },
    {
      "cell_type": "markdown",
      "metadata": {
        "id": "QRczpCqhKyX5"
      },
      "source": [
        "Existem **muitos** módulos em Python que fornecem recursos muito poderosos que podemos usar. \n",
        "   * Alguns enviam e-mails ou buscam páginas da web;\n",
        "   * outros fazem histogramas\n",
        "   * ou cálculo matricial\n",
        "   * ou gráficos\n",
        "   * ou até mesmo jogos, entre vários outros.\n",
        "   \n",
        "O módulo que veremos neste capítulo nos permite criar **tartarugas** e fazê-las desenhar formas e padrões.\n",
        "\n",
        "A maior parte da linguagem de Python aqui abordada será explorada com mais profundidade posteriormente."
      ]
    },
    {
      "cell_type": "markdown",
      "metadata": {
        "id": "q0qIvsWmKyX6"
      },
      "source": [
        "## Nosso primeiro programa de tartaruga\n",
        "\n",
        "Criaremos em Python uma _tartaruga_ e vamos **desenhar um retângulo**. \n",
        "\n",
        "Nossa tartaruguinha se chamará joana.\n",
        "\n",
        "**Observação:**\n",
        "\n",
        "* Originalmente em Python, o módulo de tartarugas se chama ```turtle```: https://docs.python.org/3/library/turtle.html].\n",
        "\n",
        "* Para usá-lo no Colab, há um módulo específico, que é uma adaptação da classe ```Turtle``` para o Colab: https://github.com/tolgaatam/ColabTurtle/blob/master/ColabTurtle/Turtle.py\n",
        "\n",
        "* Também podemos criar o código em Python que usa o módulo Turtle, diretamente através do [trinket](https://trinket.io/turtle).\n",
        "\n",
        "Faremos os próximos exemplos usando o módulo ColabTurtle e mostraremos um exemplo no âmbito do trinket no final."
      ]
    },
    {
      "cell_type": "code",
      "metadata": {
        "id": "pNr_5Ik2LUGY",
        "colab": {
          "base_uri": "https://localhost:8080/"
        },
        "outputId": "cf2d4ab2-825f-41d0-ba80-53d601ad64ae"
      },
      "source": [
        "# declarações para instalar e importar o módulo Turtle no ambiente do Google Colab\n",
        "!pip3 install ColabTurtle\n",
        "from ColabTurtle import Turtle"
      ],
      "execution_count": 5,
      "outputs": [
        {
          "output_type": "stream",
          "text": [
            "Collecting ColabTurtle\n",
            "  Downloading https://files.pythonhosted.org/packages/08/6f/619066317c24cd988979ad1b8c7b324c09ee1c408bfd88926889d6a62d99/ColabTurtle-2.1.0.tar.gz\n",
            "Building wheels for collected packages: ColabTurtle\n",
            "  Building wheel for ColabTurtle (setup.py) ... \u001b[?25l\u001b[?25hdone\n",
            "  Created wheel for ColabTurtle: filename=ColabTurtle-2.1.0-cp37-none-any.whl size=7661 sha256=ee068b5f86b2ff9d3ff1904b3dcf8910b027762a1296b2ede93b652cdb1d6a28\n",
            "  Stored in directory: /root/.cache/pip/wheels/df/e9/3f/df3fccd8971c5473dc0c6450984cd057de8c9a1271069ebf18\n",
            "Successfully built ColabTurtle\n",
            "Installing collected packages: ColabTurtle\n",
            "Successfully installed ColabTurtle-2.1.0\n"
          ],
          "name": "stdout"
        }
      ]
    },
    {
      "cell_type": "code",
      "metadata": {
        "id": "GjI31DhOKyX7",
        "colab": {
          "base_uri": "https://localhost:8080/",
          "height": 521
        },
        "outputId": "87e8eb77-e701-477a-933c-3fc26f064559"
      },
      "source": [
        "joana = Turtle # Cria uma tartaruga, atribui a joana\n",
        "joana.initializeTurtle()   # inicialização. Necessária toda vez que uma nova tartaruga for criada. Determina os valores padrão.\n",
        "joana.forward(150)          # diz para joana andar para frente por 150 unidades\n",
        "joana.left(90)             # diz para joana virar de 90 graus\n",
        "joana.forward(130)          # Completa o segundo lado do retângulo"
      ],
      "execution_count": 2,
      "outputs": [
        {
          "output_type": "display_data",
          "data": {
            "text/html": [
              "\n",
              "      <svg width=\"800\" height=\"500\">\n",
              "        <rect width=\"100%\" height=\"100%\" fill=\"black\"/>\n",
              "        <line x1=\"400\" y1=\"250\" x2=\"400.0\" y2=\"100.0\" stroke-linecap=\"round\" style=\"stroke:white;stroke-width:4\"/><line x1=\"400.0\" y1=\"100.0\" x2=\"270.0\" y2=\"100.0\" stroke-linecap=\"round\" style=\"stroke:white;stroke-width:4\"/>\n",
              "        <g visibility=visible transform=\"rotate(270,270.0,100.0) translate(252.0, 82.0)\">\n",
              "<path style=\" stroke:none;fill-rule:evenodd;fill:white;fill-opacity:1;\" d=\"M 18.214844 0.632812 C 16.109375 1.800781 15.011719 4.074219 15.074219 7.132812 L 15.085938 7.652344 L 14.785156 7.496094 C 13.476562 6.824219 11.957031 6.671875 10.40625 7.066406 C 8.46875 7.550781 6.515625 9.15625 4.394531 11.992188 C 3.0625 13.777344 2.679688 14.636719 3.042969 15.027344 L 3.15625 15.152344 L 3.519531 15.152344 C 4.238281 15.152344 4.828125 14.886719 8.1875 13.039062 C 9.386719 12.378906 10.371094 11.839844 10.378906 11.839844 C 10.386719 11.839844 10.355469 11.929688 10.304688 12.035156 C 9.832031 13.09375 9.257812 14.820312 8.96875 16.078125 C 7.914062 20.652344 8.617188 24.53125 11.070312 27.660156 C 11.351562 28.015625 11.363281 27.914062 10.972656 28.382812 C 8.925781 30.84375 7.945312 33.28125 8.238281 35.1875 C 8.289062 35.527344 8.28125 35.523438 8.917969 35.523438 C 10.941406 35.523438 13.074219 34.207031 15.136719 31.6875 C 15.359375 31.417969 15.328125 31.425781 15.5625 31.574219 C 16.292969 32.042969 18.023438 32.964844 18.175781 32.964844 C 18.335938 32.964844 19.941406 32.210938 20.828125 31.71875 C 20.996094 31.625 21.136719 31.554688 21.136719 31.558594 C 21.203125 31.664062 21.898438 32.414062 22.222656 32.730469 C 23.835938 34.300781 25.5625 35.132812 27.582031 35.300781 C 27.90625 35.328125 27.9375 35.308594 28.007812 34.984375 C 28.382812 33.242188 27.625 30.925781 25.863281 28.425781 L 25.542969 27.96875 L 25.699219 27.785156 C 28.945312 23.960938 29.132812 18.699219 26.257812 11.96875 L 26.207031 11.84375 L 27.945312 12.703125 C 31.53125 14.476562 32.316406 14.800781 33.03125 14.800781 C 33.976562 14.800781 33.78125 13.9375 32.472656 12.292969 C 28.519531 7.355469 25.394531 5.925781 21.921875 7.472656 L 21.558594 7.636719 L 21.578125 7.542969 C 21.699219 6.992188 21.761719 5.742188 21.699219 5.164062 C 21.496094 3.296875 20.664062 1.964844 19.003906 0.855469 C 18.480469 0.503906 18.457031 0.5 18.214844 0.632812\"/>\n",
              "</g>\n",
              "      </svg>\n",
              "    "
            ],
            "text/plain": [
              "<IPython.core.display.HTML object>"
            ]
          },
          "metadata": {
            "tags": []
          }
        }
      ]
    },
    {
      "cell_type": "code",
      "metadata": {
        "colab": {
          "base_uri": "https://localhost:8080/"
        },
        "id": "KXotlKML4Dha",
        "outputId": "8647a0ec-5a8d-40e8-fd0e-0ff167907a83"
      },
      "source": [
        "type(joana)"
      ],
      "execution_count": 3,
      "outputs": [
        {
          "output_type": "execute_result",
          "data": {
            "text/plain": [
              "module"
            ]
          },
          "metadata": {
            "tags": []
          },
          "execution_count": 3
        }
      ]
    },
    {
      "cell_type": "markdown",
      "metadata": {
        "id": "EVQJgTuiKyYA"
      },
      "source": [
        "O que acontece ao rodar o programa acima?"
      ]
    },
    {
      "cell_type": "markdown",
      "metadata": {
        "id": "Vtx-nOEdKyYC"
      },
      "source": [
        "### Observações sobre o código acima\n",
        "\n",
        "* ***import ColabTurtle***: carregar um módulo chamado tartaruga. \n",
        "   * Esse módulo nos traz um novo **tipo** que podemos usar: **o tipo ColabTurtle**. \n",
        "   * A notação de ponto ***ColabTurtle.Turtle*** significa “O tipo de tartaruga que é definido dentro do módulo de tartaruga”.\n",
        "\n",
        "\n",
        "* ***joana = ColabTurtle.Turtle()***: cria uma tartaruga. A variável ****joana*** é declarada para se referir a esta tartaruga.\n",
        "\n",
        "* ***joana.initializeTurtle()***: método que constrói e inicializa todas as variáveis necessárias quando criamos uma tartaruga (o objeto tartaruga, do tipo ColabTurtle), como posição inicial, orientação da seta...\n",
        "\n",
        "* Essas três primeiras linhas se encarregaram das **definições**. Estamos prontos para fazer com que nossa tartaruga desenhe na tela.\n",
        "\n",
        "\n",
        "* **Invocar ou ativar os métodos do objeto joana**: fazer joana se mover e a girar. \n",
        "   * joana.forward(50)\n",
        "   * joana.left(90) \n",
        "\n",
        "\n",
        "* **Um objeto pode ter vários métodos** - coisas que ele pode fazer - **e também pode ter atributos**  \n",
        "   * cada tartaruga tem um atributo de **cor**: A invocação do método ```joana.color (\"red\")``` tornará joana vermelha (red) e o desenho será vermelho também.\n",
        "\n",
        "* **Estado** atual da tartaruga: é o **conjunto de atributos atuais**, e também posição, rotação, etc, ...\n",
        "\n",
        "* Existe um grande número de **métodos que nos permitem modificar a tartaruga**. \n",
        "\n"
      ]
    },
    {
      "cell_type": "code",
      "metadata": {
        "id": "CPtIqm_gKyYD",
        "colab": {
          "base_uri": "https://localhost:8080/",
          "height": 521
        },
        "outputId": "41bd5b98-1c17-4194-8d36-ea74f4fccd53"
      },
      "source": [
        "teca = Turtle # Cria uma tartaruga, atribui a teca\n",
        "teca.initializeTurtle()\n",
        "teca.color(\"blue\")            # o método color diz à Teca para mudar sua cor (atributo)\n",
        "teca.width(3)               # o método width faz Teca ajustar a largura da caneta (atributo)\n",
        "\n",
        "teca.forward(50)\n",
        "teca.left(120)\n",
        "teca.forward(50)"
      ],
      "execution_count": 4,
      "outputs": [
        {
          "output_type": "display_data",
          "data": {
            "text/html": [
              "\n",
              "      <svg width=\"800\" height=\"500\">\n",
              "        <rect width=\"100%\" height=\"100%\" fill=\"black\"/>\n",
              "        <line x1=\"400\" y1=\"250\" x2=\"400.0\" y2=\"200.0\" stroke-linecap=\"round\" style=\"stroke:blue;stroke-width:3\"/><line x1=\"400.0\" y1=\"200.0\" x2=\"356.699\" y2=\"225.0\" stroke-linecap=\"round\" style=\"stroke:blue;stroke-width:3\"/>\n",
              "        <g visibility=visible transform=\"rotate(240,356.699,225.0) translate(338.699, 207.0)\">\n",
              "<path style=\" stroke:none;fill-rule:evenodd;fill:blue;fill-opacity:1;\" d=\"M 18.214844 0.632812 C 16.109375 1.800781 15.011719 4.074219 15.074219 7.132812 L 15.085938 7.652344 L 14.785156 7.496094 C 13.476562 6.824219 11.957031 6.671875 10.40625 7.066406 C 8.46875 7.550781 6.515625 9.15625 4.394531 11.992188 C 3.0625 13.777344 2.679688 14.636719 3.042969 15.027344 L 3.15625 15.152344 L 3.519531 15.152344 C 4.238281 15.152344 4.828125 14.886719 8.1875 13.039062 C 9.386719 12.378906 10.371094 11.839844 10.378906 11.839844 C 10.386719 11.839844 10.355469 11.929688 10.304688 12.035156 C 9.832031 13.09375 9.257812 14.820312 8.96875 16.078125 C 7.914062 20.652344 8.617188 24.53125 11.070312 27.660156 C 11.351562 28.015625 11.363281 27.914062 10.972656 28.382812 C 8.925781 30.84375 7.945312 33.28125 8.238281 35.1875 C 8.289062 35.527344 8.28125 35.523438 8.917969 35.523438 C 10.941406 35.523438 13.074219 34.207031 15.136719 31.6875 C 15.359375 31.417969 15.328125 31.425781 15.5625 31.574219 C 16.292969 32.042969 18.023438 32.964844 18.175781 32.964844 C 18.335938 32.964844 19.941406 32.210938 20.828125 31.71875 C 20.996094 31.625 21.136719 31.554688 21.136719 31.558594 C 21.203125 31.664062 21.898438 32.414062 22.222656 32.730469 C 23.835938 34.300781 25.5625 35.132812 27.582031 35.300781 C 27.90625 35.328125 27.9375 35.308594 28.007812 34.984375 C 28.382812 33.242188 27.625 30.925781 25.863281 28.425781 L 25.542969 27.96875 L 25.699219 27.785156 C 28.945312 23.960938 29.132812 18.699219 26.257812 11.96875 L 26.207031 11.84375 L 27.945312 12.703125 C 31.53125 14.476562 32.316406 14.800781 33.03125 14.800781 C 33.976562 14.800781 33.78125 13.9375 32.472656 12.292969 C 28.519531 7.355469 25.394531 5.925781 21.921875 7.472656 L 21.558594 7.636719 L 21.578125 7.542969 C 21.699219 6.992188 21.761719 5.742188 21.699219 5.164062 C 21.496094 3.296875 20.664062 1.964844 19.003906 0.855469 C 18.480469 0.503906 18.457031 0.5 18.214844 0.632812\"/>\n",
              "</g>\n",
              "      </svg>\n",
              "    "
            ],
            "text/plain": [
              "<IPython.core.display.HTML object>"
            ]
          },
          "metadata": {
            "tags": []
          }
        }
      ]
    },
    {
      "cell_type": "markdown",
      "metadata": {
        "id": "CHBmuB4BKyYI"
      },
      "source": [
        "## Instâncias - uma manada de tartarugas\n",
        "\n",
        "Assim como podemos ter muitos inteiros diferentes em um programa, podemos ter muitas tartarugas. \n",
        "\n",
        "* **Cada tartaruga é chamada de uma *instância*** . \n",
        "   * Cada instância tem seus próprios **atributos** e **métodos**"
      ]
    },
    {
      "cell_type": "code",
      "metadata": {
        "id": "923t3tgbKyYJ",
        "colab": {
          "base_uri": "https://localhost:8080/",
          "height": 1000
        },
        "outputId": "825c6653-6933-4f45-c2ab-42232c49a97f"
      },
      "source": [
        "teca = Turtle                  # Criar a instância Teca\n",
        "teca.initializeTurtle()        # configurar os atributos de Teca\n",
        "teca.color(\"yellow\")\n",
        "teca.width(5)\n",
        "#teca.window_size = (400,250)\n",
        "\n",
        "# Fazer Teca desenhar um triângulo equilátero:\n",
        "teca.forward(80)             \n",
        "teca.left(120)\n",
        "teca.forward(80)\n",
        "teca.left(120)\n",
        "teca.forward(80)\n",
        "teca.left(120)               # Completar o triângulo\n",
        "\n",
        "teca.right(180)              # Fazer Teca dar meia volta\n",
        "teca.forward(80)             # Movê-la para longe da origem\n",
        "\n",
        "# Criar uma nova instância de Tartaruga:\n",
        "joana = Turtle\n",
        "joana.initializeTurtle()     # configurar os atributos de Joana\n",
        "joana.color('purple')        # Mudar os atributos de Joana\n",
        "\n",
        "# Fazer Joana desenhar um quadrado:\n",
        "joana.forward(50)            \n",
        "joana.left(90)\n",
        "joana.forward(50)\n",
        "joana.left(90)\n",
        "joana.forward(50)\n",
        "joana.left(90)\n",
        "joana.forward(50)\n",
        "joana.left(90)"
      ],
      "execution_count": 6,
      "outputs": [
        {
          "output_type": "display_data",
          "data": {
            "text/html": [
              "\n",
              "      <svg width=\"800\" height=\"500\">\n",
              "        <rect width=\"100%\" height=\"100%\" fill=\"black\"/>\n",
              "        <line x1=\"400\" y1=\"250\" x2=\"400.0\" y2=\"170.0\" stroke-linecap=\"round\" style=\"stroke:yellow;stroke-width:5\"/><line x1=\"400.0\" y1=\"170.0\" x2=\"330.718\" y2=\"210.0\" stroke-linecap=\"round\" style=\"stroke:yellow;stroke-width:5\"/><line x1=\"330.718\" y1=\"210.0\" x2=\"400.0\" y2=\"250.0\" stroke-linecap=\"round\" style=\"stroke:yellow;stroke-width:5\"/><line x1=\"400.0\" y1=\"250.0\" x2=\"400.0\" y2=\"330.0\" stroke-linecap=\"round\" style=\"stroke:yellow;stroke-width:5\"/>\n",
              "        <g visibility=visible transform=\"rotate(180,400.0,330.0) translate(382.0, 312.0)\">\n",
              "<path style=\" stroke:none;fill-rule:evenodd;fill:yellow;fill-opacity:1;\" d=\"M 18.214844 0.632812 C 16.109375 1.800781 15.011719 4.074219 15.074219 7.132812 L 15.085938 7.652344 L 14.785156 7.496094 C 13.476562 6.824219 11.957031 6.671875 10.40625 7.066406 C 8.46875 7.550781 6.515625 9.15625 4.394531 11.992188 C 3.0625 13.777344 2.679688 14.636719 3.042969 15.027344 L 3.15625 15.152344 L 3.519531 15.152344 C 4.238281 15.152344 4.828125 14.886719 8.1875 13.039062 C 9.386719 12.378906 10.371094 11.839844 10.378906 11.839844 C 10.386719 11.839844 10.355469 11.929688 10.304688 12.035156 C 9.832031 13.09375 9.257812 14.820312 8.96875 16.078125 C 7.914062 20.652344 8.617188 24.53125 11.070312 27.660156 C 11.351562 28.015625 11.363281 27.914062 10.972656 28.382812 C 8.925781 30.84375 7.945312 33.28125 8.238281 35.1875 C 8.289062 35.527344 8.28125 35.523438 8.917969 35.523438 C 10.941406 35.523438 13.074219 34.207031 15.136719 31.6875 C 15.359375 31.417969 15.328125 31.425781 15.5625 31.574219 C 16.292969 32.042969 18.023438 32.964844 18.175781 32.964844 C 18.335938 32.964844 19.941406 32.210938 20.828125 31.71875 C 20.996094 31.625 21.136719 31.554688 21.136719 31.558594 C 21.203125 31.664062 21.898438 32.414062 22.222656 32.730469 C 23.835938 34.300781 25.5625 35.132812 27.582031 35.300781 C 27.90625 35.328125 27.9375 35.308594 28.007812 34.984375 C 28.382812 33.242188 27.625 30.925781 25.863281 28.425781 L 25.542969 27.96875 L 25.699219 27.785156 C 28.945312 23.960938 29.132812 18.699219 26.257812 11.96875 L 26.207031 11.84375 L 27.945312 12.703125 C 31.53125 14.476562 32.316406 14.800781 33.03125 14.800781 C 33.976562 14.800781 33.78125 13.9375 32.472656 12.292969 C 28.519531 7.355469 25.394531 5.925781 21.921875 7.472656 L 21.558594 7.636719 L 21.578125 7.542969 C 21.699219 6.992188 21.761719 5.742188 21.699219 5.164062 C 21.496094 3.296875 20.664062 1.964844 19.003906 0.855469 C 18.480469 0.503906 18.457031 0.5 18.214844 0.632812\"/>\n",
              "</g>\n",
              "      </svg>\n",
              "    "
            ],
            "text/plain": [
              "<IPython.core.display.HTML object>"
            ]
          },
          "metadata": {
            "tags": []
          }
        },
        {
          "output_type": "display_data",
          "data": {
            "text/html": [
              "\n",
              "      <svg width=\"800\" height=\"500\">\n",
              "        <rect width=\"100%\" height=\"100%\" fill=\"black\"/>\n",
              "        <line x1=\"400\" y1=\"250\" x2=\"400.0\" y2=\"200.0\" stroke-linecap=\"round\" style=\"stroke:purple;stroke-width:4\"/><line x1=\"400.0\" y1=\"200.0\" x2=\"350.0\" y2=\"200.0\" stroke-linecap=\"round\" style=\"stroke:purple;stroke-width:4\"/><line x1=\"350.0\" y1=\"200.0\" x2=\"350.0\" y2=\"250.0\" stroke-linecap=\"round\" style=\"stroke:purple;stroke-width:4\"/><line x1=\"350.0\" y1=\"250.0\" x2=\"400.0\" y2=\"250.0\" stroke-linecap=\"round\" style=\"stroke:purple;stroke-width:4\"/>\n",
              "        <g visibility=visible transform=\"rotate(360,400.0,250.0) translate(382.0, 232.0)\">\n",
              "<path style=\" stroke:none;fill-rule:evenodd;fill:purple;fill-opacity:1;\" d=\"M 18.214844 0.632812 C 16.109375 1.800781 15.011719 4.074219 15.074219 7.132812 L 15.085938 7.652344 L 14.785156 7.496094 C 13.476562 6.824219 11.957031 6.671875 10.40625 7.066406 C 8.46875 7.550781 6.515625 9.15625 4.394531 11.992188 C 3.0625 13.777344 2.679688 14.636719 3.042969 15.027344 L 3.15625 15.152344 L 3.519531 15.152344 C 4.238281 15.152344 4.828125 14.886719 8.1875 13.039062 C 9.386719 12.378906 10.371094 11.839844 10.378906 11.839844 C 10.386719 11.839844 10.355469 11.929688 10.304688 12.035156 C 9.832031 13.09375 9.257812 14.820312 8.96875 16.078125 C 7.914062 20.652344 8.617188 24.53125 11.070312 27.660156 C 11.351562 28.015625 11.363281 27.914062 10.972656 28.382812 C 8.925781 30.84375 7.945312 33.28125 8.238281 35.1875 C 8.289062 35.527344 8.28125 35.523438 8.917969 35.523438 C 10.941406 35.523438 13.074219 34.207031 15.136719 31.6875 C 15.359375 31.417969 15.328125 31.425781 15.5625 31.574219 C 16.292969 32.042969 18.023438 32.964844 18.175781 32.964844 C 18.335938 32.964844 19.941406 32.210938 20.828125 31.71875 C 20.996094 31.625 21.136719 31.554688 21.136719 31.558594 C 21.203125 31.664062 21.898438 32.414062 22.222656 32.730469 C 23.835938 34.300781 25.5625 35.132812 27.582031 35.300781 C 27.90625 35.328125 27.9375 35.308594 28.007812 34.984375 C 28.382812 33.242188 27.625 30.925781 25.863281 28.425781 L 25.542969 27.96875 L 25.699219 27.785156 C 28.945312 23.960938 29.132812 18.699219 26.257812 11.96875 L 26.207031 11.84375 L 27.945312 12.703125 C 31.53125 14.476562 32.316406 14.800781 33.03125 14.800781 C 33.976562 14.800781 33.78125 13.9375 32.472656 12.292969 C 28.519531 7.355469 25.394531 5.925781 21.921875 7.472656 L 21.558594 7.636719 L 21.578125 7.542969 C 21.699219 6.992188 21.761719 5.742188 21.699219 5.164062 C 21.496094 3.296875 20.664062 1.964844 19.003906 0.855469 C 18.480469 0.503906 18.457031 0.5 18.214844 0.632812\"/>\n",
              "</g>\n",
              "      </svg>\n",
              "    "
            ],
            "text/plain": [
              "<IPython.core.display.HTML object>"
            ]
          },
          "metadata": {
            "tags": []
          }
        }
      ]
    },
    {
      "cell_type": "markdown",
      "metadata": {
        "id": "e2iemuZvKyYM"
      },
      "source": [
        "### O que faz o código acima?\n",
        "Tente você mesmo!\n",
        "\n",
        "\n",
        "Ok, duas tartarugas podem não ser suficientes para um rebanho. \n",
        "\n",
        "Mas a ideia importante é que **o módulo de tartaruga nos proporciona uma espécie de fábrica que nos permite criar tantas tartarugas (instâncias) quanto precisamos**. \n",
        "\n",
        "***Cada instância tem seu próprio estado e comportamento.***\n",
        "\n",
        "Se usarmos o módulo original do Python, ```turtle```( no trinket, por exemplo), cada tartaruga é um objeto de Python do tipo Turtle.\n",
        "\n",
        "O exemplo do código acima no trinket, está disponível [aqui](https://trinket.io/turtle/282c9ab28c).\n"
      ]
    },
    {
      "cell_type": "markdown",
      "metadata": {
        "id": "Z8pxPQeEKyYN"
      },
      "source": [
        "\n",
        "## O *loop* for\n",
        "\n",
        "Quando desenhamos anteriormente o quadrado com a ```turtle```, tivemos que repetir explicitamente os passos de se mover e girar ***quatro vezes***. Se estivéssemos desenhando um hexágono ou um polígono com 42 lados, teria sido bem mais longo repetir as mesmas linhas 42 vezes.\n",
        "\n",
        "\n",
        "\n",
        "Portanto, um **bloco de construção básico** de todos os programas é poder **repetir alguns códigos um número N de vezes.**\n",
        "\n",
        "\n",
        "\n",
        "O ***loop for*** de Python resolve isso. \n",
        "\n",
        "Digamos que temos alguns amigos e gostaríamos de enviar a eles um e-mail convidando-os para a nossa festa. Ainda não sabemos como enviar e-mails, então, por enquanto, apenas imprimiremos uma mensagem para cada amigo:"
      ]
    },
    {
      "cell_type": "code",
      "metadata": {
        "id": "dcDAUr29KyYN",
        "colab": {
          "base_uri": "https://localhost:8080/"
        },
        "outputId": "f4a54438-0e82-4080-eb9c-d2cf536780ec"
      },
      "source": [
        "for f in [\"José\",\"Zoe\",\"Bruno\",\"Angélica\",\"Zacarias\",\"Thandi\",\"Paris\"]:\n",
        "    convite = \"Oi \" + f + \".  Você está convidadx para minha festa no Sábado!\"\n",
        "    print(convite)"
      ],
      "execution_count": 7,
      "outputs": [
        {
          "output_type": "stream",
          "text": [
            "Oi José.  Você está convidadx para minha festa no Sábado!\n",
            "Oi Zoe.  Você está convidadx para minha festa no Sábado!\n",
            "Oi Bruno.  Você está convidadx para minha festa no Sábado!\n",
            "Oi Angélica.  Você está convidadx para minha festa no Sábado!\n",
            "Oi Zacarias.  Você está convidadx para minha festa no Sábado!\n",
            "Oi Thandi.  Você está convidadx para minha festa no Sábado!\n",
            "Oi Paris.  Você está convidadx para minha festa no Sábado!\n"
          ],
          "name": "stdout"
        }
      ]
    },
    {
      "cell_type": "markdown",
      "metadata": {
        "id": "VfHGLMGjKyYU"
      },
      "source": [
        "* A variável ***f*** na instrução for na linha 1 é chamada de **variável de loop**. Pode ser qualquer nome de variável.\n",
        "\n",
        "\n",
        "* As linhas 2 e 3 são o **corpo do loop**. O corpo do loop é sempre ***indentado***. O recuo determina exatamente quais instruções estão “no corpo do loop”.\n",
        "\n",
        "\n",
        "* Em cada **iteração** (ou passagem do loop):\n",
        "   * uma verificação é feita para ver se ainda há mais itens a serem processados. \n",
        "   \n",
        "   * Caso não haja nenhum item a se processado, o loop terminou. Isso é chamado de **condição de terminação do loop**. \n",
        "   \n",
        "   * A execução do programa continua na próxima instrução após o corpo do loop.\n",
        "   \n",
        "   * Se ainda houver itens a serem processados, a variável de loop será atualizada para se referir ao próximo item da lista. Isto significa, neste caso, que o corpo do loop é executado aqui 7 vezes, e cada vez f se referirá a um amigo diferente.\n",
        "   \n",
        "   * No final de cada execução do corpo do loop, o Python retorna à instrução for, para ver se há mais itens a serem manipulados e para atribuir o próximo a f."
      ]
    },
    {
      "cell_type": "markdown",
      "metadata": {
        "id": "ggPSduhtKyYU"
      },
      "source": [
        "## Fluxo de Execução do loop for\n",
        "\n",
        "Conforme um programa é executado, o interpretador sempre registra qual declaração está prestes a ser executada. Chamamos isso de **fluxo de controle**, do **fluxo de execução do programa**.\n",
        "\n",
        "O **fluxo de controle** é geralmente fácil de visualizar e entender se desenharmos um **fluxograma**. Isso mostra as etapas exatas e a lógica de como a instrução ***for*** é executada.\n",
        "\n",
        "![title](https://github.com/malbouis/Python_intro/blob/master/aulas_2019/pics/fluxograma.png?raw=1)"
      ]
    },
    {
      "cell_type": "markdown",
      "metadata": {
        "id": "KdiRCVwWKyYV"
      },
      "source": [
        "## O loop simplifica nosso programa de tartarugas\n",
        "\n",
        "Podemos usar apenas 3 linhas ao invés de oito, para desenhar o quadrado de ***joana***"
      ]
    },
    {
      "cell_type": "code",
      "metadata": {
        "id": "3s4WgBZHKyYW",
        "colab": {
          "base_uri": "https://localhost:8080/",
          "height": 521
        },
        "outputId": "5cb5129c-9983-49e3-dba4-0eada0935653"
      },
      "source": [
        "joana = Turtle\n",
        "joana.initializeTurtle()\n",
        "for i in [0,1,2,3]:\n",
        "    joana.forward(50)\n",
        "    joana.left(90)"
      ],
      "execution_count": 8,
      "outputs": [
        {
          "output_type": "display_data",
          "data": {
            "text/html": [
              "\n",
              "      <svg width=\"800\" height=\"500\">\n",
              "        <rect width=\"100%\" height=\"100%\" fill=\"black\"/>\n",
              "        <line x1=\"400\" y1=\"250\" x2=\"400.0\" y2=\"200.0\" stroke-linecap=\"round\" style=\"stroke:white;stroke-width:4\"/><line x1=\"400.0\" y1=\"200.0\" x2=\"350.0\" y2=\"200.0\" stroke-linecap=\"round\" style=\"stroke:white;stroke-width:4\"/><line x1=\"350.0\" y1=\"200.0\" x2=\"350.0\" y2=\"250.0\" stroke-linecap=\"round\" style=\"stroke:white;stroke-width:4\"/><line x1=\"350.0\" y1=\"250.0\" x2=\"400.0\" y2=\"250.0\" stroke-linecap=\"round\" style=\"stroke:white;stroke-width:4\"/>\n",
              "        <g visibility=visible transform=\"rotate(360,400.0,250.0) translate(382.0, 232.0)\">\n",
              "<path style=\" stroke:none;fill-rule:evenodd;fill:white;fill-opacity:1;\" d=\"M 18.214844 0.632812 C 16.109375 1.800781 15.011719 4.074219 15.074219 7.132812 L 15.085938 7.652344 L 14.785156 7.496094 C 13.476562 6.824219 11.957031 6.671875 10.40625 7.066406 C 8.46875 7.550781 6.515625 9.15625 4.394531 11.992188 C 3.0625 13.777344 2.679688 14.636719 3.042969 15.027344 L 3.15625 15.152344 L 3.519531 15.152344 C 4.238281 15.152344 4.828125 14.886719 8.1875 13.039062 C 9.386719 12.378906 10.371094 11.839844 10.378906 11.839844 C 10.386719 11.839844 10.355469 11.929688 10.304688 12.035156 C 9.832031 13.09375 9.257812 14.820312 8.96875 16.078125 C 7.914062 20.652344 8.617188 24.53125 11.070312 27.660156 C 11.351562 28.015625 11.363281 27.914062 10.972656 28.382812 C 8.925781 30.84375 7.945312 33.28125 8.238281 35.1875 C 8.289062 35.527344 8.28125 35.523438 8.917969 35.523438 C 10.941406 35.523438 13.074219 34.207031 15.136719 31.6875 C 15.359375 31.417969 15.328125 31.425781 15.5625 31.574219 C 16.292969 32.042969 18.023438 32.964844 18.175781 32.964844 C 18.335938 32.964844 19.941406 32.210938 20.828125 31.71875 C 20.996094 31.625 21.136719 31.554688 21.136719 31.558594 C 21.203125 31.664062 21.898438 32.414062 22.222656 32.730469 C 23.835938 34.300781 25.5625 35.132812 27.582031 35.300781 C 27.90625 35.328125 27.9375 35.308594 28.007812 34.984375 C 28.382812 33.242188 27.625 30.925781 25.863281 28.425781 L 25.542969 27.96875 L 25.699219 27.785156 C 28.945312 23.960938 29.132812 18.699219 26.257812 11.96875 L 26.207031 11.84375 L 27.945312 12.703125 C 31.53125 14.476562 32.316406 14.800781 33.03125 14.800781 C 33.976562 14.800781 33.78125 13.9375 32.472656 12.292969 C 28.519531 7.355469 25.394531 5.925781 21.921875 7.472656 L 21.558594 7.636719 L 21.578125 7.542969 C 21.699219 6.992188 21.761719 5.742188 21.699219 5.164062 C 21.496094 3.296875 20.664062 1.964844 19.003906 0.855469 C 18.480469 0.503906 18.457031 0.5 18.214844 0.632812\"/>\n",
              "</g>\n",
              "      </svg>\n",
              "    "
            ],
            "text/plain": [
              "<IPython.core.display.HTML object>"
            ]
          },
          "metadata": {
            "tags": []
          }
        }
      ]
    },
    {
      "cell_type": "markdown",
      "metadata": {
        "id": "rS_8l3dQKyYZ"
      },
      "source": [
        "O importante aqui é **encontrar um padrão de repetição de declarações** e reorganizar o programa levando esses padrões em consideração.\n",
        "\n",
        "\n",
        "Podemos reescrever as linhas acima, usando uma função *built-in* do python, chamada [```range```](https://docs.python.org/3/library/functions.html#func-range). \n",
        "\n",
        "\n",
        "Em python, começamos toda indexação em 0 (zero)."
      ]
    },
    {
      "cell_type": "code",
      "metadata": {
        "id": "dnSY8Q5kKyYa",
        "colab": {
          "base_uri": "https://localhost:8080/",
          "height": 521
        },
        "outputId": "9ee1504d-a0d0-4af3-d835-c2dfb2146a74"
      },
      "source": [
        "joana = Turtle\n",
        "joana.initializeTurtle()\n",
        "for i in range(4):\n",
        "    joana.forward(50)\n",
        "    joana.left(90)"
      ],
      "execution_count": 9,
      "outputs": [
        {
          "output_type": "display_data",
          "data": {
            "text/html": [
              "\n",
              "      <svg width=\"800\" height=\"500\">\n",
              "        <rect width=\"100%\" height=\"100%\" fill=\"black\"/>\n",
              "        <line x1=\"400\" y1=\"250\" x2=\"400.0\" y2=\"200.0\" stroke-linecap=\"round\" style=\"stroke:white;stroke-width:4\"/><line x1=\"400.0\" y1=\"200.0\" x2=\"350.0\" y2=\"200.0\" stroke-linecap=\"round\" style=\"stroke:white;stroke-width:4\"/><line x1=\"350.0\" y1=\"200.0\" x2=\"350.0\" y2=\"250.0\" stroke-linecap=\"round\" style=\"stroke:white;stroke-width:4\"/><line x1=\"350.0\" y1=\"250.0\" x2=\"400.0\" y2=\"250.0\" stroke-linecap=\"round\" style=\"stroke:white;stroke-width:4\"/>\n",
              "        <g visibility=visible transform=\"rotate(360,400.0,250.0) translate(382.0, 232.0)\">\n",
              "<path style=\" stroke:none;fill-rule:evenodd;fill:white;fill-opacity:1;\" d=\"M 18.214844 0.632812 C 16.109375 1.800781 15.011719 4.074219 15.074219 7.132812 L 15.085938 7.652344 L 14.785156 7.496094 C 13.476562 6.824219 11.957031 6.671875 10.40625 7.066406 C 8.46875 7.550781 6.515625 9.15625 4.394531 11.992188 C 3.0625 13.777344 2.679688 14.636719 3.042969 15.027344 L 3.15625 15.152344 L 3.519531 15.152344 C 4.238281 15.152344 4.828125 14.886719 8.1875 13.039062 C 9.386719 12.378906 10.371094 11.839844 10.378906 11.839844 C 10.386719 11.839844 10.355469 11.929688 10.304688 12.035156 C 9.832031 13.09375 9.257812 14.820312 8.96875 16.078125 C 7.914062 20.652344 8.617188 24.53125 11.070312 27.660156 C 11.351562 28.015625 11.363281 27.914062 10.972656 28.382812 C 8.925781 30.84375 7.945312 33.28125 8.238281 35.1875 C 8.289062 35.527344 8.28125 35.523438 8.917969 35.523438 C 10.941406 35.523438 13.074219 34.207031 15.136719 31.6875 C 15.359375 31.417969 15.328125 31.425781 15.5625 31.574219 C 16.292969 32.042969 18.023438 32.964844 18.175781 32.964844 C 18.335938 32.964844 19.941406 32.210938 20.828125 31.71875 C 20.996094 31.625 21.136719 31.554688 21.136719 31.558594 C 21.203125 31.664062 21.898438 32.414062 22.222656 32.730469 C 23.835938 34.300781 25.5625 35.132812 27.582031 35.300781 C 27.90625 35.328125 27.9375 35.308594 28.007812 34.984375 C 28.382812 33.242188 27.625 30.925781 25.863281 28.425781 L 25.542969 27.96875 L 25.699219 27.785156 C 28.945312 23.960938 29.132812 18.699219 26.257812 11.96875 L 26.207031 11.84375 L 27.945312 12.703125 C 31.53125 14.476562 32.316406 14.800781 33.03125 14.800781 C 33.976562 14.800781 33.78125 13.9375 32.472656 12.292969 C 28.519531 7.355469 25.394531 5.925781 21.921875 7.472656 L 21.558594 7.636719 L 21.578125 7.542969 C 21.699219 6.992188 21.761719 5.742188 21.699219 5.164062 C 21.496094 3.296875 20.664062 1.964844 19.003906 0.855469 C 18.480469 0.503906 18.457031 0.5 18.214844 0.632812\"/>\n",
              "</g>\n",
              "      </svg>\n",
              "    "
            ],
            "text/plain": [
              "<IPython.core.display.HTML object>"
            ]
          },
          "metadata": {
            "tags": []
          }
        }
      ]
    },
    {
      "cell_type": "markdown",
      "metadata": {
        "id": "dRnIYqn5KyYe"
      },
      "source": [
        "#### Caso queira desenhar cada lado do quadrado com uma cor:"
      ]
    },
    {
      "cell_type": "code",
      "metadata": {
        "id": "FSjncN6xKyYf",
        "colab": {
          "base_uri": "https://localhost:8080/",
          "height": 521
        },
        "outputId": "6b5eec2b-4ac4-4a80-e91c-e35a09ad6a38"
      },
      "source": [
        "joana = Turtle\n",
        "joana.initializeTurtle()\n",
        "cores = [\"yellow\", \"red\", \"purple\", \"blue\"] # VALID_COLORS = ('white', 'yellow', 'orange', 'red', 'green', 'blue', 'purple', 'grey', 'black')\n",
        "for i in cores:\n",
        "    joana.color(i)\n",
        "    joana.forward(50)\n",
        "    joana.left(90)"
      ],
      "execution_count": 10,
      "outputs": [
        {
          "output_type": "display_data",
          "data": {
            "text/html": [
              "\n",
              "      <svg width=\"800\" height=\"500\">\n",
              "        <rect width=\"100%\" height=\"100%\" fill=\"black\"/>\n",
              "        <line x1=\"400\" y1=\"250\" x2=\"400.0\" y2=\"200.0\" stroke-linecap=\"round\" style=\"stroke:yellow;stroke-width:4\"/><line x1=\"400.0\" y1=\"200.0\" x2=\"350.0\" y2=\"200.0\" stroke-linecap=\"round\" style=\"stroke:red;stroke-width:4\"/><line x1=\"350.0\" y1=\"200.0\" x2=\"350.0\" y2=\"250.0\" stroke-linecap=\"round\" style=\"stroke:purple;stroke-width:4\"/><line x1=\"350.0\" y1=\"250.0\" x2=\"400.0\" y2=\"250.0\" stroke-linecap=\"round\" style=\"stroke:blue;stroke-width:4\"/>\n",
              "        <g visibility=visible transform=\"rotate(360,400.0,250.0) translate(382.0, 232.0)\">\n",
              "<path style=\" stroke:none;fill-rule:evenodd;fill:blue;fill-opacity:1;\" d=\"M 18.214844 0.632812 C 16.109375 1.800781 15.011719 4.074219 15.074219 7.132812 L 15.085938 7.652344 L 14.785156 7.496094 C 13.476562 6.824219 11.957031 6.671875 10.40625 7.066406 C 8.46875 7.550781 6.515625 9.15625 4.394531 11.992188 C 3.0625 13.777344 2.679688 14.636719 3.042969 15.027344 L 3.15625 15.152344 L 3.519531 15.152344 C 4.238281 15.152344 4.828125 14.886719 8.1875 13.039062 C 9.386719 12.378906 10.371094 11.839844 10.378906 11.839844 C 10.386719 11.839844 10.355469 11.929688 10.304688 12.035156 C 9.832031 13.09375 9.257812 14.820312 8.96875 16.078125 C 7.914062 20.652344 8.617188 24.53125 11.070312 27.660156 C 11.351562 28.015625 11.363281 27.914062 10.972656 28.382812 C 8.925781 30.84375 7.945312 33.28125 8.238281 35.1875 C 8.289062 35.527344 8.28125 35.523438 8.917969 35.523438 C 10.941406 35.523438 13.074219 34.207031 15.136719 31.6875 C 15.359375 31.417969 15.328125 31.425781 15.5625 31.574219 C 16.292969 32.042969 18.023438 32.964844 18.175781 32.964844 C 18.335938 32.964844 19.941406 32.210938 20.828125 31.71875 C 20.996094 31.625 21.136719 31.554688 21.136719 31.558594 C 21.203125 31.664062 21.898438 32.414062 22.222656 32.730469 C 23.835938 34.300781 25.5625 35.132812 27.582031 35.300781 C 27.90625 35.328125 27.9375 35.308594 28.007812 34.984375 C 28.382812 33.242188 27.625 30.925781 25.863281 28.425781 L 25.542969 27.96875 L 25.699219 27.785156 C 28.945312 23.960938 29.132812 18.699219 26.257812 11.96875 L 26.207031 11.84375 L 27.945312 12.703125 C 31.53125 14.476562 32.316406 14.800781 33.03125 14.800781 C 33.976562 14.800781 33.78125 13.9375 32.472656 12.292969 C 28.519531 7.355469 25.394531 5.925781 21.921875 7.472656 L 21.558594 7.636719 L 21.578125 7.542969 C 21.699219 6.992188 21.761719 5.742188 21.699219 5.164062 C 21.496094 3.296875 20.664062 1.964844 19.003906 0.855469 C 18.480469 0.503906 18.457031 0.5 18.214844 0.632812\"/>\n",
              "</g>\n",
              "      </svg>\n",
              "    "
            ],
            "text/plain": [
              "<IPython.core.display.HTML object>"
            ]
          },
          "metadata": {
            "tags": []
          }
        }
      ]
    },
    {
      "cell_type": "markdown",
      "metadata": {
        "id": "ED-KXBaRKyYi"
      },
      "source": [
        "### Exercícios:\n",
        "1. No trinket, faça um programa que cria uma instância de tartaruga do tipo ```Turtle```(definida no módulo ```turtle```do interpretador de Python) e imprima na tela o tipo da tartaruga;\n",
        "1. [**Não é possível fazer no Google Colab. Faça no trinket.**] Modifique o programa da tartaruga (primeiro exemplo) para que, antes de criar a janela, ele solicite que o usuário insira a cor de fundo desejada. Ele deve armazenar as respostas do usuário em uma variável e modificar a cor da janela de acordo com os desejos do usuário. \n",
        "   * ***Dicas***: faça uso da função ***input***, built-in do python\n",
        "   * você pode encontrar uma lista de nomes de cores permitidos em http://www.tcl.tk/man/tcl8.4/TkCmd/colors.htm. Inclui alguns bem incomuns, como “peach puff” e “HotPink” ”***\n",
        "   \n",
        "1. Faça modificações similares para permitir que o usuário mude a cor da tartaruga durante a execução do programa.\n",
        "   1. Faça o mesmo para a largura da caneta da tartaruga. *Dica: seu diálogo com o usuário retornará uma string, mas o método ```pensize``` ( ```width``` no Google Colab) espera que seu argumento seja um **int**. Então, você precisará converter a **string** em um **int** antes de passá-la para **pensize**.*   \n",
        "   \n",
        "1. Investiguem os métodos e atributos do módulo ```turtle```  (```ColabTurtle``` no Google Colab);\n",
        "\n",
        "1. Desenhe um quadrado, usando a forma de tartaruga, ao invés da flecha, para desenhar (caso esteja no Google Colab, não precisa mudar a forma).\n",
        "   1. mude a velocidade com que a tartaruga faz o desenho.\n",
        "   \n",
        "1. Sabendo que o ângulo interno da ponta de uma estrela de 5 pontas é de 36 graus, desenhe uma estrela.\n",
        "![title](https://github.com/malbouis/Python_intro/blob/master/aulas_2019/pics/estrela.png?raw=1)\n",
        "\n",
        "1. Sabendo o ângulo interno da ponta de uma estrela, desenhe quatro estrelas em uma janela, com uma certa distância entre elas. Dica: use a função penup() e pendown() do módulo ```turtle```."
      ]
    },
    {
      "cell_type": "markdown",
      "metadata": {
        "id": "W7aEJg7ELnzZ"
      },
      "source": [
        "Exercício 1 ao 5 (trinket):"
      ]
    },
    {
      "cell_type": "code",
      "metadata": {
        "id": "McpHIS-bLrmf"
      },
      "source": [
        "import turtle\n",
        "\n",
        "tartaruga = turtle.Turtle()\n",
        "fundo = turtle.Screen()\n",
        "tartaruga.shape('turtle')\n",
        "type(tartaruga) \n",
        "\n",
        "x = input('Insira a cor do fundo:')\n",
        "y = input('Insira a cor da sua tartaruga:')\n",
        "z = input('Insira a largura do traço:')\n",
        "v = input('Insira a velocidade da tartaruga (0-10):')\n",
        "\n",
        "\n",
        "fundo.bgcolor(x)\n",
        "tartaruga.color(y) \n",
        "tartaruga.pensize(z)\n",
        "tartaruga.speed(v)\n",
        "for i in range(4):\n",
        "    tartaruga.forward(150)          \n",
        "    tartaruga.left(90)   "
      ],
      "execution_count": null,
      "outputs": []
    },
    {
      "cell_type": "markdown",
      "metadata": {
        "id": "MNq3ys9zOFJz"
      },
      "source": [
        "Exercício 6 (trinket):"
      ]
    },
    {
      "cell_type": "code",
      "metadata": {
        "id": "CBs51BreOH9I"
      },
      "source": [
        "import turtle\n",
        "\n",
        "tartaruga = turtle.Turtle()\n",
        "bg = turtle.Screen()\n",
        "tartaruga.shape('turtle')\n",
        "type(tartaruga) \n",
        "\n",
        "x = input('Insira a cor do fundo:')\n",
        "y = input('Insira a cor da sua tartaruga:')\n",
        "z = input('Insira a largura do traço:')\n",
        "v = input('Insira a velocidade da tartaruga (0-10):')\n",
        "\n",
        "\n",
        "bg.bgcolor(x)\n",
        "tartaruga.color(y) \n",
        "tartaruga.pensize(z)\n",
        "tartaruga.speed(v)\n",
        "for i in range(5):\n",
        "    tartaruga.left(-144)   \n",
        "    tartaruga.forward(150)"
      ],
      "execution_count": null,
      "outputs": []
    },
    {
      "cell_type": "markdown",
      "metadata": {
        "id": "MhCoHt9Lg5bT"
      },
      "source": [
        "Exercício 7 (trinket):"
      ]
    },
    {
      "cell_type": "code",
      "metadata": {
        "id": "dgyMzSMkg47_"
      },
      "source": [
        "import turtle\n",
        "\n",
        "tartaruga = turtle.Turtle()\n",
        "bg = turtle.Screen()\n",
        "tartaruga.shape('turtle')\n",
        "type(tartaruga) \n",
        "\n",
        "x = input('Insira a cor do fundo:')\n",
        "y = input('Insira a cor da sua tartaruga:')\n",
        "z = input('Insira a largura do traço:')\n",
        "v = input('Insira a velocidade da tartaruga (0-10):')\n",
        "\n",
        "\n",
        "bg.bgcolor(x)\n",
        "tartaruga.color(y) \n",
        "tartaruga.pensize(z)\n",
        "tartaruga.speed(v)\n",
        "\n",
        "tartaruga.penup()\n",
        "tartaruga.goto(-45, -80)\n",
        "tartaruga.pendown()\n",
        "for i in range(5):\n",
        "    tartaruga.left(-144)   \n",
        "    tartaruga.forward(150)\n",
        "\n",
        "tartaruga.penup()\n",
        "tartaruga.goto(150, -80)\n",
        "tartaruga.pendown()\n",
        "for i in range(5):\n",
        "    tartaruga.left(-144)   \n",
        "    tartaruga.forward(150)\n",
        "\n",
        "tartaruga.penup()\n",
        "tartaruga.goto(-45, 90)\n",
        "tartaruga.pendown()\n",
        "for i in range(5):\n",
        "    tartaruga.left(-144)   \n",
        "    tartaruga.forward(150)\n",
        "    \n",
        "tartaruga.penup()\n",
        "tartaruga.goto(150, 90)\n",
        "tartaruga.pendown()\n",
        "for i in range(5):\n",
        "    tartaruga.left(-144)   \n",
        "    tartaruga.forward(150)"
      ],
      "execution_count": null,
      "outputs": []
    },
    {
      "cell_type": "markdown",
      "metadata": {
        "id": "DZXmIVJAKyYj"
      },
      "source": [
        "### Exercícios em preparação para os próximos capítulos\n",
        "\n",
        "1. Escreva uma função chamada `square`, que toma um parâmetro `t`, que é uma `ColabTurtle`. Essa função deve usar o `ColabTurtle` para desenhar um quadrado. Escreva uma chamada de função que passe `joana` como argumento para `square` e rode o programa novamente. \n",
        "\n",
        "1. Adicione um outro parâmetro, chamado `length`, à função `square`. Modifique o corpo da função de tal forma que o comprimento dos lados do quadrado seja `length` e então modifique a chamada da função para que seja passado o segundo argumento. Rode o programa novamente. Teste o seu programa com diversos valores para `length`.\n",
        "\n",
        "1. Faça uma cópia da função `square` e mude o nome para `polygon`. Adicione um outro parâmetro chamado `n` e modifique o corpo da função para que ela desenhe um polígono regular de `n` lados. Dica: Os ângulos externos de um polígono regular de `n` lados são de `360/n` graus.  \n",
        "\n",
        "1. Escreva uma função chamada `circle` que toma como argumento uma `Turtle`, `t`, e um raio, `r`, e desenha um círculo aproximado ao chamar a função `polygon` com `length` e número `n` de lados apropriados. Teste sua função com um intervalo de valores de `r`. Dica: Determine a circunferência do círculo e se certifique que `comprimento * n = circunferência`.\n",
        "\n",
        "1. Faça uma versão mais geral da função `circle`, chamada `arc`, que toma um parâmetro adicional, `angle`, que determina qual a fração do circulo a ser desenhada. `angle` está em unidades de graus, logo quando `angle=360`, a função `arc` deve desenhar um cículo completo.\n"
      ]
    },
    {
      "cell_type": "markdown",
      "metadata": {
        "id": "1Tx6PlggtEzl"
      },
      "source": [
        "Exercício 1 e 2:"
      ]
    },
    {
      "cell_type": "code",
      "metadata": {
        "colab": {
          "base_uri": "https://localhost:8080/",
          "height": 521
        },
        "id": "SLH-eqx6jwO1",
        "outputId": "a1b6ba38-bd2f-43e1-8460-e49c02665683"
      },
      "source": [
        "def square(t, length, color):\n",
        "    from ColabTurtle import Turtle as t\n",
        "    t.initializeTurtle()\n",
        "    t.color(color)\n",
        "    t.penup()\n",
        "    t.right(180)\n",
        "    t.forward(length/2)\n",
        "    t.right(90)\n",
        "    t.forward(length/2)\n",
        "    t.right(90)\n",
        "    t.pendown()\n",
        "    for i in range(4):\n",
        "        t.forward(length)\n",
        "        t.right(90)\n",
        "\n",
        "square(\"joana\", 150, 'red')"
      ],
      "execution_count": 43,
      "outputs": [
        {
          "output_type": "display_data",
          "data": {
            "text/html": [
              "\n",
              "      <svg width=\"800\" height=\"500\">\n",
              "        <rect width=\"100%\" height=\"100%\" fill=\"black\"/>\n",
              "        <line x1=\"325.0\" y1=\"325.0\" x2=\"325.0\" y2=\"175.0\" stroke-linecap=\"round\" style=\"stroke:red;stroke-width:4\"/><line x1=\"325.0\" y1=\"175.0\" x2=\"475.0\" y2=\"175.0\" stroke-linecap=\"round\" style=\"stroke:red;stroke-width:4\"/><line x1=\"475.0\" y1=\"175.0\" x2=\"475.0\" y2=\"325.0\" stroke-linecap=\"round\" style=\"stroke:red;stroke-width:4\"/><line x1=\"475.0\" y1=\"325.0\" x2=\"325.0\" y2=\"325.0\" stroke-linecap=\"round\" style=\"stroke:red;stroke-width:4\"/>\n",
              "        <g visibility=visible transform=\"rotate(360,325.0,325.0) translate(307.0, 307.0)\">\n",
              "<path style=\" stroke:none;fill-rule:evenodd;fill:red;fill-opacity:1;\" d=\"M 18.214844 0.632812 C 16.109375 1.800781 15.011719 4.074219 15.074219 7.132812 L 15.085938 7.652344 L 14.785156 7.496094 C 13.476562 6.824219 11.957031 6.671875 10.40625 7.066406 C 8.46875 7.550781 6.515625 9.15625 4.394531 11.992188 C 3.0625 13.777344 2.679688 14.636719 3.042969 15.027344 L 3.15625 15.152344 L 3.519531 15.152344 C 4.238281 15.152344 4.828125 14.886719 8.1875 13.039062 C 9.386719 12.378906 10.371094 11.839844 10.378906 11.839844 C 10.386719 11.839844 10.355469 11.929688 10.304688 12.035156 C 9.832031 13.09375 9.257812 14.820312 8.96875 16.078125 C 7.914062 20.652344 8.617188 24.53125 11.070312 27.660156 C 11.351562 28.015625 11.363281 27.914062 10.972656 28.382812 C 8.925781 30.84375 7.945312 33.28125 8.238281 35.1875 C 8.289062 35.527344 8.28125 35.523438 8.917969 35.523438 C 10.941406 35.523438 13.074219 34.207031 15.136719 31.6875 C 15.359375 31.417969 15.328125 31.425781 15.5625 31.574219 C 16.292969 32.042969 18.023438 32.964844 18.175781 32.964844 C 18.335938 32.964844 19.941406 32.210938 20.828125 31.71875 C 20.996094 31.625 21.136719 31.554688 21.136719 31.558594 C 21.203125 31.664062 21.898438 32.414062 22.222656 32.730469 C 23.835938 34.300781 25.5625 35.132812 27.582031 35.300781 C 27.90625 35.328125 27.9375 35.308594 28.007812 34.984375 C 28.382812 33.242188 27.625 30.925781 25.863281 28.425781 L 25.542969 27.96875 L 25.699219 27.785156 C 28.945312 23.960938 29.132812 18.699219 26.257812 11.96875 L 26.207031 11.84375 L 27.945312 12.703125 C 31.53125 14.476562 32.316406 14.800781 33.03125 14.800781 C 33.976562 14.800781 33.78125 13.9375 32.472656 12.292969 C 28.519531 7.355469 25.394531 5.925781 21.921875 7.472656 L 21.558594 7.636719 L 21.578125 7.542969 C 21.699219 6.992188 21.761719 5.742188 21.699219 5.164062 C 21.496094 3.296875 20.664062 1.964844 19.003906 0.855469 C 18.480469 0.503906 18.457031 0.5 18.214844 0.632812\"/>\n",
              "</g>\n",
              "      </svg>\n",
              "    "
            ],
            "text/plain": [
              "<IPython.core.display.HTML object>"
            ]
          },
          "metadata": {
            "tags": []
          }
        }
      ]
    },
    {
      "cell_type": "markdown",
      "metadata": {
        "id": "jH_bTG5ptWhj"
      },
      "source": [
        "Exercício 3:"
      ]
    },
    {
      "cell_type": "code",
      "metadata": {
        "colab": {
          "base_uri": "https://localhost:8080/",
          "height": 1000
        },
        "id": "pmzelf7lqNbT",
        "outputId": "fcccefa8-4616-4fcf-c2b8-9b9d4ad90717"
      },
      "source": [
        "def polygon(t, length, color, n):\n",
        "    from math import pi\n",
        "    from ColabTurtle import Turtle as t\n",
        "    t.initializeTurtle()\n",
        "    t.color(color)\n",
        "    t.penup()\n",
        "    t.left(90)\n",
        "    t.forward((n*length)/(2*pi))\n",
        "    t.right(90)\n",
        "    t.pendown()\n",
        "    for i in range(n):\n",
        "        t.forward(length)\n",
        "        t.right(360/n) \n",
        "\n",
        "polygon(\"joana\", 100, \"purple\", 6)\n",
        "polygon(\"jose\", 100, \"blue\", 5)\n",
        "polygon(\"eric\", 60, \"yellow\", 4)\n",
        "polygon(\"beatriz\", 60, \"green\", 3)"
      ],
      "execution_count": 7,
      "outputs": [
        {
          "output_type": "display_data",
          "data": {
            "text/html": [
              "\n",
              "      <svg width=\"800\" height=\"500\">\n",
              "        <rect width=\"100%\" height=\"100%\" fill=\"black\"/>\n",
              "        <line x1=\"304.507\" y1=\"250.0\" x2=\"304.507\" y2=\"150.0\" stroke-linecap=\"round\" style=\"stroke:purple;stroke-width:4\"/><line x1=\"304.507\" y1=\"150.0\" x2=\"391.11\" y2=\"100.0\" stroke-linecap=\"round\" style=\"stroke:purple;stroke-width:4\"/><line x1=\"391.11\" y1=\"100.0\" x2=\"477.713\" y2=\"150.0\" stroke-linecap=\"round\" style=\"stroke:purple;stroke-width:4\"/><line x1=\"477.713\" y1=\"150.0\" x2=\"477.713\" y2=\"250.0\" stroke-linecap=\"round\" style=\"stroke:purple;stroke-width:4\"/><line x1=\"477.713\" y1=\"250.0\" x2=\"391.11\" y2=\"300.0\" stroke-linecap=\"round\" style=\"stroke:purple;stroke-width:4\"/><line x1=\"391.11\" y1=\"300.0\" x2=\"304.507\" y2=\"250.0\" stroke-linecap=\"round\" style=\"stroke:purple;stroke-width:4\"/>\n",
              "        <g visibility=visible transform=\"rotate(360.0,304.507,250.0) translate(286.507, 232.0)\">\n",
              "<path style=\" stroke:none;fill-rule:evenodd;fill:purple;fill-opacity:1;\" d=\"M 18.214844 0.632812 C 16.109375 1.800781 15.011719 4.074219 15.074219 7.132812 L 15.085938 7.652344 L 14.785156 7.496094 C 13.476562 6.824219 11.957031 6.671875 10.40625 7.066406 C 8.46875 7.550781 6.515625 9.15625 4.394531 11.992188 C 3.0625 13.777344 2.679688 14.636719 3.042969 15.027344 L 3.15625 15.152344 L 3.519531 15.152344 C 4.238281 15.152344 4.828125 14.886719 8.1875 13.039062 C 9.386719 12.378906 10.371094 11.839844 10.378906 11.839844 C 10.386719 11.839844 10.355469 11.929688 10.304688 12.035156 C 9.832031 13.09375 9.257812 14.820312 8.96875 16.078125 C 7.914062 20.652344 8.617188 24.53125 11.070312 27.660156 C 11.351562 28.015625 11.363281 27.914062 10.972656 28.382812 C 8.925781 30.84375 7.945312 33.28125 8.238281 35.1875 C 8.289062 35.527344 8.28125 35.523438 8.917969 35.523438 C 10.941406 35.523438 13.074219 34.207031 15.136719 31.6875 C 15.359375 31.417969 15.328125 31.425781 15.5625 31.574219 C 16.292969 32.042969 18.023438 32.964844 18.175781 32.964844 C 18.335938 32.964844 19.941406 32.210938 20.828125 31.71875 C 20.996094 31.625 21.136719 31.554688 21.136719 31.558594 C 21.203125 31.664062 21.898438 32.414062 22.222656 32.730469 C 23.835938 34.300781 25.5625 35.132812 27.582031 35.300781 C 27.90625 35.328125 27.9375 35.308594 28.007812 34.984375 C 28.382812 33.242188 27.625 30.925781 25.863281 28.425781 L 25.542969 27.96875 L 25.699219 27.785156 C 28.945312 23.960938 29.132812 18.699219 26.257812 11.96875 L 26.207031 11.84375 L 27.945312 12.703125 C 31.53125 14.476562 32.316406 14.800781 33.03125 14.800781 C 33.976562 14.800781 33.78125 13.9375 32.472656 12.292969 C 28.519531 7.355469 25.394531 5.925781 21.921875 7.472656 L 21.558594 7.636719 L 21.578125 7.542969 C 21.699219 6.992188 21.761719 5.742188 21.699219 5.164062 C 21.496094 3.296875 20.664062 1.964844 19.003906 0.855469 C 18.480469 0.503906 18.457031 0.5 18.214844 0.632812\"/>\n",
              "</g>\n",
              "      </svg>\n",
              "    "
            ],
            "text/plain": [
              "<IPython.core.display.HTML object>"
            ]
          },
          "metadata": {
            "tags": []
          }
        },
        {
          "output_type": "display_data",
          "data": {
            "text/html": [
              "\n",
              "      <svg width=\"800\" height=\"500\">\n",
              "        <rect width=\"100%\" height=\"100%\" fill=\"black\"/>\n",
              "        <line x1=\"320.423\" y1=\"250.0\" x2=\"320.423\" y2=\"150.0\" stroke-linecap=\"round\" style=\"stroke:blue;stroke-width:4\"/><line x1=\"320.423\" y1=\"150.0\" x2=\"415.529\" y2=\"119.098\" stroke-linecap=\"round\" style=\"stroke:blue;stroke-width:4\"/><line x1=\"415.529\" y1=\"119.098\" x2=\"474.308\" y2=\"200.0\" stroke-linecap=\"round\" style=\"stroke:blue;stroke-width:4\"/><line x1=\"474.308\" y1=\"200.0\" x2=\"415.529\" y2=\"280.902\" stroke-linecap=\"round\" style=\"stroke:blue;stroke-width:4\"/><line x1=\"415.529\" y1=\"280.902\" x2=\"320.423\" y2=\"250.0\" stroke-linecap=\"round\" style=\"stroke:blue;stroke-width:4\"/>\n",
              "        <g visibility=visible transform=\"rotate(360.0,320.423,250.0) translate(302.423, 232.0)\">\n",
              "<path style=\" stroke:none;fill-rule:evenodd;fill:blue;fill-opacity:1;\" d=\"M 18.214844 0.632812 C 16.109375 1.800781 15.011719 4.074219 15.074219 7.132812 L 15.085938 7.652344 L 14.785156 7.496094 C 13.476562 6.824219 11.957031 6.671875 10.40625 7.066406 C 8.46875 7.550781 6.515625 9.15625 4.394531 11.992188 C 3.0625 13.777344 2.679688 14.636719 3.042969 15.027344 L 3.15625 15.152344 L 3.519531 15.152344 C 4.238281 15.152344 4.828125 14.886719 8.1875 13.039062 C 9.386719 12.378906 10.371094 11.839844 10.378906 11.839844 C 10.386719 11.839844 10.355469 11.929688 10.304688 12.035156 C 9.832031 13.09375 9.257812 14.820312 8.96875 16.078125 C 7.914062 20.652344 8.617188 24.53125 11.070312 27.660156 C 11.351562 28.015625 11.363281 27.914062 10.972656 28.382812 C 8.925781 30.84375 7.945312 33.28125 8.238281 35.1875 C 8.289062 35.527344 8.28125 35.523438 8.917969 35.523438 C 10.941406 35.523438 13.074219 34.207031 15.136719 31.6875 C 15.359375 31.417969 15.328125 31.425781 15.5625 31.574219 C 16.292969 32.042969 18.023438 32.964844 18.175781 32.964844 C 18.335938 32.964844 19.941406 32.210938 20.828125 31.71875 C 20.996094 31.625 21.136719 31.554688 21.136719 31.558594 C 21.203125 31.664062 21.898438 32.414062 22.222656 32.730469 C 23.835938 34.300781 25.5625 35.132812 27.582031 35.300781 C 27.90625 35.328125 27.9375 35.308594 28.007812 34.984375 C 28.382812 33.242188 27.625 30.925781 25.863281 28.425781 L 25.542969 27.96875 L 25.699219 27.785156 C 28.945312 23.960938 29.132812 18.699219 26.257812 11.96875 L 26.207031 11.84375 L 27.945312 12.703125 C 31.53125 14.476562 32.316406 14.800781 33.03125 14.800781 C 33.976562 14.800781 33.78125 13.9375 32.472656 12.292969 C 28.519531 7.355469 25.394531 5.925781 21.921875 7.472656 L 21.558594 7.636719 L 21.578125 7.542969 C 21.699219 6.992188 21.761719 5.742188 21.699219 5.164062 C 21.496094 3.296875 20.664062 1.964844 19.003906 0.855469 C 18.480469 0.503906 18.457031 0.5 18.214844 0.632812\"/>\n",
              "</g>\n",
              "      </svg>\n",
              "    "
            ],
            "text/plain": [
              "<IPython.core.display.HTML object>"
            ]
          },
          "metadata": {
            "tags": []
          }
        },
        {
          "output_type": "display_data",
          "data": {
            "text/html": [
              "\n",
              "      <svg width=\"800\" height=\"500\">\n",
              "        <rect width=\"100%\" height=\"100%\" fill=\"black\"/>\n",
              "        <line x1=\"361.803\" y1=\"250.0\" x2=\"361.803\" y2=\"190.0\" stroke-linecap=\"round\" style=\"stroke:yellow;stroke-width:4\"/><line x1=\"361.803\" y1=\"190.0\" x2=\"421.803\" y2=\"190.0\" stroke-linecap=\"round\" style=\"stroke:yellow;stroke-width:4\"/><line x1=\"421.803\" y1=\"190.0\" x2=\"421.803\" y2=\"250.0\" stroke-linecap=\"round\" style=\"stroke:yellow;stroke-width:4\"/><line x1=\"421.803\" y1=\"250.0\" x2=\"361.803\" y2=\"250.0\" stroke-linecap=\"round\" style=\"stroke:yellow;stroke-width:4\"/>\n",
              "        <g visibility=visible transform=\"rotate(360.0,361.803,250.0) translate(343.803, 232.0)\">\n",
              "<path style=\" stroke:none;fill-rule:evenodd;fill:yellow;fill-opacity:1;\" d=\"M 18.214844 0.632812 C 16.109375 1.800781 15.011719 4.074219 15.074219 7.132812 L 15.085938 7.652344 L 14.785156 7.496094 C 13.476562 6.824219 11.957031 6.671875 10.40625 7.066406 C 8.46875 7.550781 6.515625 9.15625 4.394531 11.992188 C 3.0625 13.777344 2.679688 14.636719 3.042969 15.027344 L 3.15625 15.152344 L 3.519531 15.152344 C 4.238281 15.152344 4.828125 14.886719 8.1875 13.039062 C 9.386719 12.378906 10.371094 11.839844 10.378906 11.839844 C 10.386719 11.839844 10.355469 11.929688 10.304688 12.035156 C 9.832031 13.09375 9.257812 14.820312 8.96875 16.078125 C 7.914062 20.652344 8.617188 24.53125 11.070312 27.660156 C 11.351562 28.015625 11.363281 27.914062 10.972656 28.382812 C 8.925781 30.84375 7.945312 33.28125 8.238281 35.1875 C 8.289062 35.527344 8.28125 35.523438 8.917969 35.523438 C 10.941406 35.523438 13.074219 34.207031 15.136719 31.6875 C 15.359375 31.417969 15.328125 31.425781 15.5625 31.574219 C 16.292969 32.042969 18.023438 32.964844 18.175781 32.964844 C 18.335938 32.964844 19.941406 32.210938 20.828125 31.71875 C 20.996094 31.625 21.136719 31.554688 21.136719 31.558594 C 21.203125 31.664062 21.898438 32.414062 22.222656 32.730469 C 23.835938 34.300781 25.5625 35.132812 27.582031 35.300781 C 27.90625 35.328125 27.9375 35.308594 28.007812 34.984375 C 28.382812 33.242188 27.625 30.925781 25.863281 28.425781 L 25.542969 27.96875 L 25.699219 27.785156 C 28.945312 23.960938 29.132812 18.699219 26.257812 11.96875 L 26.207031 11.84375 L 27.945312 12.703125 C 31.53125 14.476562 32.316406 14.800781 33.03125 14.800781 C 33.976562 14.800781 33.78125 13.9375 32.472656 12.292969 C 28.519531 7.355469 25.394531 5.925781 21.921875 7.472656 L 21.558594 7.636719 L 21.578125 7.542969 C 21.699219 6.992188 21.761719 5.742188 21.699219 5.164062 C 21.496094 3.296875 20.664062 1.964844 19.003906 0.855469 C 18.480469 0.503906 18.457031 0.5 18.214844 0.632812\"/>\n",
              "</g>\n",
              "      </svg>\n",
              "    "
            ],
            "text/plain": [
              "<IPython.core.display.HTML object>"
            ]
          },
          "metadata": {
            "tags": []
          }
        },
        {
          "output_type": "display_data",
          "data": {
            "text/html": [
              "\n",
              "      <svg width=\"800\" height=\"500\">\n",
              "        <rect width=\"100%\" height=\"100%\" fill=\"black\"/>\n",
              "        <line x1=\"371.352\" y1=\"250.0\" x2=\"371.352\" y2=\"190.0\" stroke-linecap=\"round\" style=\"stroke:green;stroke-width:4\"/><line x1=\"371.352\" y1=\"190.0\" x2=\"423.314\" y2=\"220.0\" stroke-linecap=\"round\" style=\"stroke:green;stroke-width:4\"/><line x1=\"423.314\" y1=\"220.0\" x2=\"371.352\" y2=\"250.0\" stroke-linecap=\"round\" style=\"stroke:green;stroke-width:4\"/>\n",
              "        <g visibility=visible transform=\"rotate(360.0,371.352,250.0) translate(353.352, 232.0)\">\n",
              "<path style=\" stroke:none;fill-rule:evenodd;fill:green;fill-opacity:1;\" d=\"M 18.214844 0.632812 C 16.109375 1.800781 15.011719 4.074219 15.074219 7.132812 L 15.085938 7.652344 L 14.785156 7.496094 C 13.476562 6.824219 11.957031 6.671875 10.40625 7.066406 C 8.46875 7.550781 6.515625 9.15625 4.394531 11.992188 C 3.0625 13.777344 2.679688 14.636719 3.042969 15.027344 L 3.15625 15.152344 L 3.519531 15.152344 C 4.238281 15.152344 4.828125 14.886719 8.1875 13.039062 C 9.386719 12.378906 10.371094 11.839844 10.378906 11.839844 C 10.386719 11.839844 10.355469 11.929688 10.304688 12.035156 C 9.832031 13.09375 9.257812 14.820312 8.96875 16.078125 C 7.914062 20.652344 8.617188 24.53125 11.070312 27.660156 C 11.351562 28.015625 11.363281 27.914062 10.972656 28.382812 C 8.925781 30.84375 7.945312 33.28125 8.238281 35.1875 C 8.289062 35.527344 8.28125 35.523438 8.917969 35.523438 C 10.941406 35.523438 13.074219 34.207031 15.136719 31.6875 C 15.359375 31.417969 15.328125 31.425781 15.5625 31.574219 C 16.292969 32.042969 18.023438 32.964844 18.175781 32.964844 C 18.335938 32.964844 19.941406 32.210938 20.828125 31.71875 C 20.996094 31.625 21.136719 31.554688 21.136719 31.558594 C 21.203125 31.664062 21.898438 32.414062 22.222656 32.730469 C 23.835938 34.300781 25.5625 35.132812 27.582031 35.300781 C 27.90625 35.328125 27.9375 35.308594 28.007812 34.984375 C 28.382812 33.242188 27.625 30.925781 25.863281 28.425781 L 25.542969 27.96875 L 25.699219 27.785156 C 28.945312 23.960938 29.132812 18.699219 26.257812 11.96875 L 26.207031 11.84375 L 27.945312 12.703125 C 31.53125 14.476562 32.316406 14.800781 33.03125 14.800781 C 33.976562 14.800781 33.78125 13.9375 32.472656 12.292969 C 28.519531 7.355469 25.394531 5.925781 21.921875 7.472656 L 21.558594 7.636719 L 21.578125 7.542969 C 21.699219 6.992188 21.761719 5.742188 21.699219 5.164062 C 21.496094 3.296875 20.664062 1.964844 19.003906 0.855469 C 18.480469 0.503906 18.457031 0.5 18.214844 0.632812\"/>\n",
              "</g>\n",
              "      </svg>\n",
              "    "
            ],
            "text/plain": [
              "<IPython.core.display.HTML object>"
            ]
          },
          "metadata": {
            "tags": []
          }
        }
      ]
    },
    {
      "cell_type": "markdown",
      "metadata": {
        "id": "yE7NheoQ6uXF"
      },
      "source": [
        "Exercício 4:"
      ]
    },
    {
      "cell_type": "code",
      "metadata": {
        "colab": {
          "base_uri": "https://localhost:8080/",
          "height": 521
        },
        "id": "nbmElqzK6wp_",
        "outputId": "94dd096c-57c1-4019-f528-c1c96e403ee6"
      },
      "source": [
        "def circle(t, color, r):\n",
        "    from math import pi \n",
        "    n = 100\n",
        "    length = (2*pi*r)/n\n",
        "    polygon(t, length, color, n) \n",
        "\n",
        "circle(\"joana\", \"red\", 100)"
      ],
      "execution_count": 8,
      "outputs": [
        {
          "output_type": "display_data",
          "data": {
            "text/html": [
              "\n",
              "      <svg width=\"800\" height=\"500\">\n",
              "        <rect width=\"100%\" height=\"100%\" fill=\"black\"/>\n",
              "        <line x1=\"300.0\" y1=\"250.0\" x2=\"300.0\" y2=\"243.717\" stroke-linecap=\"round\" style=\"stroke:red;stroke-width:4\"/><line x1=\"300.0\" y1=\"243.717\" x2=\"300.395\" y2=\"237.446\" stroke-linecap=\"round\" style=\"stroke:red;stroke-width:4\"/><line x1=\"300.395\" y1=\"237.446\" x2=\"301.182\" y2=\"231.212\" stroke-linecap=\"round\" style=\"stroke:red;stroke-width:4\"/><line x1=\"301.182\" y1=\"231.212\" x2=\"302.359\" y2=\"225.04\" stroke-linecap=\"round\" style=\"stroke:red;stroke-width:4\"/><line x1=\"302.359\" y1=\"225.04\" x2=\"303.922\" y2=\"218.954\" stroke-linecap=\"round\" style=\"stroke:red;stroke-width:4\"/><line x1=\"303.922\" y1=\"218.954\" x2=\"305.864\" y2=\"212.978\" stroke-linecap=\"round\" style=\"stroke:red;stroke-width:4\"/><line x1=\"305.864\" y1=\"212.978\" x2=\"308.177\" y2=\"207.136\" stroke-linecap=\"round\" style=\"stroke:red;stroke-width:4\"/><line x1=\"308.177\" y1=\"207.136\" x2=\"310.852\" y2=\"201.451\" stroke-linecap=\"round\" style=\"stroke:red;stroke-width:4\"/><line x1=\"310.852\" y1=\"201.451\" x2=\"313.879\" y2=\"195.945\" stroke-linecap=\"round\" style=\"stroke:red;stroke-width:4\"/><line x1=\"313.879\" y1=\"195.945\" x2=\"317.246\" y2=\"190.64\" stroke-linecap=\"round\" style=\"stroke:red;stroke-width:4\"/><line x1=\"317.246\" y1=\"190.64\" x2=\"320.939\" y2=\"185.557\" stroke-linecap=\"round\" style=\"stroke:red;stroke-width:4\"/><line x1=\"320.939\" y1=\"185.557\" x2=\"324.944\" y2=\"180.716\" stroke-linecap=\"round\" style=\"stroke:red;stroke-width:4\"/><line x1=\"324.944\" y1=\"180.716\" x2=\"329.245\" y2=\"176.136\" stroke-linecap=\"round\" style=\"stroke:red;stroke-width:4\"/><line x1=\"329.245\" y1=\"176.136\" x2=\"333.825\" y2=\"171.835\" stroke-linecap=\"round\" style=\"stroke:red;stroke-width:4\"/><line x1=\"333.825\" y1=\"171.835\" x2=\"338.666\" y2=\"167.83\" stroke-linecap=\"round\" style=\"stroke:red;stroke-width:4\"/><line x1=\"338.666\" y1=\"167.83\" x2=\"343.749\" y2=\"164.137\" stroke-linecap=\"round\" style=\"stroke:red;stroke-width:4\"/><line x1=\"343.749\" y1=\"164.137\" x2=\"349.054\" y2=\"160.77\" stroke-linecap=\"round\" style=\"stroke:red;stroke-width:4\"/><line x1=\"349.054\" y1=\"160.77\" x2=\"354.56\" y2=\"157.743\" stroke-linecap=\"round\" style=\"stroke:red;stroke-width:4\"/><line x1=\"354.56\" y1=\"157.743\" x2=\"360.245\" y2=\"155.068\" stroke-linecap=\"round\" style=\"stroke:red;stroke-width:4\"/><line x1=\"360.245\" y1=\"155.068\" x2=\"366.087\" y2=\"152.755\" stroke-linecap=\"round\" style=\"stroke:red;stroke-width:4\"/><line x1=\"366.087\" y1=\"152.755\" x2=\"372.063\" y2=\"150.813\" stroke-linecap=\"round\" style=\"stroke:red;stroke-width:4\"/><line x1=\"372.063\" y1=\"150.813\" x2=\"378.149\" y2=\"149.25\" stroke-linecap=\"round\" style=\"stroke:red;stroke-width:4\"/><line x1=\"378.149\" y1=\"149.25\" x2=\"384.321\" y2=\"148.073\" stroke-linecap=\"round\" style=\"stroke:red;stroke-width:4\"/><line x1=\"384.321\" y1=\"148.073\" x2=\"390.555\" y2=\"147.286\" stroke-linecap=\"round\" style=\"stroke:red;stroke-width:4\"/><line x1=\"390.555\" y1=\"147.286\" x2=\"396.826\" y2=\"146.891\" stroke-linecap=\"round\" style=\"stroke:red;stroke-width:4\"/><line x1=\"396.826\" y1=\"146.891\" x2=\"403.109\" y2=\"146.891\" stroke-linecap=\"round\" style=\"stroke:red;stroke-width:4\"/><line x1=\"403.109\" y1=\"146.891\" x2=\"409.38\" y2=\"147.286\" stroke-linecap=\"round\" style=\"stroke:red;stroke-width:4\"/><line x1=\"409.38\" y1=\"147.286\" x2=\"415.614\" y2=\"148.073\" stroke-linecap=\"round\" style=\"stroke:red;stroke-width:4\"/><line x1=\"415.614\" y1=\"148.073\" x2=\"421.786\" y2=\"149.25\" stroke-linecap=\"round\" style=\"stroke:red;stroke-width:4\"/><line x1=\"421.786\" y1=\"149.25\" x2=\"427.872\" y2=\"150.813\" stroke-linecap=\"round\" style=\"stroke:red;stroke-width:4\"/><line x1=\"427.872\" y1=\"150.813\" x2=\"433.848\" y2=\"152.755\" stroke-linecap=\"round\" style=\"stroke:red;stroke-width:4\"/><line x1=\"433.848\" y1=\"152.755\" x2=\"439.69\" y2=\"155.068\" stroke-linecap=\"round\" style=\"stroke:red;stroke-width:4\"/><line x1=\"439.69\" y1=\"155.068\" x2=\"445.375\" y2=\"157.743\" stroke-linecap=\"round\" style=\"stroke:red;stroke-width:4\"/><line x1=\"445.375\" y1=\"157.743\" x2=\"450.881\" y2=\"160.77\" stroke-linecap=\"round\" style=\"stroke:red;stroke-width:4\"/><line x1=\"450.881\" y1=\"160.77\" x2=\"456.186\" y2=\"164.137\" stroke-linecap=\"round\" style=\"stroke:red;stroke-width:4\"/><line x1=\"456.186\" y1=\"164.137\" x2=\"461.269\" y2=\"167.83\" stroke-linecap=\"round\" style=\"stroke:red;stroke-width:4\"/><line x1=\"461.269\" y1=\"167.83\" x2=\"466.11\" y2=\"171.835\" stroke-linecap=\"round\" style=\"stroke:red;stroke-width:4\"/><line x1=\"466.11\" y1=\"171.835\" x2=\"470.69\" y2=\"176.136\" stroke-linecap=\"round\" style=\"stroke:red;stroke-width:4\"/><line x1=\"470.69\" y1=\"176.136\" x2=\"474.991\" y2=\"180.716\" stroke-linecap=\"round\" style=\"stroke:red;stroke-width:4\"/><line x1=\"474.991\" y1=\"180.716\" x2=\"478.996\" y2=\"185.557\" stroke-linecap=\"round\" style=\"stroke:red;stroke-width:4\"/><line x1=\"478.996\" y1=\"185.557\" x2=\"482.689\" y2=\"190.64\" stroke-linecap=\"round\" style=\"stroke:red;stroke-width:4\"/><line x1=\"482.689\" y1=\"190.64\" x2=\"486.056\" y2=\"195.945\" stroke-linecap=\"round\" style=\"stroke:red;stroke-width:4\"/><line x1=\"486.056\" y1=\"195.945\" x2=\"489.083\" y2=\"201.451\" stroke-linecap=\"round\" style=\"stroke:red;stroke-width:4\"/><line x1=\"489.083\" y1=\"201.451\" x2=\"491.758\" y2=\"207.136\" stroke-linecap=\"round\" style=\"stroke:red;stroke-width:4\"/><line x1=\"491.758\" y1=\"207.136\" x2=\"494.071\" y2=\"212.978\" stroke-linecap=\"round\" style=\"stroke:red;stroke-width:4\"/><line x1=\"494.071\" y1=\"212.978\" x2=\"496.013\" y2=\"218.954\" stroke-linecap=\"round\" style=\"stroke:red;stroke-width:4\"/><line x1=\"496.013\" y1=\"218.954\" x2=\"497.576\" y2=\"225.04\" stroke-linecap=\"round\" style=\"stroke:red;stroke-width:4\"/><line x1=\"497.576\" y1=\"225.04\" x2=\"498.753\" y2=\"231.212\" stroke-linecap=\"round\" style=\"stroke:red;stroke-width:4\"/><line x1=\"498.753\" y1=\"231.212\" x2=\"499.54\" y2=\"237.446\" stroke-linecap=\"round\" style=\"stroke:red;stroke-width:4\"/><line x1=\"499.54\" y1=\"237.446\" x2=\"499.935\" y2=\"243.717\" stroke-linecap=\"round\" style=\"stroke:red;stroke-width:4\"/><line x1=\"499.935\" y1=\"243.717\" x2=\"499.935\" y2=\"250.0\" stroke-linecap=\"round\" style=\"stroke:red;stroke-width:4\"/><line x1=\"499.935\" y1=\"250.0\" x2=\"499.54\" y2=\"256.271\" stroke-linecap=\"round\" style=\"stroke:red;stroke-width:4\"/><line x1=\"499.54\" y1=\"256.271\" x2=\"498.753\" y2=\"262.505\" stroke-linecap=\"round\" style=\"stroke:red;stroke-width:4\"/><line x1=\"498.753\" y1=\"262.505\" x2=\"497.576\" y2=\"268.677\" stroke-linecap=\"round\" style=\"stroke:red;stroke-width:4\"/><line x1=\"497.576\" y1=\"268.677\" x2=\"496.013\" y2=\"274.763\" stroke-linecap=\"round\" style=\"stroke:red;stroke-width:4\"/><line x1=\"496.013\" y1=\"274.763\" x2=\"494.071\" y2=\"280.739\" stroke-linecap=\"round\" style=\"stroke:red;stroke-width:4\"/><line x1=\"494.071\" y1=\"280.739\" x2=\"491.758\" y2=\"286.581\" stroke-linecap=\"round\" style=\"stroke:red;stroke-width:4\"/><line x1=\"491.758\" y1=\"286.581\" x2=\"489.083\" y2=\"292.266\" stroke-linecap=\"round\" style=\"stroke:red;stroke-width:4\"/><line x1=\"489.083\" y1=\"292.266\" x2=\"486.056\" y2=\"297.772\" stroke-linecap=\"round\" style=\"stroke:red;stroke-width:4\"/><line x1=\"486.056\" y1=\"297.772\" x2=\"482.689\" y2=\"303.077\" stroke-linecap=\"round\" style=\"stroke:red;stroke-width:4\"/><line x1=\"482.689\" y1=\"303.077\" x2=\"478.996\" y2=\"308.16\" stroke-linecap=\"round\" style=\"stroke:red;stroke-width:4\"/><line x1=\"478.996\" y1=\"308.16\" x2=\"474.991\" y2=\"313.001\" stroke-linecap=\"round\" style=\"stroke:red;stroke-width:4\"/><line x1=\"474.991\" y1=\"313.001\" x2=\"470.69\" y2=\"317.581\" stroke-linecap=\"round\" style=\"stroke:red;stroke-width:4\"/><line x1=\"470.69\" y1=\"317.581\" x2=\"466.11\" y2=\"321.882\" stroke-linecap=\"round\" style=\"stroke:red;stroke-width:4\"/><line x1=\"466.11\" y1=\"321.882\" x2=\"461.269\" y2=\"325.887\" stroke-linecap=\"round\" style=\"stroke:red;stroke-width:4\"/><line x1=\"461.269\" y1=\"325.887\" x2=\"456.186\" y2=\"329.58\" stroke-linecap=\"round\" style=\"stroke:red;stroke-width:4\"/><line x1=\"456.186\" y1=\"329.58\" x2=\"450.881\" y2=\"332.947\" stroke-linecap=\"round\" style=\"stroke:red;stroke-width:4\"/><line x1=\"450.881\" y1=\"332.947\" x2=\"445.375\" y2=\"335.974\" stroke-linecap=\"round\" style=\"stroke:red;stroke-width:4\"/><line x1=\"445.375\" y1=\"335.974\" x2=\"439.69\" y2=\"338.649\" stroke-linecap=\"round\" style=\"stroke:red;stroke-width:4\"/><line x1=\"439.69\" y1=\"338.649\" x2=\"433.848\" y2=\"340.962\" stroke-linecap=\"round\" style=\"stroke:red;stroke-width:4\"/><line x1=\"433.848\" y1=\"340.962\" x2=\"427.872\" y2=\"342.904\" stroke-linecap=\"round\" style=\"stroke:red;stroke-width:4\"/><line x1=\"427.872\" y1=\"342.904\" x2=\"421.786\" y2=\"344.467\" stroke-linecap=\"round\" style=\"stroke:red;stroke-width:4\"/><line x1=\"421.786\" y1=\"344.467\" x2=\"415.614\" y2=\"345.644\" stroke-linecap=\"round\" style=\"stroke:red;stroke-width:4\"/><line x1=\"415.614\" y1=\"345.644\" x2=\"409.38\" y2=\"346.431\" stroke-linecap=\"round\" style=\"stroke:red;stroke-width:4\"/><line x1=\"409.38\" y1=\"346.431\" x2=\"403.109\" y2=\"346.826\" stroke-linecap=\"round\" style=\"stroke:red;stroke-width:4\"/><line x1=\"403.109\" y1=\"346.826\" x2=\"396.826\" y2=\"346.826\" stroke-linecap=\"round\" style=\"stroke:red;stroke-width:4\"/><line x1=\"396.826\" y1=\"346.826\" x2=\"390.555\" y2=\"346.431\" stroke-linecap=\"round\" style=\"stroke:red;stroke-width:4\"/><line x1=\"390.555\" y1=\"346.431\" x2=\"384.321\" y2=\"345.644\" stroke-linecap=\"round\" style=\"stroke:red;stroke-width:4\"/><line x1=\"384.321\" y1=\"345.644\" x2=\"378.149\" y2=\"344.467\" stroke-linecap=\"round\" style=\"stroke:red;stroke-width:4\"/><line x1=\"378.149\" y1=\"344.467\" x2=\"372.063\" y2=\"342.904\" stroke-linecap=\"round\" style=\"stroke:red;stroke-width:4\"/><line x1=\"372.063\" y1=\"342.904\" x2=\"366.087\" y2=\"340.962\" stroke-linecap=\"round\" style=\"stroke:red;stroke-width:4\"/><line x1=\"366.087\" y1=\"340.962\" x2=\"360.245\" y2=\"338.649\" stroke-linecap=\"round\" style=\"stroke:red;stroke-width:4\"/><line x1=\"360.245\" y1=\"338.649\" x2=\"354.56\" y2=\"335.974\" stroke-linecap=\"round\" style=\"stroke:red;stroke-width:4\"/><line x1=\"354.56\" y1=\"335.974\" x2=\"349.054\" y2=\"332.947\" stroke-linecap=\"round\" style=\"stroke:red;stroke-width:4\"/><line x1=\"349.054\" y1=\"332.947\" x2=\"343.749\" y2=\"329.58\" stroke-linecap=\"round\" style=\"stroke:red;stroke-width:4\"/><line x1=\"343.749\" y1=\"329.58\" x2=\"338.666\" y2=\"325.887\" stroke-linecap=\"round\" style=\"stroke:red;stroke-width:4\"/><line x1=\"338.666\" y1=\"325.887\" x2=\"333.825\" y2=\"321.882\" stroke-linecap=\"round\" style=\"stroke:red;stroke-width:4\"/><line x1=\"333.825\" y1=\"321.882\" x2=\"329.245\" y2=\"317.581\" stroke-linecap=\"round\" style=\"stroke:red;stroke-width:4\"/><line x1=\"329.245\" y1=\"317.581\" x2=\"324.944\" y2=\"313.001\" stroke-linecap=\"round\" style=\"stroke:red;stroke-width:4\"/><line x1=\"324.944\" y1=\"313.001\" x2=\"320.939\" y2=\"308.16\" stroke-linecap=\"round\" style=\"stroke:red;stroke-width:4\"/><line x1=\"320.939\" y1=\"308.16\" x2=\"317.246\" y2=\"303.077\" stroke-linecap=\"round\" style=\"stroke:red;stroke-width:4\"/><line x1=\"317.246\" y1=\"303.077\" x2=\"313.879\" y2=\"297.772\" stroke-linecap=\"round\" style=\"stroke:red;stroke-width:4\"/><line x1=\"313.879\" y1=\"297.772\" x2=\"310.852\" y2=\"292.266\" stroke-linecap=\"round\" style=\"stroke:red;stroke-width:4\"/><line x1=\"310.852\" y1=\"292.266\" x2=\"308.177\" y2=\"286.581\" stroke-linecap=\"round\" style=\"stroke:red;stroke-width:4\"/><line x1=\"308.177\" y1=\"286.581\" x2=\"305.864\" y2=\"280.739\" stroke-linecap=\"round\" style=\"stroke:red;stroke-width:4\"/><line x1=\"305.864\" y1=\"280.739\" x2=\"303.922\" y2=\"274.763\" stroke-linecap=\"round\" style=\"stroke:red;stroke-width:4\"/><line x1=\"303.922\" y1=\"274.763\" x2=\"302.359\" y2=\"268.677\" stroke-linecap=\"round\" style=\"stroke:red;stroke-width:4\"/><line x1=\"302.359\" y1=\"268.677\" x2=\"301.182\" y2=\"262.505\" stroke-linecap=\"round\" style=\"stroke:red;stroke-width:4\"/><line x1=\"301.182\" y1=\"262.505\" x2=\"300.395\" y2=\"256.271\" stroke-linecap=\"round\" style=\"stroke:red;stroke-width:4\"/><line x1=\"300.395\" y1=\"256.271\" x2=\"300.0\" y2=\"250.0\" stroke-linecap=\"round\" style=\"stroke:red;stroke-width:4\"/>\n",
              "        <g visibility=visible transform=\"rotate(360.00000000000034,300.0,250.0) translate(282.0, 232.0)\">\n",
              "<path style=\" stroke:none;fill-rule:evenodd;fill:red;fill-opacity:1;\" d=\"M 18.214844 0.632812 C 16.109375 1.800781 15.011719 4.074219 15.074219 7.132812 L 15.085938 7.652344 L 14.785156 7.496094 C 13.476562 6.824219 11.957031 6.671875 10.40625 7.066406 C 8.46875 7.550781 6.515625 9.15625 4.394531 11.992188 C 3.0625 13.777344 2.679688 14.636719 3.042969 15.027344 L 3.15625 15.152344 L 3.519531 15.152344 C 4.238281 15.152344 4.828125 14.886719 8.1875 13.039062 C 9.386719 12.378906 10.371094 11.839844 10.378906 11.839844 C 10.386719 11.839844 10.355469 11.929688 10.304688 12.035156 C 9.832031 13.09375 9.257812 14.820312 8.96875 16.078125 C 7.914062 20.652344 8.617188 24.53125 11.070312 27.660156 C 11.351562 28.015625 11.363281 27.914062 10.972656 28.382812 C 8.925781 30.84375 7.945312 33.28125 8.238281 35.1875 C 8.289062 35.527344 8.28125 35.523438 8.917969 35.523438 C 10.941406 35.523438 13.074219 34.207031 15.136719 31.6875 C 15.359375 31.417969 15.328125 31.425781 15.5625 31.574219 C 16.292969 32.042969 18.023438 32.964844 18.175781 32.964844 C 18.335938 32.964844 19.941406 32.210938 20.828125 31.71875 C 20.996094 31.625 21.136719 31.554688 21.136719 31.558594 C 21.203125 31.664062 21.898438 32.414062 22.222656 32.730469 C 23.835938 34.300781 25.5625 35.132812 27.582031 35.300781 C 27.90625 35.328125 27.9375 35.308594 28.007812 34.984375 C 28.382812 33.242188 27.625 30.925781 25.863281 28.425781 L 25.542969 27.96875 L 25.699219 27.785156 C 28.945312 23.960938 29.132812 18.699219 26.257812 11.96875 L 26.207031 11.84375 L 27.945312 12.703125 C 31.53125 14.476562 32.316406 14.800781 33.03125 14.800781 C 33.976562 14.800781 33.78125 13.9375 32.472656 12.292969 C 28.519531 7.355469 25.394531 5.925781 21.921875 7.472656 L 21.558594 7.636719 L 21.578125 7.542969 C 21.699219 6.992188 21.761719 5.742188 21.699219 5.164062 C 21.496094 3.296875 20.664062 1.964844 19.003906 0.855469 C 18.480469 0.503906 18.457031 0.5 18.214844 0.632812\"/>\n",
              "</g>\n",
              "      </svg>\n",
              "    "
            ],
            "text/plain": [
              "<IPython.core.display.HTML object>"
            ]
          },
          "metadata": {
            "tags": []
          }
        }
      ]
    },
    {
      "cell_type": "markdown",
      "metadata": {
        "id": "o8uodc7hQa1G"
      },
      "source": [
        "Exercício 5:"
      ]
    },
    {
      "cell_type": "code",
      "metadata": {
        "colab": {
          "base_uri": "https://localhost:8080/",
          "height": 521
        },
        "id": "-EbUuqCKQab1",
        "outputId": "08695098-cb4e-4abc-f9a6-8d6411ab96e5"
      },
      "source": [
        "def arc(t, color, r, angle):\n",
        "    from ColabTurtle import Turtle as t\n",
        "    from math import pi\n",
        "    n = 100\n",
        "    length = (((angle*pi)/180)*r)/n\n",
        "    t.initializeTurtle()\n",
        "    t.color(color)\n",
        "    t.penup()\n",
        "    t.left(90)\n",
        "    t.forward((n*length)/(((angle*pi)/180)))\n",
        "    t.right(90)\n",
        "    t.pendown()\n",
        "    for i in range(n):\n",
        "        t.forward(length)\n",
        "        t.right(angle/n) \n",
        "\n",
        "arc(\"joana\", \"purple\", 100, 180)"
      ],
      "execution_count": 13,
      "outputs": [
        {
          "output_type": "display_data",
          "data": {
            "text/html": [
              "\n",
              "      <svg width=\"800\" height=\"500\">\n",
              "        <rect width=\"100%\" height=\"100%\" fill=\"black\"/>\n",
              "        <line x1=\"300.0\" y1=\"250.0\" x2=\"300.0\" y2=\"246.858\" stroke-linecap=\"round\" style=\"stroke:purple;stroke-width:4\"/><line x1=\"300.0\" y1=\"246.858\" x2=\"300.099\" y2=\"243.718\" stroke-linecap=\"round\" style=\"stroke:purple;stroke-width:4\"/><line x1=\"300.099\" y1=\"243.718\" x2=\"300.296\" y2=\"240.583\" stroke-linecap=\"round\" style=\"stroke:purple;stroke-width:4\"/><line x1=\"300.296\" y1=\"240.583\" x2=\"300.592\" y2=\"237.455\" stroke-linecap=\"round\" style=\"stroke:purple;stroke-width:4\"/><line x1=\"300.592\" y1=\"237.455\" x2=\"300.986\" y2=\"234.338\" stroke-linecap=\"round\" style=\"stroke:purple;stroke-width:4\"/><line x1=\"300.986\" y1=\"234.338\" x2=\"301.477\" y2=\"231.235\" stroke-linecap=\"round\" style=\"stroke:purple;stroke-width:4\"/><line x1=\"301.477\" y1=\"231.235\" x2=\"302.066\" y2=\"228.149\" stroke-linecap=\"round\" style=\"stroke:purple;stroke-width:4\"/><line x1=\"302.066\" y1=\"228.149\" x2=\"302.751\" y2=\"225.083\" stroke-linecap=\"round\" style=\"stroke:purple;stroke-width:4\"/><line x1=\"302.751\" y1=\"225.083\" x2=\"303.532\" y2=\"222.04\" stroke-linecap=\"round\" style=\"stroke:purple;stroke-width:4\"/><line x1=\"303.532\" y1=\"222.04\" x2=\"304.408\" y2=\"219.023\" stroke-linecap=\"round\" style=\"stroke:purple;stroke-width:4\"/><line x1=\"304.408\" y1=\"219.023\" x2=\"305.379\" y2=\"216.035\" stroke-linecap=\"round\" style=\"stroke:purple;stroke-width:4\"/><line x1=\"305.379\" y1=\"216.035\" x2=\"306.443\" y2=\"213.079\" stroke-linecap=\"round\" style=\"stroke:purple;stroke-width:4\"/><line x1=\"306.443\" y1=\"213.079\" x2=\"307.599\" y2=\"210.158\" stroke-linecap=\"round\" style=\"stroke:purple;stroke-width:4\"/><line x1=\"307.599\" y1=\"210.158\" x2=\"308.847\" y2=\"207.275\" stroke-linecap=\"round\" style=\"stroke:purple;stroke-width:4\"/><line x1=\"308.847\" y1=\"207.275\" x2=\"310.185\" y2=\"204.432\" stroke-linecap=\"round\" style=\"stroke:purple;stroke-width:4\"/><line x1=\"310.185\" y1=\"204.432\" x2=\"311.611\" y2=\"201.633\" stroke-linecap=\"round\" style=\"stroke:purple;stroke-width:4\"/><line x1=\"311.611\" y1=\"201.633\" x2=\"313.124\" y2=\"198.88\" stroke-linecap=\"round\" style=\"stroke:purple;stroke-width:4\"/><line x1=\"313.124\" y1=\"198.88\" x2=\"314.723\" y2=\"196.176\" stroke-linecap=\"round\" style=\"stroke:purple;stroke-width:4\"/><line x1=\"314.723\" y1=\"196.176\" x2=\"316.406\" y2=\"193.523\" stroke-linecap=\"round\" style=\"stroke:purple;stroke-width:4\"/><line x1=\"316.406\" y1=\"193.523\" x2=\"318.172\" y2=\"190.925\" stroke-linecap=\"round\" style=\"stroke:purple;stroke-width:4\"/><line x1=\"318.172\" y1=\"190.925\" x2=\"320.019\" y2=\"188.383\" stroke-linecap=\"round\" style=\"stroke:purple;stroke-width:4\"/><line x1=\"320.019\" y1=\"188.383\" x2=\"321.945\" y2=\"185.901\" stroke-linecap=\"round\" style=\"stroke:purple;stroke-width:4\"/><line x1=\"321.945\" y1=\"185.901\" x2=\"323.948\" y2=\"183.48\" stroke-linecap=\"round\" style=\"stroke:purple;stroke-width:4\"/><line x1=\"323.948\" y1=\"183.48\" x2=\"326.026\" y2=\"181.123\" stroke-linecap=\"round\" style=\"stroke:purple;stroke-width:4\"/><line x1=\"326.026\" y1=\"181.123\" x2=\"328.177\" y2=\"178.833\" stroke-linecap=\"round\" style=\"stroke:purple;stroke-width:4\"/><line x1=\"328.177\" y1=\"178.833\" x2=\"330.398\" y2=\"176.612\" stroke-linecap=\"round\" style=\"stroke:purple;stroke-width:4\"/><line x1=\"330.398\" y1=\"176.612\" x2=\"332.688\" y2=\"174.461\" stroke-linecap=\"round\" style=\"stroke:purple;stroke-width:4\"/><line x1=\"332.688\" y1=\"174.461\" x2=\"335.045\" y2=\"172.383\" stroke-linecap=\"round\" style=\"stroke:purple;stroke-width:4\"/><line x1=\"335.045\" y1=\"172.383\" x2=\"337.466\" y2=\"170.38\" stroke-linecap=\"round\" style=\"stroke:purple;stroke-width:4\"/><line x1=\"337.466\" y1=\"170.38\" x2=\"339.948\" y2=\"168.454\" stroke-linecap=\"round\" style=\"stroke:purple;stroke-width:4\"/><line x1=\"339.948\" y1=\"168.454\" x2=\"342.49\" y2=\"166.607\" stroke-linecap=\"round\" style=\"stroke:purple;stroke-width:4\"/><line x1=\"342.49\" y1=\"166.607\" x2=\"345.088\" y2=\"164.841\" stroke-linecap=\"round\" style=\"stroke:purple;stroke-width:4\"/><line x1=\"345.088\" y1=\"164.841\" x2=\"347.741\" y2=\"163.158\" stroke-linecap=\"round\" style=\"stroke:purple;stroke-width:4\"/><line x1=\"347.741\" y1=\"163.158\" x2=\"350.445\" y2=\"161.559\" stroke-linecap=\"round\" style=\"stroke:purple;stroke-width:4\"/><line x1=\"350.445\" y1=\"161.559\" x2=\"353.198\" y2=\"160.046\" stroke-linecap=\"round\" style=\"stroke:purple;stroke-width:4\"/><line x1=\"353.198\" y1=\"160.046\" x2=\"355.997\" y2=\"158.62\" stroke-linecap=\"round\" style=\"stroke:purple;stroke-width:4\"/><line x1=\"355.997\" y1=\"158.62\" x2=\"358.84\" y2=\"157.282\" stroke-linecap=\"round\" style=\"stroke:purple;stroke-width:4\"/><line x1=\"358.84\" y1=\"157.282\" x2=\"361.723\" y2=\"156.034\" stroke-linecap=\"round\" style=\"stroke:purple;stroke-width:4\"/><line x1=\"361.723\" y1=\"156.034\" x2=\"364.644\" y2=\"154.878\" stroke-linecap=\"round\" style=\"stroke:purple;stroke-width:4\"/><line x1=\"364.644\" y1=\"154.878\" x2=\"367.6\" y2=\"153.814\" stroke-linecap=\"round\" style=\"stroke:purple;stroke-width:4\"/><line x1=\"367.6\" y1=\"153.814\" x2=\"370.588\" y2=\"152.843\" stroke-linecap=\"round\" style=\"stroke:purple;stroke-width:4\"/><line x1=\"370.588\" y1=\"152.843\" x2=\"373.605\" y2=\"151.967\" stroke-linecap=\"round\" style=\"stroke:purple;stroke-width:4\"/><line x1=\"373.605\" y1=\"151.967\" x2=\"376.648\" y2=\"151.186\" stroke-linecap=\"round\" style=\"stroke:purple;stroke-width:4\"/><line x1=\"376.648\" y1=\"151.186\" x2=\"379.714\" y2=\"150.501\" stroke-linecap=\"round\" style=\"stroke:purple;stroke-width:4\"/><line x1=\"379.714\" y1=\"150.501\" x2=\"382.8\" y2=\"149.912\" stroke-linecap=\"round\" style=\"stroke:purple;stroke-width:4\"/><line x1=\"382.8\" y1=\"149.912\" x2=\"385.903\" y2=\"149.421\" stroke-linecap=\"round\" style=\"stroke:purple;stroke-width:4\"/><line x1=\"385.903\" y1=\"149.421\" x2=\"389.02\" y2=\"149.027\" stroke-linecap=\"round\" style=\"stroke:purple;stroke-width:4\"/><line x1=\"389.02\" y1=\"149.027\" x2=\"392.148\" y2=\"148.731\" stroke-linecap=\"round\" style=\"stroke:purple;stroke-width:4\"/><line x1=\"392.148\" y1=\"148.731\" x2=\"395.283\" y2=\"148.534\" stroke-linecap=\"round\" style=\"stroke:purple;stroke-width:4\"/><line x1=\"395.283\" y1=\"148.534\" x2=\"398.423\" y2=\"148.435\" stroke-linecap=\"round\" style=\"stroke:purple;stroke-width:4\"/><line x1=\"398.423\" y1=\"148.435\" x2=\"401.565\" y2=\"148.435\" stroke-linecap=\"round\" style=\"stroke:purple;stroke-width:4\"/><line x1=\"401.565\" y1=\"148.435\" x2=\"404.705\" y2=\"148.534\" stroke-linecap=\"round\" style=\"stroke:purple;stroke-width:4\"/><line x1=\"404.705\" y1=\"148.534\" x2=\"407.84\" y2=\"148.731\" stroke-linecap=\"round\" style=\"stroke:purple;stroke-width:4\"/><line x1=\"407.84\" y1=\"148.731\" x2=\"410.968\" y2=\"149.027\" stroke-linecap=\"round\" style=\"stroke:purple;stroke-width:4\"/><line x1=\"410.968\" y1=\"149.027\" x2=\"414.085\" y2=\"149.421\" stroke-linecap=\"round\" style=\"stroke:purple;stroke-width:4\"/><line x1=\"414.085\" y1=\"149.421\" x2=\"417.188\" y2=\"149.912\" stroke-linecap=\"round\" style=\"stroke:purple;stroke-width:4\"/><line x1=\"417.188\" y1=\"149.912\" x2=\"420.274\" y2=\"150.501\" stroke-linecap=\"round\" style=\"stroke:purple;stroke-width:4\"/><line x1=\"420.274\" y1=\"150.501\" x2=\"423.34\" y2=\"151.186\" stroke-linecap=\"round\" style=\"stroke:purple;stroke-width:4\"/><line x1=\"423.34\" y1=\"151.186\" x2=\"426.383\" y2=\"151.967\" stroke-linecap=\"round\" style=\"stroke:purple;stroke-width:4\"/><line x1=\"426.383\" y1=\"151.967\" x2=\"429.4\" y2=\"152.843\" stroke-linecap=\"round\" style=\"stroke:purple;stroke-width:4\"/><line x1=\"429.4\" y1=\"152.843\" x2=\"432.388\" y2=\"153.814\" stroke-linecap=\"round\" style=\"stroke:purple;stroke-width:4\"/><line x1=\"432.388\" y1=\"153.814\" x2=\"435.344\" y2=\"154.878\" stroke-linecap=\"round\" style=\"stroke:purple;stroke-width:4\"/><line x1=\"435.344\" y1=\"154.878\" x2=\"438.265\" y2=\"156.034\" stroke-linecap=\"round\" style=\"stroke:purple;stroke-width:4\"/><line x1=\"438.265\" y1=\"156.034\" x2=\"441.148\" y2=\"157.282\" stroke-linecap=\"round\" style=\"stroke:purple;stroke-width:4\"/><line x1=\"441.148\" y1=\"157.282\" x2=\"443.991\" y2=\"158.62\" stroke-linecap=\"round\" style=\"stroke:purple;stroke-width:4\"/><line x1=\"443.991\" y1=\"158.62\" x2=\"446.79\" y2=\"160.046\" stroke-linecap=\"round\" style=\"stroke:purple;stroke-width:4\"/><line x1=\"446.79\" y1=\"160.046\" x2=\"449.543\" y2=\"161.559\" stroke-linecap=\"round\" style=\"stroke:purple;stroke-width:4\"/><line x1=\"449.543\" y1=\"161.559\" x2=\"452.247\" y2=\"163.158\" stroke-linecap=\"round\" style=\"stroke:purple;stroke-width:4\"/><line x1=\"452.247\" y1=\"163.158\" x2=\"454.9\" y2=\"164.841\" stroke-linecap=\"round\" style=\"stroke:purple;stroke-width:4\"/><line x1=\"454.9\" y1=\"164.841\" x2=\"457.498\" y2=\"166.607\" stroke-linecap=\"round\" style=\"stroke:purple;stroke-width:4\"/><line x1=\"457.498\" y1=\"166.607\" x2=\"460.04\" y2=\"168.454\" stroke-linecap=\"round\" style=\"stroke:purple;stroke-width:4\"/><line x1=\"460.04\" y1=\"168.454\" x2=\"462.522\" y2=\"170.38\" stroke-linecap=\"round\" style=\"stroke:purple;stroke-width:4\"/><line x1=\"462.522\" y1=\"170.38\" x2=\"464.943\" y2=\"172.383\" stroke-linecap=\"round\" style=\"stroke:purple;stroke-width:4\"/><line x1=\"464.943\" y1=\"172.383\" x2=\"467.3\" y2=\"174.461\" stroke-linecap=\"round\" style=\"stroke:purple;stroke-width:4\"/><line x1=\"467.3\" y1=\"174.461\" x2=\"469.59\" y2=\"176.612\" stroke-linecap=\"round\" style=\"stroke:purple;stroke-width:4\"/><line x1=\"469.59\" y1=\"176.612\" x2=\"471.811\" y2=\"178.833\" stroke-linecap=\"round\" style=\"stroke:purple;stroke-width:4\"/><line x1=\"471.811\" y1=\"178.833\" x2=\"473.962\" y2=\"181.123\" stroke-linecap=\"round\" style=\"stroke:purple;stroke-width:4\"/><line x1=\"473.962\" y1=\"181.123\" x2=\"476.04\" y2=\"183.48\" stroke-linecap=\"round\" style=\"stroke:purple;stroke-width:4\"/><line x1=\"476.04\" y1=\"183.48\" x2=\"478.043\" y2=\"185.901\" stroke-linecap=\"round\" style=\"stroke:purple;stroke-width:4\"/><line x1=\"478.043\" y1=\"185.901\" x2=\"479.969\" y2=\"188.383\" stroke-linecap=\"round\" style=\"stroke:purple;stroke-width:4\"/><line x1=\"479.969\" y1=\"188.383\" x2=\"481.816\" y2=\"190.925\" stroke-linecap=\"round\" style=\"stroke:purple;stroke-width:4\"/><line x1=\"481.816\" y1=\"190.925\" x2=\"483.582\" y2=\"193.523\" stroke-linecap=\"round\" style=\"stroke:purple;stroke-width:4\"/><line x1=\"483.582\" y1=\"193.523\" x2=\"485.265\" y2=\"196.176\" stroke-linecap=\"round\" style=\"stroke:purple;stroke-width:4\"/><line x1=\"485.265\" y1=\"196.176\" x2=\"486.864\" y2=\"198.88\" stroke-linecap=\"round\" style=\"stroke:purple;stroke-width:4\"/><line x1=\"486.864\" y1=\"198.88\" x2=\"488.377\" y2=\"201.633\" stroke-linecap=\"round\" style=\"stroke:purple;stroke-width:4\"/><line x1=\"488.377\" y1=\"201.633\" x2=\"489.803\" y2=\"204.432\" stroke-linecap=\"round\" style=\"stroke:purple;stroke-width:4\"/><line x1=\"489.803\" y1=\"204.432\" x2=\"491.141\" y2=\"207.275\" stroke-linecap=\"round\" style=\"stroke:purple;stroke-width:4\"/><line x1=\"491.141\" y1=\"207.275\" x2=\"492.389\" y2=\"210.158\" stroke-linecap=\"round\" style=\"stroke:purple;stroke-width:4\"/><line x1=\"492.389\" y1=\"210.158\" x2=\"493.545\" y2=\"213.079\" stroke-linecap=\"round\" style=\"stroke:purple;stroke-width:4\"/><line x1=\"493.545\" y1=\"213.079\" x2=\"494.609\" y2=\"216.035\" stroke-linecap=\"round\" style=\"stroke:purple;stroke-width:4\"/><line x1=\"494.609\" y1=\"216.035\" x2=\"495.58\" y2=\"219.023\" stroke-linecap=\"round\" style=\"stroke:purple;stroke-width:4\"/><line x1=\"495.58\" y1=\"219.023\" x2=\"496.456\" y2=\"222.04\" stroke-linecap=\"round\" style=\"stroke:purple;stroke-width:4\"/><line x1=\"496.456\" y1=\"222.04\" x2=\"497.237\" y2=\"225.083\" stroke-linecap=\"round\" style=\"stroke:purple;stroke-width:4\"/><line x1=\"497.237\" y1=\"225.083\" x2=\"497.922\" y2=\"228.149\" stroke-linecap=\"round\" style=\"stroke:purple;stroke-width:4\"/><line x1=\"497.922\" y1=\"228.149\" x2=\"498.511\" y2=\"231.235\" stroke-linecap=\"round\" style=\"stroke:purple;stroke-width:4\"/><line x1=\"498.511\" y1=\"231.235\" x2=\"499.002\" y2=\"234.338\" stroke-linecap=\"round\" style=\"stroke:purple;stroke-width:4\"/><line x1=\"499.002\" y1=\"234.338\" x2=\"499.396\" y2=\"237.455\" stroke-linecap=\"round\" style=\"stroke:purple;stroke-width:4\"/><line x1=\"499.396\" y1=\"237.455\" x2=\"499.692\" y2=\"240.583\" stroke-linecap=\"round\" style=\"stroke:purple;stroke-width:4\"/><line x1=\"499.692\" y1=\"240.583\" x2=\"499.889\" y2=\"243.718\" stroke-linecap=\"round\" style=\"stroke:purple;stroke-width:4\"/><line x1=\"499.889\" y1=\"243.718\" x2=\"499.988\" y2=\"246.858\" stroke-linecap=\"round\" style=\"stroke:purple;stroke-width:4\"/>\n",
              "        <g visibility=visible transform=\"rotate(180.00000000000048,499.988,246.858) translate(481.988, 228.858)\">\n",
              "<path style=\" stroke:none;fill-rule:evenodd;fill:purple;fill-opacity:1;\" d=\"M 18.214844 0.632812 C 16.109375 1.800781 15.011719 4.074219 15.074219 7.132812 L 15.085938 7.652344 L 14.785156 7.496094 C 13.476562 6.824219 11.957031 6.671875 10.40625 7.066406 C 8.46875 7.550781 6.515625 9.15625 4.394531 11.992188 C 3.0625 13.777344 2.679688 14.636719 3.042969 15.027344 L 3.15625 15.152344 L 3.519531 15.152344 C 4.238281 15.152344 4.828125 14.886719 8.1875 13.039062 C 9.386719 12.378906 10.371094 11.839844 10.378906 11.839844 C 10.386719 11.839844 10.355469 11.929688 10.304688 12.035156 C 9.832031 13.09375 9.257812 14.820312 8.96875 16.078125 C 7.914062 20.652344 8.617188 24.53125 11.070312 27.660156 C 11.351562 28.015625 11.363281 27.914062 10.972656 28.382812 C 8.925781 30.84375 7.945312 33.28125 8.238281 35.1875 C 8.289062 35.527344 8.28125 35.523438 8.917969 35.523438 C 10.941406 35.523438 13.074219 34.207031 15.136719 31.6875 C 15.359375 31.417969 15.328125 31.425781 15.5625 31.574219 C 16.292969 32.042969 18.023438 32.964844 18.175781 32.964844 C 18.335938 32.964844 19.941406 32.210938 20.828125 31.71875 C 20.996094 31.625 21.136719 31.554688 21.136719 31.558594 C 21.203125 31.664062 21.898438 32.414062 22.222656 32.730469 C 23.835938 34.300781 25.5625 35.132812 27.582031 35.300781 C 27.90625 35.328125 27.9375 35.308594 28.007812 34.984375 C 28.382812 33.242188 27.625 30.925781 25.863281 28.425781 L 25.542969 27.96875 L 25.699219 27.785156 C 28.945312 23.960938 29.132812 18.699219 26.257812 11.96875 L 26.207031 11.84375 L 27.945312 12.703125 C 31.53125 14.476562 32.316406 14.800781 33.03125 14.800781 C 33.976562 14.800781 33.78125 13.9375 32.472656 12.292969 C 28.519531 7.355469 25.394531 5.925781 21.921875 7.472656 L 21.558594 7.636719 L 21.578125 7.542969 C 21.699219 6.992188 21.761719 5.742188 21.699219 5.164062 C 21.496094 3.296875 20.664062 1.964844 19.003906 0.855469 C 18.480469 0.503906 18.457031 0.5 18.214844 0.632812\"/>\n",
              "</g>\n",
              "      </svg>\n",
              "    "
            ],
            "text/plain": [
              "<IPython.core.display.HTML object>"
            ]
          },
          "metadata": {
            "tags": []
          }
        }
      ]
    }
  ]
}