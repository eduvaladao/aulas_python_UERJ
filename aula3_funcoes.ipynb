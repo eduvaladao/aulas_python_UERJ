{
  "nbformat": 4,
  "nbformat_minor": 0,
  "metadata": {
    "kernelspec": {
      "display_name": "Python 3",
      "language": "python",
      "name": "python3"
    },
    "language_info": {
      "codemirror_mode": {
        "name": "ipython",
        "version": 3
      },
      "file_extension": ".py",
      "mimetype": "text/x-python",
      "name": "python",
      "nbconvert_exporter": "python",
      "pygments_lexer": "ipython3",
      "version": "3.6.4"
    },
    "colab": {
      "name": "aula3_funcoes.ipynb",
      "provenance": [],
      "include_colab_link": true
    }
  },
  "cells": [
    {
      "cell_type": "markdown",
      "metadata": {
        "id": "view-in-github",
        "colab_type": "text"
      },
      "source": [
        "<a href=\"https://colab.research.google.com/github/eduvaladao/aulas_python_UERJ/blob/main/aula3_funcoes.ipynb\" target=\"_parent\"><img src=\"https://colab.research.google.com/assets/colab-badge.svg\" alt=\"Open In Colab\"/></a>"
      ]
    },
    {
      "cell_type": "markdown",
      "metadata": {
        "id": "pwg7grL_1QAX"
      },
      "source": [
        "# AVISO\n",
        "\n",
        "Essa aula é toda baseada no livro \"Think Python\". \n",
        "\n",
        "A versão em português do livro está disponível nesse link: https://penseallen.github.io/PensePython2e/"
      ]
    },
    {
      "cell_type": "markdown",
      "metadata": {
        "id": "mLdU4EFy1QAa"
      },
      "source": [
        "# Funções"
      ]
    },
    {
      "cell_type": "markdown",
      "metadata": {
        "id": "HlUBtJ661QAe"
      },
      "source": [
        "Em programação, uma **função é uma sequência de declarações**, à qual atribuímos um nome, que realiza uma tarefa.\n",
        "\n",
        "Ao criar uma função, deve-se especificar o nome da função e a sequência de declarações.\n",
        "\n",
        "## Chamada de funções\n",
        "Já vimos pelo menos um exemplo de chamada de função:"
      ]
    },
    {
      "cell_type": "code",
      "metadata": {
        "id": "HhR2W5tH1QAh",
        "colab": {
          "base_uri": "https://localhost:8080/"
        },
        "outputId": "cb51cb2f-8126-43a6-9e1e-1604f940dd16"
      },
      "source": [
        "type(40)"
      ],
      "execution_count": null,
      "outputs": [
        {
          "output_type": "execute_result",
          "data": {
            "text/plain": [
              "int"
            ]
          },
          "metadata": {
            "tags": []
          },
          "execution_count": 1
        }
      ]
    },
    {
      "cell_type": "markdown",
      "metadata": {
        "id": "fU53FlDA1QA4"
      },
      "source": [
        "* **nome** da função: *type*\n",
        "* **argumento**: 40\n",
        "* **valor de retorno** da função: é o resultado que a função retorna. Nesse exemplo, a função de nome *type*, retorna o tipo do *argumento* passado na função."
      ]
    },
    {
      "cell_type": "markdown",
      "metadata": {
        "id": "mDK2ARCC1QA6"
      },
      "source": [
        "## Funções de conversão de tipo\n",
        "O Python fornece funções internas (*built-in*) que convertem valores de um tipo para outro ==> **casting**. \n",
        "A função *int* recebe qualquer valor e o converte em um inteiro, se puder:"
      ]
    },
    {
      "cell_type": "code",
      "metadata": {
        "id": "-B_1Qjp61QA8",
        "colab": {
          "base_uri": "https://localhost:8080/"
        },
        "outputId": "9c45eacd-c6ee-48c5-b862-9fb1b890bfc4"
      },
      "source": [
        "int(2.8)"
      ],
      "execution_count": null,
      "outputs": [
        {
          "output_type": "execute_result",
          "data": {
            "text/plain": [
              "2"
            ]
          },
          "metadata": {
            "tags": []
          },
          "execution_count": 2
        }
      ]
    },
    {
      "cell_type": "markdown",
      "metadata": {
        "id": "ZGfKybYY1QBD"
      },
      "source": [
        "ou reclama quando não é possível fazer a conversão:"
      ]
    },
    {
      "cell_type": "code",
      "metadata": {
        "id": "mKIa4eSZ1QBF",
        "colab": {
          "base_uri": "https://localhost:8080/",
          "height": 167
        },
        "outputId": "2e9525df-5a0c-4e5e-d39d-f0d7896fa9d4"
      },
      "source": [
        "int('Oi')"
      ],
      "execution_count": null,
      "outputs": [
        {
          "output_type": "error",
          "ename": "ValueError",
          "evalue": "ignored",
          "traceback": [
            "\u001b[0;31m---------------------------------------------------------------------------\u001b[0m",
            "\u001b[0;31mValueError\u001b[0m                                Traceback (most recent call last)",
            "\u001b[0;32m<ipython-input-3-fe057eac90f9>\u001b[0m in \u001b[0;36m<module>\u001b[0;34m()\u001b[0m\n\u001b[0;32m----> 1\u001b[0;31m \u001b[0mint\u001b[0m\u001b[0;34m(\u001b[0m\u001b[0;34m'Oi'\u001b[0m\u001b[0;34m)\u001b[0m\u001b[0;34m\u001b[0m\u001b[0;34m\u001b[0m\u001b[0m\n\u001b[0m",
            "\u001b[0;31mValueError\u001b[0m: invalid literal for int() with base 10: 'Oi'"
          ]
        }
      ]
    },
    {
      "cell_type": "markdown",
      "metadata": {
        "id": "MHzcwLue1QBM"
      },
      "source": [
        "A função *float* converte inteiros e strings em *floats*:"
      ]
    },
    {
      "cell_type": "code",
      "metadata": {
        "id": "HXHGdTKS1QBM",
        "colab": {
          "base_uri": "https://localhost:8080/"
        },
        "outputId": "89c51061-d672-4c5f-d4bf-b870e8f291e5"
      },
      "source": [
        "float(32)"
      ],
      "execution_count": null,
      "outputs": [
        {
          "output_type": "execute_result",
          "data": {
            "text/plain": [
              "32.0"
            ]
          },
          "metadata": {
            "tags": []
          },
          "execution_count": 4
        }
      ]
    },
    {
      "cell_type": "code",
      "metadata": {
        "id": "DohGLVAN1QBT",
        "colab": {
          "base_uri": "https://localhost:8080/"
        },
        "outputId": "ebe202d3-8861-4e23-d7f9-7cd704873d6b"
      },
      "source": [
        "float('3.14159')"
      ],
      "execution_count": null,
      "outputs": [
        {
          "output_type": "execute_result",
          "data": {
            "text/plain": [
              "3.14159"
            ]
          },
          "metadata": {
            "tags": []
          },
          "execution_count": 5
        }
      ]
    },
    {
      "cell_type": "markdown",
      "metadata": {
        "id": "zb2XGEGV1QBa"
      },
      "source": [
        "A função *str* converte seu argumento em *strings*:"
      ]
    },
    {
      "cell_type": "code",
      "metadata": {
        "id": "xjNfzXpx1QBb",
        "colab": {
          "base_uri": "https://localhost:8080/",
          "height": 35
        },
        "outputId": "42e1dd4b-3aa9-4e02-ba2b-a1e4c69baae1"
      },
      "source": [
        "str(32)"
      ],
      "execution_count": null,
      "outputs": [
        {
          "output_type": "execute_result",
          "data": {
            "application/vnd.google.colaboratory.intrinsic+json": {
              "type": "string"
            },
            "text/plain": [
              "'32'"
            ]
          },
          "metadata": {
            "tags": []
          },
          "execution_count": 6
        }
      ]
    },
    {
      "cell_type": "code",
      "metadata": {
        "id": "YtLFg9Eo1QBg",
        "colab": {
          "base_uri": "https://localhost:8080/",
          "height": 35
        },
        "outputId": "0913cf83-695c-4fde-b77a-c136c9841cc5"
      },
      "source": [
        "str(3.14159)"
      ],
      "execution_count": null,
      "outputs": [
        {
          "output_type": "execute_result",
          "data": {
            "application/vnd.google.colaboratory.intrinsic+json": {
              "type": "string"
            },
            "text/plain": [
              "'3.14159'"
            ]
          },
          "metadata": {
            "tags": []
          },
          "execution_count": 7
        }
      ]
    },
    {
      "cell_type": "markdown",
      "metadata": {
        "id": "6QsSxOS21QBk"
      },
      "source": [
        "## Funções matemáticas"
      ]
    },
    {
      "cell_type": "markdown",
      "metadata": {
        "id": "YkHesDWl1QBl"
      },
      "source": [
        "O Python possui um **módulo matemático** que fornece a maioria das funções matemáticas familiares. \n",
        "\n",
        "Um **módulo** de python é um arquivo que contém uma coleção de funções relacionadas.\n",
        "\n",
        "Antes de poder usar um certo módulo, temos que ***importá-lo***:"
      ]
    },
    {
      "cell_type": "code",
      "metadata": {
        "id": "Q4IuIinn1QBm"
      },
      "source": [
        "import math"
      ],
      "execution_count": null,
      "outputs": []
    },
    {
      "cell_type": "markdown",
      "metadata": {
        "id": "VFzSYW3Q1QBr"
      },
      "source": [
        "A declaração acima **cria um objeto de módulo** chamado **math**.\n",
        "\n",
        "Você pode imprimir o objeto de módulo:"
      ]
    },
    {
      "cell_type": "code",
      "metadata": {
        "id": "P7qIO1Fo1QBs",
        "colab": {
          "base_uri": "https://localhost:8080/"
        },
        "outputId": "b1408f07-c7a3-4f6f-c2f2-7f99b0529377"
      },
      "source": [
        "print(math)"
      ],
      "execution_count": null,
      "outputs": [
        {
          "output_type": "stream",
          "text": [
            "<module 'math' (built-in)>\n"
          ],
          "name": "stdout"
        }
      ]
    },
    {
      "cell_type": "markdown",
      "metadata": {
        "id": "B6mCKwrq1QBx"
      },
      "source": [
        "O objeto do módulo contém as funções e variáveis definidas no módulo. \n",
        "\n",
        "Para acessar uma das funções do módulo usamos a seguinte expressão:\n",
        "\n",
        "* *nome_do_objeto_do_modulo**.**nome_da_funcao*\n",
        "\n",
        "\n",
        "Esse formato é chamado de **notação de ponto**."
      ]
    },
    {
      "cell_type": "code",
      "metadata": {
        "id": "KQuTc56J1QBx",
        "colab": {
          "base_uri": "https://localhost:8080/"
        },
        "outputId": "5fbaed18-3548-44c8-bc87-2db7ab2bc56b"
      },
      "source": [
        "import math\n",
        "cateto_oposto = 4\n",
        "cateto_adjacente = 2\n",
        "tg_theta = cateto_oposto/cateto_adjacente\n",
        "theta = math.atan(tg_theta)\n",
        "print(theta, 'em radianos')"
      ],
      "execution_count": null,
      "outputs": [
        {
          "output_type": "stream",
          "text": [
            "1.1071487177940904 em radianos\n"
          ],
          "name": "stdout"
        }
      ]
    },
    {
      "cell_type": "markdown",
      "metadata": {
        "id": "8_u13RST1QB1"
      },
      "source": [
        "As funções trigonométricas pegam os argumentos em radianos.\n",
        "\n",
        "Podemos converter de radianos para graus com uma função do objeto de módulo:"
      ]
    },
    {
      "cell_type": "code",
      "metadata": {
        "id": "aGEWEuvk1QB3",
        "colab": {
          "base_uri": "https://localhost:8080/"
        },
        "outputId": "9c30ac3b-cd53-41ee-e307-d1de90f26cf2"
      },
      "source": [
        "math.degrees(theta)"
      ],
      "execution_count": null,
      "outputs": [
        {
          "output_type": "execute_result",
          "data": {
            "text/plain": [
              "63.43494882292201"
            ]
          },
          "metadata": {
            "tags": []
          },
          "execution_count": 14
        }
      ]
    },
    {
      "cell_type": "markdown",
      "metadata": {
        "id": "eWa85ov41QB7"
      },
      "source": [
        "Ou:"
      ]
    },
    {
      "cell_type": "code",
      "metadata": {
        "id": "vb5XyQGs1QB7",
        "colab": {
          "base_uri": "https://localhost:8080/"
        },
        "outputId": "82e9a8ca-f8e2-4066-8257-7dd576c12a3e"
      },
      "source": [
        "theta_graus = theta*180/math.pi\n",
        "print(theta_graus)"
      ],
      "execution_count": null,
      "outputs": [
        {
          "output_type": "stream",
          "text": [
            "63.43494882292201\n"
          ],
          "name": "stdout"
        }
      ]
    },
    {
      "cell_type": "markdown",
      "metadata": {
        "id": "IZEpn9H71QCA"
      },
      "source": [
        "Acessamos o valor de $\\pi$ determinado no módulo matemático através da variável math.pi. O valor dessa variável é uma aproximação de π, com precisão de cerca de 15 dígitos."
      ]
    },
    {
      "cell_type": "markdown",
      "metadata": {
        "id": "aQ6v8Xmh1QCA"
      },
      "source": [
        "**Exercício:** Quantos graus tem o ângulo $\\theta$ correspondente a $cos\\theta = \\sqrt2/2$ ?"
      ]
    },
    {
      "cell_type": "code",
      "metadata": {
        "id": "6WG3jCgl1QCB",
        "colab": {
          "base_uri": "https://localhost:8080/"
        },
        "outputId": "3883b149-c62e-4544-8c24-f1d67d660785"
      },
      "source": [
        "math.degrees(math.acos(math.sqrt(2)/2))"
      ],
      "execution_count": null,
      "outputs": [
        {
          "output_type": "execute_result",
          "data": {
            "text/plain": [
              "45.0"
            ]
          },
          "metadata": {
            "tags": []
          },
          "execution_count": 17
        }
      ]
    },
    {
      "cell_type": "markdown",
      "metadata": {
        "id": "21R0vYBn1QCG"
      },
      "source": [
        "## Composição\n",
        "\n",
        "Até agora, analisamos os elementos de um programa - variáveis, expressões e declarações - isoladamente, sem falar sobre como combiná-los.\n",
        "\n",
        "Um dos recursos mais úteis das linguagens de programação é a capacidade de usar blocos de construção pequenos e **compô-los**. \n",
        "\n",
        "Por exemplo, ***o argumento de uma função pode ser qualquer tipo de expressão***, incluindo operadores aritméticos:"
      ]
    },
    {
      "cell_type": "code",
      "metadata": {
        "id": "eZt4ODl81QCG",
        "colab": {
          "base_uri": "https://localhost:8080/"
        },
        "outputId": "68e38ad8-85c1-40bc-db45-d873bfced4e2"
      },
      "source": [
        "x = math.sin((theta_graus/360.0) * 2 * math.pi)\n",
        "print(x)"
      ],
      "execution_count": null,
      "outputs": [
        {
          "output_type": "stream",
          "text": [
            "0.8944271909999159\n"
          ],
          "name": "stdout"
        }
      ]
    },
    {
      "cell_type": "markdown",
      "metadata": {
        "id": "dT-kDloC1QCL"
      },
      "source": [
        "E até mesmo chamadas de função:"
      ]
    },
    {
      "cell_type": "code",
      "metadata": {
        "id": "LSpJCZYa1QCM",
        "colab": {
          "base_uri": "https://localhost:8080/"
        },
        "outputId": "3736cb37-c440-42c1-9a4f-6120bccc4d15"
      },
      "source": [
        "x2 = math.sin(math.radians(theta_graus))\n",
        "print(x2)"
      ],
      "execution_count": null,
      "outputs": [
        {
          "output_type": "stream",
          "text": [
            "0.8944271909999159\n"
          ],
          "name": "stdout"
        }
      ]
    },
    {
      "cell_type": "markdown",
      "metadata": {
        "id": "kHnjlfxC1QCP"
      },
      "source": [
        "* **Em quase todo lugar onde é possível usar um valor, também é possível usar uma expressão arbitrária**\n",
        "* Porém, o lado esquerdo de uma **declaração de atribuição** deve ser sempre um ***nome de variável***. "
      ]
    },
    {
      "cell_type": "code",
      "metadata": {
        "id": "Rvisg2GJ1QCQ"
      },
      "source": [
        "horas = 2\n",
        "minutos = horas * 60"
      ],
      "execution_count": null,
      "outputs": []
    },
    {
      "cell_type": "code",
      "metadata": {
        "id": "abEXT41C1QCT",
        "colab": {
          "base_uri": "https://localhost:8080/",
          "height": 132
        },
        "outputId": "c41b2434-c715-4d04-8392-282ee9a97ded"
      },
      "source": [
        "horas * 60 = minutos "
      ],
      "execution_count": null,
      "outputs": [
        {
          "output_type": "error",
          "ename": "SyntaxError",
          "evalue": "ignored",
          "traceback": [
            "\u001b[0;36m  File \u001b[0;32m\"<ipython-input-21-30179fa6741f>\"\u001b[0;36m, line \u001b[0;32m1\u001b[0m\n\u001b[0;31m    horas * 60 = minutos\u001b[0m\n\u001b[0m                         ^\u001b[0m\n\u001b[0;31mSyntaxError\u001b[0m\u001b[0;31m:\u001b[0m can't assign to operator\n"
          ]
        }
      ]
    },
    {
      "cell_type": "markdown",
      "metadata": {
        "id": "GgzIdBUC1QCX"
      },
      "source": [
        "## Adicionando novas funções\n",
        "\n",
        "* Até agora, só usamos as funções do Python, mas também é possível adicionar novas funções. \n",
        "* Para definir uma função, é necessário:\n",
        "   * determinar o nome da função \n",
        "   * determinar a sequência de instruções a serem executadas quando a função é chamada.\n",
        "\n",
        "A sintaxe para a definição de uma função é:"
      ]
    },
    {
      "cell_type": "code",
      "metadata": {
        "id": "YcNtfvb41QCY"
      },
      "source": [
        "def nome_da_funcao(argumentos_da_funcao):   #cabeçário (header) da função\n",
        "    declaracao = 'esse é o CORPO da função. É onde são feitas as declarações da função'  # as declarações da funções devem ser INDENTADAS."
      ],
      "execution_count": null,
      "outputs": []
    },
    {
      "cell_type": "markdown",
      "metadata": {
        "id": "Du2f83Qm1QCb"
      },
      "source": [
        "Um exemplo de função:"
      ]
    },
    {
      "cell_type": "code",
      "metadata": {
        "id": "N6Y4EIhT1QCd"
      },
      "source": [
        "def print_poema():\n",
        "    print('Caminante, no hay camino,')\n",
        "    print('se hace camino al andar.')"
      ],
      "execution_count": null,
      "outputs": []
    },
    {
      "cell_type": "markdown",
      "metadata": {
        "id": "sElRdIgU1QCg"
      },
      "source": [
        "Ao definir uma função, se cria uma variável com o mesmo nome."
      ]
    },
    {
      "cell_type": "code",
      "metadata": {
        "id": "MCykAjJg1QCg",
        "colab": {
          "base_uri": "https://localhost:8080/"
        },
        "outputId": "c8da7c29-8a53-433e-ddd9-f7d7b1a20b8c"
      },
      "source": [
        "print(print_poema)"
      ],
      "execution_count": null,
      "outputs": [
        {
          "output_type": "stream",
          "text": [
            "<function print_poema at 0x7ff1f4ab6170>\n"
          ],
          "name": "stdout"
        }
      ]
    },
    {
      "cell_type": "code",
      "metadata": {
        "id": "Dm9uEFR51QCl",
        "colab": {
          "base_uri": "https://localhost:8080/"
        },
        "outputId": "53f27c53-aa79-44d1-a811-81abfdfb70ab"
      },
      "source": [
        "type(print_poema)"
      ],
      "execution_count": null,
      "outputs": [
        {
          "output_type": "execute_result",
          "data": {
            "text/plain": [
              "function"
            ]
          },
          "metadata": {
            "tags": []
          },
          "execution_count": 25
        }
      ]
    },
    {
      "cell_type": "markdown",
      "metadata": {
        "id": "0W3Nn6Q-1QCo"
      },
      "source": [
        "O valor de print_poema é um **objeto de função**, que possui o ***tipo*** 'function'.\n",
        "\n",
        "A sintaxe para chamar a nova função é a mesma das funções integradas (built-in):"
      ]
    },
    {
      "cell_type": "code",
      "metadata": {
        "id": "WBBbS-ov1QCp",
        "colab": {
          "base_uri": "https://localhost:8080/"
        },
        "outputId": "608866a7-1d73-4e1c-c29f-81bfddf89ceb"
      },
      "source": [
        "print_poema()"
      ],
      "execution_count": null,
      "outputs": [
        {
          "output_type": "stream",
          "text": [
            "Caminante, no hay camino,\n",
            "se hace camino al andar.\n"
          ],
          "name": "stdout"
        }
      ]
    },
    {
      "cell_type": "markdown",
      "metadata": {
        "id": "AuwQKBc91QCt"
      },
      "source": [
        "Uma vez definida a função, podemos usá-la dentro de outra função:"
      ]
    },
    {
      "cell_type": "code",
      "metadata": {
        "id": "eOFu6mFD1QCt"
      },
      "source": [
        "def verso_poema():\n",
        "    print('Caminante, son tus huellas')\n",
        "    print('el camino y nada más;')\n",
        "    \n",
        "    print_poema()\n",
        "    \n",
        "    print('Al andar se hace el camino,')\n",
        "    print('y al volver la vista atrás,')\n",
        "    print('se ve la senda que nunca')\n",
        "    print('se ha de volver a pisar.')\n",
        "    print('Caminante no hay camino')\n",
        "    print('sino estelas en la mar.')"
      ],
      "execution_count": null,
      "outputs": []
    },
    {
      "cell_type": "markdown",
      "metadata": {
        "id": "0sDYw-NV1QCw"
      },
      "source": [
        "E chamá-la:"
      ]
    },
    {
      "cell_type": "code",
      "metadata": {
        "id": "bbW8FkNX1QCw",
        "colab": {
          "base_uri": "https://localhost:8080/"
        },
        "outputId": "b5286a0b-2388-411b-e71f-b2231d0aa241"
      },
      "source": [
        "verso_poema()"
      ],
      "execution_count": null,
      "outputs": [
        {
          "output_type": "stream",
          "text": [
            "Caminante, son tus huellas\n",
            "el camino y nada más;\n",
            "Caminante, no hay camino,\n",
            "se hace camino al andar.\n",
            "Al andar se hace el camino,\n",
            "y al volver la vista atrás,\n",
            "se ve la senda que nunca\n",
            "se ha de volver a pisar.\n",
            "Caminante no hay camino\n",
            "sino estelas en la mar.\n"
          ],
          "name": "stdout"
        }
      ]
    },
    {
      "cell_type": "markdown",
      "metadata": {
        "id": "RG7Ibl4j1QCz"
      },
      "source": [
        "## Definições e usos\n",
        "\n",
        "Até agora, definimos duas funções e as chamamos. \n",
        "Ao colocarmos as funções e chamada em um programa, temos:"
      ]
    },
    {
      "cell_type": "code",
      "metadata": {
        "id": "0ZHgmqH-1QC1",
        "colab": {
          "base_uri": "https://localhost:8080/"
        },
        "outputId": "f19d63ec-53a7-4634-ddfe-7fc6e433aabd"
      },
      "source": [
        "def print_poema():\n",
        "    print('Caminante, no hay camino,')\n",
        "    print('se hace camino al andar.')\n",
        "    \n",
        "def verso_poema():\n",
        "    print('Caminante, son tus huellas')\n",
        "    print('el camino y nada más;')\n",
        "    \n",
        "    print_poema()\n",
        "    \n",
        "    print('Al andar se hace el camino,')\n",
        "    print('y al volver la vista atrás,')\n",
        "    print('se ve la senda que nunca')\n",
        "    print('se ha de volver a pisar.')\n",
        "    print('Caminante no hay camino')\n",
        "    print('sino estelas en la mar.')\n",
        "\n",
        "verso_poema()"
      ],
      "execution_count": null,
      "outputs": [
        {
          "output_type": "stream",
          "text": [
            "Caminante, son tus huellas\n",
            "el camino y nada más;\n",
            "Caminante, no hay camino,\n",
            "se hace camino al andar.\n",
            "Al andar se hace el camino,\n",
            "y al volver la vista atrás,\n",
            "se ve la senda que nunca\n",
            "se ha de volver a pisar.\n",
            "Caminante no hay camino\n",
            "sino estelas en la mar.\n"
          ],
          "name": "stdout"
        }
      ]
    },
    {
      "cell_type": "markdown",
      "metadata": {
        "id": "-cd69H651QC3"
      },
      "source": [
        "***Este programa contém duas definições de função: print_poema e verso_poema.*** \n",
        "\n",
        "* As definições de função são executadas exatamente como outras instruções, mas o efeito é criar ***objetos de função***. \n",
        "* As instruções dentro da função só são executadas quando a função é chamada.\n",
        "* Somente a definição (sem a chamada) da função não gera saída.\n",
        "\n",
        "\n",
        "\n",
        "* A função deve ser definida **antes** de poder ser executada. "
      ]
    },
    {
      "cell_type": "markdown",
      "metadata": {
        "id": "kAzo_U0J1QC4"
      },
      "source": [
        "## Exercícios:\n",
        "1. Crie uma funcão que tome um argumento e imprima o valor e o tipo dele.\n",
        "1. Crie uma função que calcule e imprima velocidade media de um objeto a partir de uma posição inicial, a final e o tempo transcorrido para um objeto em MRU. Também crie uma funcão que calcule e imprima a velocidade de um objeto a partir da aceleração constante e o tempo (MRUA) (p.ex. queda libre).\n",
        "1. Crie uma funcão para calcular o ángulo zenital do sol (da semana passada) tomando como argumento as medidas da altura e o comprimento da sombra.\n",
        "1. Crie uma função que faça a conversão de uma medida inicialmente em milhas para m, e outra para o inverso; uma de horas para segundos, e o inverso. Utilize estas funções para resolver novamente o primeiro exercício da semana passada (da corrida). Se uma pessoa demora 30 minutos em 4 milhas, qual velocidade media em km/h ? e o tempo medio por kilometro?\n",
        "1. Crie funções para calcular os outros exemplos das aulas anteriores: IMC, volume de uma esfera, distancia entre pontos de máximos de difração. Decida quais serão os argumentos e o valor retornado.\n"
      ]
    },
    {
      "cell_type": "markdown",
      "metadata": {
        "id": "bT5_MuS_U8K-"
      },
      "source": [
        "Exercício 1:"
      ]
    },
    {
      "cell_type": "code",
      "metadata": {
        "id": "bAzYOdIK1QC5",
        "colab": {
          "base_uri": "https://localhost:8080/"
        },
        "outputId": "486c38bb-1ed8-4bc7-b298-8d895553fc6e"
      },
      "source": [
        "def tipo_valor(valor):\n",
        "    print(valor, 'é um valor do tipo', type(valor))  \n",
        "\n",
        "tipo_valor(4)\n",
        "tipo_valor(4.5)\n",
        "tipo_valor('O problema concebido pela minha mente foi respondido pelo luminoso céu do Brasil.')"
      ],
      "execution_count": null,
      "outputs": [
        {
          "output_type": "stream",
          "text": [
            "4 é um valor do tipo <class 'int'>\n",
            "4.5 é um valor do tipo <class 'float'>\n",
            "O problema concebido pela minha mente foi respondido pelo luminoso céu do Brasil. é um valor do tipo <class 'str'>\n"
          ],
          "name": "stdout"
        }
      ]
    },
    {
      "cell_type": "markdown",
      "metadata": {
        "id": "XSsgnNOpiAeY"
      },
      "source": [
        "Exercício 2:"
      ]
    },
    {
      "cell_type": "code",
      "metadata": {
        "colab": {
          "base_uri": "https://localhost:8080/"
        },
        "id": "zUFNBlOOiKwm",
        "outputId": "da55fc52-9a7f-49f1-845a-43f02fe7f367"
      },
      "source": [
        "def velocidade_media_mru(x_inicial, x_final, tempo, unidades):\n",
        "    v = (x_final - x_inicial)/tempo\n",
        "    print(v, unidades)\n",
        "\n",
        "velocidade_media_mru(10, 150, 0.8, 'm/s')\n",
        "velocidade_media_mru(31, 253, 10, 'km/h')\n",
        "\n"
      ],
      "execution_count": 14,
      "outputs": [
        {
          "output_type": "stream",
          "text": [
            "175.0 m/s\n",
            "22.2 km/h\n"
          ],
          "name": "stdout"
        }
      ]
    },
    {
      "cell_type": "code",
      "metadata": {
        "colab": {
          "base_uri": "https://localhost:8080/"
        },
        "id": "SMJPdwXyk3ZF",
        "outputId": "a0ca80f6-c389-49cb-dcca-d2df5872767b"
      },
      "source": [
        "def velocidade_mrua(aceleracao, tempo, unidades):\n",
        "    v = aceleracao*tempo \n",
        "    print(v, unidades)\n",
        "\n",
        "velocidade_mrua(10, 0.15, 'm/s')\n",
        "velocidade_mrua(112, 14, 'km/h')"
      ],
      "execution_count": 15,
      "outputs": [
        {
          "output_type": "stream",
          "text": [
            "1.5 m/s\n",
            "1568 km/h\n"
          ],
          "name": "stdout"
        }
      ]
    },
    {
      "cell_type": "markdown",
      "metadata": {
        "id": "zQEUdBbUnvvP"
      },
      "source": [
        "Exercício 3:"
      ]
    },
    {
      "cell_type": "code",
      "metadata": {
        "colab": {
          "base_uri": "https://localhost:8080/"
        },
        "id": "7mNSNBe_nyBU",
        "outputId": "6c216990-0440-46be-8c5d-3b62a31b3497"
      },
      "source": [
        "def angulo_zenital(sombra, altura):\n",
        "    import math\n",
        "    a = math.atan(sombra/altura)\n",
        "    b = math.degrees(a)\n",
        "    print(\"{0:.2f}\".format(b), '°')\n",
        "\n",
        "angulo_zenital(0.5, 5)"
      ],
      "execution_count": 18,
      "outputs": [
        {
          "output_type": "stream",
          "text": [
            "5.71 °\n"
          ],
          "name": "stdout"
        }
      ]
    },
    {
      "cell_type": "markdown",
      "metadata": {
        "id": "cJl5mbTypvxk"
      },
      "source": [
        "Exercício 4:"
      ]
    },
    {
      "cell_type": "code",
      "metadata": {
        "colab": {
          "base_uri": "https://localhost:8080/"
        },
        "id": "qNaTcuIKpy2s",
        "outputId": "8346b8c4-435d-4891-dc72-32b257934194"
      },
      "source": [
        "def conversao_milha_metro(milha):\n",
        "  return 1610*milha \n",
        "    \n",
        "def conversao_quilometro_milha(quilometro):\n",
        "  return (1/1.61)*quilometro \n",
        "\n",
        "def conversao_milha_quilometro(milha):\n",
        "  return 1.61*milha\n",
        "\n",
        "def conversao_metro_milha(metro):\n",
        "  return (1/1610)*metro \n",
        "\n",
        "def conversao_hora_segundo(hora):\n",
        "  return 3600*hora \n",
        "\n",
        "def conversao_segundo_hora(segundo):\n",
        "  return (1/3600)*segundo \n",
        "\n",
        "def conversao_minuto_segundo(minuto):\n",
        "  return (60)*minuto\n",
        "\n",
        "def conversao_minuto_hora(minuto):\n",
        "  return (1/60)*minuto\n",
        "    \n",
        "\n",
        "\n",
        "distancia = 10 # km\n",
        "tempo = 43.5 # minutos \n",
        "\n",
        "x = conversao_minuto_segundo(tempo)\n",
        "y = conversao_quilometro_milha(distancia)\n",
        "z = conversao_segundo_hora(x)\n",
        "\n",
        "tempo_med = x/y\n",
        "velocidade_med = y/z\n",
        "print('O tempo médio da corrida é de', \"{0:.2f}\".format(tempo_med), 's/milha')\n",
        "print('A velocidade média de corrida é de', \"{0:.2f}\".format(velocidade_med), 'milha/h') \n",
        "\n",
        "distancia = 4 # milhas\n",
        "tempo = 30 # minutos\n",
        "\n",
        "x = conversao_milha_quilometro(distancia)\n",
        "y = conversao_minuto_hora(tempo)\n",
        "z = conversao_minuto_segundo(tempo)\n",
        "\n",
        "velocidade_med = x/y\n",
        "tempo_med = z/x \n",
        "\n",
        "print('O tempo médio da corrida é de', \"{0:.2f}\".format(tempo_med), 's/km')\n",
        "print('A velocidade média de corrida é de', \"{0:.2f}\".format(velocidade_med), 'km/h')"
      ],
      "execution_count": 37,
      "outputs": [
        {
          "output_type": "stream",
          "text": [
            "O tempo médio da corrida é de 420.21 s/milha\n",
            "A velocidade média de corrida é de 8.57 milha/h\n",
            "O tempo médio da corrida é de 279.50 s/km\n",
            "A velocidade média de corrida é de 12.88 km/h\n"
          ],
          "name": "stdout"
        }
      ]
    },
    {
      "cell_type": "markdown",
      "metadata": {
        "id": "JhbgUP12CyB5"
      },
      "source": [
        "Exercício 5:"
      ]
    },
    {
      "cell_type": "code",
      "metadata": {
        "colab": {
          "base_uri": "https://localhost:8080/"
        },
        "id": "zRTUI1_RCWAC",
        "outputId": "43bf031a-0d15-4c3f-f083-6d7cb9159f85"
      },
      "source": [
        "def imc(massa, altura):\n",
        "  return massa/(altura**2)\n",
        "\n",
        "def volume_esfera(raio):\n",
        "  import math\n",
        "  return (4/3)*math.pi*(raio**3)\n",
        "\n",
        "def distancia_max_difracao(lambdaa, D, d): # lambdaa - comprimento de onda do laser, D - distancia entre o anteparo e fenda e d - distancia entre as fendas.\n",
        "  return (lambdaa*D)/d \n",
        "\n",
        "\n",
        "print(imc(65, 1.77), 'kg/m^2')\n",
        "print(volume_esfera(10), 'm')\n",
        "print(distancia_max_difracao(632.8e-6, 1000, 0.1), 'mm')"
      ],
      "execution_count": 46,
      "outputs": [
        {
          "output_type": "stream",
          "text": [
            "20.747550193111813 kg/m^2\n",
            "4188.790204786391 m\n",
            "6.328 mm\n"
          ],
          "name": "stdout"
        }
      ]
    }
  ]
}