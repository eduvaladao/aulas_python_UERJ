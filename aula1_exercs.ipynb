{
  "nbformat": 4,
  "nbformat_minor": 0,
  "metadata": {
    "colab": {
      "name": "aula1_exercs.ipynb",
      "provenance": [],
      "authorship_tag": "ABX9TyOb8GR05mJfxuZCIszMA4Mc",
      "include_colab_link": true
    },
    "kernelspec": {
      "name": "python3",
      "display_name": "Python 3"
    }
  },
  "cells": [
    {
      "cell_type": "markdown",
      "metadata": {
        "id": "view-in-github",
        "colab_type": "text"
      },
      "source": [
        "<a href=\"https://colab.research.google.com/github/eduvaladao/aulas_python_UERJ/blob/main/aula1_exercs.ipynb\" target=\"_parent\"><img src=\"https://colab.research.google.com/assets/colab-badge.svg\" alt=\"Open In Colab\"/></a>"
      ]
    },
    {
      "cell_type": "code",
      "metadata": {
        "colab": {
          "base_uri": "https://localhost:8080/"
        },
        "id": "jQcAlv3Tjpuf",
        "outputId": "672a36e4-c177-44a4-a699-96599e03e573"
      },
      "source": [
        "# Fogos de artificio explodem a distância, a luz chega 3 segundos antes que o som, qual a distância?\n",
        "velocidade_som = 343 # m/s\n",
        "velocidade_luz = 299792458 #m/s\n",
        "\n",
        "# tempo_luz = distância/velocidade_luz -> tempo_som = distância/velocidade_som -> (tempo_luz - tempo_som) = delta_t = distância*((velocidade_som - velocidade_luz)/(velocidade_luz*velocidade_som))\n",
        "delta_t = 3 # s \n",
        "distancia = (((delta_t*velocidade_luz*velocidade_som)/(velocidade_som - velocidade_luz))**2)**(1/2)\n",
        "\n",
        "print('A distância até os fogos de artificio é de', \"{0:.0f}\".format(distancia), 'metros')"
      ],
      "execution_count": 14,
      "outputs": [
        {
          "output_type": "stream",
          "text": [
            "A distância até os fogos de artificio é de 1029 metros\n"
          ],
          "name": "stdout"
        }
      ]
    },
    {
      "cell_type": "code",
      "metadata": {
        "colab": {
          "base_uri": "https://localhost:8080/"
        },
        "id": "N1Qw_ix5nxr5",
        "outputId": "75894ed2-141b-45c5-c2f0-7683052599c7"
      },
      "source": [
        "# Achar os zeros da função y = 3*x**2 - 4*x - 10, valores de x tal que y = 0\n",
        "import math\n",
        "\n",
        "a = 3\n",
        "b = -4\n",
        "c = -10\n",
        "\n",
        "delta = b**2 - 4*a*c \n",
        "x1 = (-b + math.sqrt(delta))/(2*a)\n",
        "x2 = (-b - math.sqrt(delta))/(2*a)\n",
        "\n",
        "print('x1 = ', x1, 'e', 'x2 =', x2)\n"
      ],
      "execution_count": 16,
      "outputs": [
        {
          "output_type": "stream",
          "text": [
            "x1 =  2.610317298281767 e x2 = -1.2769839649484336\n"
          ],
          "name": "stdout"
        }
      ]
    },
    {
      "cell_type": "code",
      "metadata": {
        "colab": {
          "base_uri": "https://localhost:8080/"
        },
        "id": "0AcHlaZFQl_s",
        "outputId": "775e7432-8e20-48e2-d05f-02dd1a190fa7"
      },
      "source": [
        "# Ao meio dia o sol faz uma sombra de 50 cm sobre um poste de 5 m, qual o ângulo zenital do sol?\n",
        "import math\n",
        "angulo_zenital_radiano = math.atan(0.5/5) \n",
        "angulo_zenital = math.degrees(angulo_zenital_radiano)\n",
        "print('O ângulo zenital é de', \"{0:.2f}\".format(angulo_zenital), '°')\n"
      ],
      "execution_count": null,
      "outputs": [
        {
          "output_type": "stream",
          "text": [
            "O ângulo zenital é de 5.71 °\n"
          ],
          "name": "stdout"
        }
      ]
    },
    {
      "cell_type": "code",
      "metadata": {
        "colab": {
          "base_uri": "https://localhost:8080/"
        },
        "id": "ByD7JqTMqBaY",
        "outputId": "6afda532-0374-4873-da8b-36bcd55f0ac3"
      },
      "source": [
        "# Calculando o IMC\n",
        "M = 65 #kg\n",
        "A = 1.78 # m\n",
        "\n",
        "IMC = M/(A**2) \n",
        "\n",
        "print('O meu IMC é', \"{0:.2f}\".format(IMC), 'kg/m^2')\n",
        "\n",
        "M = 11 # kg\n",
        "A = 0.7 # m\n",
        "\n",
        "IMC = M/(A**2)\n",
        "\n",
        "print('O IMC de um bebê gorducho é', \"{0:.2f}\".format(IMC), 'kg/m^2')"
      ],
      "execution_count": 21,
      "outputs": [
        {
          "output_type": "stream",
          "text": [
            "O meu IMC é 20.52 kg/m^2\n",
            "O IMC de um bebê gorducho é 22.45 kg/m^2\n"
          ],
          "name": "stdout"
        }
      ]
    },
    {
      "cell_type": "code",
      "metadata": {
        "colab": {
          "base_uri": "https://localhost:8080/"
        },
        "id": "H3Me-eF5Uehr",
        "outputId": "4ae754be-8a5b-486b-9739-13add2b425ca"
      },
      "source": [
        "# Objeto em queda livre, qual a sua velocidade vertical e tempo de queda?\n",
        "h = 3 # metros\n",
        "g = 9.8 #metos/segundo^2\n",
        "\n",
        "velocidade = (2*g*h)**(1/2)\n",
        "tempo = velocidade/g \n",
        "\n",
        "print('O objeto alcança uma velocidade final de', \"{0:.2f}\".format(velocidade), 'm/s', 'e chega no chão depois de', \"{0:.2f}\".format(tempo), 'segundos')"
      ],
      "execution_count": null,
      "outputs": [
        {
          "output_type": "stream",
          "text": [
            "O objeto alcança uma velocidade final de 7.67 m/s e chega no chão depois de 0.78 segundos\n"
          ],
          "name": "stdout"
        }
      ]
    }
  ]
}